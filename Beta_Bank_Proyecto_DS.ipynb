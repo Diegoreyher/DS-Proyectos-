{
 "cells": [
  {
   "cell_type": "markdown",
   "metadata": {},
   "source": [
    "# Beta Bank Modelo Predictivo"
   ]
  },
  {
   "cell_type": "markdown",
   "metadata": {},
   "source": [
    "# Descripción del proyecto\n",
    "\n",
    "Los clientes de Beta Bank se están yendo, cada mes, poco a poco. Los banqueros descubrieron que es más barato salvar a los clientes existentes que atraer nuevos.\n",
    "\n",
    "Necesitamos predecir si un cliente dejará el banco pronto. Tú tienes los datos sobre el comportamiento pasado de los clientes y la terminación de contratos con el banco.\n",
    "\n",
    "Crea un modelo con el máximo valor F1 posible. Para aprobar la revisión, necesitas un valor F1 de al menos 0.59. Verifica F1 para el conjunto de prueba. \n",
    "\n",
    "Además, debes medir la métrica AUC-ROC y compararla con el valor F1."
   ]
  },
  {
   "cell_type": "markdown",
   "metadata": {},
   "source": [
    "# Instrucciones del proyecto\n",
    "\n",
    "1. Descarga y prepara los datos.  Explica el procedimiento.\n",
    "\n",
    "2. Examina el equilibrio de clases. Entrena el modelo sin tener en cuenta el desequilibrio. Describe brevemente tus hallazgos.\n",
    "\n",
    "3. Mejora la calidad del modelo. Asegúrate de utilizar al menos dos enfoques para corregir el desequilibrio de clases. Utiliza conjuntos de entrenamiento y validación para encontrar el mejor modelo y el mejor conjunto de parámetros. Entrena diferentes modelos en los conjuntos de entrenamiento y validación. Encuentra el mejor. Describe brevemente tus hallazgos.\n",
    "\n",
    "4. Realiza la prueba final"
   ]
  },
  {
   "cell_type": "markdown",
   "metadata": {},
   "source": [
    "## Descarga y prepara los datos.  Explica el procedimiento."
   ]
  },
  {
   "cell_type": "code",
   "execution_count": 1,
   "metadata": {},
   "outputs": [],
   "source": [
    "##Librerías\n",
    "import pandas as pd\n",
    "import numpy as np\n",
    "from sklearn.model_selection import train_test_split\n",
    "from sklearn.metrics import recall_score,precision_score,f1_score\n",
    "from matplotlib import pyplot as plt\n",
    "## Modelo RandomForestClassifier\n",
    "from sklearn.ensemble import RandomForestClassifier\n",
    "## Modelo DecisionTreeClassifier\n",
    "from sklearn.tree import DecisionTreeClassifier\n",
    "## Modelo LogisticRegression\n",
    "from sklearn.linear_model import LogisticRegression\n",
    "##funcion shuffle\n",
    "from sklearn.utils import shuffle\n",
    "##métrica Auc-roc\n",
    "from sklearn.metrics import roc_auc_score\n",
    "##curva roc\n",
    "from sklearn.metrics import roc_curve"
   ]
  },
  {
   "cell_type": "code",
   "execution_count": 2,
   "metadata": {},
   "outputs": [],
   "source": [
    "## Cargas los datos\n",
    "df_beta = pd.read_csv('/datasets/Churn.csv')"
   ]
  },
  {
   "cell_type": "code",
   "execution_count": 3,
   "metadata": {},
   "outputs": [
    {
     "name": "stdout",
     "output_type": "stream",
     "text": [
      "<class 'pandas.core.frame.DataFrame'>\n",
      "RangeIndex: 10000 entries, 0 to 9999\n",
      "Data columns (total 14 columns):\n",
      " #   Column           Non-Null Count  Dtype  \n",
      "---  ------           --------------  -----  \n",
      " 0   RowNumber        10000 non-null  int64  \n",
      " 1   CustomerId       10000 non-null  int64  \n",
      " 2   Surname          10000 non-null  object \n",
      " 3   CreditScore      10000 non-null  int64  \n",
      " 4   Geography        10000 non-null  object \n",
      " 5   Gender           10000 non-null  object \n",
      " 6   Age              10000 non-null  int64  \n",
      " 7   Tenure           9091 non-null   float64\n",
      " 8   Balance          10000 non-null  float64\n",
      " 9   NumOfProducts    10000 non-null  int64  \n",
      " 10  HasCrCard        10000 non-null  int64  \n",
      " 11  IsActiveMember   10000 non-null  int64  \n",
      " 12  EstimatedSalary  10000 non-null  float64\n",
      " 13  Exited           10000 non-null  int64  \n",
      "dtypes: float64(3), int64(8), object(3)\n",
      "memory usage: 1.1+ MB\n"
     ]
    }
   ],
   "source": [
    "## Visualizar los datos \n",
    "df_beta.info()"
   ]
  },
  {
   "cell_type": "code",
   "execution_count": 4,
   "metadata": {},
   "outputs": [
    {
     "name": "stdout",
     "output_type": "stream",
     "text": [
      "1.0     952\n",
      "2.0     950\n",
      "8.0     933\n",
      "3.0     928\n",
      "5.0     927\n",
      "7.0     925\n",
      "4.0     885\n",
      "9.0     882\n",
      "6.0     881\n",
      "10.0    446\n",
      "0.0     382\n",
      "Name: Tenure, dtype: int64\n",
      "9091\n",
      "\n",
      "\n",
      "      RowNumber  CustomerId    Surname  CreditScore Geography  Gender  Age  \\\n",
      "30           31    15589475    Azikiwe          591     Spain  Female   39   \n",
      "48           49    15766205        Yin          550   Germany    Male   38   \n",
      "51           52    15768193  Trevisani          585   Germany    Male   36   \n",
      "53           54    15702298   Parkhill          655   Germany    Male   41   \n",
      "60           61    15651280     Hunter          742   Germany    Male   35   \n",
      "...         ...         ...        ...          ...       ...     ...  ...   \n",
      "9944       9945    15703923    Cameron          744   Germany    Male   41   \n",
      "9956       9957    15707861      Nucci          520    France  Female   46   \n",
      "9964       9965    15642785    Douglas          479    France    Male   34   \n",
      "9985       9986    15586914     Nepean          659    France    Male   36   \n",
      "9999      10000    15628319     Walker          792    France  Female   28   \n",
      "\n",
      "      Tenure    Balance  NumOfProducts  HasCrCard  IsActiveMember  \\\n",
      "30       NaN       0.00              3          1               0   \n",
      "48       NaN  103391.38              1          0               1   \n",
      "51       NaN  146050.97              2          0               0   \n",
      "53       NaN  125561.97              1          0               0   \n",
      "60       NaN  136857.00              1          0               0   \n",
      "...      ...        ...            ...        ...             ...   \n",
      "9944     NaN  190409.34              2          1               1   \n",
      "9956     NaN   85216.61              1          1               0   \n",
      "9964     NaN  117593.48              2          0               0   \n",
      "9985     NaN  123841.49              2          1               0   \n",
      "9999     NaN  130142.79              1          1               0   \n",
      "\n",
      "      EstimatedSalary  Exited  \n",
      "30          140469.38       1  \n",
      "48           90878.13       0  \n",
      "51           86424.57       0  \n",
      "53          164040.94       1  \n",
      "60           84509.57       0  \n",
      "...               ...     ...  \n",
      "9944        138361.48       0  \n",
      "9956        117369.52       1  \n",
      "9964        113308.29       0  \n",
      "9985         96833.00       0  \n",
      "9999         38190.78       0  \n",
      "\n",
      "[909 rows x 14 columns]\n"
     ]
    }
   ],
   "source": [
    "## Datos no nulos incompletos de la columna \"Tenure\"\n",
    "## Tenure: período durante el cual ha madurado el depósito a plazo fijo de un cliente (años)\n",
    "print(df_beta['Tenure'].value_counts())\n",
    "print(df_beta['Tenure'].value_counts().sum())\n",
    "print('\\n')\n",
    "print(df_beta[df_beta['Tenure'].isna()])"
   ]
  },
  {
   "cell_type": "code",
   "execution_count": 5,
   "metadata": {},
   "outputs": [
    {
     "name": "stdout",
     "output_type": "stream",
     "text": [
      " 1.0     952\n",
      " 2.0     950\n",
      " 8.0     933\n",
      " 3.0     928\n",
      " 5.0     927\n",
      " 7.0     925\n",
      "-1.0     909\n",
      " 4.0     885\n",
      " 9.0     882\n",
      " 6.0     881\n",
      " 10.0    446\n",
      " 0.0     382\n",
      "Name: Tenure, dtype: int64\n",
      "<class 'pandas.core.frame.DataFrame'>\n",
      "RangeIndex: 10000 entries, 0 to 9999\n",
      "Data columns (total 14 columns):\n",
      " #   Column           Non-Null Count  Dtype  \n",
      "---  ------           --------------  -----  \n",
      " 0   RowNumber        10000 non-null  int64  \n",
      " 1   CustomerId       10000 non-null  int64  \n",
      " 2   Surname          10000 non-null  object \n",
      " 3   CreditScore      10000 non-null  int64  \n",
      " 4   Geography        10000 non-null  object \n",
      " 5   Gender           10000 non-null  object \n",
      " 6   Age              10000 non-null  int64  \n",
      " 7   Tenure           10000 non-null  float64\n",
      " 8   Balance          10000 non-null  float64\n",
      " 9   NumOfProducts    10000 non-null  int64  \n",
      " 10  HasCrCard        10000 non-null  int64  \n",
      " 11  IsActiveMember   10000 non-null  int64  \n",
      " 12  EstimatedSalary  10000 non-null  float64\n",
      " 13  Exited           10000 non-null  int64  \n",
      "dtypes: float64(3), int64(8), object(3)\n",
      "memory usage: 1.1+ MB\n"
     ]
    }
   ],
   "source": [
    "## Dejaremos los valores ausentes en -1 para conservar la clase float\n",
    "df_beta['Tenure'] = df_beta['Tenure'].fillna(-1)\n",
    "print(df_beta['Tenure'].value_counts())\n",
    "df_beta.info()"
   ]
  },
  {
   "cell_type": "markdown",
   "metadata": {},
   "source": [
    "<div class=\"alert alert-block alert-success\">  \n",
    "<b>Comentario del revisor</b> <a class=\"tocSkip\"></a><br>  \n",
    "\n",
    "<b>Éxito</b> - Has cargado y explorado los datos correctamente, gestionando los valores ausentes de manera efectiva. Explicar cada paso reforzará aún más tu análisis. ¡Sigue así!  \n",
    "\n",
    "</div>"
   ]
  },
  {
   "cell_type": "markdown",
   "metadata": {},
   "source": [
    "## Examina el equilibrio de clases. Entrena el modelo sin tener en cuenta el desequilibrio. Describe brevemente tus hallazgos.\n"
   ]
  },
  {
   "cell_type": "code",
   "execution_count": 6,
   "metadata": {},
   "outputs": [
    {
     "name": "stdout",
     "output_type": "stream",
     "text": [
      "0    7963\n",
      "1    2037\n",
      "Name: Exited, dtype: int64\n"
     ]
    }
   ],
   "source": [
    "## Se verifica el total de 0 y 1 en la columna Exited\n",
    "## Hay mayor prevalencia de 0 con 7963\n",
    "print(df_beta['Exited'].value_counts())"
   ]
  },
  {
   "cell_type": "code",
   "execution_count": 7,
   "metadata": {},
   "outputs": [
    {
     "name": "stdout",
     "output_type": "stream",
     "text": [
      "Index(['RowNumber', 'CustomerId', 'Surname', 'CreditScore', 'Geography',\n",
      "       'Gender', 'Age', 'Tenure', 'Balance', 'NumOfProducts', 'HasCrCard',\n",
      "       'IsActiveMember', 'EstimatedSalary', 'Exited'],\n",
      "      dtype='object')\n"
     ]
    }
   ],
   "source": [
    "print(df_beta.columns)"
   ]
  },
  {
   "cell_type": "markdown",
   "metadata": {},
   "source": [
    "['RowNumber', 'CustomerId', 'Surname', 'CreditScore', 'Geography',\n",
    "       'Gender', 'Age', 'Tenure', 'Balance', 'NumOfProducts', 'HasCrCard',\n",
    "       'IsActiveMember', 'EstimatedSalary', 'Exited'],\n",
    "      dtype='object')"
   ]
  },
  {
   "cell_type": "markdown",
   "metadata": {},
   "source": [
    "Se entrenan dos modelos donde en features se eliminan aquellas columnas que se considera que no aportan al análisis del modelo. Por una parte la columna target (Exited), RowNumber. CostumerId, y el Surname. Se utiliza get dummies para que las varibles categóricas puedan ser procesadas como binarias para que el modelo pueda procesarlas de manera correcta."
   ]
  },
  {
   "cell_type": "code",
   "execution_count": 8,
   "metadata": {},
   "outputs": [
    {
     "name": "stdout",
     "output_type": "stream",
     "text": [
      "Precision :  0.654911838790932\n",
      "Recall :  0.48598130841121495\n",
      "F1 :  0.5579399141630902\n"
     ]
    }
   ],
   "source": [
    "## DecisionTree con max_depth\n",
    "\n",
    "features = df_beta.drop(['Exited','RowNumber','CustomerId','Surname'], axis=1, errors='ignore')\n",
    "features = pd.get_dummies(features,drop_first= True)\n",
    "target = df_beta['Exited']\n",
    "\n",
    "\n",
    "features_train,features_test,target_train,target_test = train_test_split(features,target, test_size= 0.25, random_state = 12345)\n",
    "\n",
    "\n",
    "model = DecisionTreeClassifier(random_state= 12345,max_depth=10)\n",
    "\n",
    "model.fit(features_train,target_train)\n",
    "\n",
    "predictions_test= model.predict(features_test)\n",
    "\n",
    "print('Precision : ',precision_score(target_test,predictions_test))\n",
    "print('Recall : ',recall_score(target_test,predictions_test))\n",
    "print('F1 : ', f1_score(target_test,predictions_test))"
   ]
  },
  {
   "cell_type": "code",
   "execution_count": 9,
   "metadata": {},
   "outputs": [
    {
     "name": "stdout",
     "output_type": "stream",
     "text": [
      "Precision :  0.8035087719298246\n",
      "Recall :  0.4280373831775701\n",
      "F1 :  0.5585365853658537\n"
     ]
    }
   ],
   "source": [
    "## RandomForest con max_depth y n_estimators\n",
    "\n",
    "features = df_beta.drop(['Exited','RowNumber','CustomerId','Surname'], axis=1, errors='ignore')\n",
    "features = pd.get_dummies(features,drop_first= True)\n",
    "target = df_beta['Exited']\n",
    "\n",
    "\n",
    "features_train,features_test,target_train,target_test = train_test_split(features,target, test_size= 0.25, random_state = 12345)\n",
    "\n",
    "\n",
    "model = RandomForestClassifier(random_state= 12345,n_estimators=50,max_depth=10)\n",
    "\n",
    "model.fit(features_train,target_train)\n",
    "\n",
    "predictions_test= model.predict(features_test)\n",
    "\n",
    "print('Precision : ',precision_score(target_test,predictions_test))\n",
    "print('Recall : ',recall_score(target_test,predictions_test))\n",
    "print('F1 : ', f1_score(target_test,predictions_test))"
   ]
  },
  {
   "cell_type": "markdown",
   "metadata": {},
   "source": [
    "Se puede mejorar el recall para que sea mayor a 0.5 que fue el promedio de ambos modelos."
   ]
  },
  {
   "cell_type": "markdown",
   "metadata": {},
   "source": [
    "<div class=\"alert alert-block alert-success\">  \n",
    "<b>Comentario del revisor</b> <a class=\"tocSkip\"></a><br>  \n",
    "\n",
    "<b>Éxito</b> - Has identificado correctamente el desequilibrio en la variable objetivo y entrenado modelos de DecisionTree y RandomForest sin considerar este factor. La eliminación de columnas irrelevantes y el uso de `get_dummies()` para variables categóricas están bien implementados. Explorar técnicas para mejorar el recall será clave para optimizar la detección de la clase minoritaria. ¡Buen trabajo!  \n",
    "\n",
    "</div>"
   ]
  },
  {
   "cell_type": "markdown",
   "metadata": {},
   "source": [
    "## Mejora la calidad del modelo. Asegúrate de utilizar al menos dos enfoques para corregir el desequilibrio de clases. Utiliza conjuntos de entrenamiento y validación para encontrar el mejor modelo y el mejor conjunto de parámetros. Entrena diferentes modelos en los conjuntos de entrenamiento y validación. Encuentra el mejor. Describe brevemente tus hallazgos."
   ]
  },
  {
   "cell_type": "markdown",
   "metadata": {},
   "source": [
    "### Sobremuestreo"
   ]
  },
  {
   "cell_type": "code",
   "execution_count": 10,
   "metadata": {},
   "outputs": [
    {
     "name": "stdout",
     "output_type": "stream",
     "text": [
      "1    12016\n",
      "0     5998\n",
      "Name: Exited, dtype: int64\n"
     ]
    }
   ],
   "source": [
    "##Se realiza un sobremuestreo debido a que prevalece más el 0 que el uno y se quiere tener más presencia del 1 con la repetición con la que se multiplica\n",
    "def upsample(features,target,repetition):\n",
    "    features_zeros = features[target == 0]\n",
    "    features_ones = features[target ==1]\n",
    "    target_zeros = target[target == 0]\n",
    "    target_ones = target[target ==1]\n",
    "    \n",
    "    features_upsampled = pd.concat ([features_zeros]+[features_ones]*repetition)\n",
    "    target_upsampled = pd.concat ([target_zeros]+[target_ones]*repetition)\n",
    "    \n",
    "    features_upsampled,target_upsampled = shuffle(features_upsampled,target_upsampled,random_state=12345)\n",
    "    \n",
    "    return features_upsampled,target_upsampled\n",
    "\n",
    "features_upsampled, target_upsampled = upsample(features_train,target_train,8)\n",
    "\n",
    "print(target_upsampled.value_counts())"
   ]
  },
  {
   "cell_type": "code",
   "execution_count": 11,
   "metadata": {},
   "outputs": [
    {
     "name": "stdout",
     "output_type": "stream",
     "text": [
      "Test/Validación\n",
      "Precision :  0.40233236151603496\n",
      "Recall :  0.7738317757009345\n",
      "F1 :  0.5294117647058824\n",
      "\n",
      "\n",
      "Entrenamiento\n",
      "Precision :  0.47326732673267324\n",
      "Recall :  0.9547270306258322\n",
      "F1 :  0.6328331862312444\n"
     ]
    }
   ],
   "source": [
    "## Modelo DecisionTree con sobremuestreo\n",
    "model = DecisionTreeClassifier(random_state= 12345,max_depth=10)\n",
    "\n",
    "model.fit(features_upsampled,target_upsampled)\n",
    "\n",
    "predictions_test= model.predict(features_test)\n",
    "predictions_train= model.predict(features_train)\n",
    "\n",
    "print('Test/Validación')\n",
    "print('Precision : ',precision_score(target_test,predictions_test))\n",
    "print('Recall : ',recall_score(target_test,predictions_test))\n",
    "print('F1 : ', f1_score(target_test,predictions_test))\n",
    "\n",
    "print('\\n')\n",
    "\n",
    "print('Entrenamiento')\n",
    "print('Precision : ',precision_score(target_train,predictions_train))\n",
    "print('Recall : ',recall_score(target_train,predictions_train))\n",
    "print('F1 : ', f1_score(target_train,predictions_train))"
   ]
  },
  {
   "cell_type": "code",
   "execution_count": 12,
   "metadata": {},
   "outputs": [
    {
     "name": "stdout",
     "output_type": "stream",
     "text": [
      "Test/Validación\n",
      "Precision :  0.5543964232488823\n",
      "Recall :  0.6953271028037383\n",
      "F1 :  0.6169154228855722\n",
      "\n",
      "\n",
      "Entrenamiento\n",
      "Precision :  0.7507507507507507\n",
      "Recall :  0.9986684420772304\n",
      "F1 :  0.8571428571428571\n"
     ]
    }
   ],
   "source": [
    "## Modelo RandomForest con sobremuestreo\n",
    "model = RandomForestClassifier(random_state= 54321,n_estimators=18,max_depth=13,min_samples_split=2)\n",
    "\n",
    "model.fit(features_upsampled,target_upsampled)\n",
    "\n",
    "predictions_test= model.predict(features_test)\n",
    "predictions_train= model.predict(features_train)\n",
    "\n",
    "print('Test/Validación')\n",
    "print('Precision : ',precision_score(target_test,predictions_test))\n",
    "print('Recall : ',recall_score(target_test,predictions_test))\n",
    "print('F1 : ', f1_score(target_test,predictions_test))\n",
    "\n",
    "print('\\n')\n",
    "\n",
    "print('Entrenamiento')\n",
    "print('Precision : ',precision_score(target_train,predictions_train))\n",
    "print('Recall : ',recall_score(target_train,predictions_train))\n",
    "print('F1 : ', f1_score(target_train,predictions_train))\n"
   ]
  },
  {
   "cell_type": "markdown",
   "metadata": {},
   "source": [
    "### Modificación de Umbral"
   ]
  },
  {
   "cell_type": "code",
   "execution_count": 13,
   "metadata": {},
   "outputs": [
    {
     "name": "stdout",
     "output_type": "stream",
     "text": [
      "[0.83870968 0.         0.         ... 0.         0.81927711 0.        ]\n",
      "Test/Validación\n",
      "Threshold 0.55\n",
      "Precision :  0.42661179698216734\n",
      "Recall :  0.5813084112149532\n",
      "F1 :  0.49208860759493667\n",
      "\n",
      "\n",
      "\n",
      "\n",
      "[0. 0. 0. ... 0. 0. 0.]\n",
      "Entrenamiento\n",
      "Threshold 0.55\n",
      "Precision :  0.7102272727272727\n",
      "Recall :  0.9986684420772304\n",
      "F1 :  0.8301051466519092\n"
     ]
    }
   ],
   "source": [
    "## Modelo DecisionTree con sobremuestreo y modificación de su umbral\n",
    "model = DecisionTreeClassifier(random_state= 12345,max_depth=15)\n",
    "\n",
    "model.fit(features_upsampled,target_upsampled)\n",
    "\n",
    "predictions_test= model.predict(features_test)\n",
    "predictions_train= model.predict(features_train)\n",
    "probabilities_test = model.predict_proba(features_test)\n",
    "probabilities_one_test = probabilities_test[:,1]\n",
    "print(probabilities_one_test)\n",
    "best_score = 0\n",
    "for threshold in np.arange(0,0.6,0.05):\n",
    "    predicted_test = probabilities_one_test > threshold\n",
    "    score = f1_score(target_test,predicted_test)\n",
    "    #print('Test/Validación')\n",
    "    #print ('Threshold', threshold)\n",
    "    #print('Precision : ',precision_score(target_test,predicted_test))\n",
    "    #print('Recall : ',recall_score(target_test,predicted_test))\n",
    "    #print('F1 : ', f1_score(target_test,predicted_test))\n",
    "    if score > best_score:\n",
    "        best_score  = score\n",
    "print('Test/Validación')\n",
    "print ('Threshold', threshold)\n",
    "print('Precision : ',precision_score(target_test,predicted_test))\n",
    "print('Recall : ',recall_score(target_test,predicted_test))\n",
    "print('F1 : ', best_score)\n",
    "        \n",
    "print('\\n')        \n",
    "print('\\n')        \n",
    "probabilities_train = model.predict_proba(features_train)\n",
    "probabilities_one_train = probabilities_train[:,1]\n",
    "print(probabilities_one_train)\n",
    "best_score = 0\n",
    "for threshold in np.arange(0,0.6,0.05):\n",
    "    predicted_train = probabilities_one_train > threshold\n",
    "    score = f1_score(target_train,predicted_train)\n",
    "    #print('Test/Validación')\n",
    "    #print ('Threshold', threshold)\n",
    "    #print('Precision : ',precision_score(target_test,predicted_test))\n",
    "    #print('Recall : ',recall_score(target_test,predicted_test))\n",
    "    #print('F1 : ', f1_score(target_test,predicted_test))\n",
    "    if score > best_score:\n",
    "        best_score  = score\n",
    "\n",
    "print('Entrenamiento')\n",
    "print ('Threshold', threshold)\n",
    "print('Precision : ',precision_score(target_train,predicted_train))\n",
    "print('Recall : ',recall_score(target_train,predicted_train))\n",
    "print('F1 : ', best_score)\n",
    "        "
   ]
  },
  {
   "cell_type": "code",
   "execution_count": 14,
   "metadata": {},
   "outputs": [
    {
     "name": "stdout",
     "output_type": "stream",
     "text": [
      "[0.45341346 0.13528221 0.04285714 ... 0.05       0.28324468 0.27787126]\n",
      "Test/Validación\n",
      "Threshold 0.55\n",
      "Precision :  0.6497797356828194\n",
      "Recall :  0.5514018691588785\n",
      "F1 :  0.60543580131209\n",
      "\n",
      "\n",
      "\n",
      "\n",
      "[0.00869565 0.12178063 0.09       ... 0.37305248 0.         0.04782609]\n",
      "Entrenamiento\n",
      "Threshold 0.55\n",
      "Precision :  0.9352428393524284\n",
      "Recall :  1.0\n",
      "F1 :  0.9665379665379665\n"
     ]
    }
   ],
   "source": [
    "## Modelo RandomForest con sobreajuste y modificación de umbral\n",
    "model = RandomForestClassifier(random_state= 54321,n_estimators=20,max_depth=15)\n",
    "\n",
    "model.fit(features_upsampled,target_upsampled)\n",
    "\n",
    "predictions_test= model.predict(features_test)\n",
    "predictions_train= model.predict(features_train)\n",
    "probabilities_test = model.predict_proba(features_test)\n",
    "probabilities_one_test = probabilities_test[:,1]\n",
    "print(probabilities_one_test)\n",
    "best_score = 0\n",
    "for threshold in np.arange(0,0.6,0.05):\n",
    "    predicted_test = probabilities_one_test > threshold\n",
    "    score = f1_score(target_test,predicted_test)\n",
    "    #print('Test/Validación')\n",
    "    #print ('Threshold', threshold)\n",
    "    #print('Precision : ',precision_score(target_test,predicted_test))\n",
    "    #print('Recall : ',recall_score(target_test,predicted_test))\n",
    "    #print('F1 : ', f1_score(target_test,predicted_test))\n",
    "    if score > best_score:\n",
    "        best_score  = score\n",
    "print('Test/Validación')\n",
    "print ('Threshold', threshold)\n",
    "print('Precision : ',precision_score(target_test,predicted_test))\n",
    "print('Recall : ',recall_score(target_test,predicted_test))\n",
    "print('F1 : ', best_score)\n",
    "        \n",
    "print('\\n')        \n",
    "print('\\n')        \n",
    "probabilities_train = model.predict_proba(features_train)\n",
    "probabilities_one_train = probabilities_train[:,1]\n",
    "print(probabilities_one_train)\n",
    "best_score = 0\n",
    "for threshold in np.arange(0,0.6,0.05):\n",
    "    predicted_train = probabilities_one_train > threshold\n",
    "    score = f1_score(target_train,predicted_train)\n",
    "    #print('Test/Validación')\n",
    "    #print ('Threshold', threshold)\n",
    "    #print('Precision : ',precision_score(target_test,predicted_test))\n",
    "    #print('Recall : ',recall_score(target_test,predicted_test))\n",
    "    #print('F1 : ', f1_score(target_test,predicted_test))\n",
    "    if score > best_score:\n",
    "        best_score  = score\n",
    "print('Entrenamiento')\n",
    "print ('Threshold', threshold)\n",
    "print('Precision : ',precision_score(target_train,predicted_train))\n",
    "print('Recall : ',recall_score(target_train,predicted_train))\n",
    "print('F1 : ', best_score)"
   ]
  },
  {
   "cell_type": "markdown",
   "metadata": {},
   "source": [
    "## Prueba final"
   ]
  },
  {
   "cell_type": "code",
   "execution_count": 15,
   "metadata": {},
   "outputs": [
    {
     "name": "stdout",
     "output_type": "stream",
     "text": [
      "\n",
      "\n",
      "Mejor accuracy en f1: 0.6169154228855722\n",
      "Mejores hiperparámetros -> n_estimators: 18 , max_depth: 13 , min_samples_split: 2\n"
     ]
    }
   ],
   "source": [
    "# Inicializar mejores valores\n",
    "best_accuracy = 0\n",
    "best_est = 0\n",
    "best_depth = 0\n",
    "best_min_samples_split = 0\n",
    "\n",
    "# Búsqueda de hiperparámetros\n",
    "for est in range(1,21, 1):  # Probar con n_estimators en este rango\n",
    "    for depth in range(1, 20):  # Probar con max_depth en este rango\n",
    "        for min_samples_split in [2, 5, 10]:  # Probar con varios valores de min_samples_split\n",
    "            model = RandomForestClassifier(\n",
    "                random_state=54321,\n",
    "                n_estimators=est,\n",
    "                max_depth=depth,\n",
    "                min_samples_split=min_samples_split\n",
    "            )\n",
    "            \n",
    "            model.fit(features_upsampled,target_upsampled)\n",
    "\n",
    "                        # Calcular accuracy en el conjunto de validación\n",
    "            predictions_test= model.predict(features_test)\n",
    "            predictions_train= model.predict(features_train)\n",
    "            score_test = f1_score(target_test,predictions_test)\n",
    "            score_train = f1_score(target_train,predictions_train)\n",
    "\n",
    "            #print(f'est = {est}, depth = {depth}, min_samples_split = {min_samples_split}')\n",
    "            #print(\"F1 en test:\", score_test)\n",
    "            #print(\"F1 en train:\", score_train)\n",
    "\n",
    "            # Actualizar los mejores hiperparámetros si se encuentra un mejor accuracy\n",
    "            if score_test > best_accuracy:\n",
    "                best_accuracy = score_test\n",
    "                best_est = est\n",
    "                best_depth = depth\n",
    "                best_min_samples_split = min_samples_split\n",
    "\n",
    "# Mostrar los mejores resultados\n",
    "print('\\n')\n",
    "print(\"Mejor accuracy en f1:\", best_accuracy)\n",
    "print(\"Mejores hiperparámetros -> n_estimators:\", best_est, \", max_depth:\", best_depth, \", min_samples_split:\", best_min_samples_split)\n"
   ]
  },
  {
   "cell_type": "code",
   "execution_count": 16,
   "metadata": {},
   "outputs": [
    {
     "name": "stdout",
     "output_type": "stream",
     "text": [
      "Test/Validación\n",
      "Precision :  0.5543964232488823\n",
      "Recall :  0.6953271028037383\n",
      "F1 :  0.6169154228855722\n",
      "\n",
      "\n",
      "Entrenamiento\n",
      "Precision :  0.7507507507507507\n",
      "Recall :  0.9986684420772304\n",
      "F1 :  0.8571428571428571\n"
     ]
    }
   ],
   "source": [
    "## modelo final resultado de evaluar hiperparametros\n",
    "final_model = RandomForestClassifier(random_state=54321, n_estimators=best_est,\n",
    "                                max_depth=best_depth, min_samples_split=best_min_samples_split)\n",
    "\n",
    "final_model.fit(features_upsampled, target_upsampled)\n",
    "\n",
    "predictions_test= final_model.predict(features_test)\n",
    "predictions_train= final_model.predict(features_train)\n",
    "\n",
    "print('Test/Validación')\n",
    "print('Precision : ',precision_score(target_test,predictions_test))\n",
    "print('Recall : ',recall_score(target_test,predictions_test))\n",
    "print('F1 : ', f1_score(target_test,predictions_test))\n",
    "\n",
    "print('\\n')\n",
    "\n",
    "print('Entrenamiento')\n",
    "print('Precision : ',precision_score(target_train,predictions_train))\n",
    "print('Recall : ',recall_score(target_train,predictions_train))\n",
    "print('F1 : ', f1_score(target_train,predictions_train))\n"
   ]
  },
  {
   "cell_type": "markdown",
   "metadata": {},
   "source": [
    "<div class=\"alert alert-block alert-success\">  \n",
    "<b>Comentario del revisor</b> <a class=\"tocSkip\"></a><br>  \n",
    "<b>Éxito</b> - Muy buen trabajo en la optimización de los hiperparámetros del modelo. La estructura del código es clara y bien organizada. Continúa aplicando estas buenas prácticas en futuros análisis.  \n",
    "</div>"
   ]
  },
  {
   "cell_type": "markdown",
   "metadata": {},
   "source": [
    "## Métrica AUC-ROC"
   ]
  },
  {
   "cell_type": "code",
   "execution_count": 17,
   "metadata": {},
   "outputs": [
    {
     "name": "stdout",
     "output_type": "stream",
     "text": [
      "AUC-ROC test 0.7715821264654824\n",
      "AUC-ROC train 0.9578203830926331\n"
     ]
    }
   ],
   "source": [
    "##Métrica para el modelo con los mejores hiperparámetros registrados anteriormente\n",
    "auc_roc_test = roc_auc_score(target_test,predictions_test)# < escribe el código aquí >\n",
    "auc_roc_train = roc_auc_score(target_train,predictions_train)# < escribe el código aquí >\n",
    "\n",
    "print('AUC-ROC test',auc_roc_test)\n",
    "print('AUC-ROC train' ,auc_roc_train)"
   ]
  },
  {
   "cell_type": "code",
   "execution_count": 18,
   "metadata": {},
   "outputs": [
    {
     "name": "stdout",
     "output_type": "stream",
     "text": [
      "Test/Validación\n",
      "Precision :  0.5884413309982487\n",
      "Recall :  0.6280373831775701\n",
      "F1 :  0.6075949367088607\n",
      "AUC-ROC :  0.8402387576989845\n",
      "\n",
      "Entrenamiento\n",
      "Precision :  0.8085221143473571\n",
      "Recall :  0.9980026631158455\n",
      "F1 :  0.8933253873659118\n",
      "AUC-ROC :  0.9983474296136884\n"
     ]
    }
   ],
   "source": [
    "# Modelo con hiperparámetros y con un umbral definido\n",
    "##Métrica AUC-ROC para modelo con los mejores hiperparémetros y con el mejor umbral definido\n",
    "threshold = 0.55  \n",
    "\n",
    "final_model = RandomForestClassifier(random_state=54321, n_estimators=best_est,\n",
    "                                     max_depth=best_depth, min_samples_split=best_min_samples_split)\n",
    "\n",
    "final_model.fit(features_upsampled, target_upsampled)\n",
    "\n",
    "# Obtener probabilidades en lugar de predicciones directas\n",
    "probabilities_test = final_model.predict_proba(features_test)[:, 1]\n",
    "probabilities_train = final_model.predict_proba(features_train)[:, 1]\n",
    "\n",
    "# Evaluación con métricas que requieren etiquetas binarias\n",
    "predictions_test_binary = (probabilities_test > threshold).astype(int)\n",
    "predictions_train_binary = (probabilities_train > threshold).astype(int)\n",
    "\n",
    "# Evaluación del modelo\n",
    "print('Test/Validación')\n",
    "print('Precision : ', precision_score(target_test, predictions_test_binary))\n",
    "print('Recall : ', recall_score(target_test, predictions_test_binary))\n",
    "print('F1 : ', f1_score(target_test, predictions_test_binary))\n",
    "print('AUC-ROC : ', roc_auc_score(target_test, probabilities_test))  # Mantiene probabilidades\n",
    "\n",
    "print('\\nEntrenamiento')\n",
    "print('Precision : ', precision_score(target_train, predictions_train_binary))\n",
    "print('Recall : ', recall_score(target_train, predictions_train_binary))\n",
    "print('F1 : ', f1_score(target_train, predictions_train_binary))\n",
    "print('AUC-ROC : ', roc_auc_score(target_train, probabilities_train))\n"
   ]
  },
  {
   "cell_type": "code",
   "execution_count": 19,
   "metadata": {},
   "outputs": [
    {
     "data": {
      "image/png": "[encoded data removed]",
      "text/plain": [
       "<Figure size 640x480 with 1 Axes>"
      ]
     },
     "metadata": {},
     "output_type": "display_data"
    }
   ],
   "source": [
    "fpr, tpr, thresholds = roc_curve(target_test,probabilities_test)# < escribe el código aquí >\n",
    "\n",
    "plt.figure()\n",
    "\n",
    "plt.plot(fpr,tpr)# < traza la gráfica >\n",
    "\n",
    "# Curva ROC para modelo aleatorio (parece una línea recta)\n",
    "plt.plot([0, 1], [0, 1], linestyle='--')\n",
    "\n",
    "plt.xlim([0,1.0])# < utiliza las funciones plt.xlim() y plt.ylim() #para\n",
    "plt.ylim([0,1.0])#   establecer el límite para los ejes de 0 a 1 >\n",
    "\n",
    "plt.xlabel('Tasa de falsos positivos')# < utiliza las funciones plt.xlabel() y plt.ylabel() para\n",
    "plt.ylabel('Tasa de verdaderos positivos')#   nombrar los ejes \"Tasa de falsos positivos\" y \"Tasa de verdaderos positivos\">\n",
    "\n",
    "plt.title('Curva ROC')# < agrega el encabezado \"Curva ROC\" con la función plt.title() >\n",
    "\n",
    "plt.show()"
   ]
  },
  {
   "cell_type": "markdown",
   "metadata": {},
   "source": [
    "## Descripción de los datos\n",
    "Puedes encontrar los datos en el archivo  /datasets/Churn.csv file. Descarga el conjunto de datos.\n",
    "\n",
    "Características\n",
    "\n",
    "RowNumber: índice de cadena de datos\n",
    "\n",
    "CustomerId: identificador de cliente único\n",
    "\n",
    "Surname: apellido\n",
    "\n",
    "CreditScore: valor de crédito\n",
    "\n",
    "Geography: país de residencia\n",
    "\n",
    "Gender: sexo\n",
    "\n",
    "Age: edad\n",
    "\n",
    "Tenure: período durante el cual ha madurado el depósito a plazo fijo de un cliente (años)\n",
    "\n",
    "Balance: saldo de la cuenta\n",
    "\n",
    "NumOfProducts: número de productos bancarios utilizados por el cliente\n",
    "\n",
    "HasCrCard: el cliente tiene una tarjeta de crédito (1 - sí; 0 - no)\n",
    "\n",
    "IsActiveMember: actividad del cliente (1 - sí; 0 - no)\n",
    "\n",
    "EstimatedSalary: salario estimado\n",
    "\n",
    "Objetivo\n",
    "\n",
    "Exited: El cliente se ha ido (1 - sí; 0 - no)\n",
    "Evaluación del proyecto\n",
    "Hemos definido los criterios de evaluación para el proyecto. Lee esto con atención antes de pasar al ejercicio."
   ]
  },
  {
   "cell_type": "markdown",
   "metadata": {},
   "source": [
    "# Conclusión\n",
    "\n",
    "La única modificación a los datos fue en la columna de Tenure debido a que había valores ausentes y se debía de agregar un valor para que fueran tomados en cuenta para las siguientes operaciones. Se procesaron todas aquellas características que fueran relevantes para analizar, se descartaron aquellas que no tuvieran una relación directa con las variables numéricas, como ejemplo, se encontraba el apellido de las personas registradas. El procedimiento de equilibrio de los datos fue realizado mediante dos técnicas, las cuales fueron el sobremuestreo y el cambio de umbral. Previamente se habían aplicado modelos de clasificación a los datos y se encontró que el desiquilibrió de clases afectaba a los valores de F1. Los modelos empleados en estos ejercicios fueron el DecisitionTreeClassifier y el RandomForestClassifier, los cuales mostraron los mejores resultados frente a otros modelos. Siendo el último utilizado para la prueba final. El valor F1 se mantuvo en 0.61. Aunque posteriormente se decidió juntar el sobremuestreo y el cambio de umbral,porque el primero balancea las clases para mejorar el aprendizaje del modelo y el segundo te permite controlar la precisión y el recall según lo que se necesite. Al tener AUC-ROC y F1-score altos el modelo no solo distingue bien las clases, sino que también hace predicciones balanceadas."
   ]
  }
 ],
 "metadata": {
  "ExecuteTimeLog": [
   {
    "duration": 995,
    "start_time": "2025-01-30T17:10:19.729Z"
   },
   {
    "duration": 3,
    "start_time": "2025-01-30T17:12:09.566Z"
   },
   {
    "duration": 20,
    "start_time": "2025-01-30T17:12:21.222Z"
   },
   {
    "duration": 11,
    "start_time": "2025-01-30T17:13:19.155Z"
   },
   {
    "duration": 4,
    "start_time": "2025-01-30T17:14:41.443Z"
   },
   {
    "duration": 4,
    "start_time": "2025-01-30T17:14:56.722Z"
   },
   {
    "duration": 13,
    "start_time": "2025-01-30T17:15:31.939Z"
   },
   {
    "duration": 6,
    "start_time": "2025-01-30T17:15:38.657Z"
   },
   {
    "duration": 11,
    "start_time": "2025-01-30T17:16:04.218Z"
   },
   {
    "duration": 11,
    "start_time": "2025-01-30T17:17:02.495Z"
   },
   {
    "duration": 11,
    "start_time": "2025-01-30T17:17:13.186Z"
   },
   {
    "duration": 12,
    "start_time": "2025-01-30T17:17:33.170Z"
   },
   {
    "duration": 11,
    "start_time": "2025-01-30T17:18:06.002Z"
   },
   {
    "duration": 6,
    "start_time": "2025-01-30T17:20:32.044Z"
   },
   {
    "duration": 17,
    "start_time": "2025-01-30T17:20:52.252Z"
   },
   {
    "duration": 11,
    "start_time": "2025-01-30T17:20:58.873Z"
   },
   {
    "duration": 13,
    "start_time": "2025-01-30T17:22:01.638Z"
   },
   {
    "duration": 423,
    "start_time": "2025-01-30T17:22:12.902Z"
   },
   {
    "duration": 42,
    "start_time": "2025-01-30T17:22:19.112Z"
   },
   {
    "duration": 42,
    "start_time": "2025-01-30T17:22:24.663Z"
   },
   {
    "duration": 14,
    "start_time": "2025-01-30T17:22:40.874Z"
   },
   {
    "duration": 13,
    "start_time": "2025-01-30T17:22:52.845Z"
   },
   {
    "duration": 14,
    "start_time": "2025-01-30T17:23:02.797Z"
   },
   {
    "duration": 13,
    "start_time": "2025-01-30T17:23:20.715Z"
   },
   {
    "duration": 12,
    "start_time": "2025-01-30T17:23:43.195Z"
   },
   {
    "duration": 744,
    "start_time": "2025-01-30T17:23:47.351Z"
   },
   {
    "duration": 15,
    "start_time": "2025-01-30T17:23:48.098Z"
   },
   {
    "duration": 10,
    "start_time": "2025-01-30T17:23:48.115Z"
   },
   {
    "duration": 12,
    "start_time": "2025-01-30T17:23:48.126Z"
   },
   {
    "duration": 10,
    "start_time": "2025-01-30T17:23:48.140Z"
   },
   {
    "duration": 4,
    "start_time": "2025-01-30T17:30:17.842Z"
   },
   {
    "duration": 229,
    "start_time": "2025-01-30T18:27:43.999Z"
   },
   {
    "duration": 16,
    "start_time": "2025-01-30T18:28:24.356Z"
   },
   {
    "duration": 19,
    "start_time": "2025-01-30T18:29:09.862Z"
   },
   {
    "duration": 815,
    "start_time": "2025-01-30T18:29:24.213Z"
   },
   {
    "duration": 16,
    "start_time": "2025-01-30T18:29:25.030Z"
   },
   {
    "duration": 10,
    "start_time": "2025-01-30T18:29:25.048Z"
   },
   {
    "duration": 13,
    "start_time": "2025-01-30T18:29:25.059Z"
   },
   {
    "duration": 11,
    "start_time": "2025-01-30T18:29:25.075Z"
   },
   {
    "duration": 4,
    "start_time": "2025-01-30T18:29:25.106Z"
   },
   {
    "duration": 164,
    "start_time": "2025-01-30T18:29:25.112Z"
   },
   {
    "duration": 31,
    "start_time": "2025-01-30T18:29:58.765Z"
   },
   {
    "duration": 35,
    "start_time": "2025-01-30T18:31:05.196Z"
   },
   {
    "duration": 455,
    "start_time": "2025-01-30T18:32:35.123Z"
   },
   {
    "duration": 361,
    "start_time": "2025-01-30T18:33:15.652Z"
   },
   {
    "duration": 367,
    "start_time": "2025-01-30T18:35:00.624Z"
   },
   {
    "duration": 7628,
    "start_time": "2025-01-30T18:35:09.634Z"
   },
   {
    "duration": 7496,
    "start_time": "2025-01-30T18:35:17.420Z"
   },
   {
    "duration": 334,
    "start_time": "2025-01-30T18:36:25.690Z"
   },
   {
    "duration": 19,
    "start_time": "2025-01-30T18:56:23.389Z"
   },
   {
    "duration": 8,
    "start_time": "2025-01-30T18:56:31.284Z"
   },
   {
    "duration": 0,
    "start_time": "2025-01-30T18:56:31.293Z"
   },
   {
    "duration": 0,
    "start_time": "2025-01-30T18:56:31.295Z"
   },
   {
    "duration": 157,
    "start_time": "2025-01-30T18:56:31.297Z"
   },
   {
    "duration": 0,
    "start_time": "2025-01-30T18:56:31.456Z"
   },
   {
    "duration": 0,
    "start_time": "2025-01-30T18:56:31.458Z"
   },
   {
    "duration": 0,
    "start_time": "2025-01-30T18:56:31.459Z"
   },
   {
    "duration": 1019,
    "start_time": "2025-01-30T18:56:56.022Z"
   },
   {
    "duration": 0,
    "start_time": "2025-01-30T18:56:57.043Z"
   },
   {
    "duration": 0,
    "start_time": "2025-01-30T18:56:57.044Z"
   },
   {
    "duration": 0,
    "start_time": "2025-01-30T18:56:57.045Z"
   },
   {
    "duration": 0,
    "start_time": "2025-01-30T18:56:57.046Z"
   },
   {
    "duration": 0,
    "start_time": "2025-01-30T18:56:57.047Z"
   },
   {
    "duration": 0,
    "start_time": "2025-01-30T18:56:57.049Z"
   },
   {
    "duration": 756,
    "start_time": "2025-01-30T18:57:50.273Z"
   },
   {
    "duration": 15,
    "start_time": "2025-01-30T18:57:51.032Z"
   },
   {
    "duration": 11,
    "start_time": "2025-01-30T18:57:51.048Z"
   },
   {
    "duration": 12,
    "start_time": "2025-01-30T18:57:51.061Z"
   },
   {
    "duration": 9,
    "start_time": "2025-01-30T18:57:51.075Z"
   },
   {
    "duration": 3,
    "start_time": "2025-01-30T18:57:51.106Z"
   },
   {
    "duration": 158,
    "start_time": "2025-01-30T18:57:51.110Z"
   },
   {
    "duration": 3,
    "start_time": "2025-01-30T18:58:58.942Z"
   },
   {
    "duration": 33,
    "start_time": "2025-01-30T19:05:04.771Z"
   },
   {
    "duration": 4,
    "start_time": "2025-01-30T19:06:39.060Z"
   },
   {
    "duration": 403,
    "start_time": "2025-01-30T19:06:46.329Z"
   },
   {
    "duration": 164,
    "start_time": "2025-01-30T19:06:56.256Z"
   },
   {
    "duration": 1093,
    "start_time": "2025-01-30T19:08:50.323Z"
   },
   {
    "duration": 5,
    "start_time": "2025-01-30T19:09:50.728Z"
   },
   {
    "duration": 5,
    "start_time": "2025-01-30T19:09:59.423Z"
   },
   {
    "duration": 1115,
    "start_time": "2025-01-30T19:10:03.170Z"
   },
   {
    "duration": 1103,
    "start_time": "2025-01-30T19:10:10.392Z"
   },
   {
    "duration": 165,
    "start_time": "2025-01-30T22:53:52.265Z"
   },
   {
    "duration": 827,
    "start_time": "2025-01-30T22:54:02.945Z"
   },
   {
    "duration": 26,
    "start_time": "2025-01-30T22:54:03.774Z"
   },
   {
    "duration": 10,
    "start_time": "2025-01-30T22:54:03.802Z"
   },
   {
    "duration": 11,
    "start_time": "2025-01-30T22:54:03.814Z"
   },
   {
    "duration": 12,
    "start_time": "2025-01-30T22:54:03.827Z"
   },
   {
    "duration": 4,
    "start_time": "2025-01-30T22:54:03.840Z"
   },
   {
    "duration": 3,
    "start_time": "2025-01-30T22:54:03.846Z"
   },
   {
    "duration": 1271,
    "start_time": "2025-01-30T22:54:03.851Z"
   },
   {
    "duration": 5,
    "start_time": "2025-01-30T22:54:05.125Z"
   },
   {
    "duration": 0,
    "start_time": "2025-01-30T22:54:05.132Z"
   },
   {
    "duration": 768,
    "start_time": "2025-01-30T22:54:17.075Z"
   },
   {
    "duration": 15,
    "start_time": "2025-01-30T22:54:17.845Z"
   },
   {
    "duration": 12,
    "start_time": "2025-01-30T22:54:17.861Z"
   },
   {
    "duration": 11,
    "start_time": "2025-01-30T22:54:17.874Z"
   },
   {
    "duration": 32,
    "start_time": "2025-01-30T22:54:17.887Z"
   },
   {
    "duration": 3,
    "start_time": "2025-01-30T22:54:17.921Z"
   },
   {
    "duration": 4,
    "start_time": "2025-01-30T22:54:17.926Z"
   },
   {
    "duration": 1197,
    "start_time": "2025-01-30T22:54:17.932Z"
   },
   {
    "duration": 937,
    "start_time": "2025-01-30T22:54:19.131Z"
   },
   {
    "duration": 40,
    "start_time": "2025-01-30T22:54:40.867Z"
   },
   {
    "duration": 50,
    "start_time": "2025-01-30T22:54:59.151Z"
   },
   {
    "duration": 54,
    "start_time": "2025-01-30T22:56:02.527Z"
   },
   {
    "duration": 34,
    "start_time": "2025-01-30T22:56:21.286Z"
   },
   {
    "duration": 48,
    "start_time": "2025-01-30T22:56:49.663Z"
   },
   {
    "duration": 30,
    "start_time": "2025-01-30T22:56:53.988Z"
   },
   {
    "duration": 52,
    "start_time": "2025-01-30T22:56:58.016Z"
   },
   {
    "duration": 52,
    "start_time": "2025-01-30T22:57:06.871Z"
   },
   {
    "duration": 52,
    "start_time": "2025-01-30T22:57:10.846Z"
   },
   {
    "duration": 26,
    "start_time": "2025-01-30T22:57:14.149Z"
   },
   {
    "duration": 33,
    "start_time": "2025-01-30T22:57:19.034Z"
   },
   {
    "duration": 55,
    "start_time": "2025-01-30T22:57:26.034Z"
   },
   {
    "duration": 53,
    "start_time": "2025-01-30T22:57:29.658Z"
   },
   {
    "duration": 53,
    "start_time": "2025-01-30T22:57:36.943Z"
   },
   {
    "duration": 53,
    "start_time": "2025-01-30T22:57:42.986Z"
   },
   {
    "duration": 52,
    "start_time": "2025-01-30T22:58:44.103Z"
   },
   {
    "duration": 55,
    "start_time": "2025-01-30T22:58:54.764Z"
   },
   {
    "duration": 790,
    "start_time": "2025-01-30T22:59:58.051Z"
   },
   {
    "duration": 16,
    "start_time": "2025-01-30T22:59:58.843Z"
   },
   {
    "duration": 10,
    "start_time": "2025-01-30T22:59:58.861Z"
   },
   {
    "duration": 11,
    "start_time": "2025-01-30T22:59:58.874Z"
   },
   {
    "duration": 29,
    "start_time": "2025-01-30T22:59:58.886Z"
   },
   {
    "duration": 4,
    "start_time": "2025-01-30T22:59:58.916Z"
   },
   {
    "duration": 4,
    "start_time": "2025-01-30T22:59:58.921Z"
   },
   {
    "duration": 1001,
    "start_time": "2025-01-30T22:59:58.926Z"
   },
   {
    "duration": 51,
    "start_time": "2025-01-30T22:59:59.929Z"
   },
   {
    "duration": 246,
    "start_time": "2025-01-30T22:59:59.982Z"
   },
   {
    "duration": 810,
    "start_time": "2025-01-30T23:03:11.630Z"
   },
   {
    "duration": 16,
    "start_time": "2025-01-30T23:03:12.442Z"
   },
   {
    "duration": 11,
    "start_time": "2025-01-30T23:03:12.460Z"
   },
   {
    "duration": 11,
    "start_time": "2025-01-30T23:03:12.473Z"
   },
   {
    "duration": 31,
    "start_time": "2025-01-30T23:03:12.485Z"
   },
   {
    "duration": 4,
    "start_time": "2025-01-30T23:03:12.518Z"
   },
   {
    "duration": 4,
    "start_time": "2025-01-30T23:03:12.523Z"
   },
   {
    "duration": 1004,
    "start_time": "2025-01-30T23:03:12.529Z"
   },
   {
    "duration": 53,
    "start_time": "2025-01-30T23:03:13.535Z"
   },
   {
    "duration": 2207,
    "start_time": "2025-01-30T23:03:13.591Z"
   },
   {
    "duration": 247,
    "start_time": "2025-01-30T23:03:41.635Z"
   },
   {
    "duration": 246,
    "start_time": "2025-01-30T23:05:08.203Z"
   },
   {
    "duration": 7,
    "start_time": "2025-01-30T23:07:12.118Z"
   },
   {
    "duration": 3,
    "start_time": "2025-01-30T23:07:46.272Z"
   },
   {
    "duration": 6,
    "start_time": "2025-01-30T23:08:29.472Z"
   },
   {
    "duration": 763,
    "start_time": "2025-01-30T23:14:28.184Z"
   },
   {
    "duration": 18,
    "start_time": "2025-01-30T23:14:28.950Z"
   },
   {
    "duration": 13,
    "start_time": "2025-01-30T23:14:28.971Z"
   },
   {
    "duration": 30,
    "start_time": "2025-01-30T23:14:28.986Z"
   },
   {
    "duration": 12,
    "start_time": "2025-01-30T23:14:29.018Z"
   },
   {
    "duration": 4,
    "start_time": "2025-01-30T23:14:29.032Z"
   },
   {
    "duration": 3,
    "start_time": "2025-01-30T23:14:29.038Z"
   },
   {
    "duration": 1084,
    "start_time": "2025-01-30T23:14:29.043Z"
   },
   {
    "duration": 52,
    "start_time": "2025-01-30T23:14:30.130Z"
   },
   {
    "duration": 246,
    "start_time": "2025-01-30T23:14:30.184Z"
   },
   {
    "duration": 94,
    "start_time": "2025-01-30T23:14:40.109Z"
   },
   {
    "duration": 68,
    "start_time": "2025-01-30T23:14:53.653Z"
   },
   {
    "duration": 114,
    "start_time": "2025-01-30T23:15:02.269Z"
   },
   {
    "duration": 492,
    "start_time": "2025-01-30T23:15:08.556Z"
   },
   {
    "duration": 208,
    "start_time": "2025-01-30T23:15:21.213Z"
   },
   {
    "duration": 263,
    "start_time": "2025-01-30T23:15:24.895Z"
   },
   {
    "duration": 317,
    "start_time": "2025-01-30T23:15:33.756Z"
   },
   {
    "duration": 321,
    "start_time": "2025-01-30T23:15:46.092Z"
   },
   {
    "duration": 26,
    "start_time": "2025-01-30T23:32:34.557Z"
   },
   {
    "duration": 824,
    "start_time": "2025-01-30T23:32:39.261Z"
   },
   {
    "duration": 21,
    "start_time": "2025-01-30T23:32:40.088Z"
   },
   {
    "duration": 11,
    "start_time": "2025-01-30T23:32:40.111Z"
   },
   {
    "duration": 12,
    "start_time": "2025-01-30T23:32:40.124Z"
   },
   {
    "duration": 11,
    "start_time": "2025-01-30T23:32:40.140Z"
   },
   {
    "duration": 4,
    "start_time": "2025-01-30T23:32:40.153Z"
   },
   {
    "duration": 3,
    "start_time": "2025-01-30T23:32:40.159Z"
   },
   {
    "duration": 1085,
    "start_time": "2025-01-30T23:32:40.164Z"
   },
   {
    "duration": 60,
    "start_time": "2025-01-30T23:32:41.251Z"
   },
   {
    "duration": 326,
    "start_time": "2025-01-30T23:32:41.313Z"
   },
   {
    "duration": 68,
    "start_time": "2025-01-30T23:32:41.641Z"
   },
   {
    "duration": 839,
    "start_time": "2025-01-30T23:35:40.550Z"
   },
   {
    "duration": 18,
    "start_time": "2025-01-30T23:35:41.391Z"
   },
   {
    "duration": 11,
    "start_time": "2025-01-30T23:35:41.411Z"
   },
   {
    "duration": 12,
    "start_time": "2025-01-30T23:35:41.424Z"
   },
   {
    "duration": 10,
    "start_time": "2025-01-30T23:35:41.438Z"
   },
   {
    "duration": 4,
    "start_time": "2025-01-30T23:35:41.450Z"
   },
   {
    "duration": 3,
    "start_time": "2025-01-30T23:35:41.456Z"
   },
   {
    "duration": 1049,
    "start_time": "2025-01-30T23:35:41.460Z"
   },
   {
    "duration": 626,
    "start_time": "2025-01-30T23:35:42.511Z"
   },
   {
    "duration": 54,
    "start_time": "2025-01-30T23:35:43.140Z"
   },
   {
    "duration": 328,
    "start_time": "2025-01-30T23:35:43.210Z"
   },
   {
    "duration": 69,
    "start_time": "2025-01-30T23:35:43.541Z"
   },
   {
    "duration": 7730,
    "start_time": "2025-01-30T23:36:04.699Z"
   },
   {
    "duration": 1690,
    "start_time": "2025-01-30T23:36:24.409Z"
   },
   {
    "duration": 333,
    "start_time": "2025-01-30T23:36:46.714Z"
   },
   {
    "duration": 1042,
    "start_time": "2025-01-30T23:36:55.451Z"
   },
   {
    "duration": 321,
    "start_time": "2025-01-30T23:37:41.794Z"
   },
   {
    "duration": 44,
    "start_time": "2025-01-30T23:54:29.216Z"
   },
   {
    "duration": 589,
    "start_time": "2025-01-30T23:54:54.163Z"
   },
   {
    "duration": 316,
    "start_time": "2025-01-30T23:57:00.805Z"
   },
   {
    "duration": 1041,
    "start_time": "2025-01-30T23:57:07.697Z"
   },
   {
    "duration": 768,
    "start_time": "2025-01-31T00:04:38.511Z"
   },
   {
    "duration": 776,
    "start_time": "2025-01-31T00:04:47.739Z"
   },
   {
    "duration": 316,
    "start_time": "2025-01-31T00:05:35.954Z"
   },
   {
    "duration": 3,
    "start_time": "2025-01-31T00:28:27.579Z"
   },
   {
    "duration": 4,
    "start_time": "2025-01-31T00:34:15.520Z"
   },
   {
    "duration": 245,
    "start_time": "2025-01-31T00:44:55.535Z"
   },
   {
    "duration": 840,
    "start_time": "2025-01-31T00:45:40.301Z"
   },
   {
    "duration": 18,
    "start_time": "2025-01-31T00:45:41.143Z"
   },
   {
    "duration": 13,
    "start_time": "2025-01-31T00:45:41.162Z"
   },
   {
    "duration": 12,
    "start_time": "2025-01-31T00:45:41.177Z"
   },
   {
    "duration": 27,
    "start_time": "2025-01-31T00:45:41.191Z"
   },
   {
    "duration": 4,
    "start_time": "2025-01-31T00:45:41.220Z"
   },
   {
    "duration": 3,
    "start_time": "2025-01-31T00:45:41.226Z"
   },
   {
    "duration": 53,
    "start_time": "2025-01-31T00:45:41.231Z"
   },
   {
    "duration": 325,
    "start_time": "2025-01-31T00:45:41.310Z"
   },
   {
    "duration": 15,
    "start_time": "2025-01-31T00:45:41.638Z"
   },
   {
    "duration": 236,
    "start_time": "2025-01-31T00:46:04.926Z"
   },
   {
    "duration": 26,
    "start_time": "2025-01-31T00:46:12.294Z"
   },
   {
    "duration": 15,
    "start_time": "2025-01-31T00:46:16.039Z"
   },
   {
    "duration": 666,
    "start_time": "2025-01-31T00:47:57.232Z"
   },
   {
    "duration": 796,
    "start_time": "2025-01-31T00:48:07.760Z"
   },
   {
    "duration": 1598,
    "start_time": "2025-01-31T00:48:24.795Z"
   },
   {
    "duration": 18,
    "start_time": "2025-01-31T00:48:39.033Z"
   },
   {
    "duration": 964,
    "start_time": "2025-01-31T00:48:40.924Z"
   },
   {
    "duration": 834,
    "start_time": "2025-01-31T00:48:47.290Z"
   },
   {
    "duration": 971,
    "start_time": "2025-01-31T00:48:52.947Z"
   },
   {
    "duration": 11,
    "start_time": "2025-01-31T00:49:00.071Z"
   },
   {
    "duration": 588,
    "start_time": "2025-01-31T00:49:02.777Z"
   },
   {
    "duration": 487,
    "start_time": "2025-01-31T00:49:07.266Z"
   },
   {
    "duration": 298,
    "start_time": "2025-01-31T00:49:22.301Z"
   },
   {
    "duration": 14,
    "start_time": "2025-01-31T00:49:29.028Z"
   },
   {
    "duration": 343,
    "start_time": "2025-01-31T00:49:30.841Z"
   },
   {
    "duration": 13,
    "start_time": "2025-01-31T00:49:39.907Z"
   },
   {
    "duration": 245,
    "start_time": "2025-01-31T00:49:46.474Z"
   },
   {
    "duration": 298,
    "start_time": "2025-01-31T00:49:51.682Z"
   },
   {
    "duration": 163,
    "start_time": "2025-01-31T00:49:55.384Z"
   },
   {
    "duration": 286,
    "start_time": "2025-01-31T00:50:00.366Z"
   },
   {
    "duration": 1376,
    "start_time": "2025-01-31T00:52:40.257Z"
   },
   {
    "duration": 288,
    "start_time": "2025-01-31T00:52:45.531Z"
   },
   {
    "duration": 66,
    "start_time": "2025-01-31T00:54:26.689Z"
   },
   {
    "duration": 56,
    "start_time": "2025-01-31T00:54:43.062Z"
   },
   {
    "duration": 38,
    "start_time": "2025-01-31T00:54:47.393Z"
   },
   {
    "duration": 65,
    "start_time": "2025-01-31T00:54:52.553Z"
   },
   {
    "duration": 62,
    "start_time": "2025-01-31T00:55:01.433Z"
   },
   {
    "duration": 805,
    "start_time": "2025-01-31T00:59:55.397Z"
   },
   {
    "duration": 17,
    "start_time": "2025-01-31T00:59:56.205Z"
   },
   {
    "duration": 11,
    "start_time": "2025-01-31T00:59:56.224Z"
   },
   {
    "duration": 13,
    "start_time": "2025-01-31T00:59:56.237Z"
   },
   {
    "duration": 11,
    "start_time": "2025-01-31T00:59:56.252Z"
   },
   {
    "duration": 4,
    "start_time": "2025-01-31T00:59:56.265Z"
   },
   {
    "duration": 3,
    "start_time": "2025-01-31T00:59:56.271Z"
   },
   {
    "duration": 49,
    "start_time": "2025-01-31T00:59:56.310Z"
   },
   {
    "duration": 335,
    "start_time": "2025-01-31T00:59:56.361Z"
   },
   {
    "duration": 24,
    "start_time": "2025-01-31T00:59:56.698Z"
   },
   {
    "duration": 73,
    "start_time": "2025-01-31T00:59:56.725Z"
   },
   {
    "duration": 313,
    "start_time": "2025-01-31T00:59:56.808Z"
   },
   {
    "duration": 2,
    "start_time": "2025-01-31T01:07:45.742Z"
   },
   {
    "duration": 801,
    "start_time": "2025-01-31T01:09:12.254Z"
   },
   {
    "duration": 16,
    "start_time": "2025-01-31T01:09:13.058Z"
   },
   {
    "duration": 11,
    "start_time": "2025-01-31T01:09:13.076Z"
   },
   {
    "duration": 30,
    "start_time": "2025-01-31T01:09:13.088Z"
   },
   {
    "duration": 11,
    "start_time": "2025-01-31T01:09:13.121Z"
   },
   {
    "duration": 4,
    "start_time": "2025-01-31T01:09:13.134Z"
   },
   {
    "duration": 3,
    "start_time": "2025-01-31T01:09:13.140Z"
   },
   {
    "duration": 69,
    "start_time": "2025-01-31T01:09:13.145Z"
   },
   {
    "duration": 313,
    "start_time": "2025-01-31T01:09:13.216Z"
   },
   {
    "duration": 14,
    "start_time": "2025-01-31T01:09:13.531Z"
   },
   {
    "duration": 84,
    "start_time": "2025-01-31T01:09:13.547Z"
   },
   {
    "duration": 299,
    "start_time": "2025-01-31T01:09:13.633Z"
   },
   {
    "duration": 748,
    "start_time": "2025-01-31T14:00:24.995Z"
   },
   {
    "duration": 25,
    "start_time": "2025-01-31T14:00:25.745Z"
   },
   {
    "duration": 11,
    "start_time": "2025-01-31T14:00:25.772Z"
   },
   {
    "duration": 11,
    "start_time": "2025-01-31T14:00:25.785Z"
   },
   {
    "duration": 12,
    "start_time": "2025-01-31T14:00:25.797Z"
   },
   {
    "duration": 4,
    "start_time": "2025-01-31T14:00:25.811Z"
   },
   {
    "duration": 3,
    "start_time": "2025-01-31T14:00:25.816Z"
   },
   {
    "duration": 45,
    "start_time": "2025-01-31T14:00:25.821Z"
   },
   {
    "duration": 324,
    "start_time": "2025-01-31T14:00:25.867Z"
   },
   {
    "duration": 18,
    "start_time": "2025-01-31T14:00:26.194Z"
   },
   {
    "duration": 66,
    "start_time": "2025-01-31T14:00:26.213Z"
   },
   {
    "duration": 303,
    "start_time": "2025-01-31T14:00:26.281Z"
   },
   {
    "duration": 221,
    "start_time": "2025-01-31T14:00:26.585Z"
   },
   {
    "duration": 13,
    "start_time": "2025-01-31T14:01:00.866Z"
   },
   {
    "duration": 40,
    "start_time": "2025-01-31T14:04:57.961Z"
   },
   {
    "duration": 31,
    "start_time": "2025-01-31T14:05:07.919Z"
   },
   {
    "duration": 6,
    "start_time": "2025-01-31T14:08:45.173Z"
   },
   {
    "duration": 36,
    "start_time": "2025-01-31T14:08:50.251Z"
   },
   {
    "duration": 69,
    "start_time": "2025-01-31T14:09:08.723Z"
   },
   {
    "duration": 31,
    "start_time": "2025-01-31T14:09:41.311Z"
   },
   {
    "duration": 36,
    "start_time": "2025-01-31T14:09:50.343Z"
   },
   {
    "duration": 57,
    "start_time": "2025-01-31T14:09:56.405Z"
   },
   {
    "duration": 22,
    "start_time": "2025-01-31T14:10:01.735Z"
   },
   {
    "duration": 26,
    "start_time": "2025-01-31T14:10:08.979Z"
   },
   {
    "duration": 30,
    "start_time": "2025-01-31T14:10:18.218Z"
   },
   {
    "duration": 69,
    "start_time": "2025-01-31T14:14:34.977Z"
   },
   {
    "duration": 69,
    "start_time": "2025-01-31T14:16:45.966Z"
   },
   {
    "duration": 57,
    "start_time": "2025-01-31T14:18:26.426Z"
   },
   {
    "duration": 72,
    "start_time": "2025-01-31T14:56:12.489Z"
   },
   {
    "duration": 171,
    "start_time": "2025-02-03T17:00:43.365Z"
   },
   {
    "duration": 835,
    "start_time": "2025-02-03T17:00:51.406Z"
   },
   {
    "duration": 27,
    "start_time": "2025-02-03T17:00:52.243Z"
   },
   {
    "duration": 11,
    "start_time": "2025-02-03T17:00:52.272Z"
   },
   {
    "duration": 12,
    "start_time": "2025-02-03T17:00:52.284Z"
   },
   {
    "duration": 11,
    "start_time": "2025-02-03T17:00:52.299Z"
   },
   {
    "duration": 4,
    "start_time": "2025-02-03T17:00:52.312Z"
   },
   {
    "duration": 4,
    "start_time": "2025-02-03T17:00:52.317Z"
   },
   {
    "duration": 75,
    "start_time": "2025-02-03T17:00:52.322Z"
   },
   {
    "duration": 312,
    "start_time": "2025-02-03T17:00:52.399Z"
   },
   {
    "duration": 14,
    "start_time": "2025-02-03T17:00:52.713Z"
   },
   {
    "duration": 79,
    "start_time": "2025-02-03T17:00:52.729Z"
   },
   {
    "duration": 308,
    "start_time": "2025-02-03T17:00:52.810Z"
   },
   {
    "duration": 116,
    "start_time": "2025-02-03T17:00:53.120Z"
   },
   {
    "duration": 50,
    "start_time": "2025-02-03T17:01:55.675Z"
   },
   {
    "duration": 49,
    "start_time": "2025-02-03T17:04:55.700Z"
   },
   {
    "duration": 61,
    "start_time": "2025-02-03T17:05:17.830Z"
   },
   {
    "duration": 29,
    "start_time": "2025-02-03T17:05:32.230Z"
   },
   {
    "duration": 22,
    "start_time": "2025-02-03T17:05:51.890Z"
   },
   {
    "duration": 23,
    "start_time": "2025-02-03T17:05:57.960Z"
   },
   {
    "duration": 55,
    "start_time": "2025-02-03T17:06:16.950Z"
   },
   {
    "duration": 163,
    "start_time": "2025-02-03T17:19:33.587Z"
   },
   {
    "duration": 157,
    "start_time": "2025-02-03T17:20:07.802Z"
   },
   {
    "duration": 167,
    "start_time": "2025-02-03T17:20:27.849Z"
   },
   {
    "duration": 151,
    "start_time": "2025-02-03T17:20:45.762Z"
   },
   {
    "duration": 139,
    "start_time": "2025-02-03T17:21:24.947Z"
   },
   {
    "duration": 139,
    "start_time": "2025-02-03T17:21:40.973Z"
   },
   {
    "duration": 420,
    "start_time": "2025-02-03T17:30:38.936Z"
   },
   {
    "duration": 906,
    "start_time": "2025-02-03T17:31:26.486Z"
   },
   {
    "duration": 17,
    "start_time": "2025-02-03T17:31:27.394Z"
   },
   {
    "duration": 14,
    "start_time": "2025-02-03T17:31:27.413Z"
   },
   {
    "duration": 18,
    "start_time": "2025-02-03T17:31:27.429Z"
   },
   {
    "duration": 15,
    "start_time": "2025-02-03T17:31:27.451Z"
   },
   {
    "duration": 5,
    "start_time": "2025-02-03T17:31:27.487Z"
   },
   {
    "duration": 4,
    "start_time": "2025-02-03T17:31:27.494Z"
   },
   {
    "duration": 45,
    "start_time": "2025-02-03T17:31:27.500Z"
   },
   {
    "duration": 355,
    "start_time": "2025-02-03T17:31:27.548Z"
   },
   {
    "duration": 15,
    "start_time": "2025-02-03T17:31:27.906Z"
   },
   {
    "duration": 83,
    "start_time": "2025-02-03T17:31:27.923Z"
   },
   {
    "duration": 316,
    "start_time": "2025-02-03T17:31:28.009Z"
   },
   {
    "duration": 128,
    "start_time": "2025-02-03T17:31:28.327Z"
   },
   {
    "duration": 454,
    "start_time": "2025-02-03T17:31:28.459Z"
   },
   {
    "duration": 115,
    "start_time": "2025-02-03T17:37:34.675Z"
   },
   {
    "duration": 110,
    "start_time": "2025-02-03T17:38:23.568Z"
   },
   {
    "duration": 438,
    "start_time": "2025-02-03T17:38:33.052Z"
   },
   {
    "duration": 307,
    "start_time": "2025-02-03T17:50:35.765Z"
   },
   {
    "duration": 239,
    "start_time": "2025-02-03T17:50:37.543Z"
   },
   {
    "duration": 16154,
    "start_time": "2025-02-03T17:51:36.600Z"
   },
   {
    "duration": 203,
    "start_time": "2025-02-03T17:53:31.488Z"
   },
   {
    "duration": 16586,
    "start_time": "2025-02-03T17:55:36.146Z"
   },
   {
    "duration": 436,
    "start_time": "2025-02-03T17:56:01.578Z"
   },
   {
    "duration": 19,
    "start_time": "2025-02-03T17:59:56.449Z"
   },
   {
    "duration": 117,
    "start_time": "2025-02-03T18:00:04.115Z"
   },
   {
    "duration": 893,
    "start_time": "2025-02-03T18:00:27.587Z"
   },
   {
    "duration": 18,
    "start_time": "2025-02-03T18:00:28.482Z"
   },
   {
    "duration": 12,
    "start_time": "2025-02-03T18:00:28.502Z"
   },
   {
    "duration": 15,
    "start_time": "2025-02-03T18:00:28.516Z"
   },
   {
    "duration": 12,
    "start_time": "2025-02-03T18:00:28.534Z"
   },
   {
    "duration": 4,
    "start_time": "2025-02-03T18:00:28.548Z"
   },
   {
    "duration": 4,
    "start_time": "2025-02-03T18:00:28.587Z"
   },
   {
    "duration": 47,
    "start_time": "2025-02-03T18:00:28.593Z"
   },
   {
    "duration": 347,
    "start_time": "2025-02-03T18:00:28.642Z"
   },
   {
    "duration": 20,
    "start_time": "2025-02-03T18:00:28.993Z"
   },
   {
    "duration": 95,
    "start_time": "2025-02-03T18:00:29.016Z"
   },
   {
    "duration": 320,
    "start_time": "2025-02-03T18:00:29.114Z"
   },
   {
    "duration": 120,
    "start_time": "2025-02-03T18:00:29.437Z"
   },
   {
    "duration": 386,
    "start_time": "2025-02-03T18:00:29.560Z"
   },
   {
    "duration": 16360,
    "start_time": "2025-02-03T18:00:29.948Z"
   },
   {
    "duration": 152,
    "start_time": "2025-02-03T18:00:46.310Z"
   },
   {
    "duration": 831,
    "start_time": "2025-02-03T18:02:17.430Z"
   },
   {
    "duration": 16,
    "start_time": "2025-02-03T18:02:18.264Z"
   },
   {
    "duration": 11,
    "start_time": "2025-02-03T18:02:18.287Z"
   },
   {
    "duration": 13,
    "start_time": "2025-02-03T18:02:18.300Z"
   },
   {
    "duration": 12,
    "start_time": "2025-02-03T18:02:18.317Z"
   },
   {
    "duration": 4,
    "start_time": "2025-02-03T18:02:18.331Z"
   },
   {
    "duration": 3,
    "start_time": "2025-02-03T18:02:18.337Z"
   },
   {
    "duration": 88,
    "start_time": "2025-02-03T18:02:18.342Z"
   },
   {
    "duration": 340,
    "start_time": "2025-02-03T18:02:18.432Z"
   },
   {
    "duration": 23,
    "start_time": "2025-02-03T18:02:18.774Z"
   },
   {
    "duration": 67,
    "start_time": "2025-02-03T18:02:18.798Z"
   },
   {
    "duration": 314,
    "start_time": "2025-02-03T18:02:18.868Z"
   },
   {
    "duration": 113,
    "start_time": "2025-02-03T18:02:19.184Z"
   },
   {
    "duration": 378,
    "start_time": "2025-02-03T18:02:19.301Z"
   },
   {
    "duration": 128537,
    "start_time": "2025-02-03T18:02:19.681Z"
   },
   {
    "duration": 206,
    "start_time": "2025-02-03T18:04:28.220Z"
   },
   {
    "duration": 933,
    "start_time": "2025-02-03T18:08:39.694Z"
   },
   {
    "duration": 18,
    "start_time": "2025-02-03T18:08:40.630Z"
   },
   {
    "duration": 14,
    "start_time": "2025-02-03T18:08:40.650Z"
   },
   {
    "duration": 34,
    "start_time": "2025-02-03T18:08:40.666Z"
   },
   {
    "duration": 13,
    "start_time": "2025-02-03T18:08:40.703Z"
   },
   {
    "duration": 5,
    "start_time": "2025-02-03T18:08:40.718Z"
   },
   {
    "duration": 4,
    "start_time": "2025-02-03T18:08:40.725Z"
   },
   {
    "duration": 80,
    "start_time": "2025-02-03T18:08:40.731Z"
   },
   {
    "duration": 339,
    "start_time": "2025-02-03T18:08:40.814Z"
   },
   {
    "duration": 19,
    "start_time": "2025-02-03T18:08:41.155Z"
   },
   {
    "duration": 69,
    "start_time": "2025-02-03T18:08:41.187Z"
   },
   {
    "duration": 328,
    "start_time": "2025-02-03T18:08:41.258Z"
   },
   {
    "duration": 117,
    "start_time": "2025-02-03T18:08:41.588Z"
   },
   {
    "duration": 385,
    "start_time": "2025-02-03T18:08:41.709Z"
   },
   {
    "duration": 130761,
    "start_time": "2025-02-03T18:08:42.095Z"
   },
   {
    "duration": 205,
    "start_time": "2025-02-03T18:10:52.859Z"
   },
   {
    "duration": 306,
    "start_time": "2025-02-03T18:15:18.346Z"
   },
   {
    "duration": 198,
    "start_time": "2025-02-03T18:16:36.871Z"
   },
   {
    "duration": 196,
    "start_time": "2025-02-03T18:16:59.178Z"
   },
   {
    "duration": 196,
    "start_time": "2025-02-03T18:17:11.120Z"
   },
   {
    "duration": 194,
    "start_time": "2025-02-03T18:17:18.814Z"
   },
   {
    "duration": 312,
    "start_time": "2025-02-03T18:17:36.212Z"
   },
   {
    "duration": 862,
    "start_time": "2025-02-03T18:17:55.864Z"
   },
   {
    "duration": 17,
    "start_time": "2025-02-03T18:17:56.728Z"
   },
   {
    "duration": 12,
    "start_time": "2025-02-03T18:17:56.746Z"
   },
   {
    "duration": 30,
    "start_time": "2025-02-03T18:17:56.761Z"
   },
   {
    "duration": 12,
    "start_time": "2025-02-03T18:17:56.793Z"
   },
   {
    "duration": 4,
    "start_time": "2025-02-03T18:17:56.807Z"
   },
   {
    "duration": 4,
    "start_time": "2025-02-03T18:17:56.813Z"
   },
   {
    "duration": 75,
    "start_time": "2025-02-03T18:17:56.819Z"
   },
   {
    "duration": 339,
    "start_time": "2025-02-03T18:17:56.896Z"
   },
   {
    "duration": 17,
    "start_time": "2025-02-03T18:17:57.239Z"
   },
   {
    "duration": 86,
    "start_time": "2025-02-03T18:17:57.259Z"
   },
   {
    "duration": 314,
    "start_time": "2025-02-03T18:17:57.347Z"
   },
   {
    "duration": 118,
    "start_time": "2025-02-03T18:17:57.664Z"
   },
   {
    "duration": 387,
    "start_time": "2025-02-03T18:17:57.786Z"
   },
   {
    "duration": 141921,
    "start_time": "2025-02-03T18:17:58.175Z"
   },
   {
    "duration": 204,
    "start_time": "2025-02-03T18:20:20.099Z"
   },
   {
    "duration": 877,
    "start_time": "2025-02-03T18:23:19.002Z"
   },
   {
    "duration": 17,
    "start_time": "2025-02-03T18:23:19.882Z"
   },
   {
    "duration": 12,
    "start_time": "2025-02-03T18:23:19.901Z"
   },
   {
    "duration": 14,
    "start_time": "2025-02-03T18:23:19.916Z"
   },
   {
    "duration": 13,
    "start_time": "2025-02-03T18:23:19.933Z"
   },
   {
    "duration": 5,
    "start_time": "2025-02-03T18:23:19.947Z"
   },
   {
    "duration": 3,
    "start_time": "2025-02-03T18:23:19.988Z"
   },
   {
    "duration": 50,
    "start_time": "2025-02-03T18:23:19.994Z"
   },
   {
    "duration": 358,
    "start_time": "2025-02-03T18:23:20.046Z"
   },
   {
    "duration": 17,
    "start_time": "2025-02-03T18:23:20.407Z"
   },
   {
    "duration": 95,
    "start_time": "2025-02-03T18:23:20.426Z"
   },
   {
    "duration": 320,
    "start_time": "2025-02-03T18:23:20.523Z"
   },
   {
    "duration": 118,
    "start_time": "2025-02-03T18:23:20.845Z"
   },
   {
    "duration": 385,
    "start_time": "2025-02-03T18:23:20.968Z"
   },
   {
    "duration": 147477,
    "start_time": "2025-02-03T18:23:21.355Z"
   },
   {
    "duration": 289,
    "start_time": "2025-02-03T18:25:48.835Z"
   },
   {
    "duration": 263,
    "start_time": "2025-02-03T18:26:45.341Z"
   },
   {
    "duration": 636,
    "start_time": "2025-02-03T18:31:35.107Z"
   },
   {
    "duration": 764,
    "start_time": "2025-02-03T18:31:47.228Z"
   },
   {
    "duration": 47,
    "start_time": "2025-02-03T18:31:54.153Z"
   },
   {
    "duration": 323,
    "start_time": "2025-02-03T18:31:55.852Z"
   },
   {
    "duration": 71,
    "start_time": "2025-02-03T18:36:23.125Z"
   },
   {
    "duration": 256,
    "start_time": "2025-02-03T18:39:53.421Z"
   },
   {
    "duration": 257,
    "start_time": "2025-02-03T18:40:00.412Z"
   },
   {
    "duration": 153,
    "start_time": "2025-02-03T18:51:54.269Z"
   },
   {
    "duration": 260,
    "start_time": "2025-02-03T18:52:08.236Z"
   },
   {
    "duration": 289,
    "start_time": "2025-02-03T18:55:47.919Z"
   },
   {
    "duration": 849,
    "start_time": "2025-02-03T18:55:55.288Z"
   },
   {
    "duration": 16,
    "start_time": "2025-02-03T18:55:56.139Z"
   },
   {
    "duration": 11,
    "start_time": "2025-02-03T18:55:56.156Z"
   },
   {
    "duration": 20,
    "start_time": "2025-02-03T18:55:56.168Z"
   },
   {
    "duration": 10,
    "start_time": "2025-02-03T18:55:56.191Z"
   },
   {
    "duration": 4,
    "start_time": "2025-02-03T18:55:56.203Z"
   },
   {
    "duration": 4,
    "start_time": "2025-02-03T18:55:56.208Z"
   },
   {
    "duration": 44,
    "start_time": "2025-02-03T18:55:56.213Z"
   },
   {
    "duration": 309,
    "start_time": "2025-02-03T18:55:56.287Z"
   },
   {
    "duration": 14,
    "start_time": "2025-02-03T18:55:56.598Z"
   },
   {
    "duration": 73,
    "start_time": "2025-02-03T18:55:56.614Z"
   },
   {
    "duration": 263,
    "start_time": "2025-02-03T18:55:56.689Z"
   },
   {
    "duration": 119,
    "start_time": "2025-02-03T18:55:56.955Z"
   },
   {
    "duration": 370,
    "start_time": "2025-02-03T18:55:57.077Z"
   },
   {
    "duration": 139809,
    "start_time": "2025-02-03T18:55:57.449Z"
   },
   {
    "duration": 267,
    "start_time": "2025-02-03T18:58:17.260Z"
   },
   {
    "duration": 286,
    "start_time": "2025-02-03T18:58:17.529Z"
   },
   {
    "duration": 836,
    "start_time": "2025-02-03T18:59:04.997Z"
   },
   {
    "duration": 16,
    "start_time": "2025-02-03T18:59:05.835Z"
   },
   {
    "duration": 12,
    "start_time": "2025-02-03T18:59:05.853Z"
   },
   {
    "duration": 24,
    "start_time": "2025-02-03T18:59:05.867Z"
   },
   {
    "duration": 14,
    "start_time": "2025-02-03T18:59:05.895Z"
   },
   {
    "duration": 4,
    "start_time": "2025-02-03T18:59:05.911Z"
   },
   {
    "duration": 6,
    "start_time": "2025-02-03T18:59:05.917Z"
   },
   {
    "duration": 71,
    "start_time": "2025-02-03T18:59:05.924Z"
   },
   {
    "duration": 320,
    "start_time": "2025-02-03T18:59:05.997Z"
   },
   {
    "duration": 16,
    "start_time": "2025-02-03T18:59:06.319Z"
   },
   {
    "duration": 75,
    "start_time": "2025-02-03T18:59:06.337Z"
   },
   {
    "duration": 263,
    "start_time": "2025-02-03T18:59:06.414Z"
   },
   {
    "duration": 115,
    "start_time": "2025-02-03T18:59:06.679Z"
   },
   {
    "duration": 367,
    "start_time": "2025-02-03T18:59:06.797Z"
   },
   {
    "duration": 138927,
    "start_time": "2025-02-03T18:59:07.166Z"
   },
   {
    "duration": 271,
    "start_time": "2025-02-03T19:01:26.095Z"
   },
   {
    "duration": 277,
    "start_time": "2025-02-03T19:01:26.368Z"
   },
   {
    "duration": 5,
    "start_time": "2025-02-03T19:02:29.650Z"
   },
   {
    "duration": 261,
    "start_time": "2025-02-03T19:29:54.729Z"
   },
   {
    "duration": 261,
    "start_time": "2025-02-03T19:30:22.541Z"
   },
   {
    "duration": 264,
    "start_time": "2025-02-03T19:31:35.229Z"
   },
   {
    "duration": 265,
    "start_time": "2025-02-03T19:32:05.705Z"
   },
   {
    "duration": 17,
    "start_time": "2025-02-03T19:33:54.617Z"
   },
   {
    "duration": 6,
    "start_time": "2025-02-03T19:34:01.846Z"
   },
   {
    "duration": 856,
    "start_time": "2025-02-03T20:30:53.266Z"
   },
   {
    "duration": 17,
    "start_time": "2025-02-03T20:30:54.124Z"
   },
   {
    "duration": 11,
    "start_time": "2025-02-03T20:30:54.143Z"
   },
   {
    "duration": 12,
    "start_time": "2025-02-03T20:30:54.156Z"
   },
   {
    "duration": 12,
    "start_time": "2025-02-03T20:30:54.187Z"
   },
   {
    "duration": 4,
    "start_time": "2025-02-03T20:30:54.201Z"
   },
   {
    "duration": 3,
    "start_time": "2025-02-03T20:30:54.207Z"
   },
   {
    "duration": 46,
    "start_time": "2025-02-03T20:30:54.212Z"
   },
   {
    "duration": 341,
    "start_time": "2025-02-03T20:30:54.260Z"
   },
   {
    "duration": 14,
    "start_time": "2025-02-03T20:30:54.606Z"
   },
   {
    "duration": 76,
    "start_time": "2025-02-03T20:30:54.621Z"
   },
   {
    "duration": 287,
    "start_time": "2025-02-03T20:30:54.699Z"
   },
   {
    "duration": 123,
    "start_time": "2025-02-03T20:30:54.989Z"
   },
   {
    "duration": 381,
    "start_time": "2025-02-03T20:30:55.114Z"
   },
   {
    "duration": 142369,
    "start_time": "2025-02-03T20:30:55.496Z"
   },
   {
    "duration": 280,
    "start_time": "2025-02-03T20:33:17.867Z"
   },
   {
    "duration": 7,
    "start_time": "2025-02-03T20:33:18.149Z"
   },
   {
    "duration": 285,
    "start_time": "2025-02-03T20:33:18.158Z"
   },
   {
    "duration": 299,
    "start_time": "2025-02-03T20:39:10.032Z"
   },
   {
    "duration": 798,
    "start_time": "2025-02-03T20:39:16.748Z"
   },
   {
    "duration": 17,
    "start_time": "2025-02-03T20:39:17.548Z"
   },
   {
    "duration": 20,
    "start_time": "2025-02-03T20:39:17.568Z"
   },
   {
    "duration": 16,
    "start_time": "2025-02-03T20:39:17.591Z"
   },
   {
    "duration": 12,
    "start_time": "2025-02-03T20:39:17.610Z"
   },
   {
    "duration": 5,
    "start_time": "2025-02-03T20:39:17.624Z"
   },
   {
    "duration": 3,
    "start_time": "2025-02-03T20:39:17.632Z"
   },
   {
    "duration": 78,
    "start_time": "2025-02-03T20:39:17.638Z"
   },
   {
    "duration": 317,
    "start_time": "2025-02-03T20:39:17.718Z"
   },
   {
    "duration": 15,
    "start_time": "2025-02-03T20:39:18.036Z"
   },
   {
    "duration": 82,
    "start_time": "2025-02-03T20:39:18.053Z"
   },
   {
    "duration": 274,
    "start_time": "2025-02-03T20:39:18.138Z"
   },
   {
    "duration": 110,
    "start_time": "2025-02-03T20:39:18.414Z"
   },
   {
    "duration": 394,
    "start_time": "2025-02-03T20:39:18.527Z"
   },
   {
    "duration": 142564,
    "start_time": "2025-02-03T20:39:18.923Z"
   },
   {
    "duration": 281,
    "start_time": "2025-02-03T20:41:41.489Z"
   },
   {
    "duration": 15,
    "start_time": "2025-02-03T20:41:41.772Z"
   },
   {
    "duration": 292,
    "start_time": "2025-02-03T20:41:41.789Z"
   },
   {
    "duration": 315,
    "start_time": "2025-02-03T20:41:42.087Z"
   },
   {
    "duration": 16,
    "start_time": "2025-02-03T20:44:38.470Z"
   },
   {
    "duration": 2870,
    "start_time": "2025-02-03T20:45:28.046Z"
   },
   {
    "duration": 17,
    "start_time": "2025-02-03T20:45:30.919Z"
   },
   {
    "duration": 11,
    "start_time": "2025-02-03T20:45:30.938Z"
   },
   {
    "duration": 15,
    "start_time": "2025-02-03T20:45:30.950Z"
   },
   {
    "duration": 29,
    "start_time": "2025-02-03T20:45:30.967Z"
   },
   {
    "duration": 5,
    "start_time": "2025-02-03T20:45:30.998Z"
   },
   {
    "duration": 3,
    "start_time": "2025-02-03T20:45:31.005Z"
   },
   {
    "duration": 46,
    "start_time": "2025-02-03T20:45:31.010Z"
   },
   {
    "duration": 353,
    "start_time": "2025-02-03T20:45:31.058Z"
   },
   {
    "duration": 16,
    "start_time": "2025-02-03T20:45:31.413Z"
   },
   {
    "duration": 82,
    "start_time": "2025-02-03T20:45:31.430Z"
   },
   {
    "duration": 286,
    "start_time": "2025-02-03T20:45:31.514Z"
   },
   {
    "duration": 118,
    "start_time": "2025-02-03T20:45:31.802Z"
   },
   {
    "duration": 384,
    "start_time": "2025-02-03T20:45:31.924Z"
   },
   {
    "duration": 142063,
    "start_time": "2025-02-03T20:45:32.310Z"
   },
   {
    "duration": 281,
    "start_time": "2025-02-03T20:47:54.375Z"
   },
   {
    "duration": 9,
    "start_time": "2025-02-03T20:47:54.658Z"
   },
   {
    "duration": 284,
    "start_time": "2025-02-03T20:47:54.669Z"
   },
   {
    "duration": 139,
    "start_time": "2025-02-03T20:47:54.956Z"
   },
   {
    "duration": 328,
    "start_time": "2025-02-03T21:08:23.392Z"
   },
   {
    "duration": 123,
    "start_time": "2025-02-03T21:08:29.567Z"
   },
   {
    "duration": 898,
    "start_time": "2025-02-11T19:01:31.739Z"
   },
   {
    "duration": 25,
    "start_time": "2025-02-11T19:01:32.639Z"
   },
   {
    "duration": 11,
    "start_time": "2025-02-11T19:01:32.665Z"
   },
   {
    "duration": 14,
    "start_time": "2025-02-11T19:01:32.677Z"
   },
   {
    "duration": 11,
    "start_time": "2025-02-11T19:01:32.694Z"
   },
   {
    "duration": 4,
    "start_time": "2025-02-11T19:01:32.706Z"
   },
   {
    "duration": 3,
    "start_time": "2025-02-11T19:01:32.712Z"
   },
   {
    "duration": 71,
    "start_time": "2025-02-11T19:01:32.716Z"
   },
   {
    "duration": 308,
    "start_time": "2025-02-11T19:01:32.788Z"
   },
   {
    "duration": 17,
    "start_time": "2025-02-11T19:01:33.098Z"
   },
   {
    "duration": 81,
    "start_time": "2025-02-11T19:01:33.117Z"
   },
   {
    "duration": 268,
    "start_time": "2025-02-11T19:01:33.200Z"
   },
   {
    "duration": 112,
    "start_time": "2025-02-11T19:01:33.472Z"
   },
   {
    "duration": 438,
    "start_time": "2025-02-11T19:01:33.589Z"
   },
   {
    "duration": 136242,
    "start_time": "2025-02-11T19:01:34.029Z"
   },
   {
    "duration": 265,
    "start_time": "2025-02-11T19:03:50.273Z"
   },
   {
    "duration": 7,
    "start_time": "2025-02-11T19:03:50.540Z"
   },
   {
    "duration": 278,
    "start_time": "2025-02-11T19:03:50.549Z"
   },
   {
    "duration": 117,
    "start_time": "2025-02-11T19:03:50.829Z"
   }
  ],
  "kernelspec": {
   "display_name": "Python 3 (ipykernel)",
   "language": "python",
   "name": "python3"
  },
  "language_info": {
   "codemirror_mode": {
    "name": "ipython",
    "version": 3
   },
   "file_extension": ".py",
   "mimetype": "text/x-python",
   "name": "python",
   "nbconvert_exporter": "python",
   "pygments_lexer": "ipython3",
   "version": "3.9.19"
  },
  "toc": {
   "base_numbering": 1,
   "nav_menu": {},
   "number_sections": true,
   "sideBar": true,
   "skip_h1_title": true,
   "title_cell": "Table of Contents",
   "title_sidebar": "Contents",
   "toc_cell": false,
   "toc_position": {},
   "toc_section_display": true,
   "toc_window_display": false
  }
 },
 "nbformat": 4,
 "nbformat_minor": 2
}
