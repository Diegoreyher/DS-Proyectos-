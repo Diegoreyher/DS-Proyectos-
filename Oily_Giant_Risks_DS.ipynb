{
 "cells": [
  {
   "cell_type": "markdown",
   "metadata": {},
   "source": [
    "# Descripción del proyecto\n",
    "Trabajas en la compañía de extracción de petróleo OilyGiant. Tu tarea es encontrar los mejores lugares donde abrir 200 pozos nuevos de petróleo.\n",
    "\n",
    "Para completar esta tarea, tendrás que realizar los siguientes pasos:\n",
    "\n",
    "1. Leer los archivos con los parámetros recogidos de pozos petrolíferos en la región seleccionada: calidad de crudo y volumen de reservas.\n",
    "2. Crear un modelo para predecir el volumen de reservas en pozos nuevos.\n",
    "3. Elegir los pozos petrolíferos que tienen los valores estimados más altos.\n",
    "4. Elegir la región con el beneficio total más alto para los pozos petrolíferos seleccionados.\n",
    "\n",
    "Tienes datos sobre muestras de crudo de tres regiones. Ya se conocen los parámetros de cada pozo petrolero de la región. Crea un modelo que ayude a elegir la región con el mayor margen de beneficio. Analiza los beneficios y riesgos potenciales utilizando la técnica bootstrapping.\n",
    "\n"
   ]
  },
  {
   "cell_type": "markdown",
   "metadata": {},
   "source": [
    "# Condiciones:\n",
    "Solo se debe usar la regresión lineal para el entrenamiento del modelo.\n",
    "Al explorar la región, se lleva a cabo un estudio de 500 puntos con la selección de los mejores 200 puntos para el cálculo del beneficio.\n",
    "El presupuesto para el desarrollo de 200 pozos petroleros es de 100 millones de dólares.\n",
    "Un barril de materias primas genera 4.5 USD de ingresos. El ingreso de una unidad de producto es de 4500 dólares (el volumen de reservas está expresado en miles de barriles)."
   ]
  },
  {
   "cell_type": "markdown",
   "metadata": {},
   "source": [
    "# Descripción de datos\n",
    "Los datos de exploración geológica de las tres regiones se almacenan en archivos:\n",
    "\n",
    "1. geo_data_0.csv. Descarga el conjunto de datos\n",
    "2. geo_data_1.csv. Descarga el conjunto de datos\n",
    "3. geo_data_2.csv. Descarga el conjunto de datos\n",
    "4. id — identificador único de pozo de petróleo\n",
    "5. f0, f1, f2 — tres características de los puntos (su significado específico no es importante, pero las características en sí son significativas)\n",
    "6. product — volumen de reservas en el pozo de petróleo (miles de barriles).\n",
    "\n",
    "Instrucciones del proyecto\n",
    "        \n",
    "        1. Parte I\n",
    "1. Descarga y prepara los datos. Explica el procedimiento.\n",
    "2. Entrena y prueba el modelo para cada región en geo_data_0.csv:\n",
    "    3. Divide los datos en un conjunto de entrenamiento y un conjunto de validación en una proporción de 75:25\n",
    "    4. Entrena el modelo y haz predicciones para el conjunto de validación.\n",
    "    5. Guarda las predicciones y las respuestas correctas para el conjunto de validación.\n",
    "    6. Muestra el volumen medio de reservas predicho y RMSE del modelo.\n",
    "    7. Analiza los resultados.\n",
    "\n",
    "8. Coloca todos los pasos previos en funciones, realiza y ejecuta los pasos 2.1-2.5 para los archivos 'geo_data_1.csv' y 'geo_data_2.csv'.\n",
    "\n",
    "        2. Parte II\n",
    "9. Prepárate para el cálculo de ganancias:\n",
    "\n",
    "    10. Almacena todos los valores necesarios para los cálculos en variables separadas.\n",
    "\n",
    "    11. Dada la inversión de 100 millones por 200 pozos petrolíferos, de media un pozo petrolífero debe producir al menos un valor de 500,000 dólares en unidades para evitar pérdidas (esto es equivalente a 111.1 unidades). Compara esta cantidad con la cantidad media de reservas en cada región.\n",
    "\n",
    "    12. Presenta conclusiones sobre cómo preparar el paso para calcular el beneficio.\n",
    "\n",
    "13. Escribe una función para calcular la ganancia de un conjunto de pozos de petróleo seleccionados y modela las predicciones:\n",
    "\n",
    "    14. Elige los 200 pozos con los valores de predicción más altos de cada una de las 3 regiones (es decir, archivos 'csv').\n",
    "\n",
    "    15. Resume el volumen objetivo de reservas según dichas predicciones. Almacena las predicciones para los 200 pozos para cada una de las 3 regiones.\n",
    "\n",
    "    16. Calcula la ganancia potencial de los 200 pozos principales por región. Presenta tus conclusiones: propón una región para el desarrollo de pozos petrolíferos y justifica tu elección.\n",
    "\n",
    "17. Calcula riesgos y ganancias para cada región:\n",
    "\n",
    "    18. Utilizando las predicciones que almacenaste en el paso 4.2, emplea la técnica del bootstrapping con 1000 muestras para hallar la distribución de los beneficios.\n",
    "\n",
    "    19. Encuentra el beneficio promedio, el intervalo de confianza del 95% y el riesgo de pérdidas. La pérdida es una ganancia negativa, calcúlala como una probabilidad y luego exprésala como un porcentaje.\n",
    "\n",
    "    20. Presenta tus conclusiones: propón una región para el desarrollo de pozos petrolíferos y justifica tu elección. ¿Coincide tu elección con la elección anterior en el punto 4.3?"
   ]
  },
  {
   "cell_type": "markdown",
   "metadata": {},
   "source": [
    "# Parte I"
   ]
  },
  {
   "cell_type": "markdown",
   "metadata": {},
   "source": [
    "       1. Parte I\n",
    "1. Descarga y prepara los datos. Explica el procedimiento.\n",
    "2. Entrena y prueba el modelo para cada región en geo_data_0.csv:\n",
    "    3. Divide los datos en un conjunto de entrenamiento y un conjunto de validación en una proporción de 75:25\n",
    "    4. Entrena el modelo y haz predicciones para el conjunto de validación.\n",
    "    5. Guarda las predicciones y las respuestas correctas para el conjunto de validación.\n",
    "    6. Muestra el volumen medio de reservas predicho y RMSE del modelo.\n",
    "    7. Analiza los resultados.\n",
    "\n",
    "8. Coloca todos los pasos previos en funciones, realiza y ejecuta los pasos 2.1-2.5 para los archivos 'geo_data_1.csv' y 'geo_data_2.csv'.\n"
   ]
  },
  {
   "cell_type": "code",
   "execution_count": 1,
   "metadata": {},
   "outputs": [],
   "source": [
    "##Librerías\n",
    "import pandas as pd\n",
    "import numpy as np\n",
    "import os\n",
    "\n",
    "from sklearn.model_selection import train_test_split\n",
    "from sklearn.metrics import recall_score,precision_score,f1_score\n",
    "from matplotlib import pyplot as plt\n",
    "\n",
    "from sklearn.linear_model import LinearRegression\n",
    "from sklearn.metrics import mean_squared_error,r2_score,mean_absolute_error"
   ]
  },
  {
   "cell_type": "code",
   "execution_count": 2,
   "metadata": {},
   "outputs": [],
   "source": [
    "##Cargar los Datos  \n",
    "geo0_df = pd.read_csv(r\"/home/jovyan/work/geo_data_0.csv\")\n",
    "geo1_df = pd.read_csv(r\"/home/jovyan/work/geo_data_1.csv\")\n",
    "geo2_df = pd.read_csv(r\"/home/jovyan/work/geo_data_2.csv\")"
   ]
  },
  {
   "cell_type": "code",
   "execution_count": 3,
   "metadata": {},
   "outputs": [],
   "source": [
    "##Visualizar los datos (No hay ausentes)\n",
    "#geo0_df.info()\n",
    "#geo1_df.info()\n",
    "#geo2_df.info()"
   ]
  },
  {
   "cell_type": "code",
   "execution_count": 4,
   "metadata": {},
   "outputs": [
    {
     "data": {
      "text/html": [
       "<div>\n",
       "<style scoped>\n",
       "    .dataframe tbody tr th:only-of-type {\n",
       "        vertical-align: middle;\n",
       "    }\n",
       "\n",
       "    .dataframe tbody tr th {\n",
       "        vertical-align: top;\n",
       "    }\n",
       "\n",
       "    .dataframe thead th {\n",
       "        text-align: right;\n",
       "    }\n",
       "</style>\n",
       "<table border=\"1\" class=\"dataframe\">\n",
       "  <thead>\n",
       "    <tr style=\"text-align: right;\">\n",
       "      <th></th>\n",
       "      <th>id</th>\n",
       "      <th>f0</th>\n",
       "      <th>f1</th>\n",
       "      <th>f2</th>\n",
       "      <th>product</th>\n",
       "    </tr>\n",
       "  </thead>\n",
       "  <tbody>\n",
       "    <tr>\n",
       "      <th>0</th>\n",
       "      <td>txEyH</td>\n",
       "      <td>0.705745</td>\n",
       "      <td>-0.497823</td>\n",
       "      <td>1.221170</td>\n",
       "      <td>105.280062</td>\n",
       "    </tr>\n",
       "    <tr>\n",
       "      <th>1</th>\n",
       "      <td>2acmU</td>\n",
       "      <td>1.334711</td>\n",
       "      <td>-0.340164</td>\n",
       "      <td>4.365080</td>\n",
       "      <td>73.037750</td>\n",
       "    </tr>\n",
       "    <tr>\n",
       "      <th>2</th>\n",
       "      <td>409Wp</td>\n",
       "      <td>1.022732</td>\n",
       "      <td>0.151990</td>\n",
       "      <td>1.419926</td>\n",
       "      <td>85.265647</td>\n",
       "    </tr>\n",
       "    <tr>\n",
       "      <th>3</th>\n",
       "      <td>iJLyR</td>\n",
       "      <td>-0.032172</td>\n",
       "      <td>0.139033</td>\n",
       "      <td>2.978566</td>\n",
       "      <td>168.620776</td>\n",
       "    </tr>\n",
       "    <tr>\n",
       "      <th>4</th>\n",
       "      <td>Xdl7t</td>\n",
       "      <td>1.988431</td>\n",
       "      <td>0.155413</td>\n",
       "      <td>4.751769</td>\n",
       "      <td>154.036647</td>\n",
       "    </tr>\n",
       "  </tbody>\n",
       "</table>\n",
       "</div>"
      ],
      "text/plain": [
       "      id        f0        f1        f2     product\n",
       "0  txEyH  0.705745 -0.497823  1.221170  105.280062\n",
       "1  2acmU  1.334711 -0.340164  4.365080   73.037750\n",
       "2  409Wp  1.022732  0.151990  1.419926   85.265647\n",
       "3  iJLyR -0.032172  0.139033  2.978566  168.620776\n",
       "4  Xdl7t  1.988431  0.155413  4.751769  154.036647"
      ]
     },
     "execution_count": 4,
     "metadata": {},
     "output_type": "execute_result"
    }
   ],
   "source": [
    "##Ver la naturaleza de algún df\n",
    "geo0_df.head(5)"
   ]
  },
  {
   "cell_type": "markdown",
   "metadata": {},
   "source": [
    "## Entrena y prueba el modelo para cada región en geo_data_0.csv:"
   ]
  },
  {
   "cell_type": "markdown",
   "metadata": {},
   "source": [
    "Regresión Lineal\n",
    "Se busca que los parámetros MSE y RMSE sean lo más bajos posible, ya que indican menor error en las predicciones. Se recomienda usar el cual no toma el promedio del dataframe target."
   ]
  },
  {
   "cell_type": "markdown",
   "metadata": {},
   "source": [
    "## Divide los datos en un conjunto de entrenamiento y un conjunto de validación en una proporción de 75:25"
   ]
  },
  {
   "cell_type": "markdown",
   "metadata": {},
   "source": [
    "Geo 0"
   ]
  },
  {
   "cell_type": "code",
   "execution_count": 5,
   "metadata": {},
   "outputs": [],
   "source": [
    "##Función para poder dividir el conjunto de datos en validación y entrenamiento\n",
    "def evaluation(geo):\n",
    "    ##Caraterísticas y objetivo\n",
    "    features = geo.drop(['id','product'],axis=1)\n",
    "    target = geo['product']\n",
    "\n",
    "    features_train,features_valid,target_train, target_valid = train_test_split(features,target,test_size=0.25,random_state=12345)\n",
    "\n",
    "    ##Modelo de Regresión Lineal\n",
    "    model = LinearRegression()\n",
    "    model.fit(features_train,target_train)\n",
    "\n",
    "    ##Predicciones\n",
    "    predicted_valid1 = model.predict(features_valid)\n",
    "    mse = mean_squared_error(target_valid, predicted_valid1)\n",
    "    mae = mean_absolute_error(target_valid, predicted_valid1)\n",
    "    \n",
    "    ##Score\n",
    "    print('Score')\n",
    "    print(model.score(features_valid, target_valid))\n",
    "\n",
    "    ##MSE, RMSE, MAE métricas para regresión\n",
    "    print('\\n')\n",
    "    print('Linear Regression')\n",
    "    print('MSE =', mse)\n",
    "    print('RMSE =', mse ** 0.5)\n",
    "    print ('\\n')\n",
    "    print('MAE =',mae )\n",
    "\n",
    "    print('\\n')\n",
    "    \n",
    "    ##MSE\n",
    "    predicted_valid = pd.Series(target_train.mean(), index=target_valid.index)\n",
    "    mse = mean_squared_error(target_valid, predicted_valid)\n",
    "    print('Mean')\n",
    "    print('MSE =', mse)\n",
    "    print('RMSE =', mse ** 0.5)\n",
    "    return (predicted_valid1)"
   ]
  },
  {
   "cell_type": "code",
   "execution_count": 6,
   "metadata": {},
   "outputs": [
    {
     "name": "stdout",
     "output_type": "stream",
     "text": [
      "Score\n",
      "0.27994321524487786\n",
      "\n",
      "\n",
      "Linear Regression\n",
      "MSE = 1412.2129364399243\n",
      "RMSE = 37.5794217150813\n",
      "\n",
      "\n",
      "MAE = 30.919600777151313\n",
      "\n",
      "\n",
      "Mean\n",
      "MSE = 1961.5678757223516\n",
      "RMSE = 44.289591053907365\n"
     ]
    }
   ],
   "source": [
    "predicted_geo0 = evaluation(geo0_df)"
   ]
  },
  {
   "cell_type": "markdown",
   "metadata": {},
   "source": [
    "Geo 1"
   ]
  },
  {
   "cell_type": "code",
   "execution_count": 7,
   "metadata": {},
   "outputs": [
    {
     "name": "stdout",
     "output_type": "stream",
     "text": [
      "Score\n",
      "0.9996233978805127\n",
      "\n",
      "\n",
      "Linear Regression\n",
      "MSE = 0.7976263360391157\n",
      "RMSE = 0.893099286775617\n",
      "\n",
      "\n",
      "MAE = 0.7187662442124758\n",
      "\n",
      "\n",
      "Mean\n",
      "MSE = 2117.9734309299147\n",
      "RMSE = 46.02144533725462\n"
     ]
    }
   ],
   "source": [
    "predicted_geo1 = evaluation(geo1_df)"
   ]
  },
  {
   "cell_type": "markdown",
   "metadata": {},
   "source": [
    "Geo 2"
   ]
  },
  {
   "cell_type": "code",
   "execution_count": 8,
   "metadata": {},
   "outputs": [
    {
     "name": "stdout",
     "output_type": "stream",
     "text": [
      "Score\n",
      "0.20524758386040443\n",
      "\n",
      "\n",
      "Linear Regression\n",
      "MSE = 1602.3775813236196\n",
      "RMSE = 40.02970873393434\n",
      "\n",
      "\n",
      "MAE = 32.792652105481814\n",
      "\n",
      "\n",
      "Mean\n",
      "MSE = 2016.2210072435087\n",
      "RMSE = 44.90234968510566\n"
     ]
    }
   ],
   "source": [
    "predicted_geo2 = evaluation(geo2_df)"
   ]
  },
  {
   "cell_type": "code",
   "execution_count": 9,
   "metadata": {},
   "outputs": [
    {
     "name": "stdout",
     "output_type": "stream",
     "text": [
      "[ 93.59963303  75.10515854  90.06680936 ...  99.40728116  77.77991248\n",
      " 129.03241718]\n",
      "<class 'numpy.ndarray'>\n"
     ]
    }
   ],
   "source": [
    "print(predicted_geo2)\n",
    "print(type(predicted_geo2))"
   ]
  },
  {
   "cell_type": "markdown",
   "metadata": {},
   "source": [
    "# Parte II"
   ]
  },
  {
   "cell_type": "markdown",
   "metadata": {},
   "source": [
    "4. Prepárate para el cálculo de ganancias:\n",
    "\n",
    "    10. Almacena todos los valores necesarios para los cálculos en variables separadas.\n",
    "\n",
    "    11. Dada la inversión de 100 millones por 200 pozos petrolíferos, de media un pozo petrolífero debe producir al menos un valor de 500,000 dólares en unidades para evitar pérdidas (esto es equivalente a 111.1 unidades). Compara esta cantidad con la cantidad media de reservas en cada región.\n",
    "\n",
    "    12. Presenta conclusiones sobre cómo preparar el paso para calcular el beneficio.\n",
    "\n",
    "5. Escribe una función para calcular la ganancia de un conjunto de pozos de petróleo seleccionados y modela las predicciones:\n",
    "\n",
    "    14. Elige los 200 pozos con los valores de predicción más altos de cada una de las 3 regiones (es decir, archivos 'csv').\n",
    "\n",
    "    15. Resume el volumen objetivo de reservas según dichas predicciones. Almacena las predicciones para los 200 pozos para cada una de las 3 regiones.\n",
    "\n",
    "    16. Calcula la ganancia potencial de los 200 pozos principales por región. Presenta tus conclusiones: propón una región para el desarrollo de pozos petrolíferos y justifica tu elección.\n",
    "\n",
    "6. Calcula riesgos y ganancias para cada región:\n",
    "\n",
    "    18. Utilizando las predicciones que almacenaste en el paso 4.2, emplea la técnica del bootstrapping con 1000 muestras para hallar la distribución de los beneficios.\n",
    "\n",
    "    19. Encuentra el beneficio promedio, el intervalo de confianza del 95% y el riesgo de pérdidas. La pérdida es una ganancia negativa, calcúlala como una probabilidad y luego exprésala como un porcentaje.\n",
    "\n",
    "    20. Presenta tus conclusiones: propón una región para el desarrollo de pozos petrolíferos y justifica tu elección. ¿Coincide tu elección con la elección anterior en el punto 4.3?"
   ]
  },
  {
   "cell_type": "code",
   "execution_count": 10,
   "metadata": {},
   "outputs": [],
   "source": [
    "##Volumen de barriles de petroleo y ganancia por barril\n",
    "def mean_geo (geo):\n",
    "    geo_mean_p =geo['product'].mean()\n",
    "    print('Volumen promedio de reservas',geo['product'].mean())\n",
    "    print('Ganancia promedio por barril',geo_mean_p*5000)\n",
    "    return"
   ]
  },
  {
   "cell_type": "code",
   "execution_count": 11,
   "metadata": {},
   "outputs": [
    {
     "name": "stdout",
     "output_type": "stream",
     "text": [
      "[ 95.89495185  77.57258261  77.89263965 ...  61.50983303 118.18039721\n",
      " 118.16939229]\n"
     ]
    }
   ],
   "source": [
    "print(predicted_geo0)"
   ]
  },
  {
   "cell_type": "markdown",
   "metadata": {},
   "source": [
    "El Volumen promedio por región está por debajo de las 111 unidades mínimas para que la inversión sea recuperada dentro de los pozos, es decir, que la ganancia es menor a los 500,000 esperados para evitar pérdidas. La región con los numeros más altos es la región geo 2. Tiene 95 barriles por pozo y una ganacia de 475,000."
   ]
  },
  {
   "cell_type": "code",
   "execution_count": 12,
   "metadata": {},
   "outputs": [
    {
     "name": "stdout",
     "output_type": "stream",
     "text": [
      "Volumen promedio de reservas 92.50000000000001\n",
      "Ganancia promedio por barril 462500.00000000006\n"
     ]
    }
   ],
   "source": [
    "mean_geo(geo0_df)"
   ]
  },
  {
   "cell_type": "code",
   "execution_count": 13,
   "metadata": {},
   "outputs": [
    {
     "name": "stdout",
     "output_type": "stream",
     "text": [
      "Volumen promedio de reservas 68.82500000000002\n",
      "Ganancia promedio por barril 344125.00000000006\n"
     ]
    }
   ],
   "source": [
    "mean_geo(geo1_df)"
   ]
  },
  {
   "cell_type": "code",
   "execution_count": 14,
   "metadata": {},
   "outputs": [
    {
     "name": "stdout",
     "output_type": "stream",
     "text": [
      "Volumen promedio de reservas 95.00000000000004\n",
      "Ganancia promedio por barril 475000.00000000023\n"
     ]
    }
   ],
   "source": [
    "mean_geo(geo2_df)"
   ]
  },
  {
   "cell_type": "markdown",
   "metadata": {},
   "source": [
    "Se elabora una función para poder visualizar la preddicción de los 200 pozos con mayor número estimado de barriles producidos, por región. Se visualiza que se elaboran tablas donde el profit general es el beneficio bruto y el total profit es el beneficio operativo. El beneficio operativo se obtiene del beneficio bruto menos la inversión por pozo, mencionada de 500,000."
   ]
  },
  {
   "cell_type": "code",
   "execution_count": 15,
   "metadata": {},
   "outputs": [],
   "source": [
    "def top_200(geo_predicted):\n",
    "    geo_predicted = pd.Series(geo_predicted)\n",
    "    geo_20= geo_predicted.sort_values(ascending=False).reset_index()\n",
    "    geo_20.columns=['position','units']\n",
    "    #geo_20.columns=['id','product']\n",
    "    ##Ganancia bruta\n",
    "    geo_20['general profit'] = geo_20['units']*5000\n",
    "    ##Ganancia operativa \n",
    "    geo_20['total profit'] = geo_20['general profit']-500000\n",
    "    print(geo_20[:200])\n",
    "    return"
   ]
  },
  {
   "cell_type": "markdown",
   "metadata": {},
   "source": [
    "Geo 0"
   ]
  },
  {
   "cell_type": "code",
   "execution_count": 16,
   "metadata": {},
   "outputs": [
    {
     "name": "stdout",
     "output_type": "stream",
     "text": [
      "     position       units  general profit   total profit\n",
      "0        9317  180.180713   900903.565306  400903.565306\n",
      "1         219  176.252213   881261.065836  381261.065836\n",
      "2       10015  175.850623   879253.116417  379253.116417\n",
      "3       11584  175.658429   878292.144777  378292.144777\n",
      "4       23388  173.299686   866498.430921  366498.430921\n",
      "..        ...         ...             ...            ...\n",
      "195      7888  148.507064   742535.319302  242535.319302\n",
      "196      7890  148.481767   742408.833413  242408.833413\n",
      "197     24051  148.476498   742382.490801  242382.490801\n",
      "198     24160  148.436761   742183.807454  242183.807454\n",
      "199     20340  148.365941   741829.704999  241829.704999\n",
      "\n",
      "[200 rows x 4 columns]\n"
     ]
    }
   ],
   "source": [
    "top200_geo0=top_200(predicted_geo0)"
   ]
  },
  {
   "cell_type": "markdown",
   "metadata": {},
   "source": [
    "Geo 1"
   ]
  },
  {
   "cell_type": "code",
   "execution_count": 17,
   "metadata": {},
   "outputs": [
    {
     "name": "stdout",
     "output_type": "stream",
     "text": [
      "     position       units  general profit   total profit\n",
      "0       20430  139.818970   699094.849063  199094.849063\n",
      "1        7777  139.773423   698867.114787  198867.114787\n",
      "2        8755  139.703330   698516.651566  198516.651566\n",
      "3        1178  139.560938   697804.687974  197804.687974\n",
      "4        4285  139.516754   697583.771467  197583.771467\n",
      "..        ...         ...             ...            ...\n",
      "195     12774  138.421423   692107.115595  192107.115595\n",
      "196      8040  138.416960   692084.800991  192084.800991\n",
      "197      2257  138.413881   692069.403523  192069.403523\n",
      "198     17108  138.412834   692064.169031  192064.169031\n",
      "199      9693  138.410697   692053.483684  192053.483684\n",
      "\n",
      "[200 rows x 4 columns]\n"
     ]
    }
   ],
   "source": [
    "top200_geo1=top_200(predicted_geo1)"
   ]
  },
  {
   "cell_type": "markdown",
   "metadata": {},
   "source": [
    "Geo 2"
   ]
  },
  {
   "cell_type": "code",
   "execution_count": 18,
   "metadata": {},
   "outputs": [
    {
     "name": "stdout",
     "output_type": "stream",
     "text": [
      "     position       units  general profit   total profit\n",
      "0       22636  165.856833   829284.165872  329284.165872\n",
      "1       24690  165.679685   828398.426330  328398.426330\n",
      "2        7811  163.439962   817199.811660  317199.811660\n",
      "3        1581  162.062589   810312.947497  310312.947497\n",
      "4        6751  161.797476   808987.381408  308987.381408\n",
      "..        ...         ...             ...            ...\n",
      "195      5541  142.490763   712453.814169  212453.814169\n",
      "196     18126  142.485922   712429.611557  212429.611557\n",
      "197     11122  142.465777   712328.886137  212328.886137\n",
      "198     22669  142.454763   712273.816318  212273.816318\n",
      "199     23447  142.408851   712044.256748  212044.256748\n",
      "\n",
      "[200 rows x 4 columns]\n"
     ]
    }
   ],
   "source": [
    "top200_geo2=top_200(predicted_geo2)"
   ]
  },
  {
   "cell_type": "markdown",
   "metadata": {},
   "source": [
    "Se utilizó el método de bootstrapping para estimar la distribución de los ingresos y calcular métricas clave como el ingreso promedio, el intervalo de confianza del 95% y el riesgo de pérdidas.\n",
    "\n",
    "Se aprecia que los promedios son muy acercados a los promedios reales de ganancia en los pasos anteriores. El pozo que presenta menor riesgo de inversión es la región geo 2 con un porcentaje de 64.4%. Quiere decir que ese es el riesgo de que el pozo invertido produzca menores ingresos que los invertidos y que la ganancia sea negativa"
   ]
  },
  {
   "cell_type": "code",
   "execution_count": 19,
   "metadata": {},
   "outputs": [],
   "source": [
    "# Función para calcular los ingresos\n",
    "def revenue(target, probabilities, count):\n",
    "    # Ordena las probabilidades de mayor a menor\n",
    "    probs_sorted = probabilities.sort_values(ascending=False)\n",
    "    # Selecciona los primeros 'count' elementos (10 pozos)\n",
    "    selected = target[probs_sorted.index][:count]\n",
    "    return 5000 * selected.mean()"
   ]
  },
  {
   "cell_type": "code",
   "execution_count": 20,
   "metadata": {},
   "outputs": [],
   "source": [
    "# Función para ganancia promedio, riesgo e intervalo de  confianza\n",
    "def final (geo,predicted):\n",
    "    features= geo.drop(['id','product'],axis=1)\n",
    "    target = geo['product']\n",
    "    probabilities= pd.Series(predicted)\n",
    "\n",
    "# Asegurar que target y probabilities tengan los mismos índices\n",
    "    target= geo['product'].reset_index(drop=True)\n",
    "    probabilities= probabilities.reset_index(drop=True)\n",
    "\n",
    "    state = np.random.RandomState(12345)\n",
    "    values = []\n",
    "\n",
    "# Realiza el bootstrapping: toma 1000 muestras\n",
    "    for i in range(1000):\n",
    "    \n",
    "        target_subsample = target.sample(n=200, replace=True, random_state=state).reset_index(drop=True)  # Cambié n=1000 a n=25000\n",
    "        probs_subsample = probabilities[target_subsample.index]\n",
    "        values.append(revenue(target_subsample, probs_subsample, 10))  # Ajusta el número de pozos (10)\n",
    "\n",
    "# Convierte los valores de ingresos a una Serie de Pandas\n",
    "    values = pd.Series(values)\n",
    "    mean = values.mean()\n",
    "\n",
    "# Intervalo de Confianza del 95%\n",
    "    lower = values.quantile(0.025)  # 2.5% cuantil (para el límite inferior)\n",
    "    upper = values.quantile(0.975)  # 97.5% cuantil (para el límite superior)\n",
    "\n",
    "# Riesgo de Pérdidas (probabilidad de tener ingresos negativos)\n",
    "    loss_risk = (values < 500000 ).mean() * 100  # Convertimos la probabilidad en porcentaje\n",
    "\n",
    "    print(f\"Ingresos promedio: {mean}\")\n",
    "    print(f\"Intervalo de confianza del 95%: ({lower}, {upper})\")\n",
    "    print(f\"Riesgo de pérdidas: {loss_risk}%\")\n",
    "    return"
   ]
  },
  {
   "cell_type": "code",
   "execution_count": 21,
   "metadata": {},
   "outputs": [],
   "source": [
    "def top200s(predicted):\n",
    "    geo_predicted = pd.Series(predicted)\n",
    "    geo_sorted = geo_predicted.sort_values(ascending=False)\n",
    "    top_200_array = np.array(geo_sorted.iloc[:200])\n",
    "    print(top_200_array)\n",
    "\n",
    "    return top_200_array  # Retorna el array si lo necesitas"
   ]
  },
  {
   "cell_type": "code",
   "execution_count": 22,
   "metadata": {},
   "outputs": [
    {
     "name": "stdout",
     "output_type": "stream",
     "text": [
      "[180.18071306 176.25221317 175.85062328 175.65842896 173.29968618\n",
      " 172.62797248 172.50167789 169.12423358 168.78760151 168.20601476\n",
      " 167.9553527  167.89493172 166.73719173 166.64783024 166.58664229\n",
      " 166.51253196 165.77868214 164.88665844 164.76765859 164.7464549\n",
      " 164.60991694 164.51805395 164.10007177 163.63628349 163.35261037\n",
      " 162.95212231 162.2441628  162.24349816 161.92411048 161.70643654\n",
      " 161.70054385 161.14661861 160.96571699 160.94719592 160.91870049\n",
      " 160.56657568 160.49284653 160.35757296 160.31411761 160.19923809\n",
      " 160.0642034  160.03644529 159.92791076 159.89191394 159.86367774\n",
      " 159.68067978 159.55030385 159.50773314 159.03061812 158.57697873\n",
      " 158.57682628 158.49080939 158.11221037 158.1048762  157.90933803\n",
      " 157.72043411 157.71395384 157.53653905 157.4295083  157.40358913\n",
      " 157.07172387 156.83431917 156.73182285 156.6966888  156.49858586\n",
      " 156.47607107 156.42685601 156.41834157 156.36528745 156.36126347\n",
      " 156.32975573 156.22161471 156.09039845 156.07788946 156.0187806\n",
      " 155.77179166 155.67018916 155.64642469 155.51191844 155.34066246\n",
      " 155.25411613 155.23063028 154.84153567 154.68332456 154.64698504\n",
      " 154.61910159 154.59243666 154.53579213 154.52270239 154.48903659\n",
      " 154.37746158 154.3481325  154.29151342 154.16307913 154.08760543\n",
      " 153.94483224 153.92592677 153.88541228 153.80979587 153.806449\n",
      " 153.76099884 153.70837221 153.38776731 153.2386913  153.22661748\n",
      " 153.2068395  153.20515421 153.12214248 153.00064532 152.99758368\n",
      " 152.91120707 152.86933808 152.73616707 152.72778152 152.72101945\n",
      " 152.71852525 152.70700851 152.63804607 152.5022209  152.27989523\n",
      " 152.25367089 152.21674039 152.1784907  152.09483784 152.08156227\n",
      " 152.05871497 151.96365394 151.95347853 151.91359586 151.87919572\n",
      " 151.72313785 151.63562674 151.60618983 151.50934957 151.49269837\n",
      " 151.48843916 151.4618324  151.37026674 151.316654   151.3014283\n",
      " 151.24751215 151.2233632  151.1916466  151.18394543 151.16457376\n",
      " 151.02092218 150.99504559 150.79160937 150.78188833 150.742163\n",
      " 150.73104302 150.67082374 150.65077297 150.61772932 150.57480024\n",
      " 150.52556009 150.42597844 150.39127347 150.38418845 150.25825967\n",
      " 150.09536533 150.09302161 150.04376001 150.02555136 150.01867449\n",
      " 149.99597919 149.93485786 149.83626627 149.8274817  149.78363192\n",
      " 149.77286564 149.71858774 149.71746997 149.70535089 149.49453339\n",
      " 149.47469591 149.33317115 149.28941639 149.2892257  149.28792811\n",
      " 149.22803404 149.20379382 149.11100166 149.09657629 148.980418\n",
      " 148.95628573 148.88336735 148.87790392 148.78655154 148.76757494\n",
      " 148.70995735 148.61432171 148.61141782 148.56011982 148.55466708\n",
      " 148.50706386 148.48176668 148.47649816 148.43676149 148.365941  ]\n"
     ]
    }
   ],
   "source": [
    "geo0_predicted=top200s(predicted_geo0)"
   ]
  },
  {
   "cell_type": "code",
   "execution_count": 23,
   "metadata": {},
   "outputs": [
    {
     "name": "stdout",
     "output_type": "stream",
     "text": [
      "[139.81896981 139.77342296 139.70333031 139.56093759 139.51675429\n",
      " 139.4729438  139.47205891 139.44650088 139.43165277 139.42452597\n",
      " 139.38874898 139.30774543 139.25404759 139.25068009 139.15876273\n",
      " 139.1434329  139.11526578 139.10472303 139.08129975 139.07978165\n",
      " 139.07014053 139.06671848 139.05518926 139.05255628 139.03526451\n",
      " 139.02835462 139.02255401 139.00712372 139.0065201  139.0025295\n",
      " 139.00128309 138.97996329 138.95407219 138.95392375 138.94436831\n",
      " 138.93790535 138.93784463 138.93609088 138.93382169 138.92497835\n",
      " 138.90826059 138.90787204 138.90642539 138.89572203 138.89147041\n",
      " 138.88937789 138.88852548 138.88751906 138.88730277 138.88161812\n",
      " 138.87033255 138.86281988 138.85962626 138.85914285 138.8392558\n",
      " 138.83683753 138.8331988  138.82825512 138.82820825 138.8261413\n",
      " 138.82566959 138.81246323 138.81169436 138.80873071 138.80001932\n",
      " 138.79860567 138.79454299 138.78957577 138.78917995 138.78287979\n",
      " 138.78229125 138.76992383 138.76510252 138.76062158 138.74906275\n",
      " 138.74884502 138.74388007 138.73698392 138.7361132  138.73162493\n",
      " 138.72955984 138.7185684  138.716181   138.71553029 138.71436482\n",
      " 138.71436232 138.71084623 138.70422967 138.701708   138.69903221\n",
      " 138.6933353  138.68795698 138.68540237 138.67339417 138.67255296\n",
      " 138.66435578 138.66094947 138.65489556 138.65271787 138.6522068\n",
      " 138.65171269 138.65069826 138.64764043 138.64655759 138.63575906\n",
      " 138.63344561 138.63050009 138.62695016 138.62611126 138.62385046\n",
      " 138.6203725  138.60749171 138.59926854 138.59609442 138.59241393\n",
      " 138.59210194 138.58450667 138.58147562 138.57473742 138.57315724\n",
      " 138.57255973 138.57052866 138.5702992  138.5689635  138.56454464\n",
      " 138.5637712  138.55493567 138.55451471 138.55339238 138.55212168\n",
      " 138.55094631 138.54997558 138.54837896 138.54728252 138.54713498\n",
      " 138.54677214 138.54487162 138.54162974 138.54068973 138.54043243\n",
      " 138.53833121 138.5376734  138.53763159 138.5344811  138.53362987\n",
      " 138.53337865 138.53289782 138.52430468 138.52157469 138.52108204\n",
      " 138.51889592 138.51539064 138.51329676 138.5119379  138.51069608\n",
      " 138.50858213 138.50851844 138.50827148 138.505465   138.5046747\n",
      " 138.50122642 138.49841198 138.49665437 138.49591194 138.49281243\n",
      " 138.49194172 138.48072665 138.47909163 138.47897053 138.47842535\n",
      " 138.47664668 138.47144671 138.46970591 138.46967262 138.46931371\n",
      " 138.46880113 138.46458623 138.46437284 138.4611154  138.45966779\n",
      " 138.44947577 138.44497032 138.44253277 138.43886095 138.4387301\n",
      " 138.43283352 138.42893472 138.42849873 138.42797724 138.42676416\n",
      " 138.42619675 138.42539115 138.42295307 138.42184765 138.42155313\n",
      " 138.42142312 138.4169602  138.4138807  138.41283381 138.41069674]\n",
      "<class 'numpy.ndarray'>\n"
     ]
    }
   ],
   "source": [
    "geo1_predicted=top200s(predicted_geo1)\n",
    "print(type(geo1_predicted))"
   ]
  },
  {
   "cell_type": "code",
   "execution_count": 24,
   "metadata": {},
   "outputs": [
    {
     "name": "stdout",
     "output_type": "stream",
     "text": [
      "[165.85683317 165.67968527 163.43996233 162.0625895  161.79747628\n",
      " 161.63272966 160.90714301 160.79107005 160.47889601 159.99053953\n",
      " 159.9566195  159.18637626 159.1131953  158.84142132 157.58869037\n",
      " 157.15664851 156.86005825 156.57696724 156.21517371 156.05944004\n",
      " 155.99726798 155.84901909 155.84236129 155.76590908 155.66456621\n",
      " 155.59138885 154.99613618 154.24937687 154.19453774 154.17171937\n",
      " 153.82903089 153.81311512 153.76961857 153.65059807 153.60866789\n",
      " 153.30168881 152.80154046 152.54408434 152.51735229 152.23743012\n",
      " 152.08364982 152.01820434 151.54286075 151.27720085 150.841098\n",
      " 150.72386796 150.68665259 150.67457991 150.50631759 150.4181502\n",
      " 150.41550335 149.82337414 149.57955981 149.3790756  149.30798057\n",
      " 149.29295508 149.11269363 149.09832081 148.99705066 148.87576194\n",
      " 148.82975017 148.78806918 148.76793597 148.67791392 148.6357326\n",
      " 148.53967624 148.40775305 148.3638055  148.28408203 148.27492066\n",
      " 148.26207593 148.22766157 148.21330628 148.09168082 148.05562676\n",
      " 147.99037938 147.97270645 147.93427194 147.91815068 147.82731\n",
      " 147.82384354 147.79934741 147.74989465 147.70490256 147.43839984\n",
      " 147.33741836 147.20587728 147.15030739 146.99572534 146.98355099\n",
      " 146.80650132 146.79930901 146.72583752 146.70394647 146.65032338\n",
      " 146.54972178 146.50786176 146.4921555  146.45997593 146.32900454\n",
      " 146.30825238 146.28664352 146.17922321 146.17285409 146.13544638\n",
      " 146.0515551  146.03167454 146.02046905 145.84196233 145.8361589\n",
      " 145.80868423 145.73794475 145.72347368 145.61528563 145.51950166\n",
      " 145.49639233 145.45881147 145.43673405 145.35533054 145.34723237\n",
      " 145.2669882  145.2130936  145.19139197 145.15187989 145.07499512\n",
      " 145.02918806 144.98884951 144.9784885  144.97648148 144.95447814\n",
      " 144.76400359 144.73887296 144.73800704 144.71014054 144.59887703\n",
      " 144.59271991 144.56334263 144.44652678 144.39621732 144.3853658\n",
      " 144.37149699 144.34708619 144.30539544 144.2958301  144.28924441\n",
      " 144.26332904 144.24581892 144.16274823 144.14273083 144.08522832\n",
      " 143.97527488 143.93063078 143.92239066 143.91148816 143.87449805\n",
      " 143.82021824 143.61475505 143.53244007 143.50160922 143.45411218\n",
      " 143.4458371  143.44483854 143.38663846 143.38599328 143.26877534\n",
      " 143.255903   143.23083908 143.21257556 143.19148232 143.17422361\n",
      " 143.12934761 143.12844829 143.11228196 143.02284067 143.00171949\n",
      " 142.99481239 142.9479001  142.90830838 142.90297147 142.87490799\n",
      " 142.84408733 142.79303493 142.75247068 142.74767866 142.73658931\n",
      " 142.69779901 142.67272804 142.65421328 142.63520208 142.6144489\n",
      " 142.59852334 142.56507715 142.53769036 142.5247182  142.50931554\n",
      " 142.49076283 142.48592231 142.46577723 142.45476326 142.40885135]\n"
     ]
    }
   ],
   "source": [
    "geo2_predicted=top200s(predicted_geo2)"
   ]
  },
  {
   "cell_type": "code",
   "execution_count": 25,
   "metadata": {},
   "outputs": [
    {
     "name": "stdout",
     "output_type": "stream",
     "text": [
      "Ingresos promedio: 464359.2725475618\n",
      "Intervalo de confianza del 95%: (325172.076379638, 600721.1587273463)\n",
      "Riesgo de pérdidas: 70.5%\n"
     ]
    }
   ],
   "source": [
    "final(geo0_df,geo0_predicted)"
   ]
  },
  {
   "cell_type": "code",
   "execution_count": 26,
   "metadata": {},
   "outputs": [
    {
     "name": "stdout",
     "output_type": "stream",
     "text": [
      "Ingresos promedio: 347436.03534041037\n",
      "Intervalo de confianza del 95%: (198210.13497039955, 496325.29639122984)\n",
      "Riesgo de pérdidas: 97.7%\n"
     ]
    }
   ],
   "source": [
    "final(geo1_df,geo1_predicted)"
   ]
  },
  {
   "cell_type": "code",
   "execution_count": 27,
   "metadata": {},
   "outputs": [
    {
     "name": "stdout",
     "output_type": "stream",
     "text": [
      "Ingresos promedio: 473291.8200250828\n",
      "Intervalo de confianza del 95%: (335645.3051206137, 618345.027469659)\n",
      "Riesgo de pérdidas: 64.4%\n"
     ]
    }
   ],
   "source": [
    "final(geo2_df,geo2_predicted)"
   ]
  },
  {
   "cell_type": "markdown",
   "metadata": {},
   "source": [
    "# Conclusión\n",
    "Se eliminó la columna irrelevante ('id')  y la variable objetivo (target) del los dataframe de las tres regiones de las características (features). El correcto almacenamiento de las predicciones (probabilities) en una pd.Series fue para su procesamiento posteriormente.\n",
    "\n",
    "Se realizó la técnica de bootstrapping con 1000 muestras y el cálculo de la distribución de ingreso. El ingreso promedio, intervalo de confianza del 95% y riesgo de pérdidas. Se seleccionaron los 10 mejores pozos en cada iteración para maximizar las ganancias. Tomando en cuenta que laa inversión es de 500,000 dólares por pozo y que la ganancia se calcula sobre los 10 mejores pozos seleccionados. Se evaluó el riesgo de pérdidas, es decir, la probabilidad de que los ingresos sean inferiores a 500,000 dólares. Esto junto con el ingreso promedio y el rango de confianza sobre los ingresos es calve para la toma de decisiones.\n",
    "\n",
    "Geo 2 representa la región que brinda mayores ingresos con un menor riesgo de perdida de inversión, por lo que es la mejor región para invertir de las tres\n"
   ]
  },
  {
   "cell_type": "markdown",
   "metadata": {},
   "source": [
    "# Evaluación del proyecto\n",
    "Hemos definido los criterios de evaluación para el proyecto. Lee esto con atención antes de pasar al ejercicio.\n",
    "\n",
    "Esto es lo que los revisores buscarán cuando evalúen tu proyecto:\n",
    "\n",
    "¿Cómo preparaste los datos para el entrenamiento?\n",
    "¿Seguiste todos los pasos de las instrucciones?\n",
    "¿Consideraste todas las condiciones del negocio?\n",
    "¿Cuáles son tus hallazgos sobre el estudio de tareas?\n",
    "¿Aplicaste correctamente la técnica bootstrapping?\n",
    "¿Sugeriste la mejor región para el desarrollo de pozos? ¿Justificaste tu elección?\n",
    "¿Evitaste la duplicación de código?\n",
    "¿Mantuviste la estructura del proyecto y el código limpio?\n",
    "Ya tienes tus hojas informativas y los resúmenes de los capítulos, por lo que todo está listo para continuar con el proyecto.\n",
    "\n",
    "¡Buena suerte!"
   ]
  }
 ],
 "metadata": {
  "ExecuteTimeLog": [
   {
    "duration": 4,
    "start_time": "2025-02-11T17:13:03.491Z"
   },
   {
    "duration": 2804,
    "start_time": "2025-02-11T17:20:19.774Z"
   },
   {
    "duration": 569,
    "start_time": "2025-02-11T17:21:25.512Z"
   },
   {
    "duration": 61,
    "start_time": "2025-02-11T17:22:23.267Z"
   },
   {
    "duration": 69,
    "start_time": "2025-02-11T17:38:53.479Z"
   },
   {
    "duration": 77,
    "start_time": "2025-02-11T17:39:57.930Z"
   },
   {
    "duration": 61,
    "start_time": "2025-02-11T17:41:00.785Z"
   },
   {
    "duration": 60,
    "start_time": "2025-02-11T17:41:34.714Z"
   },
   {
    "duration": 64,
    "start_time": "2025-02-11T17:45:25.846Z"
   },
   {
    "duration": 69,
    "start_time": "2025-02-11T17:46:36.047Z"
   },
   {
    "duration": 70,
    "start_time": "2025-02-11T17:46:43.150Z"
   },
   {
    "duration": 62,
    "start_time": "2025-02-11T17:46:48.012Z"
   },
   {
    "duration": 61,
    "start_time": "2025-02-11T17:47:20.791Z"
   },
   {
    "duration": 70,
    "start_time": "2025-02-11T17:47:32.401Z"
   },
   {
    "duration": 59,
    "start_time": "2025-02-11T17:49:27.617Z"
   },
   {
    "duration": 124,
    "start_time": "2025-02-11T17:49:40.961Z"
   },
   {
    "duration": 80,
    "start_time": "2025-02-11T17:49:50.451Z"
   },
   {
    "duration": 60,
    "start_time": "2025-02-11T17:49:52.909Z"
   },
   {
    "duration": 67,
    "start_time": "2025-02-11T17:56:33.429Z"
   },
   {
    "duration": 60,
    "start_time": "2025-02-11T17:56:37.347Z"
   },
   {
    "duration": 59,
    "start_time": "2025-02-11T17:56:41.482Z"
   },
   {
    "duration": 65,
    "start_time": "2025-02-11T17:58:43.055Z"
   },
   {
    "duration": 3,
    "start_time": "2025-02-11T17:59:35.742Z"
   },
   {
    "duration": 59,
    "start_time": "2025-02-11T17:59:37.957Z"
   },
   {
    "duration": 61,
    "start_time": "2025-02-11T18:00:53.281Z"
   },
   {
    "duration": 4,
    "start_time": "2025-02-11T18:00:58.511Z"
   },
   {
    "duration": 86,
    "start_time": "2025-02-11T18:04:15.340Z"
   },
   {
    "duration": 83,
    "start_time": "2025-02-11T18:04:21.894Z"
   },
   {
    "duration": 230,
    "start_time": "2025-02-11T18:04:55.889Z"
   },
   {
    "duration": 236,
    "start_time": "2025-02-11T18:05:02.244Z"
   },
   {
    "duration": 23,
    "start_time": "2025-02-11T18:06:22.115Z"
   },
   {
    "duration": 215,
    "start_time": "2025-02-11T18:06:33.536Z"
   },
   {
    "duration": 25,
    "start_time": "2025-02-11T18:06:34.834Z"
   },
   {
    "duration": 2,
    "start_time": "2025-02-11T18:10:06.692Z"
   },
   {
    "duration": 14,
    "start_time": "2025-02-11T18:11:01.060Z"
   },
   {
    "duration": 13,
    "start_time": "2025-02-11T18:11:06.167Z"
   },
   {
    "duration": 7,
    "start_time": "2025-02-11T18:11:11.505Z"
   },
   {
    "duration": 25,
    "start_time": "2025-02-11T18:11:34.981Z"
   },
   {
    "duration": 2,
    "start_time": "2025-02-11T18:11:46.440Z"
   },
   {
    "duration": 4,
    "start_time": "2025-02-11T18:37:50.705Z"
   },
   {
    "duration": 25,
    "start_time": "2025-02-11T19:00:21.787Z"
   },
   {
    "duration": 903,
    "start_time": "2025-02-11T19:00:52.825Z"
   },
   {
    "duration": 224,
    "start_time": "2025-02-11T19:00:53.731Z"
   },
   {
    "duration": 3,
    "start_time": "2025-02-11T19:00:53.956Z"
   },
   {
    "duration": 10,
    "start_time": "2025-02-11T19:00:53.961Z"
   },
   {
    "duration": 329,
    "start_time": "2025-02-11T19:00:53.972Z"
   },
   {
    "duration": 1619,
    "start_time": "2025-02-11T19:01:48.811Z"
   },
   {
    "duration": 493,
    "start_time": "2025-02-11T19:01:50.432Z"
   },
   {
    "duration": 56,
    "start_time": "2025-02-11T19:01:50.930Z"
   },
   {
    "duration": 11,
    "start_time": "2025-02-11T19:01:50.988Z"
   },
   {
    "duration": 84,
    "start_time": "2025-02-11T19:01:51.002Z"
   },
   {
    "duration": 6,
    "start_time": "2025-02-11T19:05:30.883Z"
   },
   {
    "duration": 24,
    "start_time": "2025-02-11T19:05:39.600Z"
   },
   {
    "duration": 161,
    "start_time": "2025-02-12T21:46:59.059Z"
   },
   {
    "duration": 2660,
    "start_time": "2025-02-12T21:47:04.942Z"
   },
   {
    "duration": 294,
    "start_time": "2025-02-12T21:47:07.605Z"
   },
   {
    "duration": 2,
    "start_time": "2025-02-12T21:47:07.901Z"
   },
   {
    "duration": 10,
    "start_time": "2025-02-12T21:47:07.905Z"
   },
   {
    "duration": 30,
    "start_time": "2025-02-12T21:47:07.918Z"
   },
   {
    "duration": 3,
    "start_time": "2025-02-12T21:47:07.951Z"
   },
   {
    "duration": 25,
    "start_time": "2025-02-12T21:47:41.760Z"
   },
   {
    "duration": 882,
    "start_time": "2025-02-12T21:47:54.462Z"
   },
   {
    "duration": 230,
    "start_time": "2025-02-12T21:47:55.348Z"
   },
   {
    "duration": 2,
    "start_time": "2025-02-12T21:47:55.580Z"
   },
   {
    "duration": 10,
    "start_time": "2025-02-12T21:47:55.584Z"
   },
   {
    "duration": 35,
    "start_time": "2025-02-12T21:47:55.597Z"
   },
   {
    "duration": 22,
    "start_time": "2025-02-12T21:47:55.634Z"
   },
   {
    "duration": 3,
    "start_time": "2025-02-12T21:47:55.658Z"
   },
   {
    "duration": 21,
    "start_time": "2025-02-12T21:48:35.499Z"
   },
   {
    "duration": 892,
    "start_time": "2025-02-12T21:48:56.067Z"
   },
   {
    "duration": 220,
    "start_time": "2025-02-12T21:48:56.961Z"
   },
   {
    "duration": 2,
    "start_time": "2025-02-12T21:48:57.183Z"
   },
   {
    "duration": 11,
    "start_time": "2025-02-12T21:48:57.186Z"
   },
   {
    "duration": 37,
    "start_time": "2025-02-12T21:48:57.199Z"
   },
   {
    "duration": 3,
    "start_time": "2025-02-12T21:48:57.237Z"
   },
   {
    "duration": 25,
    "start_time": "2025-02-12T21:49:22.216Z"
   },
   {
    "duration": 21,
    "start_time": "2025-02-12T21:50:30.069Z"
   },
   {
    "duration": 8,
    "start_time": "2025-02-12T21:57:27.873Z"
   },
   {
    "duration": 0,
    "start_time": "2025-02-12T21:57:27.883Z"
   },
   {
    "duration": 0,
    "start_time": "2025-02-12T21:57:27.884Z"
   },
   {
    "duration": 0,
    "start_time": "2025-02-12T21:57:27.886Z"
   },
   {
    "duration": 0,
    "start_time": "2025-02-12T21:57:27.887Z"
   },
   {
    "duration": 172,
    "start_time": "2025-02-12T21:57:27.891Z"
   },
   {
    "duration": 0,
    "start_time": "2025-02-12T21:57:28.065Z"
   },
   {
    "duration": 0,
    "start_time": "2025-02-12T21:57:28.066Z"
   },
   {
    "duration": 7,
    "start_time": "2025-02-12T21:58:01.391Z"
   },
   {
    "duration": 0,
    "start_time": "2025-02-12T21:58:01.400Z"
   },
   {
    "duration": 0,
    "start_time": "2025-02-12T21:58:01.401Z"
   },
   {
    "duration": 0,
    "start_time": "2025-02-12T21:58:01.402Z"
   },
   {
    "duration": 0,
    "start_time": "2025-02-12T21:58:01.403Z"
   },
   {
    "duration": 0,
    "start_time": "2025-02-12T21:58:01.404Z"
   },
   {
    "duration": 0,
    "start_time": "2025-02-12T21:58:01.405Z"
   },
   {
    "duration": 2,
    "start_time": "2025-02-12T21:58:01.408Z"
   },
   {
    "duration": 854,
    "start_time": "2025-02-12T21:58:19.885Z"
   },
   {
    "duration": 830,
    "start_time": "2025-02-12T21:58:25.415Z"
   },
   {
    "duration": 223,
    "start_time": "2025-02-12T21:58:26.247Z"
   },
   {
    "duration": 2,
    "start_time": "2025-02-12T21:58:26.472Z"
   },
   {
    "duration": 10,
    "start_time": "2025-02-12T21:58:26.476Z"
   },
   {
    "duration": 39,
    "start_time": "2025-02-12T21:58:26.488Z"
   },
   {
    "duration": 22,
    "start_time": "2025-02-12T21:58:26.529Z"
   },
   {
    "duration": 20,
    "start_time": "2025-02-12T21:58:26.553Z"
   },
   {
    "duration": 2,
    "start_time": "2025-02-12T21:58:26.575Z"
   },
   {
    "duration": 886,
    "start_time": "2025-02-12T21:59:44.851Z"
   },
   {
    "duration": 234,
    "start_time": "2025-02-12T21:59:45.739Z"
   },
   {
    "duration": 2,
    "start_time": "2025-02-12T21:59:45.975Z"
   },
   {
    "duration": 10,
    "start_time": "2025-02-12T21:59:45.979Z"
   },
   {
    "duration": 35,
    "start_time": "2025-02-12T21:59:45.992Z"
   },
   {
    "duration": 22,
    "start_time": "2025-02-12T21:59:46.029Z"
   },
   {
    "duration": 21,
    "start_time": "2025-02-12T21:59:46.052Z"
   },
   {
    "duration": 3,
    "start_time": "2025-02-12T21:59:46.075Z"
   },
   {
    "duration": 1213,
    "start_time": "2025-02-12T22:49:57.524Z"
   },
   {
    "duration": 0,
    "start_time": "2025-02-12T22:49:58.739Z"
   },
   {
    "duration": 0,
    "start_time": "2025-02-12T22:49:58.740Z"
   },
   {
    "duration": 0,
    "start_time": "2025-02-12T22:49:58.741Z"
   },
   {
    "duration": 0,
    "start_time": "2025-02-12T22:49:58.742Z"
   },
   {
    "duration": 0,
    "start_time": "2025-02-12T22:49:58.743Z"
   },
   {
    "duration": 0,
    "start_time": "2025-02-12T22:49:58.744Z"
   },
   {
    "duration": 0,
    "start_time": "2025-02-12T22:49:58.745Z"
   },
   {
    "duration": 908,
    "start_time": "2025-02-12T22:53:04.244Z"
   },
   {
    "duration": 225,
    "start_time": "2025-02-12T22:53:05.155Z"
   },
   {
    "duration": 3,
    "start_time": "2025-02-12T22:53:05.382Z"
   },
   {
    "duration": 10,
    "start_time": "2025-02-12T22:53:05.387Z"
   },
   {
    "duration": 5,
    "start_time": "2025-02-12T22:53:05.399Z"
   },
   {
    "duration": 0,
    "start_time": "2025-02-12T22:53:05.405Z"
   },
   {
    "duration": 0,
    "start_time": "2025-02-12T22:53:05.407Z"
   },
   {
    "duration": 0,
    "start_time": "2025-02-12T22:53:05.424Z"
   },
   {
    "duration": 871,
    "start_time": "2025-02-12T22:53:20.770Z"
   },
   {
    "duration": 222,
    "start_time": "2025-02-12T22:53:21.643Z"
   },
   {
    "duration": 2,
    "start_time": "2025-02-12T22:53:21.867Z"
   },
   {
    "duration": 14,
    "start_time": "2025-02-12T22:53:21.871Z"
   },
   {
    "duration": 39,
    "start_time": "2025-02-12T22:53:21.888Z"
   },
   {
    "duration": 7,
    "start_time": "2025-02-12T22:53:21.929Z"
   },
   {
    "duration": 0,
    "start_time": "2025-02-12T22:53:21.938Z"
   },
   {
    "duration": 0,
    "start_time": "2025-02-12T22:53:21.939Z"
   },
   {
    "duration": 850,
    "start_time": "2025-02-12T22:53:38.699Z"
   },
   {
    "duration": 220,
    "start_time": "2025-02-12T22:53:39.551Z"
   },
   {
    "duration": 2,
    "start_time": "2025-02-12T22:53:39.773Z"
   },
   {
    "duration": 11,
    "start_time": "2025-02-12T22:53:39.777Z"
   },
   {
    "duration": 36,
    "start_time": "2025-02-12T22:53:39.790Z"
   },
   {
    "duration": 23,
    "start_time": "2025-02-12T22:53:39.827Z"
   },
   {
    "duration": 21,
    "start_time": "2025-02-12T22:53:39.852Z"
   },
   {
    "duration": 2,
    "start_time": "2025-02-12T22:53:39.875Z"
   },
   {
    "duration": 6,
    "start_time": "2025-02-12T23:15:31.568Z"
   },
   {
    "duration": 8,
    "start_time": "2025-02-12T23:19:55.445Z"
   },
   {
    "duration": 5,
    "start_time": "2025-02-12T23:20:29.292Z"
   },
   {
    "duration": 23,
    "start_time": "2025-02-12T23:20:43.116Z"
   },
   {
    "duration": 5,
    "start_time": "2025-02-12T23:20:49.867Z"
   },
   {
    "duration": 19,
    "start_time": "2025-02-12T23:20:51.984Z"
   },
   {
    "duration": 19,
    "start_time": "2025-02-12T23:21:11.903Z"
   },
   {
    "duration": 24,
    "start_time": "2025-02-12T23:21:21.179Z"
   },
   {
    "duration": 2,
    "start_time": "2025-02-12T23:24:38.430Z"
   },
   {
    "duration": 6,
    "start_time": "2025-02-12T23:28:27.166Z"
   },
   {
    "duration": 3,
    "start_time": "2025-02-12T23:36:35.363Z"
   },
   {
    "duration": 3,
    "start_time": "2025-02-12T23:36:49.526Z"
   },
   {
    "duration": 5,
    "start_time": "2025-02-12T23:44:22.456Z"
   },
   {
    "duration": 3,
    "start_time": "2025-02-12T23:44:24.904Z"
   },
   {
    "duration": 2,
    "start_time": "2025-02-12T23:46:28.564Z"
   },
   {
    "duration": 4,
    "start_time": "2025-02-12T23:46:30.620Z"
   },
   {
    "duration": 4,
    "start_time": "2025-02-12T23:46:32.779Z"
   },
   {
    "duration": 4,
    "start_time": "2025-02-12T23:46:36.054Z"
   },
   {
    "duration": 2,
    "start_time": "2025-02-12T23:46:54.767Z"
   },
   {
    "duration": 3,
    "start_time": "2025-02-12T23:47:00.423Z"
   },
   {
    "duration": 4,
    "start_time": "2025-02-12T23:47:01.281Z"
   },
   {
    "duration": 3,
    "start_time": "2025-02-12T23:47:02.205Z"
   },
   {
    "duration": 3,
    "start_time": "2025-02-12T23:47:08.704Z"
   },
   {
    "duration": 3,
    "start_time": "2025-02-12T23:47:10.075Z"
   },
   {
    "duration": 3,
    "start_time": "2025-02-12T23:47:10.967Z"
   },
   {
    "duration": 4,
    "start_time": "2025-02-12T23:47:11.840Z"
   },
   {
    "duration": 4,
    "start_time": "2025-02-12T23:47:13.761Z"
   },
   {
    "duration": 3,
    "start_time": "2025-02-12T23:51:13.534Z"
   },
   {
    "duration": 6,
    "start_time": "2025-02-12T23:51:15.379Z"
   },
   {
    "duration": 3,
    "start_time": "2025-02-12T23:54:11.121Z"
   },
   {
    "duration": 4,
    "start_time": "2025-02-12T23:54:14.009Z"
   },
   {
    "duration": 3,
    "start_time": "2025-02-12T23:54:16.365Z"
   },
   {
    "duration": 4,
    "start_time": "2025-02-12T23:54:18.483Z"
   },
   {
    "duration": 138,
    "start_time": "2025-02-12T23:55:58.696Z"
   },
   {
    "duration": 3,
    "start_time": "2025-02-12T23:56:02.687Z"
   },
   {
    "duration": 3,
    "start_time": "2025-02-12T23:56:24.610Z"
   },
   {
    "duration": 13,
    "start_time": "2025-02-12T23:57:25.280Z"
   },
   {
    "duration": 4,
    "start_time": "2025-02-12T23:57:26.354Z"
   },
   {
    "duration": 13,
    "start_time": "2025-02-12T23:57:34.559Z"
   },
   {
    "duration": 5,
    "start_time": "2025-02-12T23:57:35.788Z"
   },
   {
    "duration": 16,
    "start_time": "2025-02-12T23:57:39.535Z"
   },
   {
    "duration": 12,
    "start_time": "2025-02-12T23:57:43.998Z"
   },
   {
    "duration": 13,
    "start_time": "2025-02-12T23:57:54.044Z"
   },
   {
    "duration": 14,
    "start_time": "2025-02-12T23:57:59.541Z"
   },
   {
    "duration": 4,
    "start_time": "2025-02-12T23:58:05.433Z"
   },
   {
    "duration": 13,
    "start_time": "2025-02-12T23:58:09.900Z"
   },
   {
    "duration": 4,
    "start_time": "2025-02-12T23:58:10.860Z"
   },
   {
    "duration": 4,
    "start_time": "2025-02-12T23:58:21.871Z"
   },
   {
    "duration": 24,
    "start_time": "2025-02-12T23:58:40.407Z"
   },
   {
    "duration": 4,
    "start_time": "2025-02-12T23:58:42.767Z"
   },
   {
    "duration": 16,
    "start_time": "2025-02-12T23:58:50.209Z"
   },
   {
    "duration": 4,
    "start_time": "2025-02-12T23:58:51.604Z"
   },
   {
    "duration": 15,
    "start_time": "2025-02-12T23:59:01.557Z"
   },
   {
    "duration": 5,
    "start_time": "2025-02-12T23:59:02.622Z"
   },
   {
    "duration": 402,
    "start_time": "2025-02-12T23:59:31.732Z"
   },
   {
    "duration": 51,
    "start_time": "2025-02-12T23:59:41.922Z"
   },
   {
    "duration": 388,
    "start_time": "2025-02-12T23:59:52.197Z"
   },
   {
    "duration": 255,
    "start_time": "2025-02-12T23:59:57.557Z"
   },
   {
    "duration": 6,
    "start_time": "2025-02-13T00:00:41.101Z"
   },
   {
    "duration": 15,
    "start_time": "2025-02-13T00:00:43.126Z"
   },
   {
    "duration": 5,
    "start_time": "2025-02-13T00:00:45.390Z"
   },
   {
    "duration": 4,
    "start_time": "2025-02-13T00:00:53.993Z"
   },
   {
    "duration": 4,
    "start_time": "2025-02-13T00:14:15.027Z"
   },
   {
    "duration": 3,
    "start_time": "2025-02-13T00:14:19.092Z"
   },
   {
    "duration": 4,
    "start_time": "2025-02-13T00:14:22.341Z"
   },
   {
    "duration": 14,
    "start_time": "2025-02-13T00:14:35.513Z"
   },
   {
    "duration": 3,
    "start_time": "2025-02-13T00:14:46.887Z"
   },
   {
    "duration": 15,
    "start_time": "2025-02-13T00:14:47.848Z"
   },
   {
    "duration": 3,
    "start_time": "2025-02-13T00:14:56.864Z"
   },
   {
    "duration": 15,
    "start_time": "2025-02-13T00:14:58.369Z"
   },
   {
    "duration": 10,
    "start_time": "2025-02-13T00:33:28.542Z"
   },
   {
    "duration": 15,
    "start_time": "2025-02-13T00:33:42.106Z"
   },
   {
    "duration": 10,
    "start_time": "2025-02-13T00:33:55.919Z"
   },
   {
    "duration": 16,
    "start_time": "2025-02-13T00:34:13.763Z"
   },
   {
    "duration": 3,
    "start_time": "2025-02-13T00:36:03.429Z"
   },
   {
    "duration": 16,
    "start_time": "2025-02-13T00:36:06.045Z"
   },
   {
    "duration": 12,
    "start_time": "2025-02-13T00:36:09.343Z"
   },
   {
    "duration": 15,
    "start_time": "2025-02-13T00:36:12.184Z"
   },
   {
    "duration": 2,
    "start_time": "2025-02-13T00:39:52.346Z"
   },
   {
    "duration": 181,
    "start_time": "2025-02-13T00:39:54.605Z"
   },
   {
    "duration": 3,
    "start_time": "2025-02-13T00:39:57.919Z"
   },
   {
    "duration": 3,
    "start_time": "2025-02-13T00:40:13.099Z"
   },
   {
    "duration": 49,
    "start_time": "2025-02-13T00:40:14.825Z"
   },
   {
    "duration": 14,
    "start_time": "2025-02-13T00:40:44.813Z"
   },
   {
    "duration": 4,
    "start_time": "2025-02-13T00:40:59.020Z"
   },
   {
    "duration": 6,
    "start_time": "2025-02-13T00:42:23.011Z"
   },
   {
    "duration": 30,
    "start_time": "2025-02-13T00:42:24.284Z"
   },
   {
    "duration": 5,
    "start_time": "2025-02-13T00:42:48.024Z"
   },
   {
    "duration": 24,
    "start_time": "2025-02-13T00:42:50.562Z"
   },
   {
    "duration": 5,
    "start_time": "2025-02-13T00:45:37.479Z"
   },
   {
    "duration": 24,
    "start_time": "2025-02-13T00:45:39.337Z"
   },
   {
    "duration": 23,
    "start_time": "2025-02-13T00:45:58.891Z"
   },
   {
    "duration": 3,
    "start_time": "2025-02-13T00:46:50.063Z"
   },
   {
    "duration": 23,
    "start_time": "2025-02-13T00:47:36.654Z"
   },
   {
    "duration": 23,
    "start_time": "2025-02-13T00:47:49.121Z"
   },
   {
    "duration": 4,
    "start_time": "2025-02-13T00:49:50.119Z"
   },
   {
    "duration": 3,
    "start_time": "2025-02-13T00:50:43.888Z"
   },
   {
    "duration": 118,
    "start_time": "2025-02-13T00:50:53.737Z"
   },
   {
    "duration": 3,
    "start_time": "2025-02-13T00:51:22.582Z"
   },
   {
    "duration": 34,
    "start_time": "2025-02-13T00:51:24.140Z"
   },
   {
    "duration": 3,
    "start_time": "2025-02-13T00:51:33.562Z"
   },
   {
    "duration": 5,
    "start_time": "2025-02-13T00:51:34.681Z"
   },
   {
    "duration": 22,
    "start_time": "2025-02-13T00:51:46.003Z"
   },
   {
    "duration": 4,
    "start_time": "2025-02-13T00:51:53.460Z"
   },
   {
    "duration": 4,
    "start_time": "2025-02-13T00:52:03.028Z"
   },
   {
    "duration": 937,
    "start_time": "2025-02-13T01:13:30.354Z"
   },
   {
    "duration": 272,
    "start_time": "2025-02-13T01:13:31.294Z"
   },
   {
    "duration": 3,
    "start_time": "2025-02-13T01:13:31.567Z"
   },
   {
    "duration": 10,
    "start_time": "2025-02-13T01:13:31.572Z"
   },
   {
    "duration": 4,
    "start_time": "2025-02-13T01:13:31.584Z"
   },
   {
    "duration": 359,
    "start_time": "2025-02-13T01:13:31.590Z"
   },
   {
    "duration": 0,
    "start_time": "2025-02-13T01:13:31.951Z"
   },
   {
    "duration": 0,
    "start_time": "2025-02-13T01:13:31.952Z"
   },
   {
    "duration": 0,
    "start_time": "2025-02-13T01:13:31.953Z"
   },
   {
    "duration": 0,
    "start_time": "2025-02-13T01:13:31.954Z"
   },
   {
    "duration": 0,
    "start_time": "2025-02-13T01:13:31.955Z"
   },
   {
    "duration": 0,
    "start_time": "2025-02-13T01:13:31.956Z"
   },
   {
    "duration": 0,
    "start_time": "2025-02-13T01:13:31.957Z"
   },
   {
    "duration": 0,
    "start_time": "2025-02-13T01:13:31.958Z"
   },
   {
    "duration": 0,
    "start_time": "2025-02-13T01:13:31.959Z"
   },
   {
    "duration": 0,
    "start_time": "2025-02-13T01:13:31.960Z"
   },
   {
    "duration": 0,
    "start_time": "2025-02-13T01:13:31.961Z"
   },
   {
    "duration": 0,
    "start_time": "2025-02-13T01:13:31.962Z"
   },
   {
    "duration": 934,
    "start_time": "2025-02-13T01:13:55.721Z"
   },
   {
    "duration": 254,
    "start_time": "2025-02-13T01:13:56.658Z"
   },
   {
    "duration": 3,
    "start_time": "2025-02-13T01:13:56.913Z"
   },
   {
    "duration": 11,
    "start_time": "2025-02-13T01:13:56.918Z"
   },
   {
    "duration": 6,
    "start_time": "2025-02-13T01:13:56.931Z"
   },
   {
    "duration": 27,
    "start_time": "2025-02-13T01:13:56.939Z"
   },
   {
    "duration": 19,
    "start_time": "2025-02-13T01:13:56.967Z"
   },
   {
    "duration": 20,
    "start_time": "2025-02-13T01:13:56.988Z"
   },
   {
    "duration": 16,
    "start_time": "2025-02-13T01:13:57.035Z"
   },
   {
    "duration": 3,
    "start_time": "2025-02-13T01:13:57.053Z"
   },
   {
    "duration": 3,
    "start_time": "2025-02-13T01:13:57.058Z"
   },
   {
    "duration": 4,
    "start_time": "2025-02-13T01:13:57.063Z"
   },
   {
    "duration": 3,
    "start_time": "2025-02-13T01:13:57.069Z"
   },
   {
    "duration": 3,
    "start_time": "2025-02-13T01:13:57.075Z"
   },
   {
    "duration": 0,
    "start_time": "2025-02-13T01:13:57.080Z"
   },
   {
    "duration": 0,
    "start_time": "2025-02-13T01:13:57.081Z"
   },
   {
    "duration": 0,
    "start_time": "2025-02-13T01:13:57.082Z"
   },
   {
    "duration": 0,
    "start_time": "2025-02-13T01:13:57.083Z"
   },
   {
    "duration": 3,
    "start_time": "2025-02-13T01:14:49.896Z"
   },
   {
    "duration": 355,
    "start_time": "2025-02-13T01:14:51.102Z"
   },
   {
    "duration": 5,
    "start_time": "2025-02-13T01:15:01.676Z"
   },
   {
    "duration": 4,
    "start_time": "2025-02-13T01:15:14.382Z"
   },
   {
    "duration": 3,
    "start_time": "2025-02-13T01:15:21.409Z"
   },
   {
    "duration": 41,
    "start_time": "2025-02-13T01:15:22.708Z"
   },
   {
    "duration": 2,
    "start_time": "2025-02-13T01:15:36.122Z"
   },
   {
    "duration": 19,
    "start_time": "2025-02-13T01:15:37.402Z"
   },
   {
    "duration": 3,
    "start_time": "2025-02-13T01:16:26.759Z"
   },
   {
    "duration": 4,
    "start_time": "2025-02-13T01:16:29.507Z"
   },
   {
    "duration": 3,
    "start_time": "2025-02-13T01:18:03.808Z"
   },
   {
    "duration": 36,
    "start_time": "2025-02-13T01:18:05.110Z"
   },
   {
    "duration": 3,
    "start_time": "2025-02-13T01:19:20.559Z"
   },
   {
    "duration": 5,
    "start_time": "2025-02-13T01:19:22.727Z"
   },
   {
    "duration": 8,
    "start_time": "2025-02-13T01:19:52.380Z"
   },
   {
    "duration": 3,
    "start_time": "2025-02-13T01:19:58.199Z"
   },
   {
    "duration": 3,
    "start_time": "2025-02-13T01:45:03.988Z"
   },
   {
    "duration": 6,
    "start_time": "2025-02-13T01:45:17.533Z"
   },
   {
    "duration": 4,
    "start_time": "2025-02-13T01:45:21.380Z"
   },
   {
    "duration": 4,
    "start_time": "2025-02-13T01:45:24.788Z"
   },
   {
    "duration": 930,
    "start_time": "2025-02-13T01:46:10.066Z"
   },
   {
    "duration": 262,
    "start_time": "2025-02-13T01:46:10.998Z"
   },
   {
    "duration": 3,
    "start_time": "2025-02-13T01:46:11.262Z"
   },
   {
    "duration": 15,
    "start_time": "2025-02-13T01:46:11.267Z"
   },
   {
    "duration": 7,
    "start_time": "2025-02-13T01:46:11.286Z"
   },
   {
    "duration": 48,
    "start_time": "2025-02-13T01:46:11.295Z"
   },
   {
    "duration": 106,
    "start_time": "2025-02-13T01:46:11.345Z"
   },
   {
    "duration": 105,
    "start_time": "2025-02-13T01:46:11.453Z"
   },
   {
    "duration": 65,
    "start_time": "2025-02-13T01:46:11.560Z"
   },
   {
    "duration": 3,
    "start_time": "2025-02-13T01:46:11.628Z"
   },
   {
    "duration": 5,
    "start_time": "2025-02-13T01:46:11.634Z"
   },
   {
    "duration": 5,
    "start_time": "2025-02-13T01:46:11.642Z"
   },
   {
    "duration": 6,
    "start_time": "2025-02-13T01:46:11.650Z"
   },
   {
    "duration": 4,
    "start_time": "2025-02-13T01:46:11.724Z"
   },
   {
    "duration": 6,
    "start_time": "2025-02-13T01:46:11.730Z"
   },
   {
    "duration": 6,
    "start_time": "2025-02-13T01:46:11.738Z"
   },
   {
    "duration": 7,
    "start_time": "2025-02-13T01:46:11.746Z"
   },
   {
    "duration": 989,
    "start_time": "2025-02-13T01:46:22.635Z"
   },
   {
    "duration": 223,
    "start_time": "2025-02-13T01:46:23.628Z"
   },
   {
    "duration": 9,
    "start_time": "2025-02-13T01:46:23.854Z"
   },
   {
    "duration": 17,
    "start_time": "2025-02-13T01:46:23.864Z"
   },
   {
    "duration": 8,
    "start_time": "2025-02-13T01:46:23.886Z"
   },
   {
    "duration": 29,
    "start_time": "2025-02-13T01:46:23.899Z"
   },
   {
    "duration": 99,
    "start_time": "2025-02-13T01:46:23.930Z"
   },
   {
    "duration": 103,
    "start_time": "2025-02-13T01:46:24.031Z"
   },
   {
    "duration": 3,
    "start_time": "2025-02-13T01:46:24.137Z"
   },
   {
    "duration": 3,
    "start_time": "2025-02-13T01:46:24.142Z"
   },
   {
    "duration": 4,
    "start_time": "2025-02-13T01:46:24.147Z"
   },
   {
    "duration": 3,
    "start_time": "2025-02-13T01:46:24.153Z"
   },
   {
    "duration": 5,
    "start_time": "2025-02-13T01:46:24.226Z"
   },
   {
    "duration": 3,
    "start_time": "2025-02-13T01:46:24.235Z"
   },
   {
    "duration": 7,
    "start_time": "2025-02-13T01:46:24.240Z"
   },
   {
    "duration": 5,
    "start_time": "2025-02-13T01:46:24.249Z"
   },
   {
    "duration": 7,
    "start_time": "2025-02-13T01:46:24.256Z"
   },
   {
    "duration": 3,
    "start_time": "2025-02-13T02:03:35.167Z"
   },
   {
    "duration": 7,
    "start_time": "2025-02-13T02:03:35.956Z"
   },
   {
    "duration": 9,
    "start_time": "2025-02-13T02:03:37.366Z"
   },
   {
    "duration": 7,
    "start_time": "2025-02-13T02:03:43.988Z"
   },
   {
    "duration": 6,
    "start_time": "2025-02-13T02:04:10.730Z"
   },
   {
    "duration": 3,
    "start_time": "2025-02-13T02:04:11.699Z"
   },
   {
    "duration": 7,
    "start_time": "2025-02-13T02:04:13.595Z"
   },
   {
    "duration": 8,
    "start_time": "2025-02-13T02:04:14.593Z"
   },
   {
    "duration": 4,
    "start_time": "2025-02-13T02:04:31.175Z"
   },
   {
    "duration": 9,
    "start_time": "2025-02-13T02:04:32.192Z"
   },
   {
    "duration": 3,
    "start_time": "2025-02-13T02:14:23.315Z"
   },
   {
    "duration": 298,
    "start_time": "2025-02-13T02:14:24.348Z"
   },
   {
    "duration": 5,
    "start_time": "2025-02-13T02:14:39.288Z"
   },
   {
    "duration": 21,
    "start_time": "2025-02-13T02:14:40.779Z"
   },
   {
    "duration": 10,
    "start_time": "2025-02-13T02:14:58.481Z"
   },
   {
    "duration": 12,
    "start_time": "2025-02-13T02:14:59.467Z"
   },
   {
    "duration": 4,
    "start_time": "2025-02-13T02:16:29.804Z"
   },
   {
    "duration": 11,
    "start_time": "2025-02-13T02:16:33.110Z"
   },
   {
    "duration": 3,
    "start_time": "2025-02-13T02:16:56.995Z"
   },
   {
    "duration": 12,
    "start_time": "2025-02-13T02:16:58.493Z"
   },
   {
    "duration": 163,
    "start_time": "2025-02-13T17:24:26.056Z"
   },
   {
    "duration": 16,
    "start_time": "2025-02-13T17:24:43.469Z"
   },
   {
    "duration": 2668,
    "start_time": "2025-02-13T17:24:51.550Z"
   },
   {
    "duration": 307,
    "start_time": "2025-02-13T17:24:54.220Z"
   },
   {
    "duration": 3,
    "start_time": "2025-02-13T17:24:54.528Z"
   },
   {
    "duration": 11,
    "start_time": "2025-02-13T17:24:54.532Z"
   },
   {
    "duration": 5,
    "start_time": "2025-02-13T17:24:54.545Z"
   },
   {
    "duration": 30,
    "start_time": "2025-02-13T17:24:54.552Z"
   },
   {
    "duration": 80,
    "start_time": "2025-02-13T17:24:54.584Z"
   },
   {
    "duration": 97,
    "start_time": "2025-02-13T17:24:54.665Z"
   },
   {
    "duration": 78,
    "start_time": "2025-02-13T17:24:54.766Z"
   },
   {
    "duration": 8,
    "start_time": "2025-02-13T17:24:54.845Z"
   },
   {
    "duration": 5,
    "start_time": "2025-02-13T17:24:54.857Z"
   },
   {
    "duration": 3,
    "start_time": "2025-02-13T17:24:54.864Z"
   },
   {
    "duration": 5,
    "start_time": "2025-02-13T17:24:54.868Z"
   },
   {
    "duration": 68,
    "start_time": "2025-02-13T17:24:54.875Z"
   },
   {
    "duration": 10,
    "start_time": "2025-02-13T17:24:54.944Z"
   },
   {
    "duration": 9,
    "start_time": "2025-02-13T17:24:54.956Z"
   },
   {
    "duration": 8,
    "start_time": "2025-02-13T17:24:54.967Z"
   },
   {
    "duration": 299,
    "start_time": "2025-02-13T17:24:54.977Z"
   },
   {
    "duration": 21,
    "start_time": "2025-02-13T17:25:20.811Z"
   },
   {
    "duration": 21,
    "start_time": "2025-02-13T17:25:49.265Z"
   },
   {
    "duration": 20,
    "start_time": "2025-02-13T17:27:01.065Z"
   },
   {
    "duration": 123,
    "start_time": "2025-02-13T17:29:55.159Z"
   },
   {
    "duration": 3,
    "start_time": "2025-02-13T17:30:23.506Z"
   },
   {
    "duration": 3,
    "start_time": "2025-02-13T17:30:35.565Z"
   },
   {
    "duration": 14,
    "start_time": "2025-02-13T17:39:34.019Z"
   },
   {
    "duration": 3,
    "start_time": "2025-02-13T17:39:53.516Z"
   },
   {
    "duration": 20,
    "start_time": "2025-02-13T17:40:36.452Z"
   },
   {
    "duration": 19,
    "start_time": "2025-02-13T17:41:47.816Z"
   },
   {
    "duration": 21,
    "start_time": "2025-02-13T17:42:06.432Z"
   },
   {
    "duration": 21,
    "start_time": "2025-02-13T17:43:12.679Z"
   },
   {
    "duration": 18,
    "start_time": "2025-02-13T17:44:42.992Z"
   },
   {
    "duration": 3775,
    "start_time": "2025-02-13T17:45:44.567Z"
   },
   {
    "duration": 3,
    "start_time": "2025-02-13T17:51:07.900Z"
   },
   {
    "duration": 3299,
    "start_time": "2025-02-13T17:54:14.995Z"
   },
   {
    "duration": 3747,
    "start_time": "2025-02-13T18:11:26.663Z"
   },
   {
    "duration": 14,
    "start_time": "2025-02-13T18:24:24.981Z"
   },
   {
    "duration": 7,
    "start_time": "2025-02-13T18:24:32.157Z"
   },
   {
    "duration": 3,
    "start_time": "2025-02-13T18:24:36.299Z"
   },
   {
    "duration": 723,
    "start_time": "2025-02-13T18:31:39.267Z"
   },
   {
    "duration": 704,
    "start_time": "2025-02-13T18:35:55.554Z"
   },
   {
    "duration": 715,
    "start_time": "2025-02-13T18:38:24.092Z"
   },
   {
    "duration": 773,
    "start_time": "2025-02-13T18:38:29.770Z"
   },
   {
    "duration": 758,
    "start_time": "2025-02-13T18:39:47.323Z"
   },
   {
    "duration": 749,
    "start_time": "2025-02-13T18:50:12.619Z"
   },
   {
    "duration": 761,
    "start_time": "2025-02-13T18:50:26.306Z"
   },
   {
    "duration": 718,
    "start_time": "2025-02-13T18:56:51.643Z"
   },
   {
    "duration": 21,
    "start_time": "2025-02-13T19:04:45.901Z"
   },
   {
    "duration": 21,
    "start_time": "2025-02-13T19:05:13.874Z"
   },
   {
    "duration": 851,
    "start_time": "2025-02-13T19:05:27.739Z"
   },
   {
    "duration": 210,
    "start_time": "2025-02-13T19:05:28.592Z"
   },
   {
    "duration": 3,
    "start_time": "2025-02-13T19:05:28.803Z"
   },
   {
    "duration": 10,
    "start_time": "2025-02-13T19:05:28.807Z"
   },
   {
    "duration": 4,
    "start_time": "2025-02-13T19:05:28.820Z"
   },
   {
    "duration": 35,
    "start_time": "2025-02-13T19:05:28.826Z"
   },
   {
    "duration": 87,
    "start_time": "2025-02-13T19:05:28.863Z"
   },
   {
    "duration": 96,
    "start_time": "2025-02-13T19:05:28.952Z"
   },
   {
    "duration": 3,
    "start_time": "2025-02-13T19:05:29.050Z"
   },
   {
    "duration": 4,
    "start_time": "2025-02-13T19:05:29.054Z"
   },
   {
    "duration": 3,
    "start_time": "2025-02-13T19:05:29.060Z"
   },
   {
    "duration": 4,
    "start_time": "2025-02-13T19:05:29.064Z"
   },
   {
    "duration": 3,
    "start_time": "2025-02-13T19:05:29.144Z"
   },
   {
    "duration": 4,
    "start_time": "2025-02-13T19:05:29.150Z"
   },
   {
    "duration": 3,
    "start_time": "2025-02-13T19:05:29.156Z"
   },
   {
    "duration": 11,
    "start_time": "2025-02-13T19:05:29.160Z"
   },
   {
    "duration": 9,
    "start_time": "2025-02-13T19:05:29.173Z"
   },
   {
    "duration": 9,
    "start_time": "2025-02-13T19:05:29.183Z"
   },
   {
    "duration": 352,
    "start_time": "2025-02-13T19:05:29.193Z"
   },
   {
    "duration": 0,
    "start_time": "2025-02-13T19:05:29.547Z"
   },
   {
    "duration": 0,
    "start_time": "2025-02-13T19:05:29.548Z"
   },
   {
    "duration": 732,
    "start_time": "2025-02-13T19:05:42.540Z"
   },
   {
    "duration": 725,
    "start_time": "2025-02-13T19:06:49.280Z"
   },
   {
    "duration": 706,
    "start_time": "2025-02-13T19:07:15.579Z"
   },
   {
    "duration": 162,
    "start_time": "2025-02-13T21:50:08.146Z"
   },
   {
    "duration": 2623,
    "start_time": "2025-02-13T21:50:15.865Z"
   },
   {
    "duration": 305,
    "start_time": "2025-02-13T21:50:18.490Z"
   },
   {
    "duration": 3,
    "start_time": "2025-02-13T21:50:18.796Z"
   },
   {
    "duration": 12,
    "start_time": "2025-02-13T21:50:18.800Z"
   },
   {
    "duration": 4,
    "start_time": "2025-02-13T21:50:18.815Z"
   },
   {
    "duration": 39,
    "start_time": "2025-02-13T21:50:18.821Z"
   },
   {
    "duration": 100,
    "start_time": "2025-02-13T21:50:18.862Z"
   },
   {
    "duration": 106,
    "start_time": "2025-02-13T21:50:18.965Z"
   },
   {
    "duration": 69,
    "start_time": "2025-02-13T21:50:19.074Z"
   },
   {
    "duration": 6,
    "start_time": "2025-02-13T21:50:19.145Z"
   },
   {
    "duration": 4,
    "start_time": "2025-02-13T21:50:19.157Z"
   },
   {
    "duration": 6,
    "start_time": "2025-02-13T21:50:19.163Z"
   },
   {
    "duration": 3,
    "start_time": "2025-02-13T21:50:19.171Z"
   },
   {
    "duration": 3,
    "start_time": "2025-02-13T21:50:19.245Z"
   },
   {
    "duration": 4,
    "start_time": "2025-02-13T21:50:19.250Z"
   },
   {
    "duration": 14,
    "start_time": "2025-02-13T21:50:19.255Z"
   },
   {
    "duration": 9,
    "start_time": "2025-02-13T21:50:19.270Z"
   },
   {
    "duration": 9,
    "start_time": "2025-02-13T21:50:19.280Z"
   },
   {
    "duration": 784,
    "start_time": "2025-02-13T21:50:19.291Z"
   },
   {
    "duration": 761,
    "start_time": "2025-02-13T21:50:20.077Z"
   },
   {
    "duration": 753,
    "start_time": "2025-02-13T21:50:20.843Z"
   },
   {
    "duration": 2,
    "start_time": "2025-02-13T21:50:21.598Z"
   },
   {
    "duration": 3,
    "start_time": "2025-02-13T21:50:21.602Z"
   },
   {
    "duration": 7,
    "start_time": "2025-02-13T22:05:04.862Z"
   },
   {
    "duration": 725,
    "start_time": "2025-02-13T22:13:05.019Z"
   },
   {
    "duration": 715,
    "start_time": "2025-02-13T22:13:09.490Z"
   },
   {
    "duration": 8,
    "start_time": "2025-02-13T22:19:44.916Z"
   },
   {
    "duration": 4,
    "start_time": "2025-02-13T22:19:51.117Z"
   },
   {
    "duration": 3,
    "start_time": "2025-02-13T22:20:00.231Z"
   },
   {
    "duration": 219,
    "start_time": "2025-02-13T22:20:04.194Z"
   },
   {
    "duration": 13,
    "start_time": "2025-02-13T22:20:14.217Z"
   },
   {
    "duration": 8,
    "start_time": "2025-02-13T22:20:29.925Z"
   },
   {
    "duration": 743,
    "start_time": "2025-02-13T22:20:32.903Z"
   },
   {
    "duration": 763,
    "start_time": "2025-02-13T22:21:06.896Z"
   },
   {
    "duration": 7,
    "start_time": "2025-02-13T22:22:53.115Z"
   },
   {
    "duration": 5,
    "start_time": "2025-02-13T22:23:24.319Z"
   },
   {
    "duration": 7,
    "start_time": "2025-02-13T22:23:40.716Z"
   },
   {
    "duration": 8,
    "start_time": "2025-02-13T22:24:25.255Z"
   },
   {
    "duration": 826,
    "start_time": "2025-02-13T22:24:29.428Z"
   },
   {
    "duration": 747,
    "start_time": "2025-02-13T22:24:31.752Z"
   },
   {
    "duration": 730,
    "start_time": "2025-02-13T22:24:32.857Z"
   },
   {
    "duration": 5,
    "start_time": "2025-02-13T22:24:59.082Z"
   },
   {
    "duration": 6,
    "start_time": "2025-02-13T22:25:06.551Z"
   },
   {
    "duration": 5,
    "start_time": "2025-02-13T22:25:13.150Z"
   },
   {
    "duration": 3,
    "start_time": "2025-02-13T22:25:17.568Z"
   },
   {
    "duration": 3,
    "start_time": "2025-02-13T22:25:19.690Z"
   },
   {
    "duration": 5,
    "start_time": "2025-02-13T22:25:20.771Z"
   },
   {
    "duration": 723,
    "start_time": "2025-02-13T22:25:22.526Z"
   },
   {
    "duration": 712,
    "start_time": "2025-02-13T22:25:24.178Z"
   },
   {
    "duration": 745,
    "start_time": "2025-02-13T22:25:25.554Z"
   },
   {
    "duration": 4,
    "start_time": "2025-02-13T22:28:19.235Z"
   },
   {
    "duration": 3,
    "start_time": "2025-02-13T22:56:21.766Z"
   },
   {
    "duration": 919,
    "start_time": "2025-02-13T22:57:20.459Z"
   },
   {
    "duration": 220,
    "start_time": "2025-02-13T22:57:21.380Z"
   },
   {
    "duration": 3,
    "start_time": "2025-02-13T22:57:21.601Z"
   },
   {
    "duration": 9,
    "start_time": "2025-02-13T22:57:21.606Z"
   },
   {
    "duration": 4,
    "start_time": "2025-02-13T22:57:21.618Z"
   },
   {
    "duration": 34,
    "start_time": "2025-02-13T22:57:21.624Z"
   },
   {
    "duration": 88,
    "start_time": "2025-02-13T22:57:21.659Z"
   },
   {
    "duration": 97,
    "start_time": "2025-02-13T22:57:21.749Z"
   },
   {
    "duration": 3,
    "start_time": "2025-02-13T22:57:21.848Z"
   },
   {
    "duration": 3,
    "start_time": "2025-02-13T22:57:21.854Z"
   },
   {
    "duration": 3,
    "start_time": "2025-02-13T22:57:21.858Z"
   },
   {
    "duration": 3,
    "start_time": "2025-02-13T22:57:21.863Z"
   },
   {
    "duration": 80,
    "start_time": "2025-02-13T22:57:21.867Z"
   },
   {
    "duration": 3,
    "start_time": "2025-02-13T22:57:21.951Z"
   },
   {
    "duration": 4,
    "start_time": "2025-02-13T22:57:21.956Z"
   },
   {
    "duration": 3,
    "start_time": "2025-02-13T22:57:21.962Z"
   },
   {
    "duration": 318,
    "start_time": "2025-02-13T22:57:21.966Z"
   },
   {
    "duration": 0,
    "start_time": "2025-02-13T22:57:22.285Z"
   },
   {
    "duration": 0,
    "start_time": "2025-02-13T22:57:22.287Z"
   },
   {
    "duration": 0,
    "start_time": "2025-02-13T22:57:22.288Z"
   },
   {
    "duration": 0,
    "start_time": "2025-02-13T22:57:22.289Z"
   },
   {
    "duration": 0,
    "start_time": "2025-02-13T22:57:22.291Z"
   },
   {
    "duration": 0,
    "start_time": "2025-02-13T22:57:22.292Z"
   },
   {
    "duration": 0,
    "start_time": "2025-02-13T22:57:22.293Z"
   },
   {
    "duration": 906,
    "start_time": "2025-02-13T22:57:38.663Z"
   },
   {
    "duration": 222,
    "start_time": "2025-02-13T22:57:39.571Z"
   },
   {
    "duration": 2,
    "start_time": "2025-02-13T22:57:39.795Z"
   },
   {
    "duration": 10,
    "start_time": "2025-02-13T22:57:39.800Z"
   },
   {
    "duration": 4,
    "start_time": "2025-02-13T22:57:39.811Z"
   },
   {
    "duration": 38,
    "start_time": "2025-02-13T22:57:39.818Z"
   },
   {
    "duration": 89,
    "start_time": "2025-02-13T22:57:39.858Z"
   },
   {
    "duration": 103,
    "start_time": "2025-02-13T22:57:39.949Z"
   },
   {
    "duration": 5,
    "start_time": "2025-02-13T22:57:40.056Z"
   },
   {
    "duration": 77,
    "start_time": "2025-02-13T22:57:40.066Z"
   },
   {
    "duration": 6,
    "start_time": "2025-02-13T22:57:40.146Z"
   },
   {
    "duration": 4,
    "start_time": "2025-02-13T22:57:40.155Z"
   },
   {
    "duration": 3,
    "start_time": "2025-02-13T22:57:40.161Z"
   },
   {
    "duration": 4,
    "start_time": "2025-02-13T22:57:40.165Z"
   },
   {
    "duration": 3,
    "start_time": "2025-02-13T22:57:40.171Z"
   },
   {
    "duration": 4,
    "start_time": "2025-02-13T22:57:40.176Z"
   },
   {
    "duration": 11,
    "start_time": "2025-02-13T22:57:40.182Z"
   },
   {
    "duration": 9,
    "start_time": "2025-02-13T22:57:40.243Z"
   },
   {
    "duration": 10,
    "start_time": "2025-02-13T22:57:40.254Z"
   },
   {
    "duration": 5,
    "start_time": "2025-02-13T22:57:40.265Z"
   },
   {
    "duration": 5,
    "start_time": "2025-02-13T22:57:40.271Z"
   },
   {
    "duration": 766,
    "start_time": "2025-02-13T22:57:40.277Z"
   },
   {
    "duration": 737,
    "start_time": "2025-02-13T22:57:41.045Z"
   },
   {
    "duration": 723,
    "start_time": "2025-02-13T22:57:41.784Z"
   },
   {
    "duration": 490,
    "start_time": "2025-02-13T22:58:29.858Z"
   },
   {
    "duration": 807,
    "start_time": "2025-02-13T22:58:43.983Z"
   },
   {
    "duration": 9,
    "start_time": "2025-02-13T22:58:50.197Z"
   },
   {
    "duration": 3,
    "start_time": "2025-02-13T22:59:02.332Z"
   },
   {
    "duration": 6,
    "start_time": "2025-02-13T22:59:09.114Z"
   },
   {
    "duration": 3,
    "start_time": "2025-02-13T23:01:10.908Z"
   },
   {
    "duration": 68,
    "start_time": "2025-02-13T23:01:14.542Z"
   },
   {
    "duration": 3,
    "start_time": "2025-02-13T23:01:57.493Z"
   },
   {
    "duration": 9,
    "start_time": "2025-02-13T23:02:01.540Z"
   },
   {
    "duration": 3,
    "start_time": "2025-02-13T23:03:19.675Z"
   },
   {
    "duration": 14,
    "start_time": "2025-02-13T23:03:32.441Z"
   },
   {
    "duration": 9,
    "start_time": "2025-02-13T23:03:44.690Z"
   },
   {
    "duration": 14,
    "start_time": "2025-02-13T23:04:02.859Z"
   },
   {
    "duration": 9,
    "start_time": "2025-02-13T23:04:08.853Z"
   },
   {
    "duration": 3,
    "start_time": "2025-02-13T23:04:20.978Z"
   },
   {
    "duration": 18,
    "start_time": "2025-02-13T23:04:37.578Z"
   },
   {
    "duration": 7,
    "start_time": "2025-02-13T23:04:49.856Z"
   },
   {
    "duration": 13,
    "start_time": "2025-02-13T23:05:43.110Z"
   },
   {
    "duration": 58,
    "start_time": "2025-02-13T23:05:58.152Z"
   },
   {
    "duration": 59,
    "start_time": "2025-02-13T23:06:10.341Z"
   },
   {
    "duration": 759,
    "start_time": "2025-02-13T23:06:47.002Z"
   },
   {
    "duration": 753,
    "start_time": "2025-02-13T23:06:54.199Z"
   },
   {
    "duration": 725,
    "start_time": "2025-02-13T23:07:08.687Z"
   },
   {
    "duration": 726,
    "start_time": "2025-02-13T23:07:11.907Z"
   },
   {
    "duration": 725,
    "start_time": "2025-02-13T23:07:13.855Z"
   },
   {
    "duration": 926,
    "start_time": "2025-02-13T23:07:22.046Z"
   },
   {
    "duration": 224,
    "start_time": "2025-02-13T23:07:22.975Z"
   },
   {
    "duration": 3,
    "start_time": "2025-02-13T23:07:23.200Z"
   },
   {
    "duration": 10,
    "start_time": "2025-02-13T23:07:23.204Z"
   },
   {
    "duration": 5,
    "start_time": "2025-02-13T23:07:23.217Z"
   },
   {
    "duration": 33,
    "start_time": "2025-02-13T23:07:23.223Z"
   },
   {
    "duration": 90,
    "start_time": "2025-02-13T23:07:23.258Z"
   },
   {
    "duration": 96,
    "start_time": "2025-02-13T23:07:23.350Z"
   },
   {
    "duration": 5,
    "start_time": "2025-02-13T23:07:23.448Z"
   },
   {
    "duration": 3,
    "start_time": "2025-02-13T23:07:23.457Z"
   },
   {
    "duration": 3,
    "start_time": "2025-02-13T23:07:23.462Z"
   },
   {
    "duration": 76,
    "start_time": "2025-02-13T23:07:23.468Z"
   },
   {
    "duration": 3,
    "start_time": "2025-02-13T23:07:23.546Z"
   },
   {
    "duration": 3,
    "start_time": "2025-02-13T23:07:23.552Z"
   },
   {
    "duration": 4,
    "start_time": "2025-02-13T23:07:23.557Z"
   },
   {
    "duration": 3,
    "start_time": "2025-02-13T23:07:23.562Z"
   },
   {
    "duration": 11,
    "start_time": "2025-02-13T23:07:23.567Z"
   },
   {
    "duration": 8,
    "start_time": "2025-02-13T23:07:23.580Z"
   },
   {
    "duration": 53,
    "start_time": "2025-02-13T23:07:23.590Z"
   },
   {
    "duration": 3,
    "start_time": "2025-02-13T23:07:23.646Z"
   },
   {
    "duration": 7,
    "start_time": "2025-02-13T23:07:23.650Z"
   },
   {
    "duration": 15,
    "start_time": "2025-02-13T23:07:23.659Z"
   },
   {
    "duration": 723,
    "start_time": "2025-02-13T23:07:23.675Z"
   },
   {
    "duration": 714,
    "start_time": "2025-02-13T23:07:24.400Z"
   },
   {
    "duration": 721,
    "start_time": "2025-02-13T23:07:25.115Z"
   },
   {
    "duration": 704,
    "start_time": "2025-02-13T23:08:05.528Z"
   },
   {
    "duration": 728,
    "start_time": "2025-02-13T23:08:10.520Z"
   },
   {
    "duration": 3,
    "start_time": "2025-02-13T23:08:26.057Z"
   },
   {
    "duration": 709,
    "start_time": "2025-02-13T23:09:18.357Z"
   },
   {
    "duration": 3,
    "start_time": "2025-02-13T23:18:00.383Z"
   },
   {
    "duration": 5,
    "start_time": "2025-02-13T23:18:12.636Z"
   },
   {
    "duration": 272,
    "start_time": "2025-02-13T23:19:52.107Z"
   },
   {
    "duration": 11,
    "start_time": "2025-02-13T23:20:01.043Z"
   },
   {
    "duration": 9,
    "start_time": "2025-02-13T23:20:20.285Z"
   },
   {
    "duration": 14,
    "start_time": "2025-02-13T23:20:34.888Z"
   },
   {
    "duration": 231,
    "start_time": "2025-02-13T23:20:39.822Z"
   },
   {
    "duration": 731,
    "start_time": "2025-02-13T23:21:05.379Z"
   },
   {
    "duration": 7,
    "start_time": "2025-02-13T23:22:11.810Z"
   },
   {
    "duration": 57,
    "start_time": "2025-02-13T23:22:21.102Z"
   },
   {
    "duration": 5,
    "start_time": "2025-02-13T23:22:39.463Z"
   },
   {
    "duration": 598,
    "start_time": "2025-02-13T23:22:44.347Z"
   },
   {
    "duration": 590,
    "start_time": "2025-02-13T23:23:04.912Z"
   },
   {
    "duration": 3,
    "start_time": "2025-02-13T23:24:47.251Z"
   },
   {
    "duration": 581,
    "start_time": "2025-02-13T23:25:02.363Z"
   },
   {
    "duration": 3,
    "start_time": "2025-02-13T23:26:15.282Z"
   },
   {
    "duration": 614,
    "start_time": "2025-02-13T23:26:20.778Z"
   },
   {
    "duration": 6,
    "start_time": "2025-02-13T23:26:26.245Z"
   },
   {
    "duration": 8,
    "start_time": "2025-02-13T23:26:37.517Z"
   },
   {
    "duration": 5,
    "start_time": "2025-02-13T23:33:19.328Z"
   },
   {
    "duration": 3,
    "start_time": "2025-02-13T23:33:24.306Z"
   },
   {
    "duration": 3,
    "start_time": "2025-02-13T23:33:33.907Z"
   },
   {
    "duration": 7,
    "start_time": "2025-02-13T23:33:47.981Z"
   },
   {
    "duration": 13,
    "start_time": "2025-02-13T23:35:27.731Z"
   },
   {
    "duration": 3,
    "start_time": "2025-02-13T23:35:35.019Z"
   },
   {
    "duration": 6,
    "start_time": "2025-02-13T23:35:38.540Z"
   },
   {
    "duration": 6,
    "start_time": "2025-02-13T23:36:07.400Z"
   },
   {
    "duration": 58,
    "start_time": "2025-02-13T23:36:19.270Z"
   },
   {
    "duration": 17,
    "start_time": "2025-02-13T23:37:21.662Z"
   },
   {
    "duration": 6,
    "start_time": "2025-02-13T23:38:01.289Z"
   },
   {
    "duration": 3,
    "start_time": "2025-02-13T23:38:50.910Z"
   },
   {
    "duration": 3,
    "start_time": "2025-02-13T23:40:04.745Z"
   },
   {
    "duration": 7,
    "start_time": "2025-02-13T23:40:07.541Z"
   },
   {
    "duration": 6,
    "start_time": "2025-02-13T23:40:10.632Z"
   },
   {
    "duration": 7,
    "start_time": "2025-02-13T23:40:12.923Z"
   },
   {
    "duration": 590,
    "start_time": "2025-02-13T23:40:16.301Z"
   },
   {
    "duration": 12,
    "start_time": "2025-02-13T23:40:41.363Z"
   },
   {
    "duration": 605,
    "start_time": "2025-02-13T23:40:43.211Z"
   },
   {
    "duration": 6,
    "start_time": "2025-02-13T23:40:56.022Z"
   },
   {
    "duration": 612,
    "start_time": "2025-02-13T23:41:00.631Z"
   },
   {
    "duration": 599,
    "start_time": "2025-02-13T23:41:02.195Z"
   },
   {
    "duration": 614,
    "start_time": "2025-02-13T23:41:05.661Z"
   },
   {
    "duration": 5,
    "start_time": "2025-02-13T23:53:31.332Z"
   },
   {
    "duration": 5,
    "start_time": "2025-02-13T23:53:38.967Z"
   },
   {
    "duration": 604,
    "start_time": "2025-02-13T23:53:46.843Z"
   },
   {
    "duration": 5,
    "start_time": "2025-02-13T23:54:31.350Z"
   },
   {
    "duration": 593,
    "start_time": "2025-02-13T23:54:36.503Z"
   },
   {
    "duration": 588,
    "start_time": "2025-02-13T23:54:38.840Z"
   },
   {
    "duration": 579,
    "start_time": "2025-02-13T23:54:41.936Z"
   },
   {
    "duration": 983,
    "start_time": "2025-02-14T00:03:41.797Z"
   },
   {
    "duration": 240,
    "start_time": "2025-02-14T00:03:42.782Z"
   },
   {
    "duration": 2,
    "start_time": "2025-02-14T00:03:43.024Z"
   },
   {
    "duration": 16,
    "start_time": "2025-02-14T00:03:43.028Z"
   },
   {
    "duration": 6,
    "start_time": "2025-02-14T00:03:43.047Z"
   },
   {
    "duration": 35,
    "start_time": "2025-02-14T00:03:43.055Z"
   },
   {
    "duration": 169,
    "start_time": "2025-02-14T00:03:43.091Z"
   },
   {
    "duration": 103,
    "start_time": "2025-02-14T00:03:43.262Z"
   },
   {
    "duration": 6,
    "start_time": "2025-02-14T00:03:43.368Z"
   },
   {
    "duration": 69,
    "start_time": "2025-02-14T00:03:43.377Z"
   },
   {
    "duration": 6,
    "start_time": "2025-02-14T00:03:43.449Z"
   },
   {
    "duration": 6,
    "start_time": "2025-02-14T00:03:43.458Z"
   },
   {
    "duration": 4,
    "start_time": "2025-02-14T00:03:43.466Z"
   },
   {
    "duration": 3,
    "start_time": "2025-02-14T00:03:43.474Z"
   },
   {
    "duration": 4,
    "start_time": "2025-02-14T00:03:43.479Z"
   },
   {
    "duration": 68,
    "start_time": "2025-02-14T00:03:43.485Z"
   },
   {
    "duration": 11,
    "start_time": "2025-02-14T00:03:43.555Z"
   },
   {
    "duration": 9,
    "start_time": "2025-02-14T00:03:43.568Z"
   },
   {
    "duration": 4,
    "start_time": "2025-02-14T00:03:43.578Z"
   },
   {
    "duration": 6,
    "start_time": "2025-02-14T00:03:43.583Z"
   },
   {
    "duration": 4,
    "start_time": "2025-02-14T00:03:43.591Z"
   },
   {
    "duration": 8,
    "start_time": "2025-02-14T00:03:43.596Z"
   },
   {
    "duration": 38,
    "start_time": "2025-02-14T00:03:43.605Z"
   },
   {
    "duration": 8,
    "start_time": "2025-02-14T00:03:43.645Z"
   },
   {
    "duration": 723,
    "start_time": "2025-02-14T00:03:43.654Z"
   },
   {
    "duration": 648,
    "start_time": "2025-02-14T00:03:44.378Z"
   },
   {
    "duration": 623,
    "start_time": "2025-02-14T00:03:45.029Z"
   },
   {
    "duration": 5,
    "start_time": "2025-02-14T00:09:21.397Z"
   },
   {
    "duration": 837,
    "start_time": "2025-02-14T00:09:26.529Z"
   },
   {
    "duration": 222,
    "start_time": "2025-02-14T00:09:27.368Z"
   },
   {
    "duration": 2,
    "start_time": "2025-02-14T00:09:27.592Z"
   },
   {
    "duration": 11,
    "start_time": "2025-02-14T00:09:27.596Z"
   },
   {
    "duration": 5,
    "start_time": "2025-02-14T00:09:27.610Z"
   },
   {
    "duration": 33,
    "start_time": "2025-02-14T00:09:27.616Z"
   },
   {
    "duration": 96,
    "start_time": "2025-02-14T00:09:27.651Z"
   },
   {
    "duration": 99,
    "start_time": "2025-02-14T00:09:27.749Z"
   },
   {
    "duration": 3,
    "start_time": "2025-02-14T00:09:27.850Z"
   },
   {
    "duration": 3,
    "start_time": "2025-02-14T00:09:27.855Z"
   },
   {
    "duration": 4,
    "start_time": "2025-02-14T00:09:27.859Z"
   },
   {
    "duration": 78,
    "start_time": "2025-02-14T00:09:27.864Z"
   },
   {
    "duration": 4,
    "start_time": "2025-02-14T00:09:27.944Z"
   },
   {
    "duration": 3,
    "start_time": "2025-02-14T00:09:27.952Z"
   },
   {
    "duration": 3,
    "start_time": "2025-02-14T00:09:27.957Z"
   },
   {
    "duration": 12,
    "start_time": "2025-02-14T00:09:27.962Z"
   },
   {
    "duration": 8,
    "start_time": "2025-02-14T00:09:27.976Z"
   },
   {
    "duration": 9,
    "start_time": "2025-02-14T00:09:27.986Z"
   },
   {
    "duration": 47,
    "start_time": "2025-02-14T00:09:27.997Z"
   },
   {
    "duration": 5,
    "start_time": "2025-02-14T00:09:28.045Z"
   },
   {
    "duration": 4,
    "start_time": "2025-02-14T00:09:28.052Z"
   },
   {
    "duration": 7,
    "start_time": "2025-02-14T00:09:28.057Z"
   },
   {
    "duration": 7,
    "start_time": "2025-02-14T00:09:28.065Z"
   },
   {
    "duration": 7,
    "start_time": "2025-02-14T00:09:28.073Z"
   },
   {
    "duration": 653,
    "start_time": "2025-02-14T00:09:28.081Z"
   },
   {
    "duration": 629,
    "start_time": "2025-02-14T00:09:28.736Z"
   },
   {
    "duration": 601,
    "start_time": "2025-02-14T00:09:29.367Z"
   },
   {
    "duration": 848,
    "start_time": "2025-02-14T00:10:41.118Z"
   },
   {
    "duration": 222,
    "start_time": "2025-02-14T00:10:41.969Z"
   },
   {
    "duration": 2,
    "start_time": "2025-02-14T00:10:42.193Z"
   },
   {
    "duration": 10,
    "start_time": "2025-02-14T00:10:42.196Z"
   },
   {
    "duration": 5,
    "start_time": "2025-02-14T00:10:42.209Z"
   },
   {
    "duration": 36,
    "start_time": "2025-02-14T00:10:42.216Z"
   },
   {
    "duration": 93,
    "start_time": "2025-02-14T00:10:42.254Z"
   },
   {
    "duration": 97,
    "start_time": "2025-02-14T00:10:42.349Z"
   },
   {
    "duration": 4,
    "start_time": "2025-02-14T00:10:42.448Z"
   },
   {
    "duration": 3,
    "start_time": "2025-02-14T00:10:42.453Z"
   },
   {
    "duration": 3,
    "start_time": "2025-02-14T00:10:42.459Z"
   },
   {
    "duration": 3,
    "start_time": "2025-02-14T00:10:42.464Z"
   },
   {
    "duration": 5,
    "start_time": "2025-02-14T00:10:42.543Z"
   },
   {
    "duration": 3,
    "start_time": "2025-02-14T00:10:42.551Z"
   },
   {
    "duration": 5,
    "start_time": "2025-02-14T00:10:42.555Z"
   },
   {
    "duration": 11,
    "start_time": "2025-02-14T00:10:42.562Z"
   },
   {
    "duration": 9,
    "start_time": "2025-02-14T00:10:42.575Z"
   },
   {
    "duration": 9,
    "start_time": "2025-02-14T00:10:42.586Z"
   },
   {
    "duration": 3,
    "start_time": "2025-02-14T00:10:42.596Z"
   },
   {
    "duration": 5,
    "start_time": "2025-02-14T00:10:42.642Z"
   },
   {
    "duration": 3,
    "start_time": "2025-02-14T00:10:42.649Z"
   },
   {
    "duration": 7,
    "start_time": "2025-02-14T00:10:42.654Z"
   },
   {
    "duration": 7,
    "start_time": "2025-02-14T00:10:42.662Z"
   },
   {
    "duration": 6,
    "start_time": "2025-02-14T00:10:42.671Z"
   },
   {
    "duration": 652,
    "start_time": "2025-02-14T00:10:42.679Z"
   },
   {
    "duration": 603,
    "start_time": "2025-02-14T00:10:43.333Z"
   },
   {
    "duration": 580,
    "start_time": "2025-02-14T00:10:43.942Z"
   },
   {
    "duration": 5,
    "start_time": "2025-02-14T00:11:36.842Z"
   },
   {
    "duration": 871,
    "start_time": "2025-02-14T00:11:40.807Z"
   },
   {
    "duration": 230,
    "start_time": "2025-02-14T00:11:41.681Z"
   },
   {
    "duration": 2,
    "start_time": "2025-02-14T00:11:41.913Z"
   },
   {
    "duration": 11,
    "start_time": "2025-02-14T00:11:41.917Z"
   },
   {
    "duration": 13,
    "start_time": "2025-02-14T00:11:41.931Z"
   },
   {
    "duration": 20,
    "start_time": "2025-02-14T00:11:41.945Z"
   },
   {
    "duration": 83,
    "start_time": "2025-02-14T00:11:41.967Z"
   },
   {
    "duration": 99,
    "start_time": "2025-02-14T00:11:42.051Z"
   },
   {
    "duration": 3,
    "start_time": "2025-02-14T00:11:42.152Z"
   },
   {
    "duration": 3,
    "start_time": "2025-02-14T00:11:42.157Z"
   },
   {
    "duration": 4,
    "start_time": "2025-02-14T00:11:42.161Z"
   },
   {
    "duration": 4,
    "start_time": "2025-02-14T00:11:42.243Z"
   },
   {
    "duration": 3,
    "start_time": "2025-02-14T00:11:42.248Z"
   },
   {
    "duration": 3,
    "start_time": "2025-02-14T00:11:42.255Z"
   },
   {
    "duration": 4,
    "start_time": "2025-02-14T00:11:42.260Z"
   },
   {
    "duration": 13,
    "start_time": "2025-02-14T00:11:42.266Z"
   },
   {
    "duration": 9,
    "start_time": "2025-02-14T00:11:42.281Z"
   },
   {
    "duration": 55,
    "start_time": "2025-02-14T00:11:42.292Z"
   },
   {
    "duration": 3,
    "start_time": "2025-02-14T00:11:42.349Z"
   },
   {
    "duration": 7,
    "start_time": "2025-02-14T00:11:42.354Z"
   },
   {
    "duration": 4,
    "start_time": "2025-02-14T00:11:42.363Z"
   },
   {
    "duration": 7,
    "start_time": "2025-02-14T00:11:42.369Z"
   },
   {
    "duration": 9,
    "start_time": "2025-02-14T00:11:42.377Z"
   },
   {
    "duration": 8,
    "start_time": "2025-02-14T00:11:42.388Z"
   },
   {
    "duration": 708,
    "start_time": "2025-02-14T00:11:42.397Z"
   },
   {
    "duration": 620,
    "start_time": "2025-02-14T00:11:43.107Z"
   },
   {
    "duration": 603,
    "start_time": "2025-02-14T00:11:43.729Z"
   },
   {
    "duration": 5,
    "start_time": "2025-02-14T00:12:02.545Z"
   },
   {
    "duration": 908,
    "start_time": "2025-02-14T00:12:06.676Z"
   },
   {
    "duration": 216,
    "start_time": "2025-02-14T00:12:07.586Z"
   },
   {
    "duration": 2,
    "start_time": "2025-02-14T00:12:07.803Z"
   },
   {
    "duration": 9,
    "start_time": "2025-02-14T00:12:07.807Z"
   },
   {
    "duration": 5,
    "start_time": "2025-02-14T00:12:07.819Z"
   },
   {
    "duration": 34,
    "start_time": "2025-02-14T00:12:07.826Z"
   },
   {
    "duration": 87,
    "start_time": "2025-02-14T00:12:07.862Z"
   },
   {
    "duration": 96,
    "start_time": "2025-02-14T00:12:07.951Z"
   },
   {
    "duration": 3,
    "start_time": "2025-02-14T00:12:08.049Z"
   },
   {
    "duration": 3,
    "start_time": "2025-02-14T00:12:08.053Z"
   },
   {
    "duration": 4,
    "start_time": "2025-02-14T00:12:08.057Z"
   },
   {
    "duration": 3,
    "start_time": "2025-02-14T00:12:08.063Z"
   },
   {
    "duration": 78,
    "start_time": "2025-02-14T00:12:08.067Z"
   },
   {
    "duration": 3,
    "start_time": "2025-02-14T00:12:08.148Z"
   },
   {
    "duration": 3,
    "start_time": "2025-02-14T00:12:08.153Z"
   },
   {
    "duration": 13,
    "start_time": "2025-02-14T00:12:08.157Z"
   },
   {
    "duration": 9,
    "start_time": "2025-02-14T00:12:08.172Z"
   },
   {
    "duration": 9,
    "start_time": "2025-02-14T00:12:08.182Z"
   },
   {
    "duration": 2,
    "start_time": "2025-02-14T00:12:08.193Z"
   },
   {
    "duration": 50,
    "start_time": "2025-02-14T00:12:08.197Z"
   },
   {
    "duration": 3,
    "start_time": "2025-02-14T00:12:08.249Z"
   },
   {
    "duration": 6,
    "start_time": "2025-02-14T00:12:08.254Z"
   },
   {
    "duration": 6,
    "start_time": "2025-02-14T00:12:08.262Z"
   },
   {
    "duration": 6,
    "start_time": "2025-02-14T00:12:08.270Z"
   },
   {
    "duration": 645,
    "start_time": "2025-02-14T00:12:08.278Z"
   },
   {
    "duration": 649,
    "start_time": "2025-02-14T00:12:08.925Z"
   },
   {
    "duration": 598,
    "start_time": "2025-02-14T00:12:09.576Z"
   },
   {
    "duration": 860,
    "start_time": "2025-02-14T00:13:01.710Z"
   },
   {
    "duration": 217,
    "start_time": "2025-02-14T00:13:02.572Z"
   },
   {
    "duration": 2,
    "start_time": "2025-02-14T00:13:02.790Z"
   },
   {
    "duration": 10,
    "start_time": "2025-02-14T00:13:02.794Z"
   },
   {
    "duration": 4,
    "start_time": "2025-02-14T00:13:02.807Z"
   },
   {
    "duration": 37,
    "start_time": "2025-02-14T00:13:02.813Z"
   },
   {
    "duration": 96,
    "start_time": "2025-02-14T00:13:02.851Z"
   },
   {
    "duration": 98,
    "start_time": "2025-02-14T00:13:02.949Z"
   },
   {
    "duration": 3,
    "start_time": "2025-02-14T00:13:03.049Z"
   },
   {
    "duration": 4,
    "start_time": "2025-02-14T00:13:03.054Z"
   },
   {
    "duration": 3,
    "start_time": "2025-02-14T00:13:03.060Z"
   },
   {
    "duration": 79,
    "start_time": "2025-02-14T00:13:03.065Z"
   },
   {
    "duration": 4,
    "start_time": "2025-02-14T00:13:03.145Z"
   },
   {
    "duration": 3,
    "start_time": "2025-02-14T00:13:03.152Z"
   },
   {
    "duration": 3,
    "start_time": "2025-02-14T00:13:03.157Z"
   },
   {
    "duration": 11,
    "start_time": "2025-02-14T00:13:03.162Z"
   },
   {
    "duration": 9,
    "start_time": "2025-02-14T00:13:03.175Z"
   },
   {
    "duration": 8,
    "start_time": "2025-02-14T00:13:03.186Z"
   },
   {
    "duration": 48,
    "start_time": "2025-02-14T00:13:03.195Z"
   },
   {
    "duration": 4,
    "start_time": "2025-02-14T00:13:03.245Z"
   },
   {
    "duration": 4,
    "start_time": "2025-02-14T00:13:03.251Z"
   },
   {
    "duration": 7,
    "start_time": "2025-02-14T00:13:03.256Z"
   },
   {
    "duration": 6,
    "start_time": "2025-02-14T00:13:03.265Z"
   },
   {
    "duration": 6,
    "start_time": "2025-02-14T00:13:03.272Z"
   },
   {
    "duration": 648,
    "start_time": "2025-02-14T00:13:03.280Z"
   },
   {
    "duration": 586,
    "start_time": "2025-02-14T00:13:03.930Z"
   },
   {
    "duration": 599,
    "start_time": "2025-02-14T00:13:04.518Z"
   },
   {
    "duration": 5,
    "start_time": "2025-02-14T00:13:47.173Z"
   },
   {
    "duration": 898,
    "start_time": "2025-02-14T00:13:50.964Z"
   },
   {
    "duration": 213,
    "start_time": "2025-02-14T00:13:51.864Z"
   },
   {
    "duration": 2,
    "start_time": "2025-02-14T00:13:52.079Z"
   },
   {
    "duration": 11,
    "start_time": "2025-02-14T00:13:52.083Z"
   },
   {
    "duration": 5,
    "start_time": "2025-02-14T00:13:52.096Z"
   },
   {
    "duration": 43,
    "start_time": "2025-02-14T00:13:52.102Z"
   },
   {
    "duration": 96,
    "start_time": "2025-02-14T00:13:52.147Z"
   },
   {
    "duration": 105,
    "start_time": "2025-02-14T00:13:52.245Z"
   },
   {
    "duration": 4,
    "start_time": "2025-02-14T00:13:52.355Z"
   },
   {
    "duration": 3,
    "start_time": "2025-02-14T00:13:52.361Z"
   },
   {
    "duration": 78,
    "start_time": "2025-02-14T00:13:52.365Z"
   },
   {
    "duration": 3,
    "start_time": "2025-02-14T00:13:52.446Z"
   },
   {
    "duration": 3,
    "start_time": "2025-02-14T00:13:52.451Z"
   },
   {
    "duration": 3,
    "start_time": "2025-02-14T00:13:52.458Z"
   },
   {
    "duration": 3,
    "start_time": "2025-02-14T00:13:52.463Z"
   },
   {
    "duration": 13,
    "start_time": "2025-02-14T00:13:52.467Z"
   },
   {
    "duration": 9,
    "start_time": "2025-02-14T00:13:52.481Z"
   },
   {
    "duration": 53,
    "start_time": "2025-02-14T00:13:52.492Z"
   },
   {
    "duration": 4,
    "start_time": "2025-02-14T00:13:52.546Z"
   },
   {
    "duration": 6,
    "start_time": "2025-02-14T00:13:52.551Z"
   },
   {
    "duration": 5,
    "start_time": "2025-02-14T00:13:52.558Z"
   },
   {
    "duration": 7,
    "start_time": "2025-02-14T00:13:52.564Z"
   },
   {
    "duration": 7,
    "start_time": "2025-02-14T00:13:52.572Z"
   },
   {
    "duration": 6,
    "start_time": "2025-02-14T00:13:52.581Z"
   },
   {
    "duration": 527,
    "start_time": "2025-02-14T00:13:52.590Z"
   },
   {
    "duration": 0,
    "start_time": "2025-02-14T00:13:53.119Z"
   },
   {
    "duration": 0,
    "start_time": "2025-02-14T00:13:53.120Z"
   },
   {
    "duration": 878,
    "start_time": "2025-02-14T00:14:19.136Z"
   },
   {
    "duration": 220,
    "start_time": "2025-02-14T00:14:20.016Z"
   },
   {
    "duration": 3,
    "start_time": "2025-02-14T00:14:20.238Z"
   },
   {
    "duration": 12,
    "start_time": "2025-02-14T00:14:20.243Z"
   },
   {
    "duration": 5,
    "start_time": "2025-02-14T00:14:20.259Z"
   },
   {
    "duration": 22,
    "start_time": "2025-02-14T00:14:20.266Z"
   },
   {
    "duration": 67,
    "start_time": "2025-02-14T00:14:20.290Z"
   },
   {
    "duration": 93,
    "start_time": "2025-02-14T00:14:20.359Z"
   },
   {
    "duration": 4,
    "start_time": "2025-02-14T00:14:20.454Z"
   },
   {
    "duration": 3,
    "start_time": "2025-02-14T00:14:20.460Z"
   },
   {
    "duration": 78,
    "start_time": "2025-02-14T00:14:20.465Z"
   },
   {
    "duration": 10,
    "start_time": "2025-02-14T00:14:20.545Z"
   },
   {
    "duration": 3,
    "start_time": "2025-02-14T00:14:20.557Z"
   },
   {
    "duration": 3,
    "start_time": "2025-02-14T00:14:20.563Z"
   },
   {
    "duration": 3,
    "start_time": "2025-02-14T00:14:20.568Z"
   },
   {
    "duration": 11,
    "start_time": "2025-02-14T00:14:20.573Z"
   },
   {
    "duration": 8,
    "start_time": "2025-02-14T00:14:20.586Z"
   },
   {
    "duration": 53,
    "start_time": "2025-02-14T00:14:20.596Z"
   },
   {
    "duration": 3,
    "start_time": "2025-02-14T00:14:20.651Z"
   },
   {
    "duration": 6,
    "start_time": "2025-02-14T00:14:20.657Z"
   },
   {
    "duration": 5,
    "start_time": "2025-02-14T00:14:20.664Z"
   },
   {
    "duration": 7,
    "start_time": "2025-02-14T00:14:20.670Z"
   },
   {
    "duration": 7,
    "start_time": "2025-02-14T00:14:20.679Z"
   },
   {
    "duration": 6,
    "start_time": "2025-02-14T00:14:20.687Z"
   },
   {
    "duration": 672,
    "start_time": "2025-02-14T00:14:20.695Z"
   },
   {
    "duration": 599,
    "start_time": "2025-02-14T00:14:21.369Z"
   },
   {
    "duration": 598,
    "start_time": "2025-02-14T00:14:21.970Z"
   },
   {
    "duration": 5,
    "start_time": "2025-02-14T00:14:40.510Z"
   },
   {
    "duration": 877,
    "start_time": "2025-02-14T00:14:45.213Z"
   },
   {
    "duration": 221,
    "start_time": "2025-02-14T00:14:46.092Z"
   },
   {
    "duration": 2,
    "start_time": "2025-02-14T00:14:46.315Z"
   },
   {
    "duration": 11,
    "start_time": "2025-02-14T00:14:46.319Z"
   },
   {
    "duration": 13,
    "start_time": "2025-02-14T00:14:46.332Z"
   },
   {
    "duration": 23,
    "start_time": "2025-02-14T00:14:46.346Z"
   },
   {
    "duration": 79,
    "start_time": "2025-02-14T00:14:46.370Z"
   },
   {
    "duration": 96,
    "start_time": "2025-02-14T00:14:46.451Z"
   },
   {
    "duration": 3,
    "start_time": "2025-02-14T00:14:46.549Z"
   },
   {
    "duration": 3,
    "start_time": "2025-02-14T00:14:46.553Z"
   },
   {
    "duration": 3,
    "start_time": "2025-02-14T00:14:46.558Z"
   },
   {
    "duration": 81,
    "start_time": "2025-02-14T00:14:46.563Z"
   },
   {
    "duration": 3,
    "start_time": "2025-02-14T00:14:46.646Z"
   },
   {
    "duration": 3,
    "start_time": "2025-02-14T00:14:46.652Z"
   },
   {
    "duration": 6,
    "start_time": "2025-02-14T00:14:46.656Z"
   },
   {
    "duration": 11,
    "start_time": "2025-02-14T00:14:46.663Z"
   },
   {
    "duration": 8,
    "start_time": "2025-02-14T00:14:46.676Z"
   },
   {
    "duration": 9,
    "start_time": "2025-02-14T00:14:46.685Z"
   },
   {
    "duration": 3,
    "start_time": "2025-02-14T00:14:46.695Z"
   },
   {
    "duration": 4,
    "start_time": "2025-02-14T00:14:46.743Z"
   },
   {
    "duration": 4,
    "start_time": "2025-02-14T00:14:46.749Z"
   },
   {
    "duration": 8,
    "start_time": "2025-02-14T00:14:46.754Z"
   },
   {
    "duration": 6,
    "start_time": "2025-02-14T00:14:46.763Z"
   },
   {
    "duration": 6,
    "start_time": "2025-02-14T00:14:46.771Z"
   },
   {
    "duration": 633,
    "start_time": "2025-02-14T00:14:46.778Z"
   },
   {
    "duration": 584,
    "start_time": "2025-02-14T00:14:47.412Z"
   },
   {
    "duration": 586,
    "start_time": "2025-02-14T00:14:47.998Z"
   },
   {
    "duration": 850,
    "start_time": "2025-02-14T00:16:29.111Z"
   },
   {
    "duration": 220,
    "start_time": "2025-02-14T00:16:29.963Z"
   },
   {
    "duration": 2,
    "start_time": "2025-02-14T00:16:30.185Z"
   },
   {
    "duration": 10,
    "start_time": "2025-02-14T00:16:30.189Z"
   },
   {
    "duration": 4,
    "start_time": "2025-02-14T00:16:30.201Z"
   },
   {
    "duration": 45,
    "start_time": "2025-02-14T00:16:30.207Z"
   },
   {
    "duration": 94,
    "start_time": "2025-02-14T00:16:30.253Z"
   },
   {
    "duration": 100,
    "start_time": "2025-02-14T00:16:30.350Z"
   },
   {
    "duration": 3,
    "start_time": "2025-02-14T00:16:30.452Z"
   },
   {
    "duration": 3,
    "start_time": "2025-02-14T00:16:30.458Z"
   },
   {
    "duration": 3,
    "start_time": "2025-02-14T00:16:30.463Z"
   },
   {
    "duration": 79,
    "start_time": "2025-02-14T00:16:30.468Z"
   },
   {
    "duration": 4,
    "start_time": "2025-02-14T00:16:30.549Z"
   },
   {
    "duration": 3,
    "start_time": "2025-02-14T00:16:30.557Z"
   },
   {
    "duration": 3,
    "start_time": "2025-02-14T00:16:30.562Z"
   },
   {
    "duration": 12,
    "start_time": "2025-02-14T00:16:30.567Z"
   },
   {
    "duration": 9,
    "start_time": "2025-02-14T00:16:30.580Z"
   },
   {
    "duration": 54,
    "start_time": "2025-02-14T00:16:30.590Z"
   },
   {
    "duration": 4,
    "start_time": "2025-02-14T00:16:30.646Z"
   },
   {
    "duration": 6,
    "start_time": "2025-02-14T00:16:30.651Z"
   },
   {
    "duration": 5,
    "start_time": "2025-02-14T00:16:30.659Z"
   },
   {
    "duration": 6,
    "start_time": "2025-02-14T00:16:30.665Z"
   },
   {
    "duration": 6,
    "start_time": "2025-02-14T00:16:30.673Z"
   },
   {
    "duration": 5,
    "start_time": "2025-02-14T00:16:30.681Z"
   },
   {
    "duration": 661,
    "start_time": "2025-02-14T00:16:30.688Z"
   },
   {
    "duration": 601,
    "start_time": "2025-02-14T00:16:31.350Z"
   },
   {
    "duration": 594,
    "start_time": "2025-02-14T00:16:31.954Z"
   }
  ],
  "kernelspec": {
   "display_name": "Python 3 (ipykernel)",
   "language": "python",
   "name": "python3"
  },
  "language_info": {
   "codemirror_mode": {
    "name": "ipython",
    "version": 3
   },
   "file_extension": ".py",
   "mimetype": "text/x-python",
   "name": "python",
   "nbconvert_exporter": "python",
   "pygments_lexer": "ipython3",
   "version": "3.9.19"
  },
  "toc": {
   "base_numbering": 1,
   "nav_menu": {},
   "number_sections": true,
   "sideBar": true,
   "skip_h1_title": true,
   "title_cell": "Table of Contents",
   "title_sidebar": "Contents",
   "toc_cell": false,
   "toc_position": {},
   "toc_section_display": true,
   "toc_window_display": false
  }
 },
 "nbformat": 4,
 "nbformat_minor": 2
}
