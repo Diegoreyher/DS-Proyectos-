{
 "cells": [
  {
   "cell_type": "markdown",
   "metadata": {},
   "source": [
    "# Zuber Analysis"
   ]
  },
  {
   "cell_type": "markdown",
   "metadata": {},
   "source": [
    "# Instrucciones para completar el proyecto\n",
    "\n",
    "Paso 1. Escribe un código para analizar los datos sobre el clima en Chicago en noviembre de 2017 desde el sitio web:\n",
    "\n",
    "https://practicum-content.s3.us-west-1.amazonaws.com/data-analyst-eng/moved_chicago_weather_2017.html\n",
    "\n",
    "Paso 2. Análisis exploratorio de datos\n",
    "\n",
    "    Encuentra el número de viajes en taxi para cada empresa de taxis del 15 al 16 de noviembre de 2017. Nombra el campo resultante trips_amount y muéstralo junto con el campo company_name. Ordena los resultados por el campo trips_amount en orden descendente.\n",
    "\n",
    "    Encuentra la cantidad de viajes para cada empresa de taxis cuyo nombre contenga las palabras \"Yellow\" o \"Blue\" del 1 al 7 de noviembre de 2017. Nombra la variable resultante trips_amount. Agrupa los resultados por el campo company_name.\n",
    "\n",
    "    En noviembre de 2017 las empresas de taxis más populares fueron Flash Cab y Taxi Affiliation Services. Encuentra el número de viajes de estas dos empresas y asigna a la variable resultante el nombre trips_amount. Junta los viajes de todas las demás empresas en el grupo \"Other\". Agrupa los datos por nombres de empresas de taxis. Nombra el campo con nombres de empresas de taxis company. Ordena el resultado en orden descendente por trips_amount.\n",
    "\n",
    "Paso 3. Prueba la hipótesis de que la duración de los viajes desde el Loop hasta el Aeropuerto Internacional O'Hare cambia los sábados lluviosos.\n",
    "\n",
    "    Recupera los identificadores de los barrios de O'Hare y Loop de la tabla neighborhoods.\n",
    "\n",
    "    Para cada hora recupera los registros de condiciones meteorológicas de la tabla weather_records. Usando el operador CASE, divide todas las horas en dos grupos: \"Bad\" si el campo description contiene las palabras \"rain\" o \"storm\" y \"Good\" para los demás. Nombra el campo resultante weather_conditions. La tabla final debe incluir dos campos: fecha y hora (ts) y weather_conditions.\n",
    "\n",
    "    Recupera de la tabla trips todos los viajes que comenzaron en el Loop (neighborhood_id: 50) y finalizaron en O'Hare (neighborhood_id: 63) un sábado. Obtén las condiciones climáticas para cada viaje. Utiliza el método que aplicaste en la tarea anterior. Recupera también la duración de cada viaje.\n",
    "    Ignora los viajes para los que no hay datos disponibles sobre las condiciones climáticas.\n",
    "\n",
    "Paso 4. Análisis exploratorio de datos (Python)\n",
    "\n",
    "Además de los datos que recuperaste en las tareas anteriores te han dado un segundo archivo. Ahora tienes estos dos CSV:\n",
    "\n",
    "project_sql_result_01.csv. Contiene los siguientes datos:\n",
    "\n",
    "    company_name: nombre de la empresa de taxis\n",
    "    trips_amount: el número de viajes de cada compañía de taxis el 15 y 16 de noviembre de 2017.\n",
    "\n",
    "project_sql_result_04.csv. Contiene los siguientes datos:\n",
    "\n",
    "    dropoff_location_name: barrios de Chicago donde finalizaron los viajes\n",
    "    average_trips: el promedio de viajes que terminaron en cada barrio en noviembre de 2017.\n",
    "\n",
    "Para estos dos datasets ahora necesitas:\n",
    "\n",
    "    importar los archivos\n",
    "    estudiar los datos que contienen\n",
    "    asegurarte de que los tipos de datos sean correctos\n",
    "    identificar los 10 principales barrios en términos de finalización\n",
    "    hacer gráficos: empresas de taxis y número de viajes, los 10 barrios principales por número de finalizaciones\n",
    "    sacar conclusiones basadas en cada gráfico y explicar los resultados\n",
    "\n",
    "Paso 5. Prueba de hipótesis (Python)\n",
    "\n",
    "project_sql_result_07.csv: el resultado de la última consulta. Contiene datos sobre viajes desde el Loop hasta el Aeropuerto Internacional O'Hare. Recuerda, estos son los valores de campo de la tabla:\n",
    "\n",
    "    start_ts: fecha y hora de recogida\n",
    "    weather_conditions: condiciones climáticas en el momento en el que comenzó el viaje\n",
    "    duration_seconds: duración del viaje en segundos\n",
    "\n",
    "Prueba la hipótesis:\n",
    "\"La duración promedio de los viajes desde el Loop hasta el Aeropuerto Internacional O'Hare cambia los sábados lluviosos\".\n",
    "\n",
    "Establece el valor del nivel de significación (alfa) por tu cuenta.\n",
    "\n",
    "Explica:\n",
    "\n",
    "    cómo planteaste las hipótesis nula y alternativa\n",
    "    qué criterio usaste para probar las hipótesis y por qué"
   ]
  },
  {
   "cell_type": "markdown",
   "metadata": {},
   "source": [
    "Los paso anteriores al 4 se hicieron en SQL ya que ahí se realizo la filtración y el acondicionamiento de datos"
   ]
  },
  {
   "cell_type": "markdown",
   "metadata": {},
   "source": [
    "## Paso 4. Análisis exploratorio de datos (Python)"
   ]
  },
  {
   "cell_type": "markdown",
   "metadata": {},
   "source": [
    "Ahora tienes estos dos CSV:\n",
    "\n",
    "/datasets/project_sql_result_01.csv. contiene los siguientes datos:\n",
    "\n",
    "company_name: nombre de la empresa de taxis\n",
    "\n",
    "trips_amount: el número de viajes de cada compañía de taxis el 15 y 16 de noviembre de 2017. \n",
    "\n",
    "\n",
    "/datasets/project_sql_result_04.csv. contiene los siguientes datos:\n",
    "\n",
    "dropoff_location_name: barrios de Chicago donde finalizaron los viajes\n",
    "\n",
    "average_trips: el promedio de viajes que terminaron en cada barrio en noviembre de 2017."
   ]
  },
  {
   "cell_type": "markdown",
   "metadata": {},
   "source": [
    "### importar los archivos"
   ]
  },
  {
   "cell_type": "markdown",
   "metadata": {},
   "source": [
    "#### Librerias"
   ]
  },
  {
   "cell_type": "code",
   "execution_count": 1,
   "metadata": {},
   "outputs": [],
   "source": [
    "from scipy import stats as st\n",
    "import pandas as pd\n",
    "import numpy as np\n",
    "import seaborn as sns\n",
    "from matplotlib import pyplot as plt"
   ]
  },
  {
   "cell_type": "markdown",
   "metadata": {},
   "source": [
    "####  Archivo de Viajes por compañía"
   ]
  },
  {
   "cell_type": "code",
   "execution_count": 2,
   "metadata": {},
   "outputs": [
    {
     "name": "stdout",
     "output_type": "stream",
     "text": [
      "<class 'pandas.core.frame.DataFrame'>\n",
      "RangeIndex: 64 entries, 0 to 63\n",
      "Data columns (total 2 columns):\n",
      " #   Column        Non-Null Count  Dtype \n",
      "---  ------        --------------  ----- \n",
      " 0   company_name  64 non-null     object\n",
      " 1   trips_amount  64 non-null     int64 \n",
      "dtypes: int64(1), object(1)\n",
      "memory usage: 1.1+ KB\n"
     ]
    }
   ],
   "source": [
    "company_trips = pd.read_csv('/datasets/project_sql_result_01.csv')\n",
    "company_trips.info()"
   ]
  },
  {
   "cell_type": "markdown",
   "metadata": {},
   "source": [
    "#### Archivo de destinos finales"
   ]
  },
  {
   "cell_type": "code",
   "execution_count": 3,
   "metadata": {},
   "outputs": [
    {
     "name": "stdout",
     "output_type": "stream",
     "text": [
      "<class 'pandas.core.frame.DataFrame'>\n",
      "RangeIndex: 94 entries, 0 to 93\n",
      "Data columns (total 2 columns):\n",
      " #   Column                 Non-Null Count  Dtype  \n",
      "---  ------                 --------------  -----  \n",
      " 0   dropoff_location_name  94 non-null     object \n",
      " 1   average_trips          94 non-null     float64\n",
      "dtypes: float64(1), object(1)\n",
      "memory usage: 1.6+ KB\n"
     ]
    }
   ],
   "source": [
    "dropoff_trips= pd.read_csv('/datasets/project_sql_result_04.csv')\n",
    "dropoff_trips.info()"
   ]
  },
  {
   "cell_type": "markdown",
   "metadata": {},
   "source": [
    "###  estudiar los datos que contienen"
   ]
  },
  {
   "cell_type": "code",
   "execution_count": 4,
   "metadata": {},
   "outputs": [
    {
     "name": "stdout",
     "output_type": "stream",
     "text": [
      "<class 'pandas.core.frame.DataFrame'>\n",
      "RangeIndex: 94 entries, 0 to 93\n",
      "Data columns (total 2 columns):\n",
      " #   Column                 Non-Null Count  Dtype \n",
      "---  ------                 --------------  ----- \n",
      " 0   dropoff_location_name  94 non-null     object\n",
      " 1   average_trips          94 non-null     int64 \n",
      "dtypes: int64(1), object(1)\n",
      "memory usage: 1.6+ KB\n"
     ]
    }
   ],
   "source": [
    "dropoff_trips['average_trips']=np.floor(dropoff_trips['average_trips']+0.5).astype(int)\n",
    "dropoff_trips.info()"
   ]
  },
  {
   "cell_type": "markdown",
   "metadata": {},
   "source": [
    "### identificar los 10 principales barrios en términos de finalización del recorrido"
   ]
  },
  {
   "cell_type": "code",
   "execution_count": 5,
   "metadata": {},
   "outputs": [
    {
     "data": {
      "text/html": [
       "<div>\n",
       "<style scoped>\n",
       "    .dataframe tbody tr th:only-of-type {\n",
       "        vertical-align: middle;\n",
       "    }\n",
       "\n",
       "    .dataframe tbody tr th {\n",
       "        vertical-align: top;\n",
       "    }\n",
       "\n",
       "    .dataframe thead th {\n",
       "        text-align: right;\n",
       "    }\n",
       "</style>\n",
       "<table border=\"1\" class=\"dataframe\">\n",
       "  <thead>\n",
       "    <tr style=\"text-align: right;\">\n",
       "      <th></th>\n",
       "      <th>dropoff_location_name</th>\n",
       "      <th>average_trips</th>\n",
       "    </tr>\n",
       "  </thead>\n",
       "  <tbody>\n",
       "    <tr>\n",
       "      <th>0</th>\n",
       "      <td>Loop</td>\n",
       "      <td>10727</td>\n",
       "    </tr>\n",
       "    <tr>\n",
       "      <th>1</th>\n",
       "      <td>River North</td>\n",
       "      <td>9524</td>\n",
       "    </tr>\n",
       "    <tr>\n",
       "      <th>2</th>\n",
       "      <td>Streeterville</td>\n",
       "      <td>6665</td>\n",
       "    </tr>\n",
       "    <tr>\n",
       "      <th>3</th>\n",
       "      <td>West Loop</td>\n",
       "      <td>5164</td>\n",
       "    </tr>\n",
       "    <tr>\n",
       "      <th>4</th>\n",
       "      <td>O'Hare</td>\n",
       "      <td>2547</td>\n",
       "    </tr>\n",
       "    <tr>\n",
       "      <th>5</th>\n",
       "      <td>Lake View</td>\n",
       "      <td>2421</td>\n",
       "    </tr>\n",
       "    <tr>\n",
       "      <th>6</th>\n",
       "      <td>Grant Park</td>\n",
       "      <td>2069</td>\n",
       "    </tr>\n",
       "    <tr>\n",
       "      <th>7</th>\n",
       "      <td>Museum Campus</td>\n",
       "      <td>1510</td>\n",
       "    </tr>\n",
       "    <tr>\n",
       "      <th>8</th>\n",
       "      <td>Gold Coast</td>\n",
       "      <td>1364</td>\n",
       "    </tr>\n",
       "    <tr>\n",
       "      <th>9</th>\n",
       "      <td>Sheffield &amp; DePaul</td>\n",
       "      <td>1260</td>\n",
       "    </tr>\n",
       "  </tbody>\n",
       "</table>\n",
       "</div>"
      ],
      "text/plain": [
       "  dropoff_location_name  average_trips\n",
       "0                  Loop          10727\n",
       "1           River North           9524\n",
       "2         Streeterville           6665\n",
       "3             West Loop           5164\n",
       "4                O'Hare           2547\n",
       "5             Lake View           2421\n",
       "6            Grant Park           2069\n",
       "7         Museum Campus           1510\n",
       "8            Gold Coast           1364\n",
       "9    Sheffield & DePaul           1260"
      ]
     },
     "metadata": {},
     "output_type": "display_data"
    }
   ],
   "source": [
    "top_dropoff = dropoff_trips.sort_values(by='average_trips',ascending=False)\n",
    "top_10_dropoff=top_dropoff.head(10)\n",
    "display(top_10_dropoff)"
   ]
  },
  {
   "cell_type": "code",
   "execution_count": 6,
   "metadata": {},
   "outputs": [
    {
     "data": {
      "text/html": [
       "<div>\n",
       "<style scoped>\n",
       "    .dataframe tbody tr th:only-of-type {\n",
       "        vertical-align: middle;\n",
       "    }\n",
       "\n",
       "    .dataframe tbody tr th {\n",
       "        vertical-align: top;\n",
       "    }\n",
       "\n",
       "    .dataframe thead th {\n",
       "        text-align: right;\n",
       "    }\n",
       "</style>\n",
       "<table border=\"1\" class=\"dataframe\">\n",
       "  <thead>\n",
       "    <tr style=\"text-align: right;\">\n",
       "      <th></th>\n",
       "      <th>company_name</th>\n",
       "      <th>trips_amount</th>\n",
       "    </tr>\n",
       "  </thead>\n",
       "  <tbody>\n",
       "    <tr>\n",
       "      <th>0</th>\n",
       "      <td>Flash Cab</td>\n",
       "      <td>19558</td>\n",
       "    </tr>\n",
       "    <tr>\n",
       "      <th>1</th>\n",
       "      <td>Taxi Affiliation Services</td>\n",
       "      <td>11422</td>\n",
       "    </tr>\n",
       "    <tr>\n",
       "      <th>2</th>\n",
       "      <td>Medallion Leasing</td>\n",
       "      <td>10367</td>\n",
       "    </tr>\n",
       "    <tr>\n",
       "      <th>3</th>\n",
       "      <td>Yellow Cab</td>\n",
       "      <td>9888</td>\n",
       "    </tr>\n",
       "    <tr>\n",
       "      <th>4</th>\n",
       "      <td>Taxi Affiliation Service Yellow</td>\n",
       "      <td>9299</td>\n",
       "    </tr>\n",
       "    <tr>\n",
       "      <th>5</th>\n",
       "      <td>Chicago Carriage Cab Corp</td>\n",
       "      <td>9181</td>\n",
       "    </tr>\n",
       "    <tr>\n",
       "      <th>6</th>\n",
       "      <td>City Service</td>\n",
       "      <td>8448</td>\n",
       "    </tr>\n",
       "    <tr>\n",
       "      <th>7</th>\n",
       "      <td>Sun Taxi</td>\n",
       "      <td>7701</td>\n",
       "    </tr>\n",
       "    <tr>\n",
       "      <th>8</th>\n",
       "      <td>Star North Management LLC</td>\n",
       "      <td>7455</td>\n",
       "    </tr>\n",
       "    <tr>\n",
       "      <th>9</th>\n",
       "      <td>Blue Ribbon Taxi Association Inc.</td>\n",
       "      <td>5953</td>\n",
       "    </tr>\n",
       "  </tbody>\n",
       "</table>\n",
       "</div>"
      ],
      "text/plain": [
       "                        company_name  trips_amount\n",
       "0                          Flash Cab         19558\n",
       "1          Taxi Affiliation Services         11422\n",
       "2                  Medallion Leasing         10367\n",
       "3                         Yellow Cab          9888\n",
       "4    Taxi Affiliation Service Yellow          9299\n",
       "5          Chicago Carriage Cab Corp          9181\n",
       "6                       City Service          8448\n",
       "7                           Sun Taxi          7701\n",
       "8          Star North Management LLC          7455\n",
       "9  Blue Ribbon Taxi Association Inc.          5953"
      ]
     },
     "metadata": {},
     "output_type": "display_data"
    }
   ],
   "source": [
    "top_companies = company_trips.sort_values(by='trips_amount',ascending=False)\n",
    "top_10_companies=top_companies.head(10)\n",
    "display(top_10_companies)"
   ]
  },
  {
   "cell_type": "markdown",
   "metadata": {},
   "source": [
    "### hacer gráficos: empresas de taxis y número de viajes, los 10 barrios principales por número de finalizaciones"
   ]
  },
  {
   "cell_type": "code",
   "execution_count": 7,
   "metadata": {},
   "outputs": [
    {
     "data": {
      "image/png": "[encoded data removed]",
      "text/plain": [
       "<Figure size 640x480 with 1 Axes>"
      ]
     },
     "metadata": {},
     "output_type": "display_data"
    },
    {
     "data": {
      "text/plain": [
       "<Figure size 1600x800 with 0 Axes>"
      ]
     },
     "metadata": {},
     "output_type": "display_data"
    }
   ],
   "source": [
    "plt.bar(x=top_10_companies['company_name'],height=top_10_companies['trips_amount'],alpha=0.6,color='black')\n",
    "plt.xticks(rotation=45, ha='right')\n",
    "\n",
    "plt.yticks(range(0, int(top_10_companies['trips_amount'].max()) + 1000, 2000))\n",
    "plt.ylabel('Number of trips')\n",
    "plt.xlabel('Companies')\n",
    "plt.title('Trips of Taxi Companies')\n",
    "\n",
    "plt.figure(figsize=(16,8))\n",
    "plt.show()"
   ]
  },
  {
   "cell_type": "code",
   "execution_count": 8,
   "metadata": {},
   "outputs": [
    {
     "data": {
      "image/png": "[encoded data removed]",
      "text/plain": [
       "<Figure size 640x480 with 1 Axes>"
      ]
     },
     "metadata": {},
     "output_type": "display_data"
    },
    {
     "data": {
      "text/plain": [
       "<Figure size 1600x800 with 0 Axes>"
      ]
     },
     "metadata": {},
     "output_type": "display_data"
    }
   ],
   "source": [
    "plt.bar(x=top_10_dropoff['dropoff_location_name'],height=top_10_dropoff['average_trips'],alpha=0.6,color='pink')\n",
    "plt.xticks(rotation=45, ha='right')\n",
    "plt.yticks(range(0, int(top_10_dropoff['average_trips'].max()) + 1000, 1000))\n",
    "plt.ylabel('Average Trips')\n",
    "plt.xlabel('Dropoff Location Name')\n",
    "plt.title('Trips of Taxi Companies')\n",
    "plt.figure(figsize=(16,8))\n",
    "plt.show()"
   ]
  },
  {
   "cell_type": "markdown",
   "metadata": {},
   "source": [
    "### sacar conclusiones basadas en cada gráfico y explicar los resultados"
   ]
  },
  {
   "cell_type": "markdown",
   "metadata": {},
   "source": [
    "La compañía Flash Cab sobresale con respecto a la competencia con casi 20,000 viajes, la segunda compañía con mayor número de viajes es Taxi Afilliation Services con poco menos de 12,000 viajes. A partir de esta última, las compañías de taxis tienen poca diferencia entre ellas en cuanto a viajes.\n",
    "El destino final con mayor promedio de viajes es Loop y River North, con alrededor de 11,000 y 9,500 viajes promedio respectivamente. StreeterVille tiene un promedio de 6,500 viajes y West Loop un poco mas de 5,000. A apartir de este último destino los demas destinos finales tienen menos de 3,000 viajes promedio\n"
   ]
  },
  {
   "cell_type": "markdown",
   "metadata": {},
   "source": [
    "## Paso 5. Prueba de hipótesis (Python)"
   ]
  },
  {
   "cell_type": "markdown",
   "metadata": {},
   "source": [
    "/datasets/project_sql_result_07.csv — el resultado de la última consulta. Contiene datos sobre viajes desde el Loop hasta el Aeropuerto Internacional O'Hare. Recuerda, estos son los valores de campo de la tabla:\n",
    "\n",
    "start_ts: fecha y hora de la recogida\n",
    "weather_conditions: condiciones climáticas en el momento en el que comenzó el viaje\n",
    "duration_seconds: duración del viaje en segundos\n",
    "Prueba la hipótesis:"
   ]
  },
  {
   "cell_type": "markdown",
   "metadata": {},
   "source": [
    "Con un nivel de significancia de 0.05 el análisis y la interpretación se ajustan a los estándares convencionales.\n",
    "\n",
    "Hipótesis nula\n",
    "\n",
    "\"La duración promedio de los viajes desde el Loop hasta el Aeropuerto Internacional O'Hare no cambia los sábados lluviosos.\"\n",
    "\n",
    "\n",
    "Hipótesis alternativa \n",
    "\n",
    "\"La duración promedio de los viajes desde el Loop hasta el Aeropuerto Internacional O'Hare cambia los sábados lluviosos.\"\n",
    "\n"
   ]
  },
  {
   "cell_type": "code",
   "execution_count": 9,
   "metadata": {},
   "outputs": [],
   "source": [
    "conditions_trips = pd.read_csv('/datasets/project_sql_result_07.csv')\n",
    "conditions_trips.head(10)\n",
    "good_conditions = conditions_trips[conditions_trips['weather_conditions']=='Good']\n",
    "bad_conditions = conditions_trips[conditions_trips['weather_conditions']=='Bad']"
   ]
  },
  {
   "cell_type": "code",
   "execution_count": 10,
   "metadata": {},
   "outputs": [
    {
     "data": {
      "text/plain": [
       "576382.009689509"
      ]
     },
     "metadata": {},
     "output_type": "display_data"
    },
    {
     "data": {
      "text/plain": [
       "520294.086002483"
      ]
     },
     "metadata": {},
     "output_type": "display_data"
    },
    {
     "name": "stdout",
     "output_type": "stream",
     "text": [
      "valor p: 6.738994326108734e-12\n",
      "Rechazamos la hipótesis nula\n"
     ]
    }
   ],
   "source": [
    "# Prueba las hipótesis\n",
    "display(good_conditions['duration_seconds'].var())\n",
    "display(bad_conditions['duration_seconds'].var())\n",
    "alpha = 0.05\n",
    "\n",
    "results=st.ttest_ind(good_conditions['duration_seconds'],bad_conditions['duration_seconds'],equal_var=False)\n",
    "\n",
    "print('valor p:',results.pvalue)# tu código: imprime el valor p obtenido)\n",
    "\n",
    "if (results.pvalue<alpha):# su código: compara los valores p obtenidos con el nivel de significación estadística):\n",
    "    print(\"Rechazamos la hipótesis nula\")\n",
    "else:\n",
    "    print(\"No podemos rechazar la hipótesis nula\")"
   ]
  },
  {
   "cell_type": "markdown",
   "metadata": {},
   "source": [
    "### cómo planteaste las hipótesis nula y alternativa"
   ]
  },
  {
   "cell_type": "markdown",
   "metadata": {},
   "source": [
    "La hipotésis nula establece que la duración promedio de Loop al Aeropuerto no cambia los sábados lluviosos. Esto implica que cualquier diferencia observada en la duración de los viajes es atribuible al azar o a fluctuaciones normales, y no a la condición de lluvia. En cuanto a la hipotésis alternativa dice que si cambia, por lo tanto, implica que hay una diferencia significativa en la duración de los viajes cuando llueve los sábados. Las hipotesis nulas dictan que dos grupos al ser comparadas no tienen cambio alguno en sus datos por algún factor externo, mientras que en las hipotésis alternativas la diferencia entre ambos grupos es significativa debido a ese factor externo."
   ]
  },
  {
   "cell_type": "markdown",
   "metadata": {},
   "source": [
    "### qué criterio usaste para probar las hipótesis y por qué"
   ]
  },
  {
   "cell_type": "markdown",
   "metadata": {},
   "source": [
    "El criterio elegido fue realizar una prueba t student para comparar las medias de los dos grupos. La duración promedio de los viajes los sábados lluviosos y los sábados no lluviosos. Además, dado que las varianzas de los dos grupos son diferentes, se utilizó la versión de la prueba con el argumento equal_var=False. Se rechazó la hipótesis nula, lo que implica que la duración promedio de los viajes cambia significativamente en los sábados lluviosos. "
   ]
  }
 ],
 "metadata": {
  "ExecuteTimeLog": [
   {
    "duration": 2509,
    "start_time": "2024-12-13T03:39:31.518Z"
   },
   {
    "duration": 16,
    "start_time": "2024-12-13T03:39:37.955Z"
   },
   {
    "duration": 15,
    "start_time": "2024-12-13T03:44:59.945Z"
   },
   {
    "duration": 5,
    "start_time": "2024-12-13T03:52:57.688Z"
   },
   {
    "duration": 797,
    "start_time": "2024-12-13T03:59:16.000Z"
   },
   {
    "duration": 12,
    "start_time": "2024-12-13T03:59:16.799Z"
   },
   {
    "duration": 17,
    "start_time": "2024-12-13T03:59:16.812Z"
   },
   {
    "duration": 8,
    "start_time": "2024-12-13T03:59:16.831Z"
   },
   {
    "duration": 8,
    "start_time": "2024-12-13T04:06:06.825Z"
   },
   {
    "duration": 7,
    "start_time": "2024-12-13T04:06:48.082Z"
   },
   {
    "duration": 8,
    "start_time": "2024-12-13T04:09:03.625Z"
   },
   {
    "duration": 7,
    "start_time": "2024-12-13T04:10:04.188Z"
   },
   {
    "duration": 7,
    "start_time": "2024-12-13T04:10:24.786Z"
   },
   {
    "duration": 7,
    "start_time": "2024-12-13T04:10:27.152Z"
   },
   {
    "duration": 848,
    "start_time": "2024-12-13T04:10:31.846Z"
   },
   {
    "duration": 16,
    "start_time": "2024-12-13T04:10:32.696Z"
   },
   {
    "duration": 15,
    "start_time": "2024-12-13T04:10:32.713Z"
   },
   {
    "duration": 9,
    "start_time": "2024-12-13T04:10:32.730Z"
   },
   {
    "duration": 822,
    "start_time": "2024-12-13T04:11:38.050Z"
   },
   {
    "duration": 11,
    "start_time": "2024-12-13T04:11:38.874Z"
   },
   {
    "duration": 8,
    "start_time": "2024-12-13T04:11:38.887Z"
   },
   {
    "duration": 28,
    "start_time": "2024-12-13T04:11:38.897Z"
   },
   {
    "duration": 262,
    "start_time": "2024-12-13T04:13:08.482Z"
   },
   {
    "duration": 10,
    "start_time": "2024-12-13T04:13:15.900Z"
   },
   {
    "duration": 15,
    "start_time": "2024-12-13T04:20:37.871Z"
   },
   {
    "duration": 14,
    "start_time": "2024-12-13T04:20:52.211Z"
   },
   {
    "duration": 13,
    "start_time": "2024-12-13T04:20:59.929Z"
   },
   {
    "duration": 12,
    "start_time": "2024-12-13T04:22:14.280Z"
   },
   {
    "duration": 13,
    "start_time": "2024-12-13T04:22:21.256Z"
   },
   {
    "duration": 14,
    "start_time": "2024-12-13T04:22:35.489Z"
   },
   {
    "duration": 12,
    "start_time": "2024-12-13T04:23:29.134Z"
   },
   {
    "duration": 15,
    "start_time": "2024-12-13T04:23:37.517Z"
   },
   {
    "duration": 3,
    "start_time": "2024-12-13T04:24:05.772Z"
   },
   {
    "duration": 6,
    "start_time": "2024-12-13T04:24:20.415Z"
   },
   {
    "duration": 6,
    "start_time": "2024-12-13T04:24:36.292Z"
   },
   {
    "duration": 7,
    "start_time": "2024-12-13T04:24:42.217Z"
   },
   {
    "duration": 3,
    "start_time": "2024-12-13T04:27:35.465Z"
   },
   {
    "duration": 7,
    "start_time": "2024-12-13T04:27:56.202Z"
   },
   {
    "duration": 3,
    "start_time": "2024-12-13T04:32:30.517Z"
   },
   {
    "duration": 3,
    "start_time": "2024-12-13T04:32:33.042Z"
   },
   {
    "duration": 825,
    "start_time": "2024-12-13T04:32:39.183Z"
   },
   {
    "duration": 17,
    "start_time": "2024-12-13T04:32:40.010Z"
   },
   {
    "duration": 10,
    "start_time": "2024-12-13T04:32:40.028Z"
   },
   {
    "duration": 8,
    "start_time": "2024-12-13T04:32:40.041Z"
   },
   {
    "duration": 2,
    "start_time": "2024-12-13T04:32:40.051Z"
   },
   {
    "duration": 3,
    "start_time": "2024-12-13T04:32:40.055Z"
   },
   {
    "duration": 822,
    "start_time": "2024-12-13T04:33:06.377Z"
   },
   {
    "duration": 12,
    "start_time": "2024-12-13T04:33:07.201Z"
   },
   {
    "duration": 16,
    "start_time": "2024-12-13T04:33:07.214Z"
   },
   {
    "duration": 9,
    "start_time": "2024-12-13T04:33:07.232Z"
   },
   {
    "duration": 8,
    "start_time": "2024-12-13T04:33:07.242Z"
   },
   {
    "duration": 6,
    "start_time": "2024-12-13T04:33:07.252Z"
   },
   {
    "duration": 290,
    "start_time": "2024-12-13T04:41:21.744Z"
   },
   {
    "duration": 13,
    "start_time": "2024-12-13T04:41:31.813Z"
   },
   {
    "duration": 126,
    "start_time": "2024-12-13T04:41:43.285Z"
   },
   {
    "duration": 125,
    "start_time": "2024-12-13T04:41:58.268Z"
   },
   {
    "duration": 130,
    "start_time": "2024-12-13T04:42:03.570Z"
   },
   {
    "duration": 540,
    "start_time": "2024-12-13T04:42:43.197Z"
   },
   {
    "duration": 111,
    "start_time": "2024-12-13T04:43:10.222Z"
   },
   {
    "duration": 112,
    "start_time": "2024-12-13T04:43:14.173Z"
   },
   {
    "duration": 123,
    "start_time": "2024-12-13T04:43:24.935Z"
   },
   {
    "duration": 138,
    "start_time": "2024-12-13T04:44:19.223Z"
   },
   {
    "duration": 139,
    "start_time": "2024-12-13T04:44:52.118Z"
   },
   {
    "duration": 19667,
    "start_time": "2024-12-13T04:45:40.599Z"
   },
   {
    "duration": 842,
    "start_time": "2024-12-13T04:47:00.857Z"
   },
   {
    "duration": 13,
    "start_time": "2024-12-13T04:47:01.702Z"
   },
   {
    "duration": 14,
    "start_time": "2024-12-13T04:47:01.716Z"
   },
   {
    "duration": 9,
    "start_time": "2024-12-13T04:47:01.733Z"
   },
   {
    "duration": 9,
    "start_time": "2024-12-13T04:47:01.743Z"
   },
   {
    "duration": 6,
    "start_time": "2024-12-13T04:47:01.754Z"
   },
   {
    "duration": 174,
    "start_time": "2024-12-13T04:47:01.761Z"
   },
   {
    "duration": 139,
    "start_time": "2024-12-13T04:48:17.934Z"
   },
   {
    "duration": 206,
    "start_time": "2024-12-13T04:48:26.275Z"
   },
   {
    "duration": 7,
    "start_time": "2024-12-13T04:50:52.638Z"
   },
   {
    "duration": 3,
    "start_time": "2024-12-13T04:51:16.200Z"
   },
   {
    "duration": 5,
    "start_time": "2024-12-13T04:51:35.200Z"
   },
   {
    "duration": 1088,
    "start_time": "2024-12-13T04:52:44.061Z"
   },
   {
    "duration": 182,
    "start_time": "2024-12-13T04:53:30.674Z"
   },
   {
    "duration": 177,
    "start_time": "2024-12-13T04:54:21.859Z"
   },
   {
    "duration": 146,
    "start_time": "2024-12-13T04:58:01.551Z"
   },
   {
    "duration": 135,
    "start_time": "2024-12-13T05:05:00.798Z"
   },
   {
    "duration": 124,
    "start_time": "2024-12-13T05:05:22.648Z"
   },
   {
    "duration": 128,
    "start_time": "2024-12-13T05:06:22.837Z"
   },
   {
    "duration": 124,
    "start_time": "2024-12-13T05:07:20.759Z"
   },
   {
    "duration": 137,
    "start_time": "2024-12-13T05:08:05.241Z"
   },
   {
    "duration": 277,
    "start_time": "2024-12-13T05:12:51.585Z"
   },
   {
    "duration": 879,
    "start_time": "2024-12-13T05:13:27.937Z"
   },
   {
    "duration": 17,
    "start_time": "2024-12-13T05:13:28.818Z"
   },
   {
    "duration": 10,
    "start_time": "2024-12-13T05:13:28.837Z"
   },
   {
    "duration": 8,
    "start_time": "2024-12-13T05:13:28.849Z"
   },
   {
    "duration": 8,
    "start_time": "2024-12-13T05:13:28.859Z"
   },
   {
    "duration": 5,
    "start_time": "2024-12-13T05:13:28.869Z"
   },
   {
    "duration": 298,
    "start_time": "2024-12-13T05:13:28.876Z"
   },
   {
    "duration": 270,
    "start_time": "2024-12-13T05:13:45.273Z"
   },
   {
    "duration": 313,
    "start_time": "2024-12-13T05:14:06.803Z"
   },
   {
    "duration": 158,
    "start_time": "2024-12-13T05:14:36.153Z"
   },
   {
    "duration": 130,
    "start_time": "2024-12-13T05:21:50.583Z"
   },
   {
    "duration": 113,
    "start_time": "2024-12-13T05:28:06.172Z"
   },
   {
    "duration": 5387,
    "start_time": "2024-12-13T05:28:21.981Z"
   },
   {
    "duration": 1730,
    "start_time": "2024-12-13T05:28:34.335Z"
   },
   {
    "duration": 173,
    "start_time": "2024-12-13T05:28:42.283Z"
   },
   {
    "duration": 144,
    "start_time": "2024-12-13T05:29:08.388Z"
   },
   {
    "duration": 157,
    "start_time": "2024-12-13T05:29:26.167Z"
   },
   {
    "duration": 185,
    "start_time": "2024-12-13T05:29:38.448Z"
   },
   {
    "duration": 162,
    "start_time": "2024-12-13T05:31:37.789Z"
   },
   {
    "duration": 170,
    "start_time": "2024-12-13T05:31:47.129Z"
   },
   {
    "duration": 201,
    "start_time": "2024-12-13T05:32:18.060Z"
   },
   {
    "duration": 106,
    "start_time": "2024-12-13T05:32:49.208Z"
   },
   {
    "duration": 155,
    "start_time": "2024-12-13T05:32:55.359Z"
   },
   {
    "duration": 146,
    "start_time": "2024-12-13T05:33:05.216Z"
   },
   {
    "duration": 142,
    "start_time": "2024-12-13T05:33:12.997Z"
   },
   {
    "duration": 135,
    "start_time": "2024-12-13T05:33:22.463Z"
   },
   {
    "duration": 172,
    "start_time": "2024-12-13T05:33:32.371Z"
   },
   {
    "duration": 151,
    "start_time": "2024-12-13T05:33:43.125Z"
   },
   {
    "duration": 837,
    "start_time": "2024-12-13T05:38:25.453Z"
   },
   {
    "duration": 12,
    "start_time": "2024-12-13T05:38:26.292Z"
   },
   {
    "duration": 19,
    "start_time": "2024-12-13T05:38:26.306Z"
   },
   {
    "duration": 8,
    "start_time": "2024-12-13T05:38:26.327Z"
   },
   {
    "duration": 8,
    "start_time": "2024-12-13T05:38:26.336Z"
   },
   {
    "duration": 6,
    "start_time": "2024-12-13T05:38:26.346Z"
   },
   {
    "duration": 195,
    "start_time": "2024-12-13T05:38:26.354Z"
   },
   {
    "duration": 149,
    "start_time": "2024-12-13T05:38:26.552Z"
   },
   {
    "duration": 14,
    "start_time": "2024-12-13T05:46:21.291Z"
   },
   {
    "duration": 10,
    "start_time": "2024-12-13T05:47:01.376Z"
   },
   {
    "duration": 12,
    "start_time": "2024-12-13T05:52:58.137Z"
   },
   {
    "duration": 12,
    "start_time": "2024-12-13T05:53:08.417Z"
   },
   {
    "duration": 12,
    "start_time": "2024-12-13T05:53:16.476Z"
   },
   {
    "duration": 7,
    "start_time": "2024-12-13T05:54:31.370Z"
   },
   {
    "duration": 12,
    "start_time": "2024-12-13T05:56:36.711Z"
   },
   {
    "duration": 645,
    "start_time": "2024-12-13T05:58:20.543Z"
   },
   {
    "duration": 6,
    "start_time": "2024-12-13T05:58:36.497Z"
   },
   {
    "duration": 7,
    "start_time": "2024-12-13T05:58:50.375Z"
   },
   {
    "duration": 2572,
    "start_time": "2024-12-18T19:26:51.374Z"
   },
   {
    "duration": 17,
    "start_time": "2024-12-18T19:26:53.948Z"
   },
   {
    "duration": 13,
    "start_time": "2024-12-18T19:26:53.967Z"
   },
   {
    "duration": 10,
    "start_time": "2024-12-18T19:26:53.983Z"
   },
   {
    "duration": 9,
    "start_time": "2024-12-18T19:26:53.995Z"
   },
   {
    "duration": 26,
    "start_time": "2024-12-18T19:26:54.006Z"
   },
   {
    "duration": 191,
    "start_time": "2024-12-18T19:26:54.034Z"
   },
   {
    "duration": 149,
    "start_time": "2024-12-18T19:26:54.227Z"
   },
   {
    "duration": 11,
    "start_time": "2024-12-18T19:26:54.378Z"
   },
   {
    "duration": 8,
    "start_time": "2024-12-18T19:26:54.391Z"
   },
   {
    "duration": 858,
    "start_time": "2024-12-18T23:39:07.525Z"
   },
   {
    "duration": 15,
    "start_time": "2024-12-18T23:39:08.385Z"
   },
   {
    "duration": 14,
    "start_time": "2024-12-18T23:39:09.009Z"
   },
   {
    "duration": 10,
    "start_time": "2024-12-18T23:39:10.305Z"
   },
   {
    "duration": 10,
    "start_time": "2024-12-18T23:39:34.050Z"
   },
   {
    "duration": 7,
    "start_time": "2024-12-18T23:39:34.380Z"
   },
   {
    "duration": 184,
    "start_time": "2024-12-18T23:39:36.903Z"
   },
   {
    "duration": 142,
    "start_time": "2024-12-18T23:39:53.213Z"
   },
   {
    "duration": 12,
    "start_time": "2024-12-18T23:40:17.483Z"
   },
   {
    "duration": 9,
    "start_time": "2024-12-18T23:40:18.197Z"
   }
  ],
  "kernelspec": {
   "display_name": "Python 3 (ipykernel)",
   "language": "python",
   "name": "python3"
  },
  "language_info": {
   "codemirror_mode": {
    "name": "ipython",
    "version": 3
   },
   "file_extension": ".py",
   "mimetype": "text/x-python",
   "name": "python",
   "nbconvert_exporter": "python",
   "pygments_lexer": "ipython3",
   "version": "3.9.19"
  },
  "toc": {
   "base_numbering": 1,
   "nav_menu": {},
   "number_sections": true,
   "sideBar": true,
   "skip_h1_title": true,
   "title_cell": "Table of Contents",
   "title_sidebar": "Contents",
   "toc_cell": false,
   "toc_position": {},
   "toc_section_display": true,
   "toc_window_display": false
  }
 },
 "nbformat": 4,
 "nbformat_minor": 2
}
