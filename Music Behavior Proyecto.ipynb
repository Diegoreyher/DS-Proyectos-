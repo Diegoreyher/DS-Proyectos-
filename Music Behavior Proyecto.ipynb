{
 "cells": [
  {
   "cell_type": "markdown",
   "metadata": {},
   "source": [
    "¡Hola!\n",
    "\n",
    "Mi nombre es Tonatiuh Cruz. Me complace revisar tu proyecto hoy.\n",
    "\n",
    "Al identificar cualquier error inicialmente, simplemente los destacaré. Te animo a localizar y abordar los problemas de forma independiente como parte de tu preparación para un rol como data-scientist. En un entorno profesional, tu líder de equipo seguiría un enfoque similar. Si encuentras la tarea desafiante, proporcionaré una pista más específica en la próxima iteración.\n",
    "\n",
    "Encontrarás mis comentarios a continuación - **por favor no los muevas, modifiques o elimines**.\n",
    "\n",
    "Puedes encontrar mis comentarios en cajas verdes, amarillas o rojas como esta:\n",
    "\n",
    "<div class=\"alert alert-block alert-success\">\n",
    "<b>Comentario del revisor</b> <a class=\"tocSkip\"></a>\n",
    "\n",
    "Éxito. Todo está hecho correctamente.\n",
    "</div>\n",
    "\n",
    "<div class=\"alert alert-block alert-warning\">\n",
    "<b>Comentario del revisor</b> <a class=\"tocSkip\"></a>\n",
    "\n",
    "Observaciones. Algunas recomendaciones.\n",
    "</div>\n",
    "\n",
    "<div class=\"alert alert-block alert-danger\">\n",
    "<b>Comentario del revisor</b> <a class=\"tocSkip\"></a>\n",
    "\n",
    "Necesita corrección. El bloque requiere algunas correcciones. El trabajo no puede ser aceptado con comentarios en rojo.\n",
    "</div>\n",
    "\n",
    "Puedes responderme utilizando esto:\n",
    "\n",
    "<div class=\"alert alert-block alert-info\">\n",
    "<b>Respuesta del estudiante.</b> <a class=\"tocSkip\"></a>\n",
    "</div>"
   ]
  },
  {
   "cell_type": "markdown",
   "metadata": {
    "id": "E0vqbgi9ay0H"
   },
   "source": [
    "# Déjame escuchar la música"
   ]
  },
  {
   "cell_type": "markdown",
   "metadata": {
    "id": "fhq_eyov_Zcs"
   },
   "source": [
    "# Contenido <a id='back'></a>\n",
    "\n",
    "* [Introducción](#intro)\n",
    "* [Etapa 1. Descripción de los datos](#data_review)\n",
    "    * [Conclusiones](#data_review_conclusions)\n",
    "* [Etapa 2. Preprocesamiento de datos](#data_preprocessing)\n",
    "    * [2.1 Estilo del encabezado](#header_style)\n",
    "    * [2.2 Valores ausentes](#missing_values)\n",
    "    * [2.3 Duplicados](#duplicates)\n",
    "    * [2.4 Conclusiones](#data_preprocessing_conclusions)\n",
    "* [Etapa 3. Prueba de hipótesis](#hypothesis)\n",
    "    * [3.1 Hipótesis 1: actividad de los usuarios y las usuarias en las dos ciudades](#activity)\n",
    "* [Conclusiones](#end)"
   ]
  },
  {
   "cell_type": "markdown",
   "metadata": {},
   "source": [
    "<div class=\"alert alert-block alert-warning\">\n",
    "<b>Comentario del revisor</b> <a class=\"tocSkip\"></a>\n",
    "\n",
    "La tabla de contenidos está bien estructurada, pero sería útil si estuviera enlazada a las secciones correspondientes, de manera que al hacer clic se pueda acceder directamente a cada una. Esto facilitaría la navegación.\n",
    "\n",
    "Un consejo útil: si etiquetas correctamente todas las secciones con sus respectivos números (#), puedes generar automáticamente la tabla de contenidos desde Jupyter Lab. Simplemente ve a la pestaña de herramientas y haz clic en el botón de los puntos y barras (Table of contents). Esto te generará una tabla de contenidos enlazada y visualmente atractiva. El botón está ubicado a la derecha del botón \"Validate\".\n",
    "</div>"
   ]
  },
  {
   "cell_type": "markdown",
   "metadata": {
    "id": "VUC88oWjTJw2"
   },
   "source": [
    "## Introducción <a id='intro'></a>\n",
    "Como analista de datos, tu trabajo consiste en analizar datos para extraer información valiosa y tomar decisiones basadas en ellos. Esto implica diferentes etapas, como la descripción general de los datos, el preprocesamiento y la prueba de hipótesis.\n",
    "\n",
    "Siempre que investigamos, necesitamos formular hipótesis que después podamos probar. A veces aceptamos estas hipótesis; otras veces, las rechazamos. Para tomar las decisiones correctas, una empresa debe ser capaz de entender si está haciendo las suposiciones correctas.\n",
    "\n",
    "En este proyecto, compararás las preferencias musicales de las ciudades de Springfield y Shelbyville. Estudiarás datos reales de transmisión de música online para probar la hipótesis a continuación y comparar el comportamiento de los usuarios y las usuarias de estas dos ciudades.\n",
    "\n",
    "### Objetivo:\n",
    "Prueba la hipótesis:\n",
    "1. La actividad de los usuarios y las usuarias difiere según el día de la semana y dependiendo de la ciudad.\n",
    "\n",
    "\n",
    "### Etapas\n",
    "Los datos del comportamiento del usuario se almacenan en el archivo `/datasets/music_project_en.csv`. No hay ninguna información sobre la calidad de los datos, así que necesitarás examinarlos antes de probar la hipótesis.\n",
    "\n",
    "Primero, evaluarás la calidad de los datos y verás si los problemas son significativos. Entonces, durante el preprocesamiento de datos, tomarás en cuenta los problemas más críticos.\n",
    "\n",
    "Tu proyecto consistirá en tres etapas:\n",
    " 1. Descripción de los datos.\n",
    " 2. Preprocesamiento de datos.\n",
    " 3. Prueba de hipótesis.\n",
    "\n",
    "\n",
    "\n",
    "\n",
    "\n",
    "\n"
   ]
  },
  {
   "cell_type": "markdown",
   "metadata": {},
   "source": [
    "<div class=\"alert alert-block alert-success\">\n",
    "<b>Comentario del revisor</b> <a class=\"tocSkip\"></a>\n",
    "\n",
    "¡Hola! Excelente trabajo que has hecho al desarrollar la introducción. Esto es crucial para cualquier proyecto, ya que establece una guía clara sobre los pasos a seguir. Tener estos elementos bien definidos desde el principio nos permite trabajar de manera más organizada y eficiente. En un futuro lo podrías complementar con una tabla de contenido. Recuerda intentar agregar este apartado en todos tus proyectos.\n",
    "</div>"
   ]
  },
  {
   "cell_type": "markdown",
   "metadata": {
    "id": "hDt6pg-Rw-1U"
   },
   "source": [
    "[Volver a Contenidos](#back)"
   ]
  },
  {
   "cell_type": "markdown",
   "metadata": {
    "id": "Ml1hmfXC_Zcs"
   },
   "source": [
    "## Etapa 1. Descripción de los datos <a id='data_review'></a>\n",
    "\n",
    "Abre los datos y examínalos."
   ]
  },
  {
   "cell_type": "markdown",
   "metadata": {
    "id": "57eAOGIz_Zcs"
   },
   "source": [
    "Necesitarás `pandas`, así que impórtalo."
   ]
  },
  {
   "cell_type": "code",
   "execution_count": 1,
   "metadata": {
    "id": "AXN7PHPN_Zcs"
   },
   "outputs": [],
   "source": [
    "import pandas as pd# Importar pandas\n"
   ]
  },
  {
   "cell_type": "markdown",
   "metadata": {
    "id": "SG23P8tt_Zcs"
   },
   "source": [
    "Lee el archivo `music_project_en.csv` de la carpeta `/datasets/` y guárdalo en la variable `df`:"
   ]
  },
  {
   "cell_type": "code",
   "execution_count": 2,
   "metadata": {
    "id": "fFVu7vqh_Zct"
   },
   "outputs": [],
   "source": [
    "df= pd.read_csv('/datasets/music_project_en.csv')# Leer el archivo y almacenarlo en df\n"
   ]
  },
  {
   "cell_type": "markdown",
   "metadata": {},
   "source": [
    "<div class=\"alert alert-block alert-success\">\n",
    "<b>Comentario del revisor:</b> <a class=\"tocSkip\"></a>\n",
    "    \n",
    "Has realizado un excelente trabajo al importar los datos y las bibliotecas necesarias.\n",
    "\n",
    "</div>"
   ]
  },
  {
   "cell_type": "markdown",
   "metadata": {
    "id": "rDoOMd3uTqnZ"
   },
   "source": [
    "Muestra las 10 primeras filas de la tabla:"
   ]
  },
  {
   "cell_type": "code",
   "execution_count": 3,
   "metadata": {
    "id": "oWTVX3gW_Zct"
   },
   "outputs": [
    {
     "name": "stdout",
     "output_type": "stream",
     "text": [
      "     userID                        Track            artist   genre  \\\n",
      "0  FFB692EC            Kamigata To Boots  The Mass Missile    rock   \n",
      "1  55204538  Delayed Because of Accident  Andreas Rönnberg    rock   \n",
      "2    20EC38            Funiculì funiculà       Mario Lanza     pop   \n",
      "3  A3DD03C9        Dragons in the Sunset        Fire + Ice    folk   \n",
      "4  E2DC1FAE                  Soul People        Space Echo   dance   \n",
      "5  842029A1                       Chains          Obladaet  rusrap   \n",
      "6  4CB90AA5                         True      Roman Messer   dance   \n",
      "7  F03E1C1F             Feeling This Way   Polina Griffith   dance   \n",
      "8  8FA1D3BE                     L’estate       Julia Dalia  ruspop   \n",
      "9  E772D5C0                    Pessimist               NaN   dance   \n",
      "\n",
      "        City        time        Day  \n",
      "0  Shelbyville  20:28:33  Wednesday  \n",
      "1  Springfield  14:07:09     Friday  \n",
      "2  Shelbyville  20:58:07  Wednesday  \n",
      "3  Shelbyville  08:37:09     Monday  \n",
      "4  Springfield  08:34:34     Monday  \n",
      "5  Shelbyville  13:09:41     Friday  \n",
      "6  Springfield  13:00:07  Wednesday  \n",
      "7  Springfield  20:47:49  Wednesday  \n",
      "8  Springfield  09:17:40     Friday  \n",
      "9  Shelbyville  21:20:49  Wednesday  \n"
     ]
    }
   ],
   "source": [
    "print(df.head(10))# Obtener las 10 primeras filas de la tabla df\n"
   ]
  },
  {
   "cell_type": "markdown",
   "metadata": {
    "id": "EO73Kwic_Zct"
   },
   "source": [
    "Obtén la información general sobre la tabla con un comando. Conoces el método que muestra la información general que necesitamos."
   ]
  },
  {
   "cell_type": "code",
   "execution_count": 4,
   "metadata": {
    "id": "DSf2kIb-_Zct"
   },
   "outputs": [
    {
     "name": "stdout",
     "output_type": "stream",
     "text": [
      "<bound method DataFrame.info of          userID                              Track            artist  \\\n",
      "0      FFB692EC                  Kamigata To Boots  The Mass Missile   \n",
      "1      55204538        Delayed Because of Accident  Andreas Rönnberg   \n",
      "2        20EC38                  Funiculì funiculà       Mario Lanza   \n",
      "3      A3DD03C9              Dragons in the Sunset        Fire + Ice   \n",
      "4      E2DC1FAE                        Soul People        Space Echo   \n",
      "...         ...                                ...               ...   \n",
      "65074  729CBB09                            My Name            McLean   \n",
      "65075  D08D4A55  Maybe One Day (feat. Black Spade)       Blu & Exile   \n",
      "65076  C5E3A0D5                          Jalopiina               NaN   \n",
      "65077  321D0506                      Freight Train     Chas McDevitt   \n",
      "65078  3A64EF84          Tell Me Sweet Little Lies      Monica Lopez   \n",
      "\n",
      "            genre       City        time        Day  \n",
      "0            rock  Shelbyville  20:28:33  Wednesday  \n",
      "1            rock  Springfield  14:07:09     Friday  \n",
      "2             pop  Shelbyville  20:58:07  Wednesday  \n",
      "3            folk  Shelbyville  08:37:09     Monday  \n",
      "4           dance  Springfield  08:34:34     Monday  \n",
      "...           ...          ...       ...        ...  \n",
      "65074         rnb  Springfield  13:32:28  Wednesday  \n",
      "65075         hip  Shelbyville  10:00:00     Monday  \n",
      "65076  industrial  Springfield  20:09:26     Friday  \n",
      "65077        rock  Springfield  21:43:59     Friday  \n",
      "65078     country  Springfield  21:59:46     Friday  \n",
      "\n",
      "[65079 rows x 7 columns]>\n"
     ]
    }
   ],
   "source": [
    "print(df.info)# Obtener la información general sobre nuestros datos\n"
   ]
  },
  {
   "cell_type": "markdown",
   "metadata": {
    "id": "TaQ2Iwbr_Zct"
   },
   "source": [
    "Estas son nuestras observaciones sobre la tabla. Contiene siete columnas. Almacenan los mismos tipos de datos: `object`.\n",
    "\n",
    "Según la documentación:\n",
    "- `' userID'`: identificador del usuario o la usuaria;\n",
    "- `'Track'`: título de la canción;\n",
    "- `'artist'`: nombre del artista;\n",
    "- `'genre'`: género de la pista;\n",
    "- `'City'`: ciudad del usuario o la usuaria;\n",
    "- `'time'`: la hora exacta en la que se reprodujo la canción;\n",
    "- `'Day'`: día de la semana.\n",
    "\n",
    "Podemos ver tres problemas con el estilo en los encabezados de la tabla:\n",
    "1. Algunos encabezados están en mayúsculas, otros en minúsculas.\n",
    "2. Hay espacios en algunos encabezados.\n",
    "3. `Detecta el tercer problema por tu cuenta y descríbelo aquí`.\n",
    "El encabezado de userID no sigue la regla de snake_case\n",
    "\n"
   ]
  },
  {
   "cell_type": "markdown",
   "metadata": {
    "id": "MCB6-dXG_Zct"
   },
   "source": [
    "### Escribe observaciones de tu parte. Estas son algunas de las preguntas que pueden ser útiles: <a id='data_review_conclusions'></a>\n",
    "\n",
    "`1.   ¿Qué tipo de datos tenemos a nuestra disposición en las filas? ¿Y cómo podemos entender lo que almacenan las columnas?`\n",
    "\n",
    "Se tiene una reproducción de una canción por cada fila. Las columnas almacenan las características al momento de esa reproduccion. \n",
    "Destacando las mas importantes como: el usuario que hizo esa reproduccion, la fecha, hora y en que ciudad.\n",
    "\n",
    "`2.   ¿Hay suficientes datos para proporcionar respuestas a nuestra hipótesis o necesitamos más información?`\n",
    "\n",
    "Se necesitan agrupar los datos de acuerdo con la ciudad de donde viene la reproduccion. Ya que todavia no existe un orden.\n",
    "\n",
    "`3.   ¿Notaste algún problema en los datos, como valores ausentes, duplicados o tipos de datos incorrectos?`\n",
    "\n",
    "Unicamente en la antepenultima fila existe un valor NaN en el artista de la cancion.\n",
    "\n"
   ]
  },
  {
   "cell_type": "markdown",
   "metadata": {},
   "source": [
    "<div class=\"alert alert-block alert-success\">\n",
    "<b>Comentario del revisor</b> <a class=\"tocSkip\"></a>\n",
    "\n",
    "Muy buen trabajo! Excelentes observaciones de tu parte. </div>"
   ]
  },
  {
   "cell_type": "markdown",
   "metadata": {
    "id": "3eL__vcwViOi"
   },
   "source": [
    "[Volver a Contenidos](#back)"
   ]
  },
  {
   "cell_type": "markdown",
   "metadata": {
    "id": "SjYF6Ub9_Zct"
   },
   "source": [
    "## Etapa 2. Preprocesamiento de datos <a id='data_preprocessing'></a>\n",
    "\n",
    "El objetivo aquí es preparar los datos para que sean analizados.\n",
    "El primer paso es resolver cualquier problema con los encabezados. Luego podemos avanzar a los valores ausentes y duplicados. Empecemos.\n",
    "\n",
    "Corrige el formato en los encabezados de la tabla.\n"
   ]
  },
  {
   "cell_type": "markdown",
   "metadata": {
    "id": "dIaKXr29_Zct"
   },
   "source": [
    "### Estilo del encabezado <a id='header_style'></a>\n",
    "Muestra los encabezados de la tabla (los nombres de las columnas):"
   ]
  },
  {
   "cell_type": "code",
   "execution_count": 6,
   "metadata": {
    "id": "oKOTdF_Q_Zct"
   },
   "outputs": [
    {
     "name": "stdout",
     "output_type": "stream",
     "text": [
      "Index(['  userID', 'Track', 'artist', 'genre', '  City  ', 'time', 'Day'], dtype='object')\n"
     ]
    }
   ],
   "source": [
    "print(df.columns)# Muestra los nombres de las columnas\n"
   ]
  },
  {
   "cell_type": "markdown",
   "metadata": {
    "id": "zj5534cv_Zct"
   },
   "source": [
    "Cambia los encabezados de la tabla de acuerdo con las reglas del buen estilo:\n",
    "* Todos los caracteres deben ser minúsculas.\n",
    "* Elimina los espacios.\n",
    "* Si el nombre tiene varias palabras, utiliza snake_case."
   ]
  },
  {
   "cell_type": "markdown",
   "metadata": {
    "id": "Xu0zkfe5zNJe"
   },
   "source": [
    "Anteriormente, aprendiste acerca de la forma automática de cambiar el nombre de las columnas. Vamos a aplicarla ahora. Utiliza el bucle for para iterar sobre los nombres de las columnas y poner todos los caracteres en minúsculas. Cuando hayas terminado, vuelve a mostrar los encabezados de la tabla:"
   ]
  },
  {
   "cell_type": "code",
   "execution_count": 7,
   "metadata": {
    "id": "6I_RwwMhzM4e"
   },
   "outputs": [
    {
     "name": "stdout",
     "output_type": "stream",
     "text": [
      "['user_id', 'track', 'artist', 'genre', 'city', 'time', 'day']\n"
     ]
    }
   ],
   "source": [
    "new_columns=[]\n",
    "for value in df.columns:\n",
    "    stripped = value.strip()\n",
    "    lowered = stripped.lower()\n",
    "    if lowered == 'userid':\n",
    "        lowered = lowered.replace('i','_i')\n",
    "    new_columns.append(lowered)\n",
    "print(new_columns)\n",
    "df.columns=new_columns\n"
   ]
  },
  {
   "cell_type": "markdown",
   "metadata": {},
   "source": [
    "<div class=\"alert alert-block alert-success\">\n",
    "<b>Comentario del revisor</b> <a class=\"tocSkip\"></a>\n",
    "\n",
    "Gran trabajo en hacer uso de un ciclo for para aplicar la función lower() en todas las columnas d ela base</div>"
   ]
  },
  {
   "cell_type": "markdown",
   "metadata": {
    "id": "pweIRxjSzPYW"
   },
   "source": [
    "Ahora, utilizando el mismo método, elimina los espacios al principio y al final de los nombres de las columnas e imprime los nombres de las columnas nuevamente:"
   ]
  },
  {
   "cell_type": "code",
   "execution_count": null,
   "metadata": {
    "id": "vVQXbFyJzSYl"
   },
   "outputs": [],
   "source": [
    "#Se guardo todo en un bucle, pero la línea de codigo utilizada fue:\n",
    "                                         #stripped = value.strip()\n",
    "# Bucle en los encabezados eliminando los espacios"
   ]
  },
  {
   "cell_type": "markdown",
   "metadata": {
    "id": "yCb8MW1JzURd"
   },
   "source": [
    "Necesitamos aplicar la regla de snake_case a la columna `userid`. Debe ser `user_id`. Cambia el nombre de esta columna y muestra los nombres de todas las columnas cuando hayas terminado."
   ]
  },
  {
   "cell_type": "code",
   "execution_count": null,
   "metadata": {
    "id": "ISlFqs5y_Zct"
   },
   "outputs": [],
   "source": [
    "#Debido a que es el unico encabezado conformado por dos palabras, se ocupo un if para detectar cuando fuera llamado por el\n",
    "#bucle for, de esta manera se aplica el snake_case\n",
    "                                        # if lowered == 'userid':\n",
    "                                                #lowered = lowered.replace('i','_i')\n",
    "# Cambiar el nombre de la columna \"userid\"\n"
   ]
  },
  {
   "cell_type": "markdown",
   "metadata": {
    "id": "1dqbh00J_Zct"
   },
   "source": [
    "Comprueba el resultado. Muestra los encabezados una vez más:"
   ]
  },
  {
   "cell_type": "code",
   "execution_count": 8,
   "metadata": {
    "id": "d4NOAmTW_Zct"
   },
   "outputs": [
    {
     "name": "stdout",
     "output_type": "stream",
     "text": [
      "    user_id                        track            artist   genre  \\\n",
      "0  FFB692EC            Kamigata To Boots  The Mass Missile    rock   \n",
      "1  55204538  Delayed Because of Accident  Andreas Rönnberg    rock   \n",
      "2    20EC38            Funiculì funiculà       Mario Lanza     pop   \n",
      "3  A3DD03C9        Dragons in the Sunset        Fire + Ice    folk   \n",
      "4  E2DC1FAE                  Soul People        Space Echo   dance   \n",
      "5  842029A1                       Chains          Obladaet  rusrap   \n",
      "6  4CB90AA5                         True      Roman Messer   dance   \n",
      "7  F03E1C1F             Feeling This Way   Polina Griffith   dance   \n",
      "8  8FA1D3BE                     L’estate       Julia Dalia  ruspop   \n",
      "9  E772D5C0                    Pessimist               NaN   dance   \n",
      "\n",
      "          city      time        day  \n",
      "0  Shelbyville  20:28:33  Wednesday  \n",
      "1  Springfield  14:07:09     Friday  \n",
      "2  Shelbyville  20:58:07  Wednesday  \n",
      "3  Shelbyville  08:37:09     Monday  \n",
      "4  Springfield  08:34:34     Monday  \n",
      "5  Shelbyville  13:09:41     Friday  \n",
      "6  Springfield  13:00:07  Wednesday  \n",
      "7  Springfield  20:47:49  Wednesday  \n",
      "8  Springfield  09:17:40     Friday  \n",
      "9  Shelbyville  21:20:49  Wednesday  \n"
     ]
    }
   ],
   "source": [
    "# Comprobar el resultado: la lista de encabezados\n",
    "print(df.head(10))\n",
    "# Resultado de encabezados modificados en el data set"
   ]
  },
  {
   "cell_type": "markdown",
   "metadata": {},
   "source": [
    "<div class=\"alert alert-block alert-success\">\n",
    "<b>Comentario del revisor</b> <a class=\"tocSkip\"></a>\n",
    "\n",
    "Muy buen trabajo! Ajustaste todos los elementos</div>"
   ]
  },
  {
   "cell_type": "markdown",
   "metadata": {
    "id": "xYJk6ksJVpOl"
   },
   "source": [
    "[Volver a Contenidos](#back)"
   ]
  },
  {
   "cell_type": "markdown",
   "metadata": {
    "id": "5ISfbcfY_Zct"
   },
   "source": [
    "### Valores ausentes <a id='missing_values'></a>\n",
    " Primero, encuentra el número de valores ausentes en la tabla. Debes utilizar dos métodos en una secuencia para obtener el número de valores ausentes."
   ]
  },
  {
   "cell_type": "code",
   "execution_count": 9,
   "metadata": {
    "id": "RskX29qr_Zct"
   },
   "outputs": [
    {
     "name": "stdout",
     "output_type": "stream",
     "text": [
      "user_id       0\n",
      "track      1343\n",
      "artist     7567\n",
      "genre      1198\n",
      "city          0\n",
      "time          0\n",
      "day           0\n",
      "dtype: int64\n"
     ]
    }
   ],
   "source": [
    "print(df.isna().sum())\n",
    "# Calcular el número de valores ausentes\n",
    "#track      1343\n",
    "#artist     7567\n",
    "#genre      1198"
   ]
  },
  {
   "cell_type": "markdown",
   "metadata": {
    "id": "qubhgnlO_Zct"
   },
   "source": [
    "No todos los valores ausentes afectan a la investigación. Por ejemplo, los valores ausentes en `track` y `artist` no son cruciales. Simplemente puedes reemplazarlos con valores predeterminados como el string `'unknown'` (desconocido).\n",
    "\n",
    "Pero los valores ausentes en `'genre'` pueden afectar la comparación entre las preferencias musicales de Springfield y Shelbyville. En la vida real, sería útil saber las razones por las cuales hay datos ausentes e intentar recuperarlos. Pero no tenemos esa oportunidad en este proyecto. Así que tendrás que:\n",
    "* rellenar estos valores ausentes con un valor predeterminado;\n",
    "* evaluar cuánto podrían afectar los valores ausentes a tus cómputos;"
   ]
  },
  {
   "cell_type": "markdown",
   "metadata": {
    "id": "fSv2laPA_Zct"
   },
   "source": [
    "Reemplazar los valores ausentes en las columnas `'track'`, `'artist'` y `'genre'` con el string `'unknown'`. Como mostramos anteriormente en las lecciones, la mejor forma de hacerlo es crear una lista que almacene los nombres de las columnas donde se necesita el reemplazo. Luego, utiliza esta lista e itera sobre las columnas donde se necesita el reemplazo haciendo el propio reemplazo."
   ]
  },
  {
   "cell_type": "code",
   "execution_count": 10,
   "metadata": {
    "id": "KplB5qWs_Zct"
   },
   "outputs": [],
   "source": [
    "columns_selected= ['artist','track','genre']\n",
    "for value in columns_selected:\n",
    "    df[value].fillna('unknown',inplace=True)\n",
    "# Bucle en los encabezados reemplazando los valores ausentes con 'unknown'\n"
   ]
  },
  {
   "cell_type": "markdown",
   "metadata": {
    "id": "Ilsm-MZo_Zct"
   },
   "source": [
    "Ahora comprueba el resultado para asegurarte de que después del reemplazo no haya valores ausentes en el conjunto de datos. Para hacer esto, cuenta los valores ausentes nuevamente."
   ]
  },
  {
   "cell_type": "code",
   "execution_count": 11,
   "metadata": {
    "id": "Tq4nYRX4_Zct"
   },
   "outputs": [
    {
     "name": "stdout",
     "output_type": "stream",
     "text": [
      "user_id    0\n",
      "track      0\n",
      "artist     0\n",
      "genre      0\n",
      "city       0\n",
      "time       0\n",
      "day        0\n",
      "dtype: int64\n"
     ]
    }
   ],
   "source": [
    "print(df.isna().sum())# Contar valores ausentes\n"
   ]
  },
  {
   "cell_type": "markdown",
   "metadata": {},
   "source": [
    "\n",
    "<div class=\"alert alert-block alert-success\">\n",
    "<b>Comentario del revisor</b> <a class=\"tocSkip\"></a>\n",
    "\n",
    "Muy buen trabajo! Ajustaste todos los elementos con valores ausentes y los cambiaste con una etiqueta \"unkown\" que nos permite identificarlos</div>"
   ]
  },
  {
   "cell_type": "markdown",
   "metadata": {
    "id": "74ZIBmq9VrsK"
   },
   "source": [
    "[Volver a Contenidos](#back)"
   ]
  },
  {
   "cell_type": "markdown",
   "metadata": {
    "id": "BWKRtBJ3_Zct"
   },
   "source": [
    "### Duplicados <a id='duplicates'></a>\n",
    "Encuentra el número de duplicados explícitos en la tabla. Una vez más, debes aplicar dos métodos en una secuencia para obtener la cantidad de duplicados explícitos."
   ]
  },
  {
   "cell_type": "code",
   "execution_count": 12,
   "metadata": {
    "id": "36eES_S0_Zct"
   },
   "outputs": [
    {
     "name": "stdout",
     "output_type": "stream",
     "text": [
      "3826\n"
     ]
    }
   ],
   "source": [
    "print(df.duplicated().sum())\n",
    "# Contar duplicados explícitos\n",
    "#=3826\n"
   ]
  },
  {
   "cell_type": "markdown",
   "metadata": {
    "id": "Ot25h6XR_Zct"
   },
   "source": [
    "Ahora, elimina todos los duplicados. Para ello, llama al método que hace exactamente esto."
   ]
  },
  {
   "cell_type": "code",
   "execution_count": 13,
   "metadata": {
    "id": "exFHq6tt_Zct"
   },
   "outputs": [
    {
     "name": "stdout",
     "output_type": "stream",
     "text": [
      "0\n"
     ]
    }
   ],
   "source": [
    "df=df.drop_duplicates()\n",
    "print(df.duplicated().sum())\n",
    "# Eliminar duplicados explícitos\n"
   ]
  },
  {
   "cell_type": "markdown",
   "metadata": {
    "id": "Im2YwBEG_Zct"
   },
   "source": [
    "Comprobemos ahora si eliminamos con éxito todos los duplicados. Cuenta los duplicados explícitos una vez más para asegurarte de haberlos eliminado todos:"
   ]
  },
  {
   "cell_type": "code",
   "execution_count": 14,
   "metadata": {
    "id": "-8PuNWQ0_Zct"
   },
   "outputs": [
    {
     "name": "stdout",
     "output_type": "stream",
     "text": [
      "0\n"
     ]
    }
   ],
   "source": [
    "print(df.duplicated().sum())\n",
    "# Comprobar de nuevo si hay duplicados\n",
    "\n"
   ]
  },
  {
   "cell_type": "markdown",
   "metadata": {
    "id": "QlFBsxAr_Zct"
   },
   "source": [
    "Ahora queremos deshacernos de los duplicados implícitos en la columna `genre`. Por ejemplo, el nombre de un género se puede escribir de varias formas. Dichos errores también pueden afectar al resultado."
   ]
  },
  {
   "cell_type": "markdown",
   "metadata": {
    "id": "eSjWwsOh_Zct"
   },
   "source": [
    "Para hacerlo, primero mostremos una lista de nombres de género únicos, ordenados en orden alfabético. Para ello:\n",
    "* Extrae la columna `genre` del DataFrame.\n",
    "* Llama al método que devolverá todos los valores únicos en la columna extraída.\n"
   ]
  },
  {
   "cell_type": "code",
   "execution_count": 15,
   "metadata": {
    "id": "JIUcqzZN_Zct"
   },
   "outputs": [
    {
     "name": "stdout",
     "output_type": "stream",
     "text": [
      "0              rock\n",
      "1              rock\n",
      "2               pop\n",
      "3              folk\n",
      "4             dance\n",
      "            ...    \n",
      "65074           rnb\n",
      "65075           hip\n",
      "65076    industrial\n",
      "65077          rock\n",
      "65078       country\n",
      "Name: genre, Length: 61253, dtype: object\n",
      "['rock' 'pop' 'folk' 'dance' 'rusrap' 'ruspop' 'world' 'electronic'\n",
      " 'unknown' 'alternative' 'children' 'rnb' 'hip' 'jazz' 'postrock' 'latin'\n",
      " 'classical' 'metal' 'reggae' 'triphop' 'blues' 'instrumental' 'rusrock'\n",
      " 'dnb' 'türk' 'post' 'country' 'psychedelic' 'conjazz' 'indie'\n",
      " 'posthardcore' 'local' 'avantgarde' 'punk' 'videogame' 'techno' 'house'\n",
      " 'christmas' 'melodic' 'caucasian' 'reggaeton' 'soundtrack' 'singer' 'ska'\n",
      " 'salsa' 'ambient' 'film' 'western' 'rap' 'beats' \"hard'n'heavy\"\n",
      " 'progmetal' 'minimal' 'tropical' 'contemporary' 'new' 'soul' 'holiday'\n",
      " 'german' 'jpop' 'spiritual' 'urban' 'gospel' 'nujazz' 'folkmetal'\n",
      " 'trance' 'miscellaneous' 'anime' 'hardcore' 'progressive' 'korean'\n",
      " 'numetal' 'vocal' 'estrada' 'tango' 'loungeelectronic' 'classicmetal'\n",
      " 'dubstep' 'club' 'deep' 'southern' 'black' 'folkrock' 'fitness' 'french'\n",
      " 'disco' 'religious' 'hiphop' 'drum' 'extrememetal' 'türkçe'\n",
      " 'experimental' 'easy' 'metalcore' 'modern' 'argentinetango' 'old' 'swing'\n",
      " 'breaks' 'eurofolk' 'stonerrock' 'industrial' 'funk' 'middle' 'variété'\n",
      " 'other' 'adult' 'christian' 'thrash' 'gothic' 'international' 'muslim'\n",
      " 'relax' 'schlager' 'caribbean' 'nu' 'breakbeat' 'comedy' 'chill' 'newage'\n",
      " 'specialty' 'uzbek' 'k-pop' 'balkan' 'chinese' 'meditative' 'dub' 'power'\n",
      " 'death' 'grime' 'arabesk' 'romance' 'flamenco' 'leftfield' 'european'\n",
      " 'tech' 'newwave' 'dancehall' 'mpb' 'piano' 'top' 'bigroom' 'opera'\n",
      " 'celtic' 'tradjazz' 'acoustic' 'epicmetal' 'hip-hop' 'historisch'\n",
      " 'downbeat' 'downtempo' 'africa' 'audiobook' 'jewish' 'sängerportrait'\n",
      " 'deutschrock' 'eastern' 'action' 'future' 'electropop' 'folklore'\n",
      " 'bollywood' 'marschmusik' 'rnr' 'karaoke' 'indian' 'rancheras'\n",
      " 'afrikaans' 'rhythm' 'sound' 'deutschspr' 'trip' 'lovers' 'choral'\n",
      " 'dancepop' 'retro' 'smooth' 'mexican' 'brazilian' 'ïîï' 'mood' 'surf'\n",
      " 'gangsta' 'inspirational' 'idm' 'ethnic' 'bluegrass' 'broadway'\n",
      " 'animated' 'americana' 'karadeniz' 'rockabilly' 'colombian' 'self' 'hop'\n",
      " 'sertanejo' 'japanese' 'canzone' 'lounge' 'sport' 'ragga' 'traditional'\n",
      " 'gitarre' 'frankreich' 'emo' 'laiko' 'cantopop' 'glitch' 'documentary'\n",
      " 'oceania' 'popeurodance' 'dark' 'vi' 'grunge' 'hardstyle' 'samba'\n",
      " 'garage' 'art' 'folktronica' 'entehno' 'mediterranean' 'chamber' 'cuban'\n",
      " 'taraftar' 'gypsy' 'hardtechno' 'shoegazing' 'bossa' 'latino' 'worldbeat'\n",
      " 'malaysian' 'baile' 'ghazal' 'arabic' 'popelectronic' 'acid' 'kayokyoku'\n",
      " 'neoklassik' 'tribal' 'tanzorchester' 'native' 'independent' 'cantautori'\n",
      " 'handsup' 'punjabi' 'synthpop' 'rave' 'französisch' 'quebecois' 'speech'\n",
      " 'soulful' 'jam' 'ram' 'horror' 'orchestral' 'neue' 'roots' 'slow'\n",
      " 'jungle' 'indipop' 'axé' 'fado' 'showtunes' 'arena' 'irish' 'mandopop'\n",
      " 'forró' 'dirty' 'regional']\n",
      "269\n"
     ]
    }
   ],
   "source": [
    "print(df.loc[:,'genre'])\n",
    "# Inspeccionar los nombres de géneros únicos\n",
    "print(df['genre'].unique())\n",
    "print(df['genre'].nunique())"
   ]
  },
  {
   "cell_type": "markdown",
   "metadata": {
    "id": "qej-Qmuo_Zct"
   },
   "source": [
    "Busca en la lista para encontrar duplicados implícitos del género `hiphop`. Estos pueden ser nombres escritos incorrectamente o nombres alternativos para el mismo género.\n",
    "\n",
    "Verás los siguientes duplicados implícitos:\n",
    "* `hip`\n",
    "* `hop`\n",
    "* `hip-hop`\n",
    "\n",
    "Para deshacerte de ellos, crea una función llamada `replace_wrong_genres()` con dos parámetros:\n",
    "* `wrong_genres=`: esta es una lista que contiene todos los valores que necesitas reemplazar.\n",
    "* `correct_genre=`: este es un string que vas a utilizar como reemplazo.\n",
    "\n",
    "Como resultado, la función debería corregir los nombres en la columna `'genre'` de la tabla `df`, es decir, remplazar cada valor de la lista `wrong_genres` por el valor en `correct_genre`.\n",
    "\n",
    "Dentro del cuerpo de la función, utiliza un bucle `'for'` para iterar sobre la lista de géneros incorrectos, extrae la columna `'genre'` y aplica el método `replace` para hacer correcciones."
   ]
  },
  {
   "cell_type": "code",
   "execution_count": 16,
   "metadata": {
    "id": "ErNDkmns_Zct"
   },
   "outputs": [],
   "source": [
    "# Función para reemplazar duplicados implícitos\n",
    "\n",
    "def replace_wrong_genres(df,column,wrong_values, correct_value):\n",
    "    for wrong_value in wrong_values:\n",
    "        df[column]=df[column].replace(wrong_values,correct_value)\n",
    "    return print(df)\n"
   ]
  },
  {
   "cell_type": "markdown",
   "metadata": {},
   "source": [
    "<div class=\"alert alert-block alert-success\">\n",
    "<b>Comentario del revisor</b> <a class=\"tocSkip\"></a>\n",
    "\n",
    "Excelente trabajo con la función. Con esto nos permitira reemplazar los registros duplicados con los valores que coloquemos dentro del arguneto de la función</div>"
   ]
  },
  {
   "cell_type": "markdown",
   "metadata": {
    "id": "aDoBJxbA_Zct"
   },
   "source": [
    "Ahora, llama a `replace_wrong_genres()` y pásale tales argumentos para que retire los duplicados implícitos (`hip`, `hop` y `hip-hop`) y los reemplace por `hiphop`:"
   ]
  },
  {
   "cell_type": "code",
   "execution_count": 17,
   "metadata": {
    "id": "YN5i2hpmSo09"
   },
   "outputs": [
    {
     "name": "stdout",
     "output_type": "stream",
     "text": [
      "        user_id                              track            artist  \\\n",
      "0      FFB692EC                  Kamigata To Boots  The Mass Missile   \n",
      "1      55204538        Delayed Because of Accident  Andreas Rönnberg   \n",
      "2        20EC38                  Funiculì funiculà       Mario Lanza   \n",
      "3      A3DD03C9              Dragons in the Sunset        Fire + Ice   \n",
      "4      E2DC1FAE                        Soul People        Space Echo   \n",
      "...         ...                                ...               ...   \n",
      "65074  729CBB09                            My Name            McLean   \n",
      "65075  D08D4A55  Maybe One Day (feat. Black Spade)       Blu & Exile   \n",
      "65076  C5E3A0D5                          Jalopiina           unknown   \n",
      "65077  321D0506                      Freight Train     Chas McDevitt   \n",
      "65078  3A64EF84          Tell Me Sweet Little Lies      Monica Lopez   \n",
      "\n",
      "            genre         city      time        day  \n",
      "0            rock  Shelbyville  20:28:33  Wednesday  \n",
      "1            rock  Springfield  14:07:09     Friday  \n",
      "2             pop  Shelbyville  20:58:07  Wednesday  \n",
      "3            folk  Shelbyville  08:37:09     Monday  \n",
      "4           dance  Springfield  08:34:34     Monday  \n",
      "...           ...          ...       ...        ...  \n",
      "65074         rnb  Springfield  13:32:28  Wednesday  \n",
      "65075      hiphop  Shelbyville  10:00:00     Monday  \n",
      "65076  industrial  Springfield  20:09:26     Friday  \n",
      "65077        rock  Springfield  21:43:59     Friday  \n",
      "65078     country  Springfield  21:59:46     Friday  \n",
      "\n",
      "[61253 rows x 7 columns]\n",
      "None\n"
     ]
    }
   ],
   "source": [
    "# Eliminar duplicados implícitos\n",
    "wrong_genres = ['hip','hop','hip-hop']\n",
    "correct_genre='hiphop'\n",
    "genres = replace_wrong_genres(df,'genre',wrong_genres,correct_genre)\n",
    "print(genres)"
   ]
  },
  {
   "cell_type": "markdown",
   "metadata": {
    "id": "zQKF16_RG15m"
   },
   "source": [
    "Asegúrate de que los nombres duplicados han sido eliminados. Muestra la lista de valores únicos de la columna `'genre'` una vez más:"
   ]
  },
  {
   "cell_type": "code",
   "execution_count": 18,
   "metadata": {
    "id": "wvixALnFG15m"
   },
   "outputs": [
    {
     "name": "stdout",
     "output_type": "stream",
     "text": [
      "['rock' 'pop' 'folk' 'dance' 'rusrap' 'ruspop' 'world' 'electronic'\n",
      " 'unknown' 'alternative' 'children' 'rnb' 'hiphop' 'jazz' 'postrock'\n",
      " 'latin' 'classical' 'metal' 'reggae' 'triphop' 'blues' 'instrumental'\n",
      " 'rusrock' 'dnb' 'türk' 'post' 'country' 'psychedelic' 'conjazz' 'indie'\n",
      " 'posthardcore' 'local' 'avantgarde' 'punk' 'videogame' 'techno' 'house'\n",
      " 'christmas' 'melodic' 'caucasian' 'reggaeton' 'soundtrack' 'singer' 'ska'\n",
      " 'salsa' 'ambient' 'film' 'western' 'rap' 'beats' \"hard'n'heavy\"\n",
      " 'progmetal' 'minimal' 'tropical' 'contemporary' 'new' 'soul' 'holiday'\n",
      " 'german' 'jpop' 'spiritual' 'urban' 'gospel' 'nujazz' 'folkmetal'\n",
      " 'trance' 'miscellaneous' 'anime' 'hardcore' 'progressive' 'korean'\n",
      " 'numetal' 'vocal' 'estrada' 'tango' 'loungeelectronic' 'classicmetal'\n",
      " 'dubstep' 'club' 'deep' 'southern' 'black' 'folkrock' 'fitness' 'french'\n",
      " 'disco' 'religious' 'drum' 'extrememetal' 'türkçe' 'experimental' 'easy'\n",
      " 'metalcore' 'modern' 'argentinetango' 'old' 'swing' 'breaks' 'eurofolk'\n",
      " 'stonerrock' 'industrial' 'funk' 'middle' 'variété' 'other' 'adult'\n",
      " 'christian' 'thrash' 'gothic' 'international' 'muslim' 'relax' 'schlager'\n",
      " 'caribbean' 'nu' 'breakbeat' 'comedy' 'chill' 'newage' 'specialty'\n",
      " 'uzbek' 'k-pop' 'balkan' 'chinese' 'meditative' 'dub' 'power' 'death'\n",
      " 'grime' 'arabesk' 'romance' 'flamenco' 'leftfield' 'european' 'tech'\n",
      " 'newwave' 'dancehall' 'mpb' 'piano' 'top' 'bigroom' 'opera' 'celtic'\n",
      " 'tradjazz' 'acoustic' 'epicmetal' 'historisch' 'downbeat' 'downtempo'\n",
      " 'africa' 'audiobook' 'jewish' 'sängerportrait' 'deutschrock' 'eastern'\n",
      " 'action' 'future' 'electropop' 'folklore' 'bollywood' 'marschmusik' 'rnr'\n",
      " 'karaoke' 'indian' 'rancheras' 'afrikaans' 'rhythm' 'sound' 'deutschspr'\n",
      " 'trip' 'lovers' 'choral' 'dancepop' 'retro' 'smooth' 'mexican'\n",
      " 'brazilian' 'ïîï' 'mood' 'surf' 'gangsta' 'inspirational' 'idm' 'ethnic'\n",
      " 'bluegrass' 'broadway' 'animated' 'americana' 'karadeniz' 'rockabilly'\n",
      " 'colombian' 'self' 'sertanejo' 'japanese' 'canzone' 'lounge' 'sport'\n",
      " 'ragga' 'traditional' 'gitarre' 'frankreich' 'emo' 'laiko' 'cantopop'\n",
      " 'glitch' 'documentary' 'oceania' 'popeurodance' 'dark' 'vi' 'grunge'\n",
      " 'hardstyle' 'samba' 'garage' 'art' 'folktronica' 'entehno'\n",
      " 'mediterranean' 'chamber' 'cuban' 'taraftar' 'gypsy' 'hardtechno'\n",
      " 'shoegazing' 'bossa' 'latino' 'worldbeat' 'malaysian' 'baile' 'ghazal'\n",
      " 'arabic' 'popelectronic' 'acid' 'kayokyoku' 'neoklassik' 'tribal'\n",
      " 'tanzorchester' 'native' 'independent' 'cantautori' 'handsup' 'punjabi'\n",
      " 'synthpop' 'rave' 'französisch' 'quebecois' 'speech' 'soulful' 'jam'\n",
      " 'ram' 'horror' 'orchestral' 'neue' 'roots' 'slow' 'jungle' 'indipop'\n",
      " 'axé' 'fado' 'showtunes' 'arena' 'irish' 'mandopop' 'forró' 'dirty'\n",
      " 'regional']\n"
     ]
    }
   ],
   "source": [
    "print(df['genre'].unique())# Comprobación de duplicados implícitos\n"
   ]
  },
  {
   "cell_type": "markdown",
   "metadata": {},
   "source": [
    "<div class=\"alert alert-block alert-success\">\n",
    "<b>Comentario del revisor</b> <a class=\"tocSkip\"></a>\n",
    "\n",
    "Muy buen trabajo! Remplazaste los generos incorrectos y eliminaste los duplicados.</div>"
   ]
  },
  {
   "cell_type": "markdown",
   "metadata": {
    "id": "ALgNbvF3VtPA"
   },
   "source": [
    "[Volver a Contenidos](#back)"
   ]
  },
  {
   "cell_type": "markdown",
   "metadata": {
    "id": "jz6a9-7HQUDd"
   },
   "source": [
    "### Tus observaciones <a id='data_preprocessing_conclusions'></a>\n",
    "\n",
    "`Describe brevemente lo que has notado al analizar duplicados, cómo abordaste sus eliminaciones y qué resultados obtuviste.`\n",
    "\n",
    "Había un mayor numero de duplicados explicitos los cuales si no se filtrasen afectarían el analisis posterior al filtrado, ya que se tomarían como valores unicos cuando en realidad ya existe esa fila en particular en repetidas veces. El analizar los duplicados nos permite trabajar con un número reducido de datos que contienen la información real de cada usuario.\n",
    "\n",
    "En cuanto a los datos implicitos, si no se corrigiesen no se tomarían en cuenta las filas que contienen una variable en particular pero que estan escritas de manera diferente por alguna razón. Por lo tanto, en este rubro se estaría descartando información valiosa del dataset y estariamos analizando menos cantidad de datos por errores ortograficos."
   ]
  },
  {
   "cell_type": "markdown",
   "metadata": {
    "id": "eK1es74rVujj"
   },
   "source": [
    "[Volver a Contenidos](#back)"
   ]
  },
  {
   "cell_type": "markdown",
   "metadata": {
    "id": "WttZHXH0SqKk"
   },
   "source": [
    "## Etapa 3. Prueba de hipótesis <a id='hypothesis'></a>"
   ]
  },
  {
   "cell_type": "markdown",
   "metadata": {
    "id": "Im936VVi_Zcu"
   },
   "source": [
    "### Hipótesis: comparar el comportamiento del usuario o la usuaria en las dos ciudades <a id='activity'></a>"
   ]
  },
  {
   "cell_type": "markdown",
   "metadata": {
    "id": "nwt_MuaL_Zcu"
   },
   "source": [
    "La hipótesis afirma que existen diferencias en la forma en que los usuarios y las usuarias de Springfield y Shelbyville consumen música. Para comprobar esto, usa los datos de tres días de la semana: lunes, miércoles y viernes.\n",
    "\n",
    "* Agrupa a los usuarios y las usuarias por ciudad.\n",
    "* Compara el número de canciones que cada grupo reprodujo el lunes, el miércoles y el viernes.\n"
   ]
  },
  {
   "cell_type": "markdown",
   "metadata": {
    "id": "8Dw_YMmT_Zcu"
   },
   "source": [
    "Realiza cada cálculo por separado.\n",
    "\n",
    "El primer paso es evaluar la actividad del usuario en cada ciudad. Recuerda las etapas dividir-aplicar-combinar de las que hablamos anteriormente en la lección. Tu objetivo ahora es agrupar los datos por ciudad, aplicar el método apropiado para contar durante la etapa de aplicación y luego encontrar la cantidad de canciones reproducidas en cada grupo especificando la columna para obtener el recuento.\n",
    "\n",
    "A continuación se muestra un ejemplo de cómo debería verse el resultado final:\n",
    "`df.groupby(by='....')['column'].method()`Realiza cada cálculo por separado.\n",
    "\n",
    "Para evaluar la actividad de los usuarios y las usuarias en cada ciudad, agrupa los datos por ciudad y encuentra la cantidad de canciones reproducidas en cada grupo.\n",
    "\n"
   ]
  },
  {
   "cell_type": "code",
   "execution_count": 19,
   "metadata": {
    "id": "0_Qs96oh_Zcu"
   },
   "outputs": [
    {
     "name": "stdout",
     "output_type": "stream",
     "text": [
      "city\n",
      "Shelbyville    18512\n",
      "Springfield    42741\n",
      "Name: track, dtype: int64\n"
     ]
    }
   ],
   "source": [
    "# Contar las canciones reproducidas en cada ciudad\n",
    "group_Springfield= df.groupby('city')['track'].count()\n",
    "#group_Springfield.get_group('Springfield')\n",
    "print(group_Springfield)\n"
   ]
  },
  {
   "cell_type": "markdown",
   "metadata": {
    "id": "t_Qx-3NewAnK"
   },
   "source": [
    "`Comenta tus observaciones aquí`\n",
    "Springfield tiene un mayor número de tracks escuchados, los cuales estarán repartidos entre los 3 días de la semana que\n",
    "serán analizados\n"
   ]
  },
  {
   "cell_type": "markdown",
   "metadata": {
    "id": "dzli3w8o_Zcu"
   },
   "source": [
    "Ahora agrupemos los datos por día de la semana y encontremos el número de canciones reproducidas el lunes, miércoles y viernes. Utiliza el mismo método que antes, pero ahora necesitamos una agrupación diferente.\n"
   ]
  },
  {
   "cell_type": "code",
   "execution_count": 20,
   "metadata": {
    "id": "uZMKjiJz_Zcu"
   },
   "outputs": [
    {
     "name": "stdout",
     "output_type": "stream",
     "text": [
      "day\n",
      "Friday       21840\n",
      "Monday       21354\n",
      "Wednesday    18059\n",
      "Name: track, dtype: int64\n"
     ]
    }
   ],
   "source": [
    "# Calcular las canciones reproducidas en cada uno de los tres días\n",
    "group_weekday= df.groupby('day')['track'].count()\n",
    "print(group_weekday)"
   ]
  },
  {
   "cell_type": "markdown",
   "metadata": {
    "id": "cC2tNrlL_Zcu"
   },
   "source": [
    "`Comenta tus observaciones aquí`\n",
    "Los viernes son los días que hay mayor numero de tracks escuchados en el sistema, este valor es proveniente de la suma de \n",
    "los valore de ambas ciudades "
   ]
  },
  {
   "cell_type": "markdown",
   "metadata": {
    "id": "POzs8bGa_Zcu"
   },
   "source": [
    "Ya sabes cómo contar entradas agrupándolas por ciudad o día. Ahora necesitas escribir una función que pueda contar entradas según ambos criterios simultáneamente.\n",
    "\n",
    "Crea la función `number_tracks()` para calcular el número de canciones reproducidas en un determinado día **y** ciudad. La función debe aceptar dos parámetros:\n",
    "\n",
    "- `day`: un día de la semana para filtrar. Por ejemplo, `'Monday'` (lunes).\n",
    "- `city`: una ciudad para filtrar. Por ejemplo, `'Springfield'`.\n",
    "\n",
    "Dentro de la función, aplicarás un filtrado consecutivo con indexación lógica.\n",
    "\n",
    "Primero filtra los datos por día y luego filtra la tabla resultante por ciudad.\n",
    "\n",
    "Después de filtrar los datos por dos criterios, cuenta el número de valores de la columna 'user_id' en la tabla resultante. Este recuento representa el número de entradas que estás buscando. Guarda el resultado en una nueva variable y devuélvelo desde la función."
   ]
  },
  {
   "cell_type": "code",
   "execution_count": 55,
   "metadata": {
    "id": "Nz3GdQB1_Zcu"
   },
   "outputs": [],
   "source": [
    "# Declara la función number_tracks() con dos parámetros: day= y city=.\n",
    "\n",
    "    # Almacena las filas del DataFrame donde el valor en la columna 'day' es igual al parámetro day=\n",
    "\n",
    "    # Filtra las filas donde el valor en la columna 'city' es igual al parámetro city=\n",
    "\n",
    "    # Extrae la columna 'user_id' de la tabla filtrada y aplica el método count()\n",
    "\n",
    "    # Devolve el número de valores de la columna 'user_id'\n",
    "\n",
    "#few_columns=df[['user_id','day','city']]\n",
    "#ex_df =df.loc[df.loc[:,'day'] == 'Monday']\n",
    "#print(ex_df)\n",
    "#print(df.user_id.count())\n",
    "    \n",
    "def number_tracks(data,day,city):\n",
    "    day_df =data.loc[data.loc[:,'day'] == day]\n",
    "    city_df=day_df.loc[day_df.loc[:,'city']== city]\n",
    "    print(city_df)\n",
    "    #print(city_df.user_id.count())\n",
    "    return f\"El numero de valores de user_id es: {city_df.user_id.count()}\"\n"
   ]
  },
  {
   "cell_type": "markdown",
   "metadata": {},
   "source": [
    "<div class=\"alert alert-block alert-success\">\n",
    "<b>Comentario del revisor</b> <a class=\"tocSkip\"></a>\n",
    "\n",
    "Realizaste un gran trabajo con la definición de la función. Como pudiste notar, el desarrollar funciones nos permiten encapsular lógica reutilizable, evitando la repetición de código y facilitando su uso en diferentes partes de un programa o en distintos proyectos.</div>"
   ]
  },
  {
   "cell_type": "markdown",
   "metadata": {
    "id": "ytf7xFrFJQ2r"
   },
   "source": [
    "Llama a `number_tracks()` seis veces, cambiando los valores de los parámetros para que recuperes los datos de ambas ciudades para cada uno de los tres días."
   ]
  },
  {
   "cell_type": "code",
   "execution_count": 56,
   "metadata": {
    "id": "rJcRATNQ_Zcu"
   },
   "outputs": [
    {
     "name": "stdout",
     "output_type": "stream",
     "text": [
      "        user_id                                              track  \\\n",
      "4      E2DC1FAE                                        Soul People   \n",
      "10     BC5A3A29                                       Gool la Mita   \n",
      "11     8B5192C0  Is There Anybody Out There? (Panoramic Paralys...   \n",
      "12     FF3FD2BD                                              Truth   \n",
      "15     E3C5756F                                            unknown   \n",
      "...         ...                                                ...   \n",
      "65033  3D9BF4F3                                              Alarm   \n",
      "65039  57B3F0CE                                              Intro   \n",
      "65046  9656377C                                          Algun Dia   \n",
      "65047  85A7CFD3                                 Working Class Hero   \n",
      "65073  83A474E7                      I Worship Only What You Bleed   \n",
      "\n",
      "                        artist         genre         city      time     day  \n",
      "4                   Space Echo         dance  Springfield  08:34:34  Monday  \n",
      "10         Shireen Abdul Wahab         world  Springfield  14:08:42  Monday  \n",
      "11        Pink Floyd Floydhead    electronic  Springfield  13:47:49  Monday  \n",
      "12                      Bamboo           pop  Springfield  09:19:49  Monday  \n",
      "15                     unknown       unknown  Springfield  09:24:51  Monday  \n",
      "...                        ...           ...          ...       ...     ...  \n",
      "65033               Wise Blood   alternative  Springfield  20:50:35  Monday  \n",
      "65039                  unknown        rusrap  Springfield  20:50:13  Monday  \n",
      "65046              Om Ovnimoon     downtempo  Springfield  08:10:59  Monday  \n",
      "65047       Marianne Faithfull          rock  Springfield  14:51:37  Monday  \n",
      "65073  The Black Dahlia Murder  extrememetal  Springfield  21:07:12  Monday  \n",
      "\n",
      "[15740 rows x 7 columns]\n",
      "El numero de valores de user_id es:15740\n"
     ]
    }
   ],
   "source": [
    "# El número de canciones reproducidas en Springfield el lunes\n",
    "Sprinfield_Monday =number_tracks(df,'Monday','Springfield')\n",
    "print(Sprinfield_Monday)"
   ]
  },
  {
   "cell_type": "code",
   "execution_count": 57,
   "metadata": {
    "id": "hq_ncZ5T_Zcu"
   },
   "outputs": [
    {
     "name": "stdout",
     "output_type": "stream",
     "text": [
      "        user_id                              track               artist  \\\n",
      "3      A3DD03C9              Dragons in the Sunset           Fire + Ice   \n",
      "16     81D05C7D                     SLAVES OF FEAR               HEALTH   \n",
      "17     39DE290E                        Hallo Hallo  Die Klima Hawaiians   \n",
      "18     58AE138A                         Pat-a-Cake    Mother Goose Club   \n",
      "26     982219FD             We Not Speak Americano           Genio Band   \n",
      "...         ...                                ...                  ...   \n",
      "65063  D94F810B        Theme from the Walking Dead   Proyecto Halloween   \n",
      "65064  BC8EC5CF       Red Lips: Gta (Rover Rework)                Rover   \n",
      "65065  29E04611                       Bre Petrunko        Perunika Trio   \n",
      "65066  1B91C621             (Hello) Cloud Mountain      sleepmakeswaves   \n",
      "65075  D08D4A55  Maybe One Day (feat. Black Spade)          Blu & Exile   \n",
      "\n",
      "             genre         city      time     day  \n",
      "3             folk  Shelbyville  08:37:09  Monday  \n",
      "16     alternative  Shelbyville  20:54:48  Monday  \n",
      "17            folk  Shelbyville  14:36:47  Monday  \n",
      "18        children  Shelbyville  20:04:56  Monday  \n",
      "26             pop  Shelbyville  20:03:03  Monday  \n",
      "...            ...          ...       ...     ...  \n",
      "65063         film  Shelbyville  21:14:40  Monday  \n",
      "65064   electronic  Shelbyville  21:06:50  Monday  \n",
      "65065        world  Shelbyville  13:56:00  Monday  \n",
      "65066     postrock  Shelbyville  09:22:13  Monday  \n",
      "65075       hiphop  Shelbyville  10:00:00  Monday  \n",
      "\n",
      "[5614 rows x 7 columns]\n",
      "El numero de valores de user_id es:5614\n"
     ]
    }
   ],
   "source": [
    "# El número de canciones reproducidas en Shelbyville el lunes\n",
    "Shelbyville_Monday =number_tracks(df,'Monday','Shelbyville')\n",
    "print(Shelbyville_Monday)"
   ]
  },
  {
   "cell_type": "code",
   "execution_count": 60,
   "metadata": {
    "id": "_NTy2VPU_Zcu"
   },
   "outputs": [
    {
     "name": "stdout",
     "output_type": "stream",
     "text": [
      "        user_id                    track              artist        genre  \\\n",
      "6      4CB90AA5                     True        Roman Messer        dance   \n",
      "7      F03E1C1F         Feeling This Way     Polina Griffith        dance   \n",
      "19     772F5B59                Sweetback  The Fabulous Three          rnb   \n",
      "28     D8D698A9                Romantici     Viola Valentino          pop   \n",
      "36     FCDF1C8E               Nasebanaru                 Zen       reggae   \n",
      "...         ...                      ...                 ...          ...   \n",
      "65054  6A71CB92  Remind Me To Forget You      Sarah Geronimo          pop   \n",
      "65057  8624CE71     Treasures and Trolls          Tera Melos  alternative   \n",
      "65060  574EBCB0        Turn up the Radio           Autograph         rock   \n",
      "65068  9E65547F       Fascinating Rhythm         Mark Murphy         jazz   \n",
      "65074  729CBB09                  My Name              McLean          rnb   \n",
      "\n",
      "              city      time        day  \n",
      "6      Springfield  13:00:07  Wednesday  \n",
      "7      Springfield  20:47:49  Wednesday  \n",
      "19     Springfield  13:56:42  Wednesday  \n",
      "28     Springfield  08:23:21  Wednesday  \n",
      "36     Springfield  20:19:36  Wednesday  \n",
      "...            ...       ...        ...  \n",
      "65054  Springfield  14:21:28  Wednesday  \n",
      "65057  Springfield  13:02:57  Wednesday  \n",
      "65060  Springfield  13:45:39  Wednesday  \n",
      "65068  Springfield  20:29:09  Wednesday  \n",
      "65074  Springfield  13:32:28  Wednesday  \n",
      "\n",
      "[11056 rows x 7 columns]\n",
      "El numero de valores de user_id es:11056\n"
     ]
    }
   ],
   "source": [
    "# El número de canciones reproducidas en Springfield el miércoles\n",
    "Springfield_Wednesday =number_tracks(df,'Wednesday','Springfield')\n",
    "print(Springfield_Wednesday)"
   ]
  },
  {
   "cell_type": "code",
   "execution_count": 61,
   "metadata": {
    "id": "j2y3TAwo_Zcu"
   },
   "outputs": [
    {
     "name": "stdout",
     "output_type": "stream",
     "text": [
      "        user_id                       track            artist   genre  \\\n",
      "0      FFB692EC           Kamigata To Boots  The Mass Missile    rock   \n",
      "2        20EC38           Funiculì funiculà       Mario Lanza     pop   \n",
      "9      E772D5C0                   Pessimist           unknown   dance   \n",
      "14     94EB25C2  Make Love Whenever You Can         Arabesque     pop   \n",
      "22     B8E29C9C        The Drunken Scotsman      Ménage à Moi    folk   \n",
      "...         ...                         ...               ...     ...   \n",
      "65026  B6AE319B          Mind Body and Soul      Kidd Kurrupt   dance   \n",
      "65029   27047C8                   Rainy Day          TumaniYO  rusrap   \n",
      "65037  64E06740                   I Used To      Lunatic Wolf    rock   \n",
      "65045  95104ED1              Break the Mold    Authority Zero    punk   \n",
      "65061  F170C7C0               Back to Black         Soul Deep     rnb   \n",
      "\n",
      "              city      time        day  \n",
      "0      Shelbyville  20:28:33  Wednesday  \n",
      "2      Shelbyville  20:58:07  Wednesday  \n",
      "9      Shelbyville  21:20:49  Wednesday  \n",
      "14     Shelbyville  13:22:08  Wednesday  \n",
      "22     Shelbyville  20:20:49  Wednesday  \n",
      "...            ...       ...        ...  \n",
      "65026  Shelbyville  14:43:29  Wednesday  \n",
      "65029  Shelbyville  21:52:57  Wednesday  \n",
      "65037  Shelbyville  14:18:41  Wednesday  \n",
      "65045  Shelbyville  13:49:40  Wednesday  \n",
      "65061  Shelbyville  14:30:52  Wednesday  \n",
      "\n",
      "[7003 rows x 7 columns]\n",
      "El numero de valores de user_id es:7003\n"
     ]
    }
   ],
   "source": [
    "# El número de canciones reproducidas en Shelbyville el miércoles\n",
    "Shelbyville_Wednesday =number_tracks(df,'Wednesday','Shelbyville')\n",
    "print(Shelbyville_Wednesday)"
   ]
  },
  {
   "cell_type": "code",
   "execution_count": 62,
   "metadata": {
    "id": "vYDw5u_K_Zcu"
   },
   "outputs": [
    {
     "name": "stdout",
     "output_type": "stream",
     "text": [
      "        user_id                        track                artist  \\\n",
      "1      55204538  Delayed Because of Accident      Andreas Rönnberg   \n",
      "8      8FA1D3BE                     L’estate           Julia Dalia   \n",
      "13     CC782B0F         After School Special  Detroit Grand Pubahs   \n",
      "34     B416A40F                        Maybe        Maria Michelle   \n",
      "42     F9AD83A7                        Fancy           Grey Killer   \n",
      "...         ...                          ...                   ...   \n",
      "65071  92378E24    Swing it Like You Mean it                OJOJOJ   \n",
      "65072  C532021D       We Can Not Be Silenced                Pänzer   \n",
      "65076  C5E3A0D5                    Jalopiina               unknown   \n",
      "65077  321D0506                Freight Train         Chas McDevitt   \n",
      "65078  3A64EF84    Tell Me Sweet Little Lies          Monica Lopez   \n",
      "\n",
      "              genre         city      time     day  \n",
      "1              rock  Springfield  14:07:09  Friday  \n",
      "8            ruspop  Springfield  09:17:40  Friday  \n",
      "13            dance  Springfield  20:04:12  Friday  \n",
      "34           ruspop  Springfield  14:49:21  Friday  \n",
      "42          triphop  Springfield  14:53:39  Friday  \n",
      "...             ...          ...       ...     ...  \n",
      "65071        techno  Springfield  21:12:56  Friday  \n",
      "65072  extrememetal  Springfield  08:38:24  Friday  \n",
      "65076    industrial  Springfield  20:09:26  Friday  \n",
      "65077          rock  Springfield  21:43:59  Friday  \n",
      "65078       country  Springfield  21:59:46  Friday  \n",
      "\n",
      "[15945 rows x 7 columns]\n",
      "El numero de valores de user_id es:15945\n"
     ]
    }
   ],
   "source": [
    "# El número de canciones reproducidas en Springfield el viernes\n",
    "Shelbyville_Friday =number_tracks(df,'Friday','Springfield')\n",
    "print(Shelbyville_Friday)"
   ]
  },
  {
   "cell_type": "code",
   "execution_count": 64,
   "metadata": {
    "id": "8_yzFtW3_Zcu"
   },
   "outputs": [
    {
     "name": "stdout",
     "output_type": "stream",
     "text": [
      "        user_id                          track                 artist  \\\n",
      "5      842029A1                         Chains               Obladaet   \n",
      "30     EBA5A8B2         Päivän Nousu Nostajani              Värttinä   \n",
      "31     F6A44469            Veritas Universalis              Devathorn   \n",
      "38     14FBD1E5                       Solteras           Beauty Brain   \n",
      "49     2A35001B  Can You Feel the Love Tonight  Disney Peaceful Piano   \n",
      "...         ...                            ...                    ...   \n",
      "65030  E82DA566   I Hate You More Than My Life             Solar Fake   \n",
      "65036   A84E445                          Oasis          Dmitry Aeolus   \n",
      "65038  2AD78C04          Welcome to Zombietown      Dirty Wee Middens   \n",
      "65043  CDCAFD62                         Payday               King Hot   \n",
      "65050  E54A55E0            What R U Doin' Here    KALLY'S Mashup Cast   \n",
      "\n",
      "              genre         city      time     day  \n",
      "5            rusrap  Shelbyville  13:09:41  Friday  \n",
      "30            world  Shelbyville  08:00:31  Friday  \n",
      "31            metal  Shelbyville  20:19:42  Friday  \n",
      "38            dance  Shelbyville  20:33:11  Friday  \n",
      "49     instrumental  Shelbyville  21:51:37  Friday  \n",
      "...             ...          ...       ...     ...  \n",
      "65030    electronic  Shelbyville  20:55:55  Friday  \n",
      "65036    electronic  Shelbyville  08:32:46  Friday  \n",
      "65038          punk  Shelbyville  08:57:42  Friday  \n",
      "65043        hiphop  Shelbyville  14:31:37  Friday  \n",
      "65050           pop  Shelbyville  13:10:19  Friday  \n",
      "\n",
      "[5895 rows x 7 columns]\n",
      "El numero de valores de user_id es:5895\n"
     ]
    }
   ],
   "source": [
    "# El número de canciones reproducidas en Shelbyville el viernes\n",
    "Shelbyville_Friday =number_tracks(df,'Friday','Shelbyville')\n",
    "print(Shelbyville_Friday)"
   ]
  },
  {
   "cell_type": "markdown",
   "metadata": {
    "id": "-EgPIHYu_Zcu"
   },
   "source": [
    "**Conclusiones**\n",
    "\n",
    "`Comenta si la hipótesis es correcta o se debe rechazar. Explica tu razonamiento.`\n",
    "\n",
    "Desde el comienzo de la etapa 3 es notorio que al momento de agrupar los datos por ciudad y por día de la semana, la ciudad de Springfield tiene un mayor número de canciones escuchadas. El día Viernes , es el día que más canciones se escuchan. Sin embargo, se debe deben de considerar las dos variables en conjunto para saber que día de la semana son escuchadas mayor número de canciones por cada ciudad. Los días lunes Springfield es la ciudad que escucha más \"tracks\" con una diferencia de poco más de 10,000 canciones. El día Miercoles Springfield vuelve a tomar la delantera en este dataset filtrado con una diferencia de 4,000 canciones aproximadamente. Finalmente los días Viernes ocurre una situación similar a la del día lunes, con una diferencia similar a la calculada. La actividad de los usuarios si difiere con respecto a la ciudad y al día de la semana. Se puede concluir que al inicio de la semana (Lunes) y en el último día hábil de la semana (Viernes) los usuarios hablando de las dos ciudades, presentan un mayor número de canciones escuchadas a comparación de los días miercoles, siendo Springfield la ciudad con un mayor porcentaje de estos. De estos dos días los días Viernes registran por apenas 486 canciones un mayor número de canciones escuchadas. De esta manera también se puede afirmar que en Springfield sin importar el día se escuchan más canciones que en Shelbyville. Así que, se comprueba la hipotesis. "
   ]
  },
  {
   "cell_type": "markdown",
   "metadata": {},
   "source": [
    "<div class=\"alert alert-block alert-success\">\n",
    "<b>Comentario del revisor</b> <a class=\"tocSkip\"></a>\n",
    "\n",
    "Hola! Excelente trabajo con la conclusión. En futuros cursos vas a poder complementar estas pruebas con pruebas estadisticas por las pruebas de diferencias de medias, además vas a poder explorar el desarrollo de gráficas que complementen este análisis. Por ejemplo en este caso podríamos desarrollar una gráfica que muestre la cantidad de canciones por día y otra que muestre la relación por ciudad. Para esto puedes aplicar la función que creaste para obtener la información necesaria para hacer estas gráficas</div>"
   ]
  },
  {
   "cell_type": "markdown",
   "metadata": {
    "id": "p7nFQajCVw5B"
   },
   "source": [
    "[Volver a Contenidos](#back)"
   ]
  },
  {
   "cell_type": "markdown",
   "metadata": {
    "id": "ykKQ0N65_Zcv"
   },
   "source": [
    "# Conclusiones <a id='end'></a>"
   ]
  },
  {
   "cell_type": "markdown",
   "metadata": {
    "id": "tjUwbHb3_Zcv"
   },
   "source": [
    "`Resume aquí tus conclusiones sobre la hipótesis.`\n",
    "\n",
    "La actividad de los usuarios si se ve influenciada por la ciudad de donde provienen y por el día de la semana. Esto se ve reflejado en los resultados mostrados, debido a que aplicando los conceptos de Dividir-Aplicar_Combinar se pudo desglosar ese dataset y llegar a una conclusión certera basada en datos de ambas ciudades y posteriormente en datos de cada una de ellas. La visualización de la conclusión descrita es clara al finalizar el proyecto y las tablas filtradas muestran de forma clara que la hipotesis es correcta."
   ]
  },
  {
   "cell_type": "markdown",
   "metadata": {
    "id": "azLHu64yOIp7"
   },
   "source": [
    "### Nota\n",
    "En proyectos de investigación reales, la prueba de hipótesis estadística es más precisa y cuantitativa. También ten en cuenta que no siempre se pueden sacar conclusiones sobre una ciudad entera a partir de datos de una sola fuente.\n",
    "\n",
    "Aprenderás más sobre la prueba de hipótesis en el sprint de análisis estadístico de datos."
   ]
  },
  {
   "cell_type": "markdown",
   "metadata": {},
   "source": [
    "<div class=\"alert alert-block alert-success\">\n",
    "<b>Comentario general</b> <a class=\"tocSkip\"></a>\n",
    "\n",
    "Diego,  hiciste un muy buen trabajo con el proyecto, pudiste resolver todos los ejericios de una forma adecuada y se nota que hiciste uso de todas las herramientas aprendidas. Además, considero que te ayudo para aprender el uso de algunas funciones que te sirvan en los siguientes cursos.Solamente verifica lo de la tabla de contenidos.\n",
    "\n",
    "Exitos en lo que viene, saludos.</div>"
   ]
  },
  {
   "cell_type": "markdown",
   "metadata": {
    "id": "Ju4AHDSgV1FE"
   },
   "source": [
    "[Volver a Contenidos](#back)"
   ]
  }
 ],
 "metadata": {
  "ExecuteTimeLog": [
   {
    "duration": 453,
    "start_time": "2024-08-17T13:52:31.836Z"
   },
   {
    "duration": 356,
    "start_time": "2024-08-17T13:55:03.480Z"
   },
   {
    "duration": 190,
    "start_time": "2024-08-17T13:56:00.411Z"
   },
   {
    "duration": 12,
    "start_time": "2024-08-17T13:56:39.525Z"
   },
   {
    "duration": 34,
    "start_time": "2024-08-17T13:57:15.440Z"
   },
   {
    "duration": 22,
    "start_time": "2024-08-17T13:57:27.214Z"
   },
   {
    "duration": 9,
    "start_time": "2024-08-17T13:58:54.531Z"
   },
   {
    "duration": 10,
    "start_time": "2024-08-17T14:06:42.289Z"
   },
   {
    "duration": 9,
    "start_time": "2024-08-17T14:16:50.754Z"
   },
   {
    "duration": 5,
    "start_time": "2024-08-17T14:17:45.019Z"
   },
   {
    "duration": 5,
    "start_time": "2024-08-17T14:18:06.680Z"
   },
   {
    "duration": 5,
    "start_time": "2024-08-17T14:18:17.339Z"
   },
   {
    "duration": 8,
    "start_time": "2024-08-17T14:18:27.038Z"
   },
   {
    "duration": 5,
    "start_time": "2024-08-17T14:18:34.534Z"
   },
   {
    "duration": 9,
    "start_time": "2024-08-17T14:19:10.468Z"
   },
   {
    "duration": 9,
    "start_time": "2024-08-17T14:19:55.439Z"
   },
   {
    "duration": 9,
    "start_time": "2024-08-17T14:20:10.529Z"
   },
   {
    "duration": 22,
    "start_time": "2024-08-17T14:22:01.684Z"
   },
   {
    "duration": 4,
    "start_time": "2024-08-17T14:22:15.120Z"
   },
   {
    "duration": 4,
    "start_time": "2024-08-17T14:22:18.595Z"
   },
   {
    "duration": 5,
    "start_time": "2024-08-17T14:23:58.034Z"
   },
   {
    "duration": 5,
    "start_time": "2024-08-17T14:29:39.891Z"
   },
   {
    "duration": 21,
    "start_time": "2024-08-17T14:29:56.509Z"
   },
   {
    "duration": 20,
    "start_time": "2024-08-17T14:30:13.459Z"
   },
   {
    "duration": 7,
    "start_time": "2024-08-17T14:30:20.437Z"
   },
   {
    "duration": 20,
    "start_time": "2024-08-17T14:30:34.163Z"
   },
   {
    "duration": 21,
    "start_time": "2024-08-17T14:32:01.337Z"
   },
   {
    "duration": 22,
    "start_time": "2024-08-17T14:32:09.447Z"
   },
   {
    "duration": 22,
    "start_time": "2024-08-17T14:34:02.991Z"
   },
   {
    "duration": 4,
    "start_time": "2024-08-17T14:34:40.777Z"
   },
   {
    "duration": 5,
    "start_time": "2024-08-17T14:35:21.670Z"
   },
   {
    "duration": 5,
    "start_time": "2024-08-17T14:35:34.321Z"
   },
   {
    "duration": 5,
    "start_time": "2024-08-17T14:42:43.678Z"
   },
   {
    "duration": 6,
    "start_time": "2024-08-17T14:43:36.171Z"
   },
   {
    "duration": 5,
    "start_time": "2024-08-17T14:45:50.387Z"
   },
   {
    "duration": 5,
    "start_time": "2024-08-17T14:46:01.858Z"
   },
   {
    "duration": 6,
    "start_time": "2024-08-17T14:47:28.263Z"
   },
   {
    "duration": 5,
    "start_time": "2024-08-17T14:47:58.868Z"
   },
   {
    "duration": 4,
    "start_time": "2024-08-17T14:48:10.703Z"
   },
   {
    "duration": 5,
    "start_time": "2024-08-17T14:48:18.462Z"
   },
   {
    "duration": 4,
    "start_time": "2024-08-17T14:49:32.076Z"
   },
   {
    "duration": 310,
    "start_time": "2024-08-17T16:49:21.862Z"
   },
   {
    "duration": 23,
    "start_time": "2024-08-17T16:49:58.337Z"
   },
   {
    "duration": 21,
    "start_time": "2024-08-17T16:50:10.978Z"
   },
   {
    "duration": 21,
    "start_time": "2024-08-17T16:50:17.859Z"
   },
   {
    "duration": 20,
    "start_time": "2024-08-17T16:50:23.082Z"
   },
   {
    "duration": 465,
    "start_time": "2024-08-17T16:50:26.524Z"
   },
   {
    "duration": 4,
    "start_time": "2024-08-17T16:50:29.671Z"
   },
   {
    "duration": 10,
    "start_time": "2024-08-17T16:50:55.928Z"
   },
   {
    "duration": 5,
    "start_time": "2024-08-17T16:51:00.496Z"
   },
   {
    "duration": 5,
    "start_time": "2024-08-17T16:51:02.835Z"
   },
   {
    "duration": 4,
    "start_time": "2024-08-17T16:51:19.392Z"
   },
   {
    "duration": 4,
    "start_time": "2024-08-17T16:51:41.897Z"
   },
   {
    "duration": 5,
    "start_time": "2024-08-17T16:51:53.060Z"
   },
   {
    "duration": 6,
    "start_time": "2024-08-17T16:52:05.600Z"
   },
   {
    "duration": 5,
    "start_time": "2024-08-17T16:55:50.430Z"
   },
   {
    "duration": 5,
    "start_time": "2024-08-17T16:56:08.020Z"
   },
   {
    "duration": 58,
    "start_time": "2024-08-17T16:56:29.997Z"
   },
   {
    "duration": 4,
    "start_time": "2024-08-17T16:56:36.867Z"
   },
   {
    "duration": 8,
    "start_time": "2024-08-17T16:56:49.732Z"
   },
   {
    "duration": 4,
    "start_time": "2024-08-17T16:57:05.554Z"
   },
   {
    "duration": 6,
    "start_time": "2024-08-17T16:57:10.241Z"
   },
   {
    "duration": 5,
    "start_time": "2024-08-17T16:57:14.921Z"
   },
   {
    "duration": 5,
    "start_time": "2024-08-17T16:57:32.309Z"
   },
   {
    "duration": 5,
    "start_time": "2024-08-17T16:57:38.522Z"
   },
   {
    "duration": 4,
    "start_time": "2024-08-17T16:57:46.947Z"
   },
   {
    "duration": 8,
    "start_time": "2024-08-17T16:58:43.546Z"
   },
   {
    "duration": 7,
    "start_time": "2024-08-17T16:58:50.605Z"
   },
   {
    "duration": 6,
    "start_time": "2024-08-17T16:59:04.488Z"
   },
   {
    "duration": 4,
    "start_time": "2024-08-17T17:06:16.394Z"
   },
   {
    "duration": 7,
    "start_time": "2024-08-17T17:06:21.613Z"
   },
   {
    "duration": 5,
    "start_time": "2024-08-17T17:06:25.412Z"
   },
   {
    "duration": 6,
    "start_time": "2024-08-17T17:06:33.275Z"
   },
   {
    "duration": 6,
    "start_time": "2024-08-17T17:06:51.211Z"
   },
   {
    "duration": 6,
    "start_time": "2024-08-17T17:06:58.211Z"
   },
   {
    "duration": 5,
    "start_time": "2024-08-17T17:07:11.518Z"
   },
   {
    "duration": 6,
    "start_time": "2024-08-17T17:07:21.306Z"
   },
   {
    "duration": 7,
    "start_time": "2024-08-17T17:08:10.636Z"
   },
   {
    "duration": 6,
    "start_time": "2024-08-17T17:08:22.906Z"
   },
   {
    "duration": 8,
    "start_time": "2024-08-17T17:08:32.092Z"
   },
   {
    "duration": 6,
    "start_time": "2024-08-17T17:08:44.853Z"
   },
   {
    "duration": 5,
    "start_time": "2024-08-17T17:09:24.001Z"
   },
   {
    "duration": 6,
    "start_time": "2024-08-17T17:09:40.326Z"
   },
   {
    "duration": 6,
    "start_time": "2024-08-17T17:09:59.919Z"
   },
   {
    "duration": 8,
    "start_time": "2024-08-17T17:10:07.885Z"
   },
   {
    "duration": 5,
    "start_time": "2024-08-17T17:10:13.002Z"
   },
   {
    "duration": 6,
    "start_time": "2024-08-17T17:10:17.854Z"
   },
   {
    "duration": 442,
    "start_time": "2024-08-18T17:38:15.522Z"
   },
   {
    "duration": 179,
    "start_time": "2024-08-18T17:38:18.124Z"
   },
   {
    "duration": 11,
    "start_time": "2024-08-18T17:38:19.670Z"
   },
   {
    "duration": 4,
    "start_time": "2024-08-18T17:38:27.846Z"
   },
   {
    "duration": 6,
    "start_time": "2024-08-18T17:38:30.859Z"
   },
   {
    "duration": 4,
    "start_time": "2024-08-18T17:39:35.300Z"
   },
   {
    "duration": 31,
    "start_time": "2024-08-18T17:41:47.478Z"
   },
   {
    "duration": 13,
    "start_time": "2024-08-18T17:42:13.190Z"
   },
   {
    "duration": 6,
    "start_time": "2024-08-18T17:44:15.330Z"
   },
   {
    "duration": 12,
    "start_time": "2024-08-18T17:44:27.498Z"
   },
   {
    "duration": 5,
    "start_time": "2024-08-18T17:45:07.605Z"
   },
   {
    "duration": 12,
    "start_time": "2024-08-18T17:45:11.127Z"
   },
   {
    "duration": 14,
    "start_time": "2024-08-18T17:48:05.106Z"
   },
   {
    "duration": 7,
    "start_time": "2024-08-18T17:48:21.514Z"
   },
   {
    "duration": 8,
    "start_time": "2024-08-18T17:48:35.320Z"
   },
   {
    "duration": 5,
    "start_time": "2024-08-18T17:48:52.777Z"
   },
   {
    "duration": 5,
    "start_time": "2024-08-18T17:48:54.697Z"
   },
   {
    "duration": 6,
    "start_time": "2024-08-18T17:48:58.997Z"
   },
   {
    "duration": 5,
    "start_time": "2024-08-18T17:49:07.412Z"
   },
   {
    "duration": 5,
    "start_time": "2024-08-18T17:49:20.677Z"
   },
   {
    "duration": 7,
    "start_time": "2024-08-18T17:49:33.414Z"
   },
   {
    "duration": 6,
    "start_time": "2024-08-18T17:49:46.380Z"
   },
   {
    "duration": 6,
    "start_time": "2024-08-18T17:50:09.707Z"
   },
   {
    "duration": 5,
    "start_time": "2024-08-18T17:50:28.779Z"
   },
   {
    "duration": 5,
    "start_time": "2024-08-18T17:50:46.212Z"
   },
   {
    "duration": 5,
    "start_time": "2024-08-18T17:50:55.903Z"
   },
   {
    "duration": 5,
    "start_time": "2024-08-18T17:51:01.508Z"
   },
   {
    "duration": 4,
    "start_time": "2024-08-18T17:51:03.955Z"
   },
   {
    "duration": 6,
    "start_time": "2024-08-18T17:51:37.744Z"
   },
   {
    "duration": 5,
    "start_time": "2024-08-18T17:51:57.295Z"
   },
   {
    "duration": 5,
    "start_time": "2024-08-18T17:52:00.986Z"
   },
   {
    "duration": 4,
    "start_time": "2024-08-18T17:52:15.486Z"
   },
   {
    "duration": 4,
    "start_time": "2024-08-18T17:52:24.345Z"
   },
   {
    "duration": 4,
    "start_time": "2024-08-18T17:52:28.405Z"
   },
   {
    "duration": 5,
    "start_time": "2024-08-18T17:52:32.551Z"
   },
   {
    "duration": 3,
    "start_time": "2024-08-18T17:52:41.056Z"
   },
   {
    "duration": 156,
    "start_time": "2024-08-18T17:52:44.684Z"
   },
   {
    "duration": 8,
    "start_time": "2024-08-18T17:52:48.539Z"
   },
   {
    "duration": 10,
    "start_time": "2024-08-18T17:52:51.784Z"
   },
   {
    "duration": 5,
    "start_time": "2024-08-18T17:52:56.378Z"
   },
   {
    "duration": 7,
    "start_time": "2024-08-18T17:52:58.540Z"
   },
   {
    "duration": 5,
    "start_time": "2024-08-18T17:53:02.584Z"
   },
   {
    "duration": 22,
    "start_time": "2024-08-18T17:53:42.714Z"
   },
   {
    "duration": 15,
    "start_time": "2024-08-18T17:53:49.329Z"
   },
   {
    "duration": 20,
    "start_time": "2024-08-18T17:53:54.650Z"
   },
   {
    "duration": 330,
    "start_time": "2024-08-18T17:54:18.264Z"
   },
   {
    "duration": 9,
    "start_time": "2024-08-18T17:54:29.301Z"
   },
   {
    "duration": 5,
    "start_time": "2024-08-18T17:55:09.633Z"
   },
   {
    "duration": 5,
    "start_time": "2024-08-18T17:55:17.645Z"
   },
   {
    "duration": 12,
    "start_time": "2024-08-18T17:55:24.630Z"
   },
   {
    "duration": 13,
    "start_time": "2024-08-18T17:55:58.283Z"
   },
   {
    "duration": 6,
    "start_time": "2024-08-18T17:56:09.118Z"
   },
   {
    "duration": 10,
    "start_time": "2024-08-18T17:56:19.845Z"
   },
   {
    "duration": 12,
    "start_time": "2024-08-18T17:56:27.795Z"
   },
   {
    "duration": 9,
    "start_time": "2024-08-18T17:56:31.445Z"
   },
   {
    "duration": 171,
    "start_time": "2024-08-18T17:56:34.451Z"
   },
   {
    "duration": 8,
    "start_time": "2024-08-18T17:56:36.404Z"
   },
   {
    "duration": 10,
    "start_time": "2024-08-18T17:56:41.396Z"
   },
   {
    "duration": 9,
    "start_time": "2024-08-18T17:56:46.035Z"
   },
   {
    "duration": 5,
    "start_time": "2024-08-18T17:56:57.177Z"
   },
   {
    "duration": 9,
    "start_time": "2024-08-18T17:56:59.466Z"
   },
   {
    "duration": 11,
    "start_time": "2024-08-18T17:57:03.117Z"
   },
   {
    "duration": 19,
    "start_time": "2024-08-18T17:57:13.005Z"
   },
   {
    "duration": 12,
    "start_time": "2024-08-18T17:57:21.930Z"
   },
   {
    "duration": 13,
    "start_time": "2024-08-18T17:57:26.661Z"
   },
   {
    "duration": 9,
    "start_time": "2024-08-18T17:57:33.026Z"
   },
   {
    "duration": 155,
    "start_time": "2024-08-18T17:57:35.723Z"
   },
   {
    "duration": 9,
    "start_time": "2024-08-18T17:57:38.188Z"
   },
   {
    "duration": 11,
    "start_time": "2024-08-18T17:57:41.130Z"
   },
   {
    "duration": 4,
    "start_time": "2024-08-18T17:57:45.404Z"
   },
   {
    "duration": 6,
    "start_time": "2024-08-18T17:57:47.992Z"
   },
   {
    "duration": 9,
    "start_time": "2024-08-18T17:57:50.406Z"
   },
   {
    "duration": 5,
    "start_time": "2024-08-18T17:59:06.755Z"
   },
   {
    "duration": 11,
    "start_time": "2024-08-18T17:59:09.637Z"
   },
   {
    "duration": 10,
    "start_time": "2024-08-18T17:59:14.965Z"
   },
   {
    "duration": 20,
    "start_time": "2024-08-18T17:59:22.707Z"
   },
   {
    "duration": 11,
    "start_time": "2024-08-18T17:59:26.205Z"
   },
   {
    "duration": 3,
    "start_time": "2024-08-18T17:59:33.576Z"
   },
   {
    "duration": 164,
    "start_time": "2024-08-18T17:59:35.113Z"
   },
   {
    "duration": 9,
    "start_time": "2024-08-18T17:59:36.285Z"
   },
   {
    "duration": 10,
    "start_time": "2024-08-18T17:59:40.462Z"
   },
   {
    "duration": 5,
    "start_time": "2024-08-18T17:59:44.320Z"
   },
   {
    "duration": 5,
    "start_time": "2024-08-18T17:59:46.754Z"
   },
   {
    "duration": 7,
    "start_time": "2024-08-18T18:00:00.424Z"
   },
   {
    "duration": 9,
    "start_time": "2024-08-18T18:00:03.189Z"
   },
   {
    "duration": 6,
    "start_time": "2024-08-18T18:00:39.869Z"
   },
   {
    "duration": 8,
    "start_time": "2024-08-18T18:00:46.629Z"
   },
   {
    "duration": 10,
    "start_time": "2024-08-18T18:00:56.603Z"
   },
   {
    "duration": 3,
    "start_time": "2024-08-18T18:01:03.405Z"
   },
   {
    "duration": 30,
    "start_time": "2024-08-18T18:05:17.090Z"
   },
   {
    "duration": 27,
    "start_time": "2024-08-18T18:05:29.708Z"
   },
   {
    "duration": 6,
    "start_time": "2024-08-18T18:08:43.254Z"
   },
   {
    "duration": 496,
    "start_time": "2024-08-18T18:08:49.001Z"
   },
   {
    "duration": 42,
    "start_time": "2024-08-18T18:11:59.019Z"
   },
   {
    "duration": 40,
    "start_time": "2024-08-18T18:12:52.809Z"
   },
   {
    "duration": 40,
    "start_time": "2024-08-18T18:12:59.993Z"
   },
   {
    "duration": 27,
    "start_time": "2024-08-18T18:13:16.812Z"
   },
   {
    "duration": 10,
    "start_time": "2024-08-18T18:13:23.801Z"
   },
   {
    "duration": 27,
    "start_time": "2024-08-18T18:13:26.681Z"
   },
   {
    "duration": 3,
    "start_time": "2024-08-18T18:13:41.724Z"
   },
   {
    "duration": 27,
    "start_time": "2024-08-18T18:13:44.347Z"
   },
   {
    "duration": 27,
    "start_time": "2024-08-18T18:14:29.474Z"
   },
   {
    "duration": 39,
    "start_time": "2024-08-18T18:14:55.152Z"
   },
   {
    "duration": 674,
    "start_time": "2024-08-18T18:15:37.539Z"
   },
   {
    "duration": 155,
    "start_time": "2024-08-18T18:15:42.815Z"
   },
   {
    "duration": 9,
    "start_time": "2024-08-18T18:15:51.027Z"
   },
   {
    "duration": 4,
    "start_time": "2024-08-18T18:16:24.531Z"
   },
   {
    "duration": 154,
    "start_time": "2024-08-18T18:16:26.336Z"
   },
   {
    "duration": 8,
    "start_time": "2024-08-18T18:16:28.072Z"
   },
   {
    "duration": 10,
    "start_time": "2024-08-18T18:16:32.604Z"
   },
   {
    "duration": 4,
    "start_time": "2024-08-18T18:16:43.342Z"
   },
   {
    "duration": 5,
    "start_time": "2024-08-18T18:16:45.441Z"
   },
   {
    "duration": 9,
    "start_time": "2024-08-18T18:16:48.737Z"
   },
   {
    "duration": 28,
    "start_time": "2024-08-18T18:16:52.526Z"
   },
   {
    "duration": 42,
    "start_time": "2024-08-18T18:16:57.447Z"
   },
   {
    "duration": 3,
    "start_time": "2024-08-18T18:17:29.618Z"
   },
   {
    "duration": 28,
    "start_time": "2024-08-18T18:17:34.056Z"
   },
   {
    "duration": 6,
    "start_time": "2024-08-18T18:18:22.661Z"
   },
   {
    "duration": 74,
    "start_time": "2024-08-18T18:18:27.914Z"
   },
   {
    "duration": 150,
    "start_time": "2024-08-18T18:27:43.271Z"
   },
   {
    "duration": 148,
    "start_time": "2024-08-18T18:28:00.588Z"
   },
   {
    "duration": 69,
    "start_time": "2024-08-18T18:28:50.287Z"
   },
   {
    "duration": 5,
    "start_time": "2024-08-18T18:29:51.612Z"
   },
   {
    "duration": 68,
    "start_time": "2024-08-18T18:30:13.084Z"
   },
   {
    "duration": 63,
    "start_time": "2024-08-18T18:30:18.357Z"
   },
   {
    "duration": 31,
    "start_time": "2024-08-18T18:30:46.999Z"
   },
   {
    "duration": 4,
    "start_time": "2024-08-18T18:30:52.071Z"
   },
   {
    "duration": 32,
    "start_time": "2024-08-18T18:31:04.282Z"
   },
   {
    "duration": 836,
    "start_time": "2024-08-18T18:32:03.324Z"
   },
   {
    "duration": 7,
    "start_time": "2024-08-18T18:33:03.791Z"
   },
   {
    "duration": 6,
    "start_time": "2024-08-18T18:42:50.260Z"
   },
   {
    "duration": 6,
    "start_time": "2024-08-18T18:42:54.083Z"
   },
   {
    "duration": 21,
    "start_time": "2024-08-18T18:45:05.331Z"
   },
   {
    "duration": 559,
    "start_time": "2024-08-18T18:45:14.548Z"
   },
   {
    "duration": 6,
    "start_time": "2024-08-18T18:45:30.669Z"
   },
   {
    "duration": 7,
    "start_time": "2024-08-18T18:46:14.138Z"
   },
   {
    "duration": 6,
    "start_time": "2024-08-18T18:46:25.507Z"
   },
   {
    "duration": 12,
    "start_time": "2024-08-18T18:46:30.811Z"
   },
   {
    "duration": 11,
    "start_time": "2024-08-18T18:47:03.213Z"
   },
   {
    "duration": 11,
    "start_time": "2024-08-18T18:47:14.472Z"
   },
   {
    "duration": 6,
    "start_time": "2024-08-18T19:20:37.568Z"
   },
   {
    "duration": 6,
    "start_time": "2024-08-18T19:20:42.326Z"
   },
   {
    "duration": 6,
    "start_time": "2024-08-18T19:20:55.284Z"
   },
   {
    "duration": 5,
    "start_time": "2024-08-18T19:21:02.927Z"
   },
   {
    "duration": 5,
    "start_time": "2024-08-18T19:21:28.573Z"
   },
   {
    "duration": 5,
    "start_time": "2024-08-18T19:25:35.857Z"
   },
   {
    "duration": 5,
    "start_time": "2024-08-18T19:27:26.751Z"
   },
   {
    "duration": 24,
    "start_time": "2024-08-18T19:27:42.217Z"
   },
   {
    "duration": 24,
    "start_time": "2024-08-18T19:28:01.479Z"
   },
   {
    "duration": 35,
    "start_time": "2024-08-18T19:28:26.488Z"
   },
   {
    "duration": 10,
    "start_time": "2024-08-18T19:29:02.919Z"
   },
   {
    "duration": 5,
    "start_time": "2024-08-18T19:29:53.911Z"
   },
   {
    "duration": 38,
    "start_time": "2024-08-18T19:29:56.104Z"
   },
   {
    "duration": 4,
    "start_time": "2024-08-18T19:30:29.840Z"
   },
   {
    "duration": 34,
    "start_time": "2024-08-18T19:30:31.528Z"
   },
   {
    "duration": 10,
    "start_time": "2024-08-18T19:30:39.611Z"
   },
   {
    "duration": 18,
    "start_time": "2024-08-18T19:34:22.723Z"
   },
   {
    "duration": 20,
    "start_time": "2024-08-18T19:34:42.520Z"
   },
   {
    "duration": 336,
    "start_time": "2024-08-18T19:41:31.710Z"
   },
   {
    "duration": 82,
    "start_time": "2024-08-18T19:47:01.259Z"
   },
   {
    "duration": 23,
    "start_time": "2024-08-18T19:49:08.054Z"
   },
   {
    "duration": 5,
    "start_time": "2024-08-18T19:49:13.083Z"
   },
   {
    "duration": 4073,
    "start_time": "2024-08-18T19:49:38.563Z"
   },
   {
    "duration": 80,
    "start_time": "2024-08-18T19:50:37.802Z"
   },
   {
    "duration": 79,
    "start_time": "2024-08-18T19:52:37.537Z"
   },
   {
    "duration": 6,
    "start_time": "2024-08-18T19:53:35.452Z"
   },
   {
    "duration": 4,
    "start_time": "2024-08-18T19:54:03.227Z"
   },
   {
    "duration": 4086,
    "start_time": "2024-08-18T19:54:14.948Z"
   },
   {
    "duration": 31,
    "start_time": "2024-08-18T19:54:29.803Z"
   },
   {
    "duration": 39,
    "start_time": "2024-08-18T19:54:41.837Z"
   },
   {
    "duration": 80,
    "start_time": "2024-08-18T19:55:14.752Z"
   },
   {
    "duration": 40,
    "start_time": "2024-08-18T19:55:25.872Z"
   },
   {
    "duration": 18,
    "start_time": "2024-08-18T20:06:17.605Z"
   },
   {
    "duration": 5,
    "start_time": "2024-08-18T20:06:25.134Z"
   },
   {
    "duration": 7,
    "start_time": "2024-08-18T20:06:30.414Z"
   },
   {
    "duration": 6,
    "start_time": "2024-08-18T20:06:37.332Z"
   },
   {
    "duration": 6,
    "start_time": "2024-08-18T20:06:40.854Z"
   },
   {
    "duration": 4116,
    "start_time": "2024-08-18T20:06:50.542Z"
   },
   {
    "duration": 39,
    "start_time": "2024-08-18T20:06:56.228Z"
   },
   {
    "duration": 16,
    "start_time": "2024-08-18T20:07:19.171Z"
   },
   {
    "duration": 81,
    "start_time": "2024-08-18T20:09:33.734Z"
   },
   {
    "duration": 31,
    "start_time": "2024-08-18T20:10:25.751Z"
   },
   {
    "duration": 32,
    "start_time": "2024-08-18T20:10:30.681Z"
   },
   {
    "duration": 39,
    "start_time": "2024-08-18T20:10:37.833Z"
   },
   {
    "duration": 253,
    "start_time": "2024-08-18T20:13:37.798Z"
   },
   {
    "duration": 30,
    "start_time": "2024-08-18T20:13:44.183Z"
   },
   {
    "duration": 20,
    "start_time": "2024-08-18T20:14:34.166Z"
   },
   {
    "duration": 19,
    "start_time": "2024-08-18T20:15:23.503Z"
   },
   {
    "duration": 19,
    "start_time": "2024-08-18T20:15:28.401Z"
   },
   {
    "duration": 32,
    "start_time": "2024-08-18T20:16:01.423Z"
   },
   {
    "duration": 3900,
    "start_time": "2024-08-18T20:16:13.617Z"
   },
   {
    "duration": 29,
    "start_time": "2024-08-18T20:16:21.872Z"
   },
   {
    "duration": 4102,
    "start_time": "2024-08-18T20:16:32.621Z"
   },
   {
    "duration": 48,
    "start_time": "2024-08-18T20:16:43.000Z"
   },
   {
    "duration": 52,
    "start_time": "2024-08-18T20:17:01.214Z"
   },
   {
    "duration": 38,
    "start_time": "2024-08-18T20:17:07.528Z"
   },
   {
    "duration": 14,
    "start_time": "2024-08-18T20:20:42.179Z"
   },
   {
    "duration": 12,
    "start_time": "2024-08-18T20:21:41.268Z"
   },
   {
    "duration": 30,
    "start_time": "2024-08-18T20:21:50.248Z"
   },
   {
    "duration": 14,
    "start_time": "2024-08-18T20:21:57.821Z"
   },
   {
    "duration": 29,
    "start_time": "2024-08-18T20:22:56.110Z"
   },
   {
    "duration": 18,
    "start_time": "2024-08-18T20:23:04.108Z"
   },
   {
    "duration": 26,
    "start_time": "2024-08-18T20:23:15.320Z"
   },
   {
    "duration": 36,
    "start_time": "2024-08-18T20:23:31.337Z"
   },
   {
    "duration": 24,
    "start_time": "2024-08-18T20:23:47.433Z"
   },
   {
    "duration": 21,
    "start_time": "2024-08-18T20:23:53.216Z"
   },
   {
    "duration": 12,
    "start_time": "2024-08-18T20:24:09.450Z"
   },
   {
    "duration": 30,
    "start_time": "2024-08-18T20:24:24.676Z"
   },
   {
    "duration": 22,
    "start_time": "2024-08-18T20:24:31.025Z"
   },
   {
    "duration": 2550,
    "start_time": "2024-08-18T20:24:44.385Z"
   },
   {
    "duration": 20,
    "start_time": "2024-08-18T20:24:49.887Z"
   },
   {
    "duration": 982,
    "start_time": "2024-08-18T20:25:01.404Z"
   },
   {
    "duration": 43,
    "start_time": "2024-08-18T20:25:13.906Z"
   },
   {
    "duration": 85,
    "start_time": "2024-08-18T20:26:02.708Z"
   },
   {
    "duration": 42,
    "start_time": "2024-08-18T20:26:22.171Z"
   },
   {
    "duration": 41,
    "start_time": "2024-08-18T20:26:28.449Z"
   },
   {
    "duration": 44,
    "start_time": "2024-08-18T20:26:38.391Z"
   },
   {
    "duration": 41,
    "start_time": "2024-08-18T20:26:47.146Z"
   },
   {
    "duration": 15,
    "start_time": "2024-08-18T20:27:14.526Z"
   },
   {
    "duration": 5,
    "start_time": "2024-08-18T20:46:39.532Z"
   },
   {
    "duration": 6,
    "start_time": "2024-08-18T20:46:48.462Z"
   },
   {
    "duration": 6,
    "start_time": "2024-08-18T20:46:51.879Z"
   },
   {
    "duration": 7,
    "start_time": "2024-08-18T20:46:59.820Z"
   },
   {
    "duration": 4,
    "start_time": "2024-08-18T20:47:06.333Z"
   },
   {
    "duration": 35,
    "start_time": "2024-08-18T20:47:09.710Z"
   },
   {
    "duration": 4,
    "start_time": "2024-08-18T20:47:17.868Z"
   },
   {
    "duration": 6,
    "start_time": "2024-08-18T20:47:20.360Z"
   },
   {
    "duration": 23,
    "start_time": "2024-08-18T20:47:47.763Z"
   },
   {
    "duration": 4,
    "start_time": "2024-08-18T20:47:50.252Z"
   },
   {
    "duration": 7,
    "start_time": "2024-08-18T20:47:52.975Z"
   },
   {
    "duration": 4,
    "start_time": "2024-08-18T20:49:31.667Z"
   },
   {
    "duration": 32,
    "start_time": "2024-08-18T20:49:33.526Z"
   },
   {
    "duration": 4,
    "start_time": "2024-08-18T20:49:46.510Z"
   },
   {
    "duration": 5,
    "start_time": "2024-08-18T20:49:49.441Z"
   },
   {
    "duration": 32,
    "start_time": "2024-08-18T20:49:51.660Z"
   },
   {
    "duration": 5,
    "start_time": "2024-08-18T20:50:05.692Z"
   },
   {
    "duration": 6,
    "start_time": "2024-08-18T20:50:07.620Z"
   },
   {
    "duration": 6,
    "start_time": "2024-08-18T20:50:24.207Z"
   },
   {
    "duration": 7,
    "start_time": "2024-08-18T20:51:18.452Z"
   },
   {
    "duration": 4,
    "start_time": "2024-08-18T20:51:24.366Z"
   },
   {
    "duration": 4,
    "start_time": "2024-08-18T20:51:26.146Z"
   },
   {
    "duration": 4,
    "start_time": "2024-08-18T20:52:31.765Z"
   },
   {
    "duration": 4,
    "start_time": "2024-08-18T20:52:33.534Z"
   },
   {
    "duration": 5,
    "start_time": "2024-08-18T20:52:57.182Z"
   },
   {
    "duration": 4,
    "start_time": "2024-08-18T20:52:59.311Z"
   },
   {
    "duration": 5,
    "start_time": "2024-08-18T20:53:06.560Z"
   },
   {
    "duration": 4,
    "start_time": "2024-08-18T20:53:08.319Z"
   },
   {
    "duration": 7,
    "start_time": "2024-08-18T20:54:18.648Z"
   },
   {
    "duration": 6,
    "start_time": "2024-08-18T20:54:22.910Z"
   },
   {
    "duration": 26,
    "start_time": "2024-08-18T20:54:26.698Z"
   },
   {
    "duration": 8,
    "start_time": "2024-08-18T20:55:18.705Z"
   },
   {
    "duration": 5,
    "start_time": "2024-08-18T20:55:48.738Z"
   },
   {
    "duration": 5,
    "start_time": "2024-08-18T20:55:56.665Z"
   },
   {
    "duration": 5,
    "start_time": "2024-08-18T20:56:09.529Z"
   },
   {
    "duration": 4,
    "start_time": "2024-08-18T20:56:56.440Z"
   },
   {
    "duration": 5,
    "start_time": "2024-08-18T20:57:39.224Z"
   },
   {
    "duration": 4,
    "start_time": "2024-08-18T20:57:41.424Z"
   },
   {
    "duration": 5,
    "start_time": "2024-08-18T20:57:50.699Z"
   },
   {
    "duration": 5,
    "start_time": "2024-08-18T20:57:55.396Z"
   },
   {
    "duration": 4,
    "start_time": "2024-08-18T20:58:07.258Z"
   },
   {
    "duration": 4,
    "start_time": "2024-08-18T20:58:30.105Z"
   },
   {
    "duration": 8,
    "start_time": "2024-08-18T20:59:55.044Z"
   },
   {
    "duration": 5,
    "start_time": "2024-08-18T21:00:07.785Z"
   },
   {
    "duration": 4,
    "start_time": "2024-08-18T21:00:09.675Z"
   },
   {
    "duration": 8,
    "start_time": "2024-08-18T21:00:44.612Z"
   },
   {
    "duration": 4,
    "start_time": "2024-08-18T21:00:55.689Z"
   },
   {
    "duration": 5,
    "start_time": "2024-08-18T21:00:57.924Z"
   },
   {
    "duration": 8,
    "start_time": "2024-08-18T21:01:17.705Z"
   },
   {
    "duration": 6,
    "start_time": "2024-08-18T21:01:23.180Z"
   },
   {
    "duration": 5,
    "start_time": "2024-08-18T21:01:25.342Z"
   },
   {
    "duration": 5,
    "start_time": "2024-08-18T21:01:35.204Z"
   },
   {
    "duration": 5,
    "start_time": "2024-08-18T21:01:37.407Z"
   },
   {
    "duration": 4,
    "start_time": "2024-08-18T21:02:07.100Z"
   },
   {
    "duration": 3,
    "start_time": "2024-08-18T21:02:09.058Z"
   },
   {
    "duration": 7,
    "start_time": "2024-08-18T21:06:34.581Z"
   },
   {
    "duration": 5,
    "start_time": "2024-08-18T21:06:40.375Z"
   },
   {
    "duration": 5,
    "start_time": "2024-08-18T21:06:42.739Z"
   },
   {
    "duration": 4,
    "start_time": "2024-08-18T21:07:18.918Z"
   },
   {
    "duration": 17,
    "start_time": "2024-08-18T21:07:20.918Z"
   },
   {
    "duration": 5,
    "start_time": "2024-08-18T21:08:32.345Z"
   },
   {
    "duration": 23,
    "start_time": "2024-08-18T21:08:35.934Z"
   },
   {
    "duration": 4,
    "start_time": "2024-08-18T21:08:59.728Z"
   },
   {
    "duration": 23,
    "start_time": "2024-08-18T21:09:14.243Z"
   },
   {
    "duration": 3,
    "start_time": "2024-08-18T21:09:33.453Z"
   },
   {
    "duration": 6,
    "start_time": "2024-08-18T21:09:35.255Z"
   },
   {
    "duration": 21,
    "start_time": "2024-08-18T21:12:33.600Z"
   },
   {
    "duration": 7,
    "start_time": "2024-08-18T21:13:15.414Z"
   },
   {
    "duration": 4,
    "start_time": "2024-08-18T21:15:14.785Z"
   },
   {
    "duration": 6,
    "start_time": "2024-08-18T21:15:17.401Z"
   },
   {
    "duration": 4,
    "start_time": "2024-08-18T21:16:14.280Z"
   },
   {
    "duration": 6,
    "start_time": "2024-08-18T21:16:16.385Z"
   },
   {
    "duration": 5,
    "start_time": "2024-08-18T21:16:22.759Z"
   },
   {
    "duration": 13,
    "start_time": "2024-08-18T21:16:24.585Z"
   },
   {
    "duration": 3,
    "start_time": "2024-08-18T21:20:27.652Z"
   },
   {
    "duration": 3,
    "start_time": "2024-08-18T21:20:35.940Z"
   },
   {
    "duration": 5,
    "start_time": "2024-08-18T21:20:56.233Z"
   },
   {
    "duration": 23,
    "start_time": "2024-08-18T21:21:32.385Z"
   },
   {
    "duration": 22,
    "start_time": "2024-08-18T21:21:42.945Z"
   },
   {
    "duration": 4,
    "start_time": "2024-08-18T21:21:54.101Z"
   },
   {
    "duration": 5,
    "start_time": "2024-08-18T21:22:03.084Z"
   },
   {
    "duration": 33,
    "start_time": "2024-08-18T21:22:05.925Z"
   },
   {
    "duration": 6,
    "start_time": "2024-08-18T21:22:44.975Z"
   },
   {
    "duration": 4,
    "start_time": "2024-08-18T21:22:47.974Z"
   },
   {
    "duration": 5,
    "start_time": "2024-08-18T21:22:51.211Z"
   },
   {
    "duration": 3,
    "start_time": "2024-08-18T21:23:03.944Z"
   },
   {
    "duration": 4,
    "start_time": "2024-08-18T21:23:06.589Z"
   },
   {
    "duration": 5,
    "start_time": "2024-08-18T21:23:08.494Z"
   },
   {
    "duration": 5,
    "start_time": "2024-08-18T21:23:24.225Z"
   },
   {
    "duration": 6,
    "start_time": "2024-08-18T21:23:54.213Z"
   },
   {
    "duration": 4,
    "start_time": "2024-08-18T21:24:39.148Z"
   },
   {
    "duration": 188,
    "start_time": "2024-08-18T21:24:41.937Z"
   },
   {
    "duration": 5,
    "start_time": "2024-08-18T21:24:58.095Z"
   },
   {
    "duration": 14,
    "start_time": "2024-08-18T21:25:07.267Z"
   },
   {
    "duration": 5,
    "start_time": "2024-08-18T21:25:20.755Z"
   },
   {
    "duration": 13,
    "start_time": "2024-08-18T21:25:22.422Z"
   },
   {
    "duration": 25,
    "start_time": "2024-08-18T21:30:37.114Z"
   },
   {
    "duration": 6,
    "start_time": "2024-08-18T21:30:39.953Z"
   },
   {
    "duration": 8,
    "start_time": "2024-08-18T21:31:42.457Z"
   },
   {
    "duration": 4,
    "start_time": "2024-08-18T21:31:46.848Z"
   },
   {
    "duration": 22,
    "start_time": "2024-08-18T21:31:49.389Z"
   },
   {
    "duration": 21,
    "start_time": "2024-08-18T21:31:58.142Z"
   },
   {
    "duration": 4,
    "start_time": "2024-08-18T21:32:00.082Z"
   },
   {
    "duration": 4,
    "start_time": "2024-08-18T21:32:12.192Z"
   },
   {
    "duration": 4,
    "start_time": "2024-08-18T21:32:14.722Z"
   },
   {
    "duration": 15,
    "start_time": "2024-08-18T21:32:23.216Z"
   },
   {
    "duration": 4,
    "start_time": "2024-08-18T21:33:03.132Z"
   },
   {
    "duration": 13,
    "start_time": "2024-08-18T21:33:08.148Z"
   },
   {
    "duration": 6,
    "start_time": "2024-08-18T21:34:18.682Z"
   },
   {
    "duration": 23,
    "start_time": "2024-08-18T21:34:21.010Z"
   },
   {
    "duration": 22,
    "start_time": "2024-08-18T21:34:34.435Z"
   },
   {
    "duration": 5,
    "start_time": "2024-08-18T21:34:36.000Z"
   },
   {
    "duration": 5,
    "start_time": "2024-08-18T21:34:46.721Z"
   },
   {
    "duration": 22,
    "start_time": "2024-08-18T21:34:48.751Z"
   },
   {
    "duration": 5,
    "start_time": "2024-08-18T21:34:55.571Z"
   },
   {
    "duration": 26,
    "start_time": "2024-08-18T21:34:58.114Z"
   },
   {
    "duration": 6,
    "start_time": "2024-08-18T21:35:07.332Z"
   },
   {
    "duration": 144,
    "start_time": "2024-08-18T21:35:08.898Z"
   },
   {
    "duration": 5,
    "start_time": "2024-08-18T21:35:24.939Z"
   },
   {
    "duration": 13,
    "start_time": "2024-08-18T21:35:32.493Z"
   },
   {
    "duration": 6,
    "start_time": "2024-08-18T21:37:04.280Z"
   },
   {
    "duration": 108,
    "start_time": "2024-08-18T21:41:24.565Z"
   },
   {
    "duration": 114,
    "start_time": "2024-08-18T21:41:39.005Z"
   },
   {
    "duration": 6,
    "start_time": "2024-08-18T21:42:42.267Z"
   },
   {
    "duration": 8,
    "start_time": "2024-08-18T21:42:47.315Z"
   },
   {
    "duration": 203,
    "start_time": "2024-08-18T21:42:54.393Z"
   },
   {
    "duration": 7,
    "start_time": "2024-08-18T21:43:00.794Z"
   },
   {
    "duration": 172,
    "start_time": "2024-08-18T21:43:13.052Z"
   },
   {
    "duration": 107,
    "start_time": "2024-08-18T21:43:20.166Z"
   },
   {
    "duration": 8,
    "start_time": "2024-08-18T21:43:30.424Z"
   },
   {
    "duration": 7,
    "start_time": "2024-08-18T21:43:34.396Z"
   },
   {
    "duration": 8,
    "start_time": "2024-08-18T21:43:40.893Z"
   },
   {
    "duration": 61,
    "start_time": "2024-08-18T21:43:48.715Z"
   },
   {
    "duration": 7,
    "start_time": "2024-08-18T21:43:53.942Z"
   },
   {
    "duration": 27,
    "start_time": "2024-08-18T21:44:28.699Z"
   },
   {
    "duration": 16,
    "start_time": "2024-08-18T21:44:32.022Z"
   },
   {
    "duration": 119,
    "start_time": "2024-08-18T21:44:57.251Z"
   },
   {
    "duration": 270,
    "start_time": "2024-08-18T21:45:02.001Z"
   },
   {
    "duration": 6,
    "start_time": "2024-08-18T21:48:08.977Z"
   },
   {
    "duration": 61,
    "start_time": "2024-08-18T21:48:37.757Z"
   },
   {
    "duration": 6,
    "start_time": "2024-08-18T21:48:43.466Z"
   },
   {
    "duration": 61,
    "start_time": "2024-08-18T21:48:46.937Z"
   },
   {
    "duration": 62,
    "start_time": "2024-08-18T21:49:39.902Z"
   },
   {
    "duration": 11,
    "start_time": "2024-08-18T21:49:55.986Z"
   },
   {
    "duration": 14,
    "start_time": "2024-08-18T21:50:05.593Z"
   },
   {
    "duration": 14,
    "start_time": "2024-08-18T21:50:47.872Z"
   },
   {
    "duration": 11,
    "start_time": "2024-08-18T21:50:58.529Z"
   },
   {
    "duration": 5,
    "start_time": "2024-08-18T21:51:00.814Z"
   },
   {
    "duration": 4,
    "start_time": "2024-08-18T21:51:14.146Z"
   },
   {
    "duration": 8,
    "start_time": "2024-08-18T21:51:15.944Z"
   },
   {
    "duration": 9,
    "start_time": "2024-08-18T21:51:17.224Z"
   },
   {
    "duration": 16,
    "start_time": "2024-08-18T21:51:18.923Z"
   },
   {
    "duration": 10,
    "start_time": "2024-08-18T21:51:46.290Z"
   },
   {
    "duration": 14,
    "start_time": "2024-08-18T21:51:48.841Z"
   },
   {
    "duration": 16,
    "start_time": "2024-08-18T21:51:56.922Z"
   },
   {
    "duration": 9,
    "start_time": "2024-08-18T21:52:40.988Z"
   },
   {
    "duration": 9,
    "start_time": "2024-08-18T21:53:49.049Z"
   },
   {
    "duration": 9,
    "start_time": "2024-08-18T21:54:54.260Z"
   },
   {
    "duration": 39,
    "start_time": "2024-08-18T21:54:54.272Z"
   },
   {
    "duration": 9,
    "start_time": "2024-08-18T21:56:40.212Z"
   },
   {
    "duration": 39,
    "start_time": "2024-08-18T21:56:43.372Z"
   },
   {
    "duration": 9,
    "start_time": "2024-08-18T21:56:56.717Z"
   },
   {
    "duration": 34,
    "start_time": "2024-08-18T21:56:58.859Z"
   },
   {
    "duration": 9,
    "start_time": "2024-08-18T21:57:26.974Z"
   },
   {
    "duration": 8,
    "start_time": "2024-08-18T21:57:29.893Z"
   },
   {
    "duration": 35,
    "start_time": "2024-08-18T21:57:31.844Z"
   },
   {
    "duration": 9,
    "start_time": "2024-08-18T21:57:41.961Z"
   },
   {
    "duration": 24,
    "start_time": "2024-08-18T21:57:43.762Z"
   },
   {
    "duration": 6,
    "start_time": "2024-08-18T21:58:15.771Z"
   },
   {
    "duration": 9,
    "start_time": "2024-08-18T21:58:23.078Z"
   },
   {
    "duration": 36,
    "start_time": "2024-08-18T21:58:24.713Z"
   },
   {
    "duration": 9,
    "start_time": "2024-08-18T21:58:42.459Z"
   },
   {
    "duration": 20639,
    "start_time": "2024-08-18T21:58:46.022Z"
   },
   {
    "duration": 8,
    "start_time": "2024-08-18T22:01:23.805Z"
   },
   {
    "duration": 24,
    "start_time": "2024-08-18T22:01:33.268Z"
   },
   {
    "duration": 25,
    "start_time": "2024-08-18T22:02:16.719Z"
   },
   {
    "duration": 14,
    "start_time": "2024-08-18T22:02:30.226Z"
   },
   {
    "duration": 434,
    "start_time": "2024-08-18T22:06:55.462Z"
   },
   {
    "duration": 167,
    "start_time": "2024-08-18T22:06:55.908Z"
   },
   {
    "duration": 12,
    "start_time": "2024-08-18T22:06:56.078Z"
   },
   {
    "duration": 24,
    "start_time": "2024-08-18T22:06:56.092Z"
   },
   {
    "duration": 10,
    "start_time": "2024-08-18T22:06:56.121Z"
   },
   {
    "duration": 0,
    "start_time": "2024-08-18T22:06:56.136Z"
   },
   {
    "duration": 0,
    "start_time": "2024-08-18T22:06:56.138Z"
   },
   {
    "duration": 0,
    "start_time": "2024-08-18T22:06:56.141Z"
   },
   {
    "duration": 0,
    "start_time": "2024-08-18T22:06:56.143Z"
   },
   {
    "duration": 0,
    "start_time": "2024-08-18T22:06:56.146Z"
   },
   {
    "duration": 0,
    "start_time": "2024-08-18T22:06:56.149Z"
   },
   {
    "duration": 0,
    "start_time": "2024-08-18T22:06:56.153Z"
   },
   {
    "duration": 0,
    "start_time": "2024-08-18T22:06:56.155Z"
   },
   {
    "duration": 0,
    "start_time": "2024-08-18T22:06:56.210Z"
   },
   {
    "duration": 0,
    "start_time": "2024-08-18T22:06:56.212Z"
   },
   {
    "duration": 0,
    "start_time": "2024-08-18T22:06:56.214Z"
   },
   {
    "duration": 0,
    "start_time": "2024-08-18T22:06:56.217Z"
   },
   {
    "duration": 0,
    "start_time": "2024-08-18T22:06:56.220Z"
   },
   {
    "duration": 0,
    "start_time": "2024-08-18T22:06:56.222Z"
   },
   {
    "duration": 0,
    "start_time": "2024-08-18T22:06:56.224Z"
   },
   {
    "duration": 0,
    "start_time": "2024-08-18T22:06:56.228Z"
   },
   {
    "duration": 0,
    "start_time": "2024-08-18T22:06:56.230Z"
   },
   {
    "duration": 0,
    "start_time": "2024-08-18T22:06:56.233Z"
   },
   {
    "duration": 0,
    "start_time": "2024-08-18T22:06:56.236Z"
   },
   {
    "duration": 0,
    "start_time": "2024-08-18T22:06:56.238Z"
   },
   {
    "duration": 0,
    "start_time": "2024-08-18T22:06:56.241Z"
   },
   {
    "duration": 0,
    "start_time": "2024-08-18T22:06:56.243Z"
   },
   {
    "duration": 0,
    "start_time": "2024-08-18T22:06:56.245Z"
   },
   {
    "duration": 0,
    "start_time": "2024-08-18T22:06:56.309Z"
   },
   {
    "duration": 5,
    "start_time": "2024-08-18T22:07:19.781Z"
   },
   {
    "duration": 6,
    "start_time": "2024-08-18T22:07:22.143Z"
   },
   {
    "duration": 9,
    "start_time": "2024-08-18T22:07:26.447Z"
   },
   {
    "duration": 41,
    "start_time": "2024-08-18T22:07:29.647Z"
   },
   {
    "duration": 26,
    "start_time": "2024-08-18T22:07:32.452Z"
   },
   {
    "duration": 39,
    "start_time": "2024-08-18T22:07:36.260Z"
   },
   {
    "duration": 107,
    "start_time": "2024-08-18T22:07:39.187Z"
   },
   {
    "duration": 176,
    "start_time": "2024-08-18T22:07:40.841Z"
   },
   {
    "duration": 82,
    "start_time": "2024-08-18T22:07:42.700Z"
   },
   {
    "duration": 20,
    "start_time": "2024-08-18T22:07:45.271Z"
   },
   {
    "duration": 5,
    "start_time": "2024-08-18T22:07:50.739Z"
   },
   {
    "duration": 40,
    "start_time": "2024-08-18T22:07:53.196Z"
   },
   {
    "duration": 12,
    "start_time": "2024-08-18T22:07:55.598Z"
   },
   {
    "duration": 16,
    "start_time": "2024-08-18T22:07:59.222Z"
   },
   {
    "duration": 14,
    "start_time": "2024-08-18T22:08:00.762Z"
   },
   {
    "duration": 25,
    "start_time": "2024-08-18T22:08:10.503Z"
   },
   {
    "duration": 18,
    "start_time": "2024-08-18T22:09:16.566Z"
   },
   {
    "duration": 10,
    "start_time": "2024-08-18T22:09:23.894Z"
   },
   {
    "duration": 8,
    "start_time": "2024-08-18T22:09:29.016Z"
   },
   {
    "duration": 21,
    "start_time": "2024-08-18T22:09:30.879Z"
   },
   {
    "duration": 25,
    "start_time": "2024-08-18T23:44:23.998Z"
   },
   {
    "duration": 19,
    "start_time": "2024-08-18T23:44:31.834Z"
   },
   {
    "duration": 7,
    "start_time": "2024-08-18T23:44:55.616Z"
   },
   {
    "duration": 9,
    "start_time": "2024-08-18T23:44:58.545Z"
   },
   {
    "duration": 8,
    "start_time": "2024-08-18T23:47:26.932Z"
   },
   {
    "duration": 1128,
    "start_time": "2024-08-18T23:47:39.564Z"
   },
   {
    "duration": 9,
    "start_time": "2024-08-18T23:47:56.241Z"
   },
   {
    "duration": 25,
    "start_time": "2024-08-18T23:47:59.478Z"
   },
   {
    "duration": 25,
    "start_time": "2024-08-18T23:48:27.963Z"
   },
   {
    "duration": 23,
    "start_time": "2024-08-18T23:48:45.063Z"
   },
   {
    "duration": 42,
    "start_time": "2024-08-18T23:49:09.308Z"
   },
   {
    "duration": 9,
    "start_time": "2024-08-18T23:50:37.468Z"
   },
   {
    "duration": 14,
    "start_time": "2024-08-18T23:50:45.514Z"
   },
   {
    "duration": 12,
    "start_time": "2024-08-18T23:51:10.296Z"
   },
   {
    "duration": 26,
    "start_time": "2024-08-18T23:51:10.344Z"
   },
   {
    "duration": 12,
    "start_time": "2024-08-18T23:51:55.157Z"
   },
   {
    "duration": 34,
    "start_time": "2024-08-18T23:52:04.805Z"
   },
   {
    "duration": 8,
    "start_time": "2024-08-18T23:52:33.249Z"
   },
   {
    "duration": 24,
    "start_time": "2024-08-18T23:52:35.948Z"
   },
   {
    "duration": 10,
    "start_time": "2024-08-18T23:52:54.869Z"
   },
   {
    "duration": 20,
    "start_time": "2024-08-18T23:52:56.795Z"
   },
   {
    "duration": 5,
    "start_time": "2024-08-18T23:53:15.102Z"
   },
   {
    "duration": 31,
    "start_time": "2024-08-18T23:53:18.981Z"
   },
   {
    "duration": 5,
    "start_time": "2024-08-18T23:53:32.791Z"
   },
   {
    "duration": 27,
    "start_time": "2024-08-18T23:53:35.542Z"
   },
   {
    "duration": 6,
    "start_time": "2024-08-18T23:54:52.942Z"
   },
   {
    "duration": 8,
    "start_time": "2024-08-18T23:55:54.132Z"
   },
   {
    "duration": 4,
    "start_time": "2024-08-18T23:56:08.639Z"
   },
   {
    "duration": 26,
    "start_time": "2024-08-18T23:56:10.984Z"
   },
   {
    "duration": 5,
    "start_time": "2024-08-18T23:56:25.317Z"
   },
   {
    "duration": 28,
    "start_time": "2024-08-18T23:56:34.447Z"
   },
   {
    "duration": 25,
    "start_time": "2024-08-18T23:57:11.100Z"
   },
   {
    "duration": 34,
    "start_time": "2024-08-18T23:58:06.156Z"
   },
   {
    "duration": 18,
    "start_time": "2024-08-18T23:58:10.891Z"
   },
   {
    "duration": 23,
    "start_time": "2024-08-18T23:58:27.436Z"
   },
   {
    "duration": 22,
    "start_time": "2024-08-18T23:58:56.080Z"
   },
   {
    "duration": 27,
    "start_time": "2024-08-18T23:59:29.352Z"
   },
   {
    "duration": 27,
    "start_time": "2024-08-19T00:05:29.835Z"
   },
   {
    "duration": 28,
    "start_time": "2024-08-19T00:05:43.937Z"
   },
   {
    "duration": 9,
    "start_time": "2024-08-19T00:14:21.959Z"
   },
   {
    "duration": 10,
    "start_time": "2024-08-19T00:15:52.514Z"
   },
   {
    "duration": 8,
    "start_time": "2024-08-19T00:16:06.593Z"
   },
   {
    "duration": 8,
    "start_time": "2024-08-19T00:16:14.281Z"
   }
  ],
  "colab": {
   "collapsed_sections": [
    "E0vqbgi9ay0H",
    "VUC88oWjTJw2"
   ],
   "provenance": []
  },
  "kernelspec": {
   "display_name": "Python 3 (ipykernel)",
   "language": "python",
   "name": "python3"
  },
  "language_info": {
   "codemirror_mode": {
    "name": "ipython",
    "version": 3
   },
   "file_extension": ".py",
   "mimetype": "text/x-python",
   "name": "python",
   "nbconvert_exporter": "python",
   "pygments_lexer": "ipython3",
   "version": "3.9.19"
  },
  "toc": {
   "base_numbering": 1,
   "nav_menu": {},
   "number_sections": true,
   "sideBar": true,
   "skip_h1_title": true,
   "title_cell": "Table of Contents",
   "title_sidebar": "Contents",
   "toc_cell": false,
   "toc_position": {},
   "toc_section_display": true,
   "toc_window_display": false
  }
 },
 "nbformat": 4,
 "nbformat_minor": 1
}
