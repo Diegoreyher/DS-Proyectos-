{
 "cells": [
  {
   "cell_type": "markdown",
   "metadata": {},
   "source": [
    "# Megaline Telecom Modelo Predictivo"
   ]
  },
  {
   "cell_type": "markdown",
   "metadata": {},
   "source": [
    "# Descripción del proyecto\n",
    "La compañía móvil Megaline no está satisfecha al ver que muchos de sus clientes utilizan planes heredados. Quieren desarrollar un modelo que pueda analizar el comportamiento de los clientes y recomendar uno de los nuevos planes de Megaline: *Smart o Ultra.*\n",
    "\n",
    "Tienes acceso a los datos de comportamiento de los suscriptores que ya se han cambiado a los planes nuevos (del proyecto del sprint de Análisis estadístico de datos). Para esta tarea de clasificación debes crear un modelo que escoja el plan correcto. Como ya hiciste el paso de procesar los datos, puedes lanzarte directo a crear el modelo.\n",
    "\n",
    "Desarrolla un modelo con la mayor exactitud posible. En este proyecto, el umbral de exactitud es 0.75. Usa el dataset para comprobar la exactitud.\n"
   ]
  },
  {
   "cell_type": "markdown",
   "metadata": {},
   "source": [
    "# Instrucciones del proyecto.\n",
    "Abre y examina el archivo de datos. Dirección al archivo:/datasets/users_behavior.csv Descarga el dataset\n",
    "Segmenta los datos fuente en un conjunto de entrenamiento, uno de validación y uno de prueba.\n",
    "Investiga la calidad de diferentes modelos cambiando los hiperparámetros. Describe brevemente los hallazgos del estudio.\n",
    "Comprueba la calidad del modelo usando el conjunto de prueba.\n",
    "Tarea adicional: haz una prueba de cordura al modelo. Estos datos son más complejos que los que habías usado antes así que no será una tarea fácil. Más adelante lo veremos con más detalle.\n",
    "Descripción de datos\n",
    "Cada observación en el dataset contiene información del comportamiento mensual sobre un usuario. La información dada es la siguiente:\n",
    "\n",
    "сalls — número de llamadas,\n",
    "minutes — duración total de la llamada en minutos,\n",
    "messages — número de mensajes de texto,\n",
    "mb_used — Tráfico de Internet utilizado en MB,\n",
    "is_ultra — plan para el mes actual (Ultra - 1, Smart - 0).\n",
    "Evaluación del proyecto\n",
    "Hemos definido los criterios de evaluación para el proyecto. Lee esto con atención antes de pasar al ejercicio. "
   ]
  },
  {
   "cell_type": "code",
   "execution_count": 1,
   "metadata": {},
   "outputs": [],
   "source": [
    "## Importar librerías\n",
    "\n",
    "from scipy import stats as st\n",
    "import pandas as pd\n",
    "from matplotlib import pyplot as plt\n",
    "\n",
    "## RandomForestRegression\n",
    "## Train_test_split\n",
    "\n",
    "from sklearn.ensemble import RandomForestClassifier\n",
    "from sklearn.model_selection import train_test_split\n",
    "\n",
    "\n",
    "## mean_squared_error\n",
    "\n",
    "from sklearn.metrics import mean_squared_error\n",
    "\n",
    "## precisión\n",
    "\n",
    "from sklearn.metrics import accuracy_score# < importa la función de cálculo de precisión "
   ]
  },
  {
   "cell_type": "code",
   "execution_count": 2,
   "metadata": {},
   "outputs": [],
   "source": [
    "## Descargar el DataSet\n",
    "\n",
    "df_megaline = pd.read_csv('/datasets/users_behavior.csv')\n"
   ]
  },
  {
   "cell_type": "markdown",
   "metadata": {},
   "source": [
    "<div class=\"alert alert-block alert-success\">\n",
    "<b>Comentario del revisor (1ra Iteracion)</b> <a class=“tocSkip”></a>\n",
    "\n",
    "Buen trabajo con la carga e importación de librerías!\n",
    "    \n",
    "</div>"
   ]
  },
  {
   "cell_type": "code",
   "execution_count": 3,
   "metadata": {},
   "outputs": [
    {
     "name": "stdout",
     "output_type": "stream",
     "text": [
      "<class 'pandas.core.frame.DataFrame'>\n",
      "RangeIndex: 3214 entries, 0 to 3213\n",
      "Data columns (total 5 columns):\n",
      " #   Column    Non-Null Count  Dtype  \n",
      "---  ------    --------------  -----  \n",
      " 0   calls     3214 non-null   float64\n",
      " 1   minutes   3214 non-null   float64\n",
      " 2   messages  3214 non-null   float64\n",
      " 3   mb_used   3214 non-null   float64\n",
      " 4   is_ultra  3214 non-null   int64  \n",
      "dtypes: float64(4), int64(1)\n",
      "memory usage: 125.7 KB\n"
     ]
    }
   ],
   "source": [
    "## Detalles del \n",
    "df_megaline.info()"
   ]
  },
  {
   "cell_type": "markdown",
   "metadata": {},
   "source": [
    "<div class=\"alert alert-block alert-success\">\n",
    "<b>Comentario del revisor (1ra Iteracion)</b> <a class=“tocSkip”></a>\n",
    "\n",
    "Muy bien realizada la división de los datos para evaluar correctamente los modelos \n",
    "</div>"
   ]
  },
  {
   "cell_type": "code",
   "execution_count": 4,
   "metadata": {},
   "outputs": [
    {
     "name": "stdout",
     "output_type": "stream",
     "text": [
      "est = 1, depth = 1, min_samples_split = 2\n",
      "Accuracy en validación: 0.7669902912621359\n",
      "Accuracy en prueba: 0.7247278382581649\n",
      "est = 1, depth = 1, min_samples_split = 5\n",
      "Accuracy en validación: 0.7669902912621359\n",
      "Accuracy en prueba: 0.7247278382581649\n",
      "est = 1, depth = 1, min_samples_split = 10\n",
      "Accuracy en validación: 0.7669902912621359\n",
      "Accuracy en prueba: 0.7247278382581649\n",
      "est = 1, depth = 2, min_samples_split = 2\n",
      "Accuracy en validación: 0.7825242718446602\n",
      "Accuracy en prueba: 0.744945567651633\n",
      "est = 1, depth = 2, min_samples_split = 5\n",
      "Accuracy en validación: 0.7825242718446602\n",
      "Accuracy en prueba: 0.744945567651633\n",
      "est = 1, depth = 2, min_samples_split = 10\n",
      "Accuracy en validación: 0.7825242718446602\n",
      "Accuracy en prueba: 0.744945567651633\n",
      "est = 1, depth = 3, min_samples_split = 2\n",
      "Accuracy en validación: 0.7902912621359224\n",
      "Accuracy en prueba: 0.749611197511664\n",
      "est = 1, depth = 3, min_samples_split = 5\n",
      "Accuracy en validación: 0.7902912621359224\n",
      "Accuracy en prueba: 0.749611197511664\n",
      "est = 1, depth = 3, min_samples_split = 10\n",
      "Accuracy en validación: 0.7902912621359224\n",
      "Accuracy en prueba: 0.749611197511664\n",
      "est = 1, depth = 4, min_samples_split = 2\n",
      "Accuracy en validación: 0.7864077669902912\n",
      "Accuracy en prueba: 0.7511664074650077\n",
      "est = 1, depth = 4, min_samples_split = 5\n",
      "Accuracy en validación: 0.7864077669902912\n",
      "Accuracy en prueba: 0.7511664074650077\n",
      "est = 1, depth = 4, min_samples_split = 10\n",
      "Accuracy en validación: 0.7825242718446602\n",
      "Accuracy en prueba: 0.7402799377916018\n",
      "est = 1, depth = 5, min_samples_split = 2\n",
      "Accuracy en validación: 0.7883495145631068\n",
      "Accuracy en prueba: 0.7527216174183515\n",
      "est = 1, depth = 5, min_samples_split = 5\n",
      "Accuracy en validación: 0.8\n",
      "Accuracy en prueba: 0.7480559875583204\n",
      "est = 1, depth = 5, min_samples_split = 10\n",
      "Accuracy en validación: 0.8019417475728156\n",
      "Accuracy en prueba: 0.7573872472783826\n",
      "est = 1, depth = 6, min_samples_split = 2\n",
      "Accuracy en validación: 0.7883495145631068\n",
      "Accuracy en prueba: 0.7465007776049767\n",
      "est = 1, depth = 6, min_samples_split = 5\n",
      "Accuracy en validación: 0.8252427184466019\n",
      "Accuracy en prueba: 0.76049766718507\n",
      "est = 1, depth = 6, min_samples_split = 10\n",
      "Accuracy en validación: 0.8077669902912621\n",
      "Accuracy en prueba: 0.7573872472783826\n",
      "est = 1, depth = 7, min_samples_split = 2\n",
      "Accuracy en validación: 0.7980582524271844\n",
      "Accuracy en prueba: 0.76049766718507\n",
      "est = 1, depth = 7, min_samples_split = 5\n",
      "Accuracy en validación: 0.8213592233009709\n",
      "Accuracy en prueba: 0.7651632970451011\n",
      "est = 1, depth = 7, min_samples_split = 10\n",
      "Accuracy en validación: 0.8135922330097087\n",
      "Accuracy en prueba: 0.7729393468118196\n",
      "est = 1, depth = 8, min_samples_split = 2\n",
      "Accuracy en validación: 0.8135922330097087\n",
      "Accuracy en prueba: 0.7589424572317263\n",
      "est = 1, depth = 8, min_samples_split = 5\n",
      "Accuracy en validación: 0.8174757281553398\n",
      "Accuracy en prueba: 0.7636080870917574\n",
      "est = 1, depth = 8, min_samples_split = 10\n",
      "Accuracy en validación: 0.7922330097087379\n",
      "Accuracy en prueba: 0.7542768273716952\n",
      "est = 1, depth = 9, min_samples_split = 2\n",
      "Accuracy en validación: 0.7864077669902912\n",
      "Accuracy en prueba: 0.7589424572317263\n",
      "est = 1, depth = 9, min_samples_split = 5\n",
      "Accuracy en validación: 0.7961165048543689\n",
      "Accuracy en prueba: 0.7744945567651633\n",
      "est = 1, depth = 9, min_samples_split = 10\n",
      "Accuracy en validación: 0.8\n",
      "Accuracy en prueba: 0.7667185069984448\n",
      "est = 1, depth = 10, min_samples_split = 2\n",
      "Accuracy en validación: 0.7922330097087379\n",
      "Accuracy en prueba: 0.7651632970451011\n",
      "est = 1, depth = 10, min_samples_split = 5\n",
      "Accuracy en validación: 0.7864077669902912\n",
      "Accuracy en prueba: 0.7744945567651633\n",
      "est = 1, depth = 10, min_samples_split = 10\n",
      "Accuracy en validación: 0.8\n",
      "Accuracy en prueba: 0.7776049766718507\n",
      "est = 2, depth = 1, min_samples_split = 2\n",
      "Accuracy en validación: 0.7669902912621359\n",
      "Accuracy en prueba: 0.7247278382581649\n",
      "est = 2, depth = 1, min_samples_split = 5\n",
      "Accuracy en validación: 0.7669902912621359\n",
      "Accuracy en prueba: 0.7247278382581649\n",
      "est = 2, depth = 1, min_samples_split = 10\n",
      "Accuracy en validación: 0.7669902912621359\n",
      "Accuracy en prueba: 0.7247278382581649\n",
      "est = 2, depth = 2, min_samples_split = 2\n",
      "Accuracy en validación: 0.7922330097087379\n",
      "Accuracy en prueba: 0.7589424572317263\n",
      "est = 2, depth = 2, min_samples_split = 5\n",
      "Accuracy en validación: 0.7922330097087379\n",
      "Accuracy en prueba: 0.7589424572317263\n",
      "est = 2, depth = 2, min_samples_split = 10\n",
      "Accuracy en validación: 0.7922330097087379\n",
      "Accuracy en prueba: 0.7589424572317263\n",
      "est = 2, depth = 3, min_samples_split = 2\n",
      "Accuracy en validación: 0.8019417475728156\n",
      "Accuracy en prueba: 0.7589424572317263\n",
      "est = 2, depth = 3, min_samples_split = 5\n",
      "Accuracy en validación: 0.8019417475728156\n",
      "Accuracy en prueba: 0.7589424572317263\n",
      "est = 2, depth = 3, min_samples_split = 10\n",
      "Accuracy en validación: 0.8019417475728156\n",
      "Accuracy en prueba: 0.7589424572317263\n",
      "est = 2, depth = 4, min_samples_split = 2\n",
      "Accuracy en validación: 0.8116504854368932\n",
      "Accuracy en prueba: 0.7667185069984448\n",
      "est = 2, depth = 4, min_samples_split = 5\n",
      "Accuracy en validación: 0.8116504854368932\n",
      "Accuracy en prueba: 0.7667185069984448\n",
      "est = 2, depth = 4, min_samples_split = 10\n",
      "Accuracy en validación: 0.8155339805825242\n",
      "Accuracy en prueba: 0.7682737169517885\n",
      "est = 2, depth = 5, min_samples_split = 2\n",
      "Accuracy en validación: 0.8\n",
      "Accuracy en prueba: 0.7667185069984448\n",
      "est = 2, depth = 5, min_samples_split = 5\n",
      "Accuracy en validación: 0.8116504854368932\n",
      "Accuracy en prueba: 0.7667185069984448\n",
      "est = 2, depth = 5, min_samples_split = 10\n",
      "Accuracy en validación: 0.8116504854368932\n",
      "Accuracy en prueba: 0.7620528771384136\n",
      "est = 2, depth = 6, min_samples_split = 2\n",
      "Accuracy en validación: 0.8135922330097087\n",
      "Accuracy en prueba: 0.7713841368584758\n",
      "est = 2, depth = 6, min_samples_split = 5\n",
      "Accuracy en validación: 0.8116504854368932\n",
      "Accuracy en prueba: 0.7729393468118196\n",
      "est = 2, depth = 6, min_samples_split = 10\n",
      "Accuracy en validación: 0.8252427184466019\n",
      "Accuracy en prueba: 0.7713841368584758\n",
      "est = 2, depth = 7, min_samples_split = 2\n",
      "Accuracy en validación: 0.8116504854368932\n",
      "Accuracy en prueba: 0.7465007776049767\n",
      "est = 2, depth = 7, min_samples_split = 5\n",
      "Accuracy en validación: 0.8116504854368932\n",
      "Accuracy en prueba: 0.76049766718507\n",
      "est = 2, depth = 7, min_samples_split = 10\n",
      "Accuracy en validación: 0.8252427184466019\n",
      "Accuracy en prueba: 0.7744945567651633\n",
      "est = 2, depth = 8, min_samples_split = 2\n",
      "Accuracy en validación: 0.8194174757281554\n",
      "Accuracy en prueba: 0.7636080870917574\n",
      "est = 2, depth = 8, min_samples_split = 5\n",
      "Accuracy en validación: 0.8155339805825242\n",
      "Accuracy en prueba: 0.7651632970451011\n",
      "est = 2, depth = 8, min_samples_split = 10\n",
      "Accuracy en validación: 0.8213592233009709\n",
      "Accuracy en prueba: 0.7791601866251944\n",
      "est = 2, depth = 9, min_samples_split = 2\n",
      "Accuracy en validación: 0.7980582524271844\n",
      "Accuracy en prueba: 0.7573872472783826\n",
      "est = 2, depth = 9, min_samples_split = 5\n",
      "Accuracy en validación: 0.8019417475728156\n",
      "Accuracy en prueba: 0.7589424572317263\n",
      "est = 2, depth = 9, min_samples_split = 10\n",
      "Accuracy en validación: 0.8077669902912621\n",
      "Accuracy en prueba: 0.7729393468118196\n",
      "est = 2, depth = 10, min_samples_split = 2\n",
      "Accuracy en validación: 0.7902912621359224\n",
      "Accuracy en prueba: 0.7589424572317263\n",
      "est = 2, depth = 10, min_samples_split = 5\n",
      "Accuracy en validación: 0.7864077669902912\n",
      "Accuracy en prueba: 0.7682737169517885\n",
      "est = 2, depth = 10, min_samples_split = 10\n",
      "Accuracy en validación: 0.8058252427184466\n",
      "Accuracy en prueba: 0.7791601866251944\n",
      "est = 3, depth = 1, min_samples_split = 2\n",
      "Accuracy en validación: 0.7650485436893204\n",
      "Accuracy en prueba: 0.7262830482115086\n",
      "est = 3, depth = 1, min_samples_split = 5\n",
      "Accuracy en validación: 0.7650485436893204\n",
      "Accuracy en prueba: 0.7262830482115086\n",
      "est = 3, depth = 1, min_samples_split = 10\n",
      "Accuracy en validación: 0.7650485436893204\n",
      "Accuracy en prueba: 0.7262830482115086\n",
      "est = 3, depth = 2, min_samples_split = 2\n",
      "Accuracy en validación: 0.7941747572815534\n",
      "Accuracy en prueba: 0.7589424572317263\n",
      "est = 3, depth = 2, min_samples_split = 5\n",
      "Accuracy en validación: 0.7941747572815534\n",
      "Accuracy en prueba: 0.7589424572317263\n",
      "est = 3, depth = 2, min_samples_split = 10\n",
      "Accuracy en validación: 0.7941747572815534\n",
      "Accuracy en prueba: 0.7589424572317263\n",
      "est = 3, depth = 3, min_samples_split = 2\n",
      "Accuracy en validación: 0.7980582524271844\n",
      "Accuracy en prueba: 0.7620528771384136\n",
      "est = 3, depth = 3, min_samples_split = 5\n",
      "Accuracy en validación: 0.7980582524271844\n",
      "Accuracy en prueba: 0.7620528771384136\n",
      "est = 3, depth = 3, min_samples_split = 10\n",
      "Accuracy en validación: 0.7980582524271844\n",
      "Accuracy en prueba: 0.7620528771384136\n"
     ]
    },
    {
     "name": "stdout",
     "output_type": "stream",
     "text": [
      "est = 3, depth = 4, min_samples_split = 2\n",
      "Accuracy en validación: 0.8097087378640777\n",
      "Accuracy en prueba: 0.7698289269051322\n",
      "est = 3, depth = 4, min_samples_split = 5\n",
      "Accuracy en validación: 0.8097087378640777\n",
      "Accuracy en prueba: 0.7698289269051322\n",
      "est = 3, depth = 4, min_samples_split = 10\n",
      "Accuracy en validación: 0.8097087378640777\n",
      "Accuracy en prueba: 0.7698289269051322\n",
      "est = 3, depth = 5, min_samples_split = 2\n",
      "Accuracy en validación: 0.8155339805825242\n",
      "Accuracy en prueba: 0.7729393468118196\n",
      "est = 3, depth = 5, min_samples_split = 5\n",
      "Accuracy en validación: 0.8097087378640777\n",
      "Accuracy en prueba: 0.7744945567651633\n",
      "est = 3, depth = 5, min_samples_split = 10\n",
      "Accuracy en validación: 0.8174757281553398\n",
      "Accuracy en prueba: 0.7776049766718507\n",
      "est = 3, depth = 6, min_samples_split = 2\n",
      "Accuracy en validación: 0.8155339805825242\n",
      "Accuracy en prueba: 0.7744945567651633\n",
      "est = 3, depth = 6, min_samples_split = 5\n",
      "Accuracy en validación: 0.8213592233009709\n",
      "Accuracy en prueba: 0.7853810264385692\n",
      "est = 3, depth = 6, min_samples_split = 10\n",
      "Accuracy en validación: 0.8155339805825242\n",
      "Accuracy en prueba: 0.7729393468118196\n",
      "est = 3, depth = 7, min_samples_split = 2\n",
      "Accuracy en validación: 0.8310679611650486\n",
      "Accuracy en prueba: 0.7744945567651633\n",
      "est = 3, depth = 7, min_samples_split = 5\n",
      "Accuracy en validación: 0.8310679611650486\n",
      "Accuracy en prueba: 0.7776049766718507\n",
      "est = 3, depth = 7, min_samples_split = 10\n",
      "Accuracy en validación: 0.8233009708737864\n",
      "Accuracy en prueba: 0.7807153965785381\n",
      "est = 3, depth = 8, min_samples_split = 2\n",
      "Accuracy en validación: 0.8213592233009709\n",
      "Accuracy en prueba: 0.7838258164852255\n",
      "est = 3, depth = 8, min_samples_split = 5\n",
      "Accuracy en validación: 0.8233009708737864\n",
      "Accuracy en prueba: 0.7807153965785381\n",
      "est = 3, depth = 8, min_samples_split = 10\n",
      "Accuracy en validación: 0.8213592233009709\n",
      "Accuracy en prueba: 0.7744945567651633\n",
      "est = 3, depth = 9, min_samples_split = 2\n",
      "Accuracy en validación: 0.8174757281553398\n",
      "Accuracy en prueba: 0.7791601866251944\n",
      "est = 3, depth = 9, min_samples_split = 5\n",
      "Accuracy en validación: 0.8174757281553398\n",
      "Accuracy en prueba: 0.7822706065318819\n",
      "est = 3, depth = 9, min_samples_split = 10\n",
      "Accuracy en validación: 0.8097087378640777\n",
      "Accuracy en prueba: 0.7807153965785381\n",
      "est = 3, depth = 10, min_samples_split = 2\n",
      "Accuracy en validación: 0.8097087378640777\n",
      "Accuracy en prueba: 0.7822706065318819\n",
      "est = 3, depth = 10, min_samples_split = 5\n",
      "Accuracy en validación: 0.8077669902912621\n",
      "Accuracy en prueba: 0.7791601866251944\n",
      "est = 3, depth = 10, min_samples_split = 10\n",
      "Accuracy en validación: 0.8116504854368932\n",
      "Accuracy en prueba: 0.7916018662519441\n",
      "est = 4, depth = 1, min_samples_split = 2\n",
      "Accuracy en validación: 0.7902912621359224\n",
      "Accuracy en prueba: 0.7651632970451011\n",
      "est = 4, depth = 1, min_samples_split = 5\n",
      "Accuracy en validación: 0.7902912621359224\n",
      "Accuracy en prueba: 0.7651632970451011\n",
      "est = 4, depth = 1, min_samples_split = 10\n",
      "Accuracy en validación: 0.7902912621359224\n",
      "Accuracy en prueba: 0.7651632970451011\n",
      "est = 4, depth = 2, min_samples_split = 2\n",
      "Accuracy en validación: 0.7941747572815534\n",
      "Accuracy en prueba: 0.7589424572317263\n",
      "est = 4, depth = 2, min_samples_split = 5\n",
      "Accuracy en validación: 0.7941747572815534\n",
      "Accuracy en prueba: 0.7589424572317263\n",
      "est = 4, depth = 2, min_samples_split = 10\n",
      "Accuracy en validación: 0.7941747572815534\n",
      "Accuracy en prueba: 0.7589424572317263\n",
      "est = 4, depth = 3, min_samples_split = 2\n",
      "Accuracy en validación: 0.7922330097087379\n",
      "Accuracy en prueba: 0.7667185069984448\n",
      "est = 4, depth = 3, min_samples_split = 5\n",
      "Accuracy en validación: 0.7922330097087379\n",
      "Accuracy en prueba: 0.7667185069984448\n",
      "est = 4, depth = 3, min_samples_split = 10\n",
      "Accuracy en validación: 0.7922330097087379\n",
      "Accuracy en prueba: 0.7667185069984448\n",
      "est = 4, depth = 4, min_samples_split = 2\n",
      "Accuracy en validación: 0.8135922330097087\n",
      "Accuracy en prueba: 0.7682737169517885\n",
      "est = 4, depth = 4, min_samples_split = 5\n",
      "Accuracy en validación: 0.8135922330097087\n",
      "Accuracy en prueba: 0.7682737169517885\n",
      "est = 4, depth = 4, min_samples_split = 10\n",
      "Accuracy en validación: 0.8135922330097087\n",
      "Accuracy en prueba: 0.7682737169517885\n",
      "est = 4, depth = 5, min_samples_split = 2\n",
      "Accuracy en validación: 0.8233009708737864\n",
      "Accuracy en prueba: 0.7713841368584758\n",
      "est = 4, depth = 5, min_samples_split = 5\n",
      "Accuracy en validación: 0.8155339805825242\n",
      "Accuracy en prueba: 0.776049766718507\n",
      "est = 4, depth = 5, min_samples_split = 10\n",
      "Accuracy en validación: 0.8252427184466019\n",
      "Accuracy en prueba: 0.7776049766718507\n",
      "est = 4, depth = 6, min_samples_split = 2\n",
      "Accuracy en validación: 0.8233009708737864\n",
      "Accuracy en prueba: 0.7776049766718507\n",
      "est = 4, depth = 6, min_samples_split = 5\n",
      "Accuracy en validación: 0.8116504854368932\n",
      "Accuracy en prueba: 0.7838258164852255\n",
      "est = 4, depth = 6, min_samples_split = 10\n",
      "Accuracy en validación: 0.8233009708737864\n",
      "Accuracy en prueba: 0.7838258164852255\n",
      "est = 4, depth = 7, min_samples_split = 2\n",
      "Accuracy en validación: 0.829126213592233\n",
      "Accuracy en prueba: 0.7713841368584758\n",
      "est = 4, depth = 7, min_samples_split = 5\n",
      "Accuracy en validación: 0.8271844660194175\n",
      "Accuracy en prueba: 0.7776049766718507\n",
      "est = 4, depth = 7, min_samples_split = 10\n",
      "Accuracy en validación: 0.8194174757281554\n",
      "Accuracy en prueba: 0.7713841368584758\n",
      "est = 4, depth = 8, min_samples_split = 2\n",
      "Accuracy en validación: 0.8116504854368932\n",
      "Accuracy en prueba: 0.7869362363919129\n",
      "est = 4, depth = 8, min_samples_split = 5\n",
      "Accuracy en validación: 0.8194174757281554\n",
      "Accuracy en prueba: 0.7838258164852255\n",
      "est = 4, depth = 8, min_samples_split = 10\n",
      "Accuracy en validación: 0.8116504854368932\n",
      "Accuracy en prueba: 0.7807153965785381\n",
      "est = 4, depth = 9, min_samples_split = 2\n",
      "Accuracy en validación: 0.8077669902912621\n",
      "Accuracy en prueba: 0.7776049766718507\n",
      "est = 4, depth = 9, min_samples_split = 5\n",
      "Accuracy en validación: 0.8135922330097087\n",
      "Accuracy en prueba: 0.7931570762052877\n",
      "est = 4, depth = 9, min_samples_split = 10\n",
      "Accuracy en validación: 0.8116504854368932\n",
      "Accuracy en prueba: 0.7838258164852255\n",
      "est = 4, depth = 10, min_samples_split = 2\n",
      "Accuracy en validación: 0.8\n",
      "Accuracy en prueba: 0.776049766718507\n",
      "est = 4, depth = 10, min_samples_split = 5\n",
      "Accuracy en validación: 0.8097087378640777\n",
      "Accuracy en prueba: 0.7869362363919129\n",
      "est = 4, depth = 10, min_samples_split = 10\n",
      "Accuracy en validación: 0.8194174757281554\n",
      "Accuracy en prueba: 0.7838258164852255\n",
      "est = 5, depth = 1, min_samples_split = 2\n",
      "Accuracy en validación: 0.7592233009708738\n",
      "Accuracy en prueba: 0.7216174183514774\n",
      "est = 5, depth = 1, min_samples_split = 5\n",
      "Accuracy en validación: 0.7592233009708738\n",
      "Accuracy en prueba: 0.7216174183514774\n",
      "est = 5, depth = 1, min_samples_split = 10\n",
      "Accuracy en validación: 0.7592233009708738\n",
      "Accuracy en prueba: 0.7216174183514774\n",
      "est = 5, depth = 2, min_samples_split = 2\n",
      "Accuracy en validación: 0.7844660194174757\n",
      "Accuracy en prueba: 0.7573872472783826\n",
      "est = 5, depth = 2, min_samples_split = 5\n",
      "Accuracy en validación: 0.7844660194174757\n",
      "Accuracy en prueba: 0.7573872472783826\n",
      "est = 5, depth = 2, min_samples_split = 10\n",
      "Accuracy en validación: 0.7844660194174757\n",
      "Accuracy en prueba: 0.7573872472783826\n",
      "est = 5, depth = 3, min_samples_split = 2\n",
      "Accuracy en validación: 0.7941747572815534\n",
      "Accuracy en prueba: 0.7620528771384136\n",
      "est = 5, depth = 3, min_samples_split = 5\n",
      "Accuracy en validación: 0.7941747572815534\n",
      "Accuracy en prueba: 0.7620528771384136\n",
      "est = 5, depth = 3, min_samples_split = 10\n",
      "Accuracy en validación: 0.7941747572815534\n",
      "Accuracy en prueba: 0.7620528771384136\n",
      "est = 5, depth = 4, min_samples_split = 2\n",
      "Accuracy en validación: 0.8135922330097087\n",
      "Accuracy en prueba: 0.7682737169517885\n",
      "est = 5, depth = 4, min_samples_split = 5\n",
      "Accuracy en validación: 0.8135922330097087\n",
      "Accuracy en prueba: 0.7682737169517885\n",
      "est = 5, depth = 4, min_samples_split = 10\n",
      "Accuracy en validación: 0.8194174757281554\n",
      "Accuracy en prueba: 0.7698289269051322\n",
      "est = 5, depth = 5, min_samples_split = 2\n",
      "Accuracy en validación: 0.8213592233009709\n",
      "Accuracy en prueba: 0.7729393468118196\n",
      "est = 5, depth = 5, min_samples_split = 5\n",
      "Accuracy en validación: 0.8194174757281554\n",
      "Accuracy en prueba: 0.776049766718507\n",
      "est = 5, depth = 5, min_samples_split = 10\n",
      "Accuracy en validación: 0.8252427184466019\n",
      "Accuracy en prueba: 0.7791601866251944\n",
      "est = 5, depth = 6, min_samples_split = 2\n",
      "Accuracy en validación: 0.8194174757281554\n",
      "Accuracy en prueba: 0.7698289269051322\n",
      "est = 5, depth = 6, min_samples_split = 5\n",
      "Accuracy en validación: 0.8116504854368932\n",
      "Accuracy en prueba: 0.7807153965785381\n"
     ]
    },
    {
     "name": "stdout",
     "output_type": "stream",
     "text": [
      "est = 5, depth = 6, min_samples_split = 10\n",
      "Accuracy en validación: 0.8233009708737864\n",
      "Accuracy en prueba: 0.776049766718507\n",
      "est = 5, depth = 7, min_samples_split = 2\n",
      "Accuracy en validación: 0.8271844660194175\n",
      "Accuracy en prueba: 0.776049766718507\n",
      "est = 5, depth = 7, min_samples_split = 5\n",
      "Accuracy en validación: 0.8213592233009709\n",
      "Accuracy en prueba: 0.7807153965785381\n",
      "est = 5, depth = 7, min_samples_split = 10\n",
      "Accuracy en validación: 0.8077669902912621\n",
      "Accuracy en prueba: 0.7682737169517885\n",
      "est = 5, depth = 8, min_samples_split = 2\n",
      "Accuracy en validación: 0.8097087378640777\n",
      "Accuracy en prueba: 0.7791601866251944\n",
      "est = 5, depth = 8, min_samples_split = 5\n",
      "Accuracy en validación: 0.8271844660194175\n",
      "Accuracy en prueba: 0.7838258164852255\n",
      "est = 5, depth = 8, min_samples_split = 10\n",
      "Accuracy en validación: 0.8174757281553398\n",
      "Accuracy en prueba: 0.7869362363919129\n",
      "est = 5, depth = 9, min_samples_split = 2\n",
      "Accuracy en validación: 0.8135922330097087\n",
      "Accuracy en prueba: 0.7807153965785381\n",
      "est = 5, depth = 9, min_samples_split = 5\n",
      "Accuracy en validación: 0.8194174757281554\n",
      "Accuracy en prueba: 0.7962674961119751\n",
      "est = 5, depth = 9, min_samples_split = 10\n",
      "Accuracy en validación: 0.8019417475728156\n",
      "Accuracy en prueba: 0.7791601866251944\n",
      "est = 5, depth = 10, min_samples_split = 2\n",
      "Accuracy en validación: 0.8038834951456311\n",
      "Accuracy en prueba: 0.7776049766718507\n",
      "est = 5, depth = 10, min_samples_split = 5\n",
      "Accuracy en validación: 0.8097087378640777\n",
      "Accuracy en prueba: 0.7931570762052877\n",
      "est = 5, depth = 10, min_samples_split = 10\n",
      "Accuracy en validación: 0.8155339805825242\n",
      "Accuracy en prueba: 0.7822706065318819\n",
      "est = 6, depth = 1, min_samples_split = 2\n",
      "Accuracy en validación: 0.7902912621359224\n",
      "Accuracy en prueba: 0.7636080870917574\n",
      "est = 6, depth = 1, min_samples_split = 5\n",
      "Accuracy en validación: 0.7902912621359224\n",
      "Accuracy en prueba: 0.7636080870917574\n",
      "est = 6, depth = 1, min_samples_split = 10\n",
      "Accuracy en validación: 0.7902912621359224\n",
      "Accuracy en prueba: 0.7636080870917574\n",
      "est = 6, depth = 2, min_samples_split = 2\n",
      "Accuracy en validación: 0.7864077669902912\n",
      "Accuracy en prueba: 0.76049766718507\n",
      "est = 6, depth = 2, min_samples_split = 5\n",
      "Accuracy en validación: 0.7864077669902912\n",
      "Accuracy en prueba: 0.76049766718507\n",
      "est = 6, depth = 2, min_samples_split = 10\n",
      "Accuracy en validación: 0.7864077669902912\n",
      "Accuracy en prueba: 0.76049766718507\n",
      "est = 6, depth = 3, min_samples_split = 2\n",
      "Accuracy en validación: 0.7961165048543689\n",
      "Accuracy en prueba: 0.7713841368584758\n",
      "est = 6, depth = 3, min_samples_split = 5\n",
      "Accuracy en validación: 0.7961165048543689\n",
      "Accuracy en prueba: 0.7713841368584758\n",
      "est = 6, depth = 3, min_samples_split = 10\n",
      "Accuracy en validación: 0.7961165048543689\n",
      "Accuracy en prueba: 0.7713841368584758\n",
      "est = 6, depth = 4, min_samples_split = 2\n",
      "Accuracy en validación: 0.8174757281553398\n",
      "Accuracy en prueba: 0.7776049766718507\n",
      "est = 6, depth = 4, min_samples_split = 5\n",
      "Accuracy en validación: 0.8174757281553398\n",
      "Accuracy en prueba: 0.7776049766718507\n",
      "est = 6, depth = 4, min_samples_split = 10\n",
      "Accuracy en validación: 0.8213592233009709\n",
      "Accuracy en prueba: 0.7776049766718507\n",
      "est = 6, depth = 5, min_samples_split = 2\n",
      "Accuracy en validación: 0.8155339805825242\n",
      "Accuracy en prueba: 0.7729393468118196\n",
      "est = 6, depth = 5, min_samples_split = 5\n",
      "Accuracy en validación: 0.8194174757281554\n",
      "Accuracy en prueba: 0.7713841368584758\n",
      "est = 6, depth = 5, min_samples_split = 10\n",
      "Accuracy en validación: 0.8213592233009709\n",
      "Accuracy en prueba: 0.7807153965785381\n",
      "est = 6, depth = 6, min_samples_split = 2\n",
      "Accuracy en validación: 0.8174757281553398\n",
      "Accuracy en prueba: 0.776049766718507\n",
      "est = 6, depth = 6, min_samples_split = 5\n",
      "Accuracy en validación: 0.8135922330097087\n",
      "Accuracy en prueba: 0.7776049766718507\n",
      "est = 6, depth = 6, min_samples_split = 10\n",
      "Accuracy en validación: 0.8213592233009709\n",
      "Accuracy en prueba: 0.7776049766718507\n",
      "est = 6, depth = 7, min_samples_split = 2\n",
      "Accuracy en validación: 0.8310679611650486\n",
      "Accuracy en prueba: 0.7853810264385692\n",
      "est = 6, depth = 7, min_samples_split = 5\n",
      "Accuracy en validación: 0.8155339805825242\n",
      "Accuracy en prueba: 0.7791601866251944\n",
      "est = 6, depth = 7, min_samples_split = 10\n",
      "Accuracy en validación: 0.8213592233009709\n",
      "Accuracy en prueba: 0.7682737169517885\n",
      "est = 6, depth = 8, min_samples_split = 2\n",
      "Accuracy en validación: 0.8155339805825242\n",
      "Accuracy en prueba: 0.7853810264385692\n",
      "est = 6, depth = 8, min_samples_split = 5\n",
      "Accuracy en validación: 0.8194174757281554\n",
      "Accuracy en prueba: 0.7869362363919129\n",
      "est = 6, depth = 8, min_samples_split = 10\n",
      "Accuracy en validación: 0.8174757281553398\n",
      "Accuracy en prueba: 0.7791601866251944\n",
      "est = 6, depth = 9, min_samples_split = 2\n",
      "Accuracy en validación: 0.8116504854368932\n",
      "Accuracy en prueba: 0.7744945567651633\n",
      "est = 6, depth = 9, min_samples_split = 5\n",
      "Accuracy en validación: 0.8155339805825242\n",
      "Accuracy en prueba: 0.7900466562986003\n",
      "est = 6, depth = 9, min_samples_split = 10\n",
      "Accuracy en validación: 0.8077669902912621\n",
      "Accuracy en prueba: 0.7838258164852255\n",
      "est = 6, depth = 10, min_samples_split = 2\n",
      "Accuracy en validación: 0.8097087378640777\n",
      "Accuracy en prueba: 0.7729393468118196\n",
      "est = 6, depth = 10, min_samples_split = 5\n",
      "Accuracy en validación: 0.8116504854368932\n",
      "Accuracy en prueba: 0.7931570762052877\n",
      "est = 6, depth = 10, min_samples_split = 10\n",
      "Accuracy en validación: 0.8097087378640777\n",
      "Accuracy en prueba: 0.7822706065318819\n",
      "est = 7, depth = 1, min_samples_split = 2\n",
      "Accuracy en validación: 0.7669902912621359\n",
      "Accuracy en prueba: 0.7278382581648523\n",
      "est = 7, depth = 1, min_samples_split = 5\n",
      "Accuracy en validación: 0.7669902912621359\n",
      "Accuracy en prueba: 0.7278382581648523\n",
      "est = 7, depth = 1, min_samples_split = 10\n",
      "Accuracy en validación: 0.7669902912621359\n",
      "Accuracy en prueba: 0.7278382581648523\n",
      "est = 7, depth = 2, min_samples_split = 2\n",
      "Accuracy en validación: 0.7883495145631068\n",
      "Accuracy en prueba: 0.7620528771384136\n",
      "est = 7, depth = 2, min_samples_split = 5\n",
      "Accuracy en validación: 0.7883495145631068\n",
      "Accuracy en prueba: 0.7620528771384136\n",
      "est = 7, depth = 2, min_samples_split = 10\n",
      "Accuracy en validación: 0.7883495145631068\n",
      "Accuracy en prueba: 0.7620528771384136\n",
      "est = 7, depth = 3, min_samples_split = 2\n",
      "Accuracy en validación: 0.8077669902912621\n",
      "Accuracy en prueba: 0.776049766718507\n",
      "est = 7, depth = 3, min_samples_split = 5\n",
      "Accuracy en validación: 0.8077669902912621\n",
      "Accuracy en prueba: 0.776049766718507\n",
      "est = 7, depth = 3, min_samples_split = 10\n",
      "Accuracy en validación: 0.8077669902912621\n",
      "Accuracy en prueba: 0.776049766718507\n",
      "est = 7, depth = 4, min_samples_split = 2\n",
      "Accuracy en validación: 0.8155339805825242\n",
      "Accuracy en prueba: 0.7776049766718507\n",
      "est = 7, depth = 4, min_samples_split = 5\n",
      "Accuracy en validación: 0.8155339805825242\n",
      "Accuracy en prueba: 0.7776049766718507\n",
      "est = 7, depth = 4, min_samples_split = 10\n",
      "Accuracy en validación: 0.8174757281553398\n",
      "Accuracy en prueba: 0.7776049766718507\n",
      "est = 7, depth = 5, min_samples_split = 2\n",
      "Accuracy en validación: 0.8213592233009709\n",
      "Accuracy en prueba: 0.7744945567651633\n",
      "est = 7, depth = 5, min_samples_split = 5\n",
      "Accuracy en validación: 0.8174757281553398\n",
      "Accuracy en prueba: 0.7729393468118196\n",
      "est = 7, depth = 5, min_samples_split = 10\n",
      "Accuracy en validación: 0.8174757281553398\n",
      "Accuracy en prueba: 0.7776049766718507\n",
      "est = 7, depth = 6, min_samples_split = 2\n",
      "Accuracy en validación: 0.8252427184466019\n",
      "Accuracy en prueba: 0.7776049766718507\n",
      "est = 7, depth = 6, min_samples_split = 5\n",
      "Accuracy en validación: 0.8155339805825242\n",
      "Accuracy en prueba: 0.7791601866251944\n",
      "est = 7, depth = 6, min_samples_split = 10\n",
      "Accuracy en validación: 0.829126213592233\n",
      "Accuracy en prueba: 0.7791601866251944\n",
      "est = 7, depth = 7, min_samples_split = 2\n",
      "Accuracy en validación: 0.8252427184466019\n",
      "Accuracy en prueba: 0.7853810264385692\n",
      "est = 7, depth = 7, min_samples_split = 5\n",
      "Accuracy en validación: 0.8213592233009709\n",
      "Accuracy en prueba: 0.7838258164852255\n",
      "est = 7, depth = 7, min_samples_split = 10\n",
      "Accuracy en validación: 0.8194174757281554\n",
      "Accuracy en prueba: 0.7791601866251944\n",
      "est = 7, depth = 8, min_samples_split = 2\n",
      "Accuracy en validación: 0.8194174757281554\n",
      "Accuracy en prueba: 0.7744945567651633\n",
      "est = 7, depth = 8, min_samples_split = 5\n",
      "Accuracy en validación: 0.8252427184466019\n",
      "Accuracy en prueba: 0.7853810264385692\n",
      "est = 7, depth = 8, min_samples_split = 10\n",
      "Accuracy en validación: 0.8135922330097087\n",
      "Accuracy en prueba: 0.7853810264385692\n"
     ]
    },
    {
     "name": "stdout",
     "output_type": "stream",
     "text": [
      "est = 7, depth = 9, min_samples_split = 2\n",
      "Accuracy en validación: 0.8194174757281554\n",
      "Accuracy en prueba: 0.7869362363919129\n",
      "est = 7, depth = 9, min_samples_split = 5\n",
      "Accuracy en validación: 0.8233009708737864\n",
      "Accuracy en prueba: 0.7900466562986003\n",
      "est = 7, depth = 9, min_samples_split = 10\n",
      "Accuracy en validación: 0.8135922330097087\n",
      "Accuracy en prueba: 0.776049766718507\n",
      "est = 7, depth = 10, min_samples_split = 2\n",
      "Accuracy en validación: 0.8116504854368932\n",
      "Accuracy en prueba: 0.7853810264385692\n",
      "est = 7, depth = 10, min_samples_split = 5\n",
      "Accuracy en validación: 0.8135922330097087\n",
      "Accuracy en prueba: 0.7931570762052877\n",
      "est = 7, depth = 10, min_samples_split = 10\n",
      "Accuracy en validación: 0.8213592233009709\n",
      "Accuracy en prueba: 0.7853810264385692\n",
      "est = 8, depth = 1, min_samples_split = 2\n",
      "Accuracy en validación: 0.7864077669902912\n",
      "Accuracy en prueba: 0.7636080870917574\n",
      "est = 8, depth = 1, min_samples_split = 5\n",
      "Accuracy en validación: 0.7864077669902912\n",
      "Accuracy en prueba: 0.7636080870917574\n",
      "est = 8, depth = 1, min_samples_split = 10\n",
      "Accuracy en validación: 0.7864077669902912\n",
      "Accuracy en prueba: 0.7636080870917574\n",
      "est = 8, depth = 2, min_samples_split = 2\n",
      "Accuracy en validación: 0.7864077669902912\n",
      "Accuracy en prueba: 0.76049766718507\n",
      "est = 8, depth = 2, min_samples_split = 5\n",
      "Accuracy en validación: 0.7864077669902912\n",
      "Accuracy en prueba: 0.76049766718507\n",
      "est = 8, depth = 2, min_samples_split = 10\n",
      "Accuracy en validación: 0.7864077669902912\n",
      "Accuracy en prueba: 0.76049766718507\n",
      "est = 8, depth = 3, min_samples_split = 2\n",
      "Accuracy en validación: 0.8058252427184466\n",
      "Accuracy en prueba: 0.776049766718507\n",
      "est = 8, depth = 3, min_samples_split = 5\n",
      "Accuracy en validación: 0.8058252427184466\n",
      "Accuracy en prueba: 0.776049766718507\n",
      "est = 8, depth = 3, min_samples_split = 10\n",
      "Accuracy en validación: 0.8058252427184466\n",
      "Accuracy en prueba: 0.776049766718507\n",
      "est = 8, depth = 4, min_samples_split = 2\n",
      "Accuracy en validación: 0.8135922330097087\n",
      "Accuracy en prueba: 0.7822706065318819\n",
      "est = 8, depth = 4, min_samples_split = 5\n",
      "Accuracy en validación: 0.8135922330097087\n",
      "Accuracy en prueba: 0.7822706065318819\n",
      "est = 8, depth = 4, min_samples_split = 10\n",
      "Accuracy en validación: 0.8194174757281554\n",
      "Accuracy en prueba: 0.7822706065318819\n",
      "est = 8, depth = 5, min_samples_split = 2\n",
      "Accuracy en validación: 0.8233009708737864\n",
      "Accuracy en prueba: 0.7838258164852255\n",
      "est = 8, depth = 5, min_samples_split = 5\n",
      "Accuracy en validación: 0.8194174757281554\n",
      "Accuracy en prueba: 0.7776049766718507\n",
      "est = 8, depth = 5, min_samples_split = 10\n",
      "Accuracy en validación: 0.8194174757281554\n",
      "Accuracy en prueba: 0.7791601866251944\n",
      "est = 8, depth = 6, min_samples_split = 2\n",
      "Accuracy en validación: 0.8213592233009709\n",
      "Accuracy en prueba: 0.7791601866251944\n",
      "est = 8, depth = 6, min_samples_split = 5\n",
      "Accuracy en validación: 0.8155339805825242\n",
      "Accuracy en prueba: 0.7853810264385692\n",
      "est = 8, depth = 6, min_samples_split = 10\n",
      "Accuracy en validación: 0.8233009708737864\n",
      "Accuracy en prueba: 0.7884914463452566\n",
      "est = 8, depth = 7, min_samples_split = 2\n",
      "Accuracy en validación: 0.8213592233009709\n",
      "Accuracy en prueba: 0.7884914463452566\n",
      "est = 8, depth = 7, min_samples_split = 5\n",
      "Accuracy en validación: 0.8194174757281554\n",
      "Accuracy en prueba: 0.7807153965785381\n",
      "est = 8, depth = 7, min_samples_split = 10\n",
      "Accuracy en validación: 0.8194174757281554\n",
      "Accuracy en prueba: 0.7744945567651633\n",
      "est = 8, depth = 8, min_samples_split = 2\n",
      "Accuracy en validación: 0.8116504854368932\n",
      "Accuracy en prueba: 0.7884914463452566\n",
      "est = 8, depth = 8, min_samples_split = 5\n",
      "Accuracy en validación: 0.8155339805825242\n",
      "Accuracy en prueba: 0.7807153965785381\n",
      "est = 8, depth = 8, min_samples_split = 10\n",
      "Accuracy en validación: 0.8097087378640777\n",
      "Accuracy en prueba: 0.7869362363919129\n",
      "est = 8, depth = 9, min_samples_split = 2\n",
      "Accuracy en validación: 0.8174757281553398\n",
      "Accuracy en prueba: 0.7791601866251944\n",
      "est = 8, depth = 9, min_samples_split = 5\n",
      "Accuracy en validación: 0.8233009708737864\n",
      "Accuracy en prueba: 0.7884914463452566\n",
      "est = 8, depth = 9, min_samples_split = 10\n",
      "Accuracy en validación: 0.8058252427184466\n",
      "Accuracy en prueba: 0.7884914463452566\n",
      "est = 8, depth = 10, min_samples_split = 2\n",
      "Accuracy en validación: 0.8174757281553398\n",
      "Accuracy en prueba: 0.7900466562986003\n",
      "est = 8, depth = 10, min_samples_split = 5\n",
      "Accuracy en validación: 0.8116504854368932\n",
      "Accuracy en prueba: 0.7962674961119751\n",
      "est = 8, depth = 10, min_samples_split = 10\n",
      "Accuracy en validación: 0.8174757281553398\n",
      "Accuracy en prueba: 0.7776049766718507\n",
      "est = 9, depth = 1, min_samples_split = 2\n",
      "Accuracy en validación: 0.7553398058252427\n",
      "Accuracy en prueba: 0.7200622083981337\n",
      "est = 9, depth = 1, min_samples_split = 5\n",
      "Accuracy en validación: 0.7553398058252427\n",
      "Accuracy en prueba: 0.7200622083981337\n",
      "est = 9, depth = 1, min_samples_split = 10\n",
      "Accuracy en validación: 0.7553398058252427\n",
      "Accuracy en prueba: 0.7200622083981337\n",
      "est = 9, depth = 2, min_samples_split = 2\n",
      "Accuracy en validación: 0.7864077669902912\n",
      "Accuracy en prueba: 0.76049766718507\n",
      "est = 9, depth = 2, min_samples_split = 5\n",
      "Accuracy en validación: 0.7864077669902912\n",
      "Accuracy en prueba: 0.76049766718507\n",
      "est = 9, depth = 2, min_samples_split = 10\n",
      "Accuracy en validación: 0.7864077669902912\n",
      "Accuracy en prueba: 0.76049766718507\n",
      "est = 9, depth = 3, min_samples_split = 2\n",
      "Accuracy en validación: 0.7980582524271844\n",
      "Accuracy en prueba: 0.7729393468118196\n",
      "est = 9, depth = 3, min_samples_split = 5\n",
      "Accuracy en validación: 0.7980582524271844\n",
      "Accuracy en prueba: 0.7729393468118196\n",
      "est = 9, depth = 3, min_samples_split = 10\n",
      "Accuracy en validación: 0.7980582524271844\n",
      "Accuracy en prueba: 0.7729393468118196\n",
      "est = 9, depth = 4, min_samples_split = 2\n",
      "Accuracy en validación: 0.8213592233009709\n",
      "Accuracy en prueba: 0.7822706065318819\n",
      "est = 9, depth = 4, min_samples_split = 5\n",
      "Accuracy en validación: 0.8213592233009709\n",
      "Accuracy en prueba: 0.7822706065318819\n",
      "est = 9, depth = 4, min_samples_split = 10\n",
      "Accuracy en validación: 0.8194174757281554\n",
      "Accuracy en prueba: 0.7822706065318819\n",
      "est = 9, depth = 5, min_samples_split = 2\n",
      "Accuracy en validación: 0.8233009708737864\n",
      "Accuracy en prueba: 0.7776049766718507\n",
      "est = 9, depth = 5, min_samples_split = 5\n",
      "Accuracy en validación: 0.8174757281553398\n",
      "Accuracy en prueba: 0.7822706065318819\n",
      "est = 9, depth = 5, min_samples_split = 10\n",
      "Accuracy en validación: 0.8116504854368932\n",
      "Accuracy en prueba: 0.7822706065318819\n",
      "est = 9, depth = 6, min_samples_split = 2\n",
      "Accuracy en validación: 0.8174757281553398\n",
      "Accuracy en prueba: 0.7744945567651633\n",
      "est = 9, depth = 6, min_samples_split = 5\n",
      "Accuracy en validación: 0.8135922330097087\n",
      "Accuracy en prueba: 0.7822706065318819\n",
      "est = 9, depth = 6, min_samples_split = 10\n",
      "Accuracy en validación: 0.8213592233009709\n",
      "Accuracy en prueba: 0.7869362363919129\n",
      "est = 9, depth = 7, min_samples_split = 2\n",
      "Accuracy en validación: 0.8174757281553398\n",
      "Accuracy en prueba: 0.7822706065318819\n",
      "est = 9, depth = 7, min_samples_split = 5\n",
      "Accuracy en validación: 0.8155339805825242\n",
      "Accuracy en prueba: 0.7744945567651633\n",
      "est = 9, depth = 7, min_samples_split = 10\n",
      "Accuracy en validación: 0.8116504854368932\n",
      "Accuracy en prueba: 0.7807153965785381\n",
      "est = 9, depth = 8, min_samples_split = 2\n",
      "Accuracy en validación: 0.8116504854368932\n",
      "Accuracy en prueba: 0.7853810264385692\n",
      "est = 9, depth = 8, min_samples_split = 5\n",
      "Accuracy en validación: 0.8135922330097087\n",
      "Accuracy en prueba: 0.7853810264385692\n",
      "est = 9, depth = 8, min_samples_split = 10\n",
      "Accuracy en validación: 0.8116504854368932\n",
      "Accuracy en prueba: 0.7822706065318819\n",
      "est = 9, depth = 9, min_samples_split = 2\n",
      "Accuracy en validación: 0.8271844660194175\n",
      "Accuracy en prueba: 0.7853810264385692\n",
      "est = 9, depth = 9, min_samples_split = 5\n",
      "Accuracy en validación: 0.8174757281553398\n",
      "Accuracy en prueba: 0.7900466562986003\n",
      "est = 9, depth = 9, min_samples_split = 10\n",
      "Accuracy en validación: 0.8097087378640777\n",
      "Accuracy en prueba: 0.7869362363919129\n",
      "est = 9, depth = 10, min_samples_split = 2\n",
      "Accuracy en validación: 0.8271844660194175\n",
      "Accuracy en prueba: 0.7884914463452566\n",
      "est = 9, depth = 10, min_samples_split = 5\n",
      "Accuracy en validación: 0.8038834951456311\n",
      "Accuracy en prueba: 0.7947122861586314\n",
      "est = 9, depth = 10, min_samples_split = 10\n",
      "Accuracy en validación: 0.8155339805825242\n",
      "Accuracy en prueba: 0.7791601866251944\n",
      "est = 10, depth = 1, min_samples_split = 2\n",
      "Accuracy en validación: 0.7572815533980582\n",
      "Accuracy en prueba: 0.7200622083981337\n",
      "est = 10, depth = 1, min_samples_split = 5\n",
      "Accuracy en validación: 0.7572815533980582\n",
      "Accuracy en prueba: 0.7200622083981337\n",
      "est = 10, depth = 1, min_samples_split = 10\n",
      "Accuracy en validación: 0.7572815533980582\n",
      "Accuracy en prueba: 0.7200622083981337\n",
      "est = 10, depth = 2, min_samples_split = 2\n",
      "Accuracy en validación: 0.7883495145631068\n",
      "Accuracy en prueba: 0.7620528771384136\n",
      "est = 10, depth = 2, min_samples_split = 5\n",
      "Accuracy en validación: 0.7883495145631068\n",
      "Accuracy en prueba: 0.7620528771384136\n"
     ]
    },
    {
     "name": "stdout",
     "output_type": "stream",
     "text": [
      "est = 10, depth = 2, min_samples_split = 10\n",
      "Accuracy en validación: 0.7883495145631068\n",
      "Accuracy en prueba: 0.7620528771384136\n",
      "est = 10, depth = 3, min_samples_split = 2\n",
      "Accuracy en validación: 0.8038834951456311\n",
      "Accuracy en prueba: 0.776049766718507\n",
      "est = 10, depth = 3, min_samples_split = 5\n",
      "Accuracy en validación: 0.8038834951456311\n",
      "Accuracy en prueba: 0.776049766718507\n",
      "est = 10, depth = 3, min_samples_split = 10\n",
      "Accuracy en validación: 0.8038834951456311\n",
      "Accuracy en prueba: 0.776049766718507\n",
      "est = 10, depth = 4, min_samples_split = 2\n",
      "Accuracy en validación: 0.8213592233009709\n",
      "Accuracy en prueba: 0.7869362363919129\n",
      "est = 10, depth = 4, min_samples_split = 5\n",
      "Accuracy en validación: 0.8213592233009709\n",
      "Accuracy en prueba: 0.7869362363919129\n",
      "est = 10, depth = 4, min_samples_split = 10\n",
      "Accuracy en validación: 0.8194174757281554\n",
      "Accuracy en prueba: 0.7869362363919129\n",
      "est = 10, depth = 5, min_samples_split = 2\n",
      "Accuracy en validación: 0.8155339805825242\n",
      "Accuracy en prueba: 0.7791601866251944\n",
      "est = 10, depth = 5, min_samples_split = 5\n",
      "Accuracy en validación: 0.8155339805825242\n",
      "Accuracy en prueba: 0.7776049766718507\n",
      "est = 10, depth = 5, min_samples_split = 10\n",
      "Accuracy en validación: 0.8135922330097087\n",
      "Accuracy en prueba: 0.7853810264385692\n",
      "est = 10, depth = 6, min_samples_split = 2\n",
      "Accuracy en validación: 0.8213592233009709\n",
      "Accuracy en prueba: 0.7822706065318819\n",
      "est = 10, depth = 6, min_samples_split = 5\n",
      "Accuracy en validación: 0.8174757281553398\n",
      "Accuracy en prueba: 0.7838258164852255\n",
      "est = 10, depth = 6, min_samples_split = 10\n",
      "Accuracy en validación: 0.8233009708737864\n",
      "Accuracy en prueba: 0.7838258164852255\n",
      "est = 10, depth = 7, min_samples_split = 2\n",
      "Accuracy en validación: 0.8116504854368932\n",
      "Accuracy en prueba: 0.7822706065318819\n",
      "est = 10, depth = 7, min_samples_split = 5\n",
      "Accuracy en validación: 0.8135922330097087\n",
      "Accuracy en prueba: 0.7791601866251944\n",
      "est = 10, depth = 7, min_samples_split = 10\n",
      "Accuracy en validación: 0.8213592233009709\n",
      "Accuracy en prueba: 0.7807153965785381\n",
      "est = 10, depth = 8, min_samples_split = 2\n",
      "Accuracy en validación: 0.8097087378640777\n",
      "Accuracy en prueba: 0.7822706065318819\n",
      "est = 10, depth = 8, min_samples_split = 5\n",
      "Accuracy en validación: 0.8135922330097087\n",
      "Accuracy en prueba: 0.7869362363919129\n",
      "est = 10, depth = 8, min_samples_split = 10\n",
      "Accuracy en validación: 0.8116504854368932\n",
      "Accuracy en prueba: 0.7807153965785381\n",
      "est = 10, depth = 9, min_samples_split = 2\n",
      "Accuracy en validación: 0.8174757281553398\n",
      "Accuracy en prueba: 0.7900466562986003\n",
      "est = 10, depth = 9, min_samples_split = 5\n",
      "Accuracy en validación: 0.8155339805825242\n",
      "Accuracy en prueba: 0.7900466562986003\n",
      "est = 10, depth = 9, min_samples_split = 10\n",
      "Accuracy en validación: 0.8077669902912621\n",
      "Accuracy en prueba: 0.7884914463452566\n",
      "est = 10, depth = 10, min_samples_split = 2\n",
      "Accuracy en validación: 0.8330097087378641\n",
      "Accuracy en prueba: 0.7947122861586314\n",
      "est = 10, depth = 10, min_samples_split = 5\n",
      "Accuracy en validación: 0.8155339805825242\n",
      "Accuracy en prueba: 0.7931570762052877\n",
      "est = 10, depth = 10, min_samples_split = 10\n",
      "Accuracy en validación: 0.8194174757281554\n",
      "Accuracy en prueba: 0.7853810264385692\n",
      "\n",
      "\n",
      "Mejor accuracy en validación: 0.8330097087378641\n",
      "Mejores hiperparámetros -> n_estimators: 10 , max_depth: 10 , min_samples_split: 2\n"
     ]
    }
   ],
   "source": [
    "\n",
    "# Dividir los datos en entrenamiento, validación y prueba\n",
    "features = df_megaline.drop(['is_ultra'], axis=1)\n",
    "target = df_megaline['is_ultra']\n",
    "\n",
    "# Dividir en entrenamiento y prueba (20% para prueba)\n",
    "features_train, features_test, target_train, target_test = train_test_split(\n",
    "    features, target, test_size=0.20, random_state=54321\n",
    ")\n",
    "\n",
    "# Dividir el conjunto de entrenamiento en entrenamiento y validación (20% para validación)\n",
    "features_train, features_valid, target_train, target_valid = train_test_split(\n",
    "    features_train, target_train, test_size=0.20, random_state=54321\n",
    ")\n",
    "\n",
    "# Inicializar mejores valores\n",
    "best_accuracy = 0\n",
    "best_est = 0\n",
    "best_depth = 0\n",
    "best_min_samples_split = 0\n",
    "\n",
    "# Búsqueda de hiperparámetros\n",
    "for est in range(1, 11, 1):  # Probar con n_estimators en este rango\n",
    "    for depth in range(1, 11):  # Probar con max_depth en este rango\n",
    "        for min_samples_split in [2, 5, 10]:  # Probar con varios valores de min_samples_split\n",
    "            model = RandomForestClassifier(\n",
    "                random_state=54321,\n",
    "                n_estimators=est,\n",
    "                max_depth=depth,\n",
    "                min_samples_split=min_samples_split\n",
    "            )\n",
    "            # Ajustar el modelo\n",
    "            model.fit(features_train, target_train)\n",
    "\n",
    "            # Calcular accuracy en el conjunto de validación\n",
    "            score_valid = model.score(features_valid, target_valid)\n",
    "            score_test = model.score(features_test, target_test)\n",
    "\n",
    "            print(f'est = {est}, depth = {depth}, min_samples_split = {min_samples_split}')\n",
    "            print(\"Accuracy en validación:\", score_valid)\n",
    "            print(\"Accuracy en prueba:\", score_test)\n",
    "\n",
    "            # Actualizar los mejores hiperparámetros si se encuentra un mejor accuracy\n",
    "            if score_valid > best_accuracy:\n",
    "                best_accuracy = score_valid\n",
    "                best_est = est\n",
    "                best_depth = depth\n",
    "                best_min_samples_split = min_samples_split\n",
    "\n",
    "# Mostrar los mejores resultados\n",
    "print('\\n')\n",
    "print(\"Mejor accuracy en validación:\", best_accuracy)\n",
    "print(\"Mejores hiperparámetros -> n_estimators:\", best_est, \", max_depth:\", best_depth, \", min_samples_split:\", best_min_samples_split)\n",
    "\n"
   ]
  },
  {
   "cell_type": "code",
   "execution_count": 5,
   "metadata": {},
   "outputs": [
    {
     "name": "stdout",
     "output_type": "stream",
     "text": [
      "Accuracy final en prueba: 0.7947122861586314\n"
     ]
    }
   ],
   "source": [
    "final_model = RandomForestClassifier(\n",
    "    random_state=54321,\n",
    "    n_estimators=best_est,\n",
    "    max_depth=best_depth,\n",
    "    min_samples_split=best_min_samples_split\n",
    ")\n",
    "final_model.fit(features_train, target_train)\n",
    "\n",
    "# Evaluar el modelo en el conjunto de prueba\n",
    "target_pred = final_model.predict(features_test)\n",
    "accuracy = accuracy_score(target_test, target_pred)\n",
    "\n",
    "print(f'Accuracy final en prueba: {accuracy}')"
   ]
  },
  {
   "cell_type": "markdown",
   "metadata": {},
   "source": [
    "## Conclusiones\n",
    "\n",
    "La búsqueda exhaustiva de hiperparámetros mediante un ciclo de pruebas permitió identificar la combinación más efectiva de parámetros para el RandomForestClassifier, optimizando su capacidad para predecir el comportamiento de los usuarios en cuanto a su elección de plan (Ultra vs Smart).\n",
    "\n",
    "La métrica de precisión se utilizó como criterio para evaluar el rendimiento del modelo en los conjuntos de validación y prueba, lo que permitió ajustar los parámetros y seleccionar el modelo más efectivo. Los mejores resultados fueron alcanzados con una configuración de n_estimators, max_depth y min_samples_split específicos, mostrando una mejora significativa en la capacidad predictiva respecto a otros modelos probados.\n",
    "\n",
    "Este enfoque no solo optimizó el modelo para un rendimiento máximo, sino que también validó que el proceso de ajuste de hiperparámetros y evaluación de modelos es crucial para obtener predicciones precisas en problemas de clasificación más complejos.\n",
    "\n",
    "En resumen, el proceso fue exitoso, y los resultados obtenidos proporcionan una base sólida para continuar con la mejora y la implementación de modelos predictivos aún más complejos."
   ]
  }
 ],
 "metadata": {
  "ExecuteTimeLog": [
   {
    "duration": 180,
    "start_time": "2025-01-25T20:07:28.372Z"
   },
   {
    "duration": 2912,
    "start_time": "2025-01-25T20:08:26.943Z"
   },
   {
    "duration": 466,
    "start_time": "2025-01-25T20:08:29.857Z"
   },
   {
    "duration": 62,
    "start_time": "2025-01-25T20:08:52.002Z"
   },
   {
    "duration": 67,
    "start_time": "2025-01-25T20:08:55.158Z"
   },
   {
    "duration": 65,
    "start_time": "2025-01-25T20:09:00.290Z"
   },
   {
    "duration": 6,
    "start_time": "2025-01-25T20:09:28.997Z"
   },
   {
    "duration": 3,
    "start_time": "2025-01-25T20:09:35.979Z"
   },
   {
    "duration": 5,
    "start_time": "2025-01-25T20:10:04.256Z"
   },
   {
    "duration": 4,
    "start_time": "2025-01-25T20:10:17.439Z"
   },
   {
    "duration": 14,
    "start_time": "2025-01-25T20:10:48.963Z"
   },
   {
    "duration": 21,
    "start_time": "2025-01-25T20:11:27.960Z"
   },
   {
    "duration": 12,
    "start_time": "2025-01-25T20:11:35.944Z"
   },
   {
    "duration": 746,
    "start_time": "2025-01-25T20:18:29.039Z"
   },
   {
    "duration": 6,
    "start_time": "2025-01-25T20:18:44.522Z"
   },
   {
    "duration": 7,
    "start_time": "2025-01-25T20:19:32.091Z"
   },
   {
    "duration": 6,
    "start_time": "2025-01-25T20:19:47.837Z"
   },
   {
    "duration": 5,
    "start_time": "2025-01-25T21:08:22.200Z"
   },
   {
    "duration": 5,
    "start_time": "2025-01-25T21:08:32.453Z"
   },
   {
    "duration": 6,
    "start_time": "2025-01-25T21:08:49.448Z"
   },
   {
    "duration": 18,
    "start_time": "2025-01-25T21:08:52.477Z"
   },
   {
    "duration": 6,
    "start_time": "2025-01-25T21:09:08.704Z"
   },
   {
    "duration": 0,
    "start_time": "2025-01-25T21:09:08.712Z"
   },
   {
    "duration": 0,
    "start_time": "2025-01-25T21:09:08.713Z"
   },
   {
    "duration": 175,
    "start_time": "2025-01-25T21:09:08.715Z"
   },
   {
    "duration": 0,
    "start_time": "2025-01-25T21:09:08.892Z"
   },
   {
    "duration": 7,
    "start_time": "2025-01-25T21:09:57.666Z"
   },
   {
    "duration": 0,
    "start_time": "2025-01-25T21:09:57.676Z"
   },
   {
    "duration": 0,
    "start_time": "2025-01-25T21:09:57.677Z"
   },
   {
    "duration": 0,
    "start_time": "2025-01-25T21:09:57.679Z"
   },
   {
    "duration": 0,
    "start_time": "2025-01-25T21:09:57.681Z"
   },
   {
    "duration": 1237,
    "start_time": "2025-01-25T21:10:25.665Z"
   },
   {
    "duration": 14,
    "start_time": "2025-01-25T21:10:27.048Z"
   },
   {
    "duration": 0,
    "start_time": "2025-01-25T21:10:27.064Z"
   },
   {
    "duration": 0,
    "start_time": "2025-01-25T21:10:27.066Z"
   },
   {
    "duration": 0,
    "start_time": "2025-01-25T21:10:27.067Z"
   },
   {
    "duration": 0,
    "start_time": "2025-01-25T21:10:27.068Z"
   },
   {
    "duration": 919,
    "start_time": "2025-01-25T21:11:32.787Z"
   },
   {
    "duration": 8,
    "start_time": "2025-01-25T21:11:33.708Z"
   },
   {
    "duration": 8,
    "start_time": "2025-01-25T21:11:33.718Z"
   },
   {
    "duration": 288,
    "start_time": "2025-01-25T21:11:33.733Z"
   },
   {
    "duration": 0,
    "start_time": "2025-01-25T21:11:34.023Z"
   },
   {
    "duration": 1018,
    "start_time": "2025-01-25T21:11:57.342Z"
   },
   {
    "duration": 7,
    "start_time": "2025-01-25T21:11:58.363Z"
   },
   {
    "duration": 9,
    "start_time": "2025-01-25T21:11:58.372Z"
   },
   {
    "duration": 9,
    "start_time": "2025-01-25T21:11:58.383Z"
   },
   {
    "duration": 320,
    "start_time": "2025-01-25T21:11:58.394Z"
   },
   {
    "duration": 909,
    "start_time": "2025-01-25T21:12:33.133Z"
   },
   {
    "duration": 8,
    "start_time": "2025-01-25T21:12:34.044Z"
   },
   {
    "duration": 10,
    "start_time": "2025-01-25T21:12:34.054Z"
   },
   {
    "duration": 9,
    "start_time": "2025-01-25T21:12:34.066Z"
   },
   {
    "duration": 318,
    "start_time": "2025-01-25T21:12:34.077Z"
   },
   {
    "duration": 969,
    "start_time": "2025-01-25T21:12:44.571Z"
   },
   {
    "duration": 7,
    "start_time": "2025-01-25T21:12:45.542Z"
   },
   {
    "duration": 10,
    "start_time": "2025-01-25T21:12:45.550Z"
   },
   {
    "duration": 10,
    "start_time": "2025-01-25T21:12:45.562Z"
   },
   {
    "duration": 367,
    "start_time": "2025-01-25T21:12:45.574Z"
   },
   {
    "duration": 1009,
    "start_time": "2025-01-25T21:13:26.844Z"
   },
   {
    "duration": 8,
    "start_time": "2025-01-25T21:13:27.855Z"
   },
   {
    "duration": 9,
    "start_time": "2025-01-25T21:13:27.865Z"
   },
   {
    "duration": 10,
    "start_time": "2025-01-25T21:13:27.875Z"
   },
   {
    "duration": 365,
    "start_time": "2025-01-25T21:13:27.887Z"
   },
   {
    "duration": 940,
    "start_time": "2025-01-25T21:14:00.305Z"
   },
   {
    "duration": 8,
    "start_time": "2025-01-25T21:14:01.247Z"
   },
   {
    "duration": 9,
    "start_time": "2025-01-25T21:14:01.257Z"
   },
   {
    "duration": 9,
    "start_time": "2025-01-25T21:14:01.267Z"
   },
   {
    "duration": 366,
    "start_time": "2025-01-25T21:14:01.278Z"
   },
   {
    "duration": 947,
    "start_time": "2025-01-25T21:14:55.397Z"
   },
   {
    "duration": 7,
    "start_time": "2025-01-25T21:14:56.346Z"
   },
   {
    "duration": 10,
    "start_time": "2025-01-25T21:14:56.354Z"
   },
   {
    "duration": 9,
    "start_time": "2025-01-25T21:14:56.365Z"
   },
   {
    "duration": 349,
    "start_time": "2025-01-25T21:14:56.376Z"
   },
   {
    "duration": 923,
    "start_time": "2025-01-25T21:15:15.191Z"
   },
   {
    "duration": 8,
    "start_time": "2025-01-25T21:15:16.116Z"
   },
   {
    "duration": 10,
    "start_time": "2025-01-25T21:15:16.131Z"
   },
   {
    "duration": 9,
    "start_time": "2025-01-25T21:15:16.142Z"
   },
   {
    "duration": 5802,
    "start_time": "2025-01-25T21:15:16.154Z"
   },
   {
    "duration": 954,
    "start_time": "2025-01-25T21:15:59.923Z"
   },
   {
    "duration": 9,
    "start_time": "2025-01-25T21:16:00.880Z"
   },
   {
    "duration": 10,
    "start_time": "2025-01-25T21:16:00.891Z"
   },
   {
    "duration": 11,
    "start_time": "2025-01-25T21:16:00.903Z"
   },
   {
    "duration": 9566,
    "start_time": "2025-01-25T21:16:00.916Z"
   },
   {
    "duration": 913,
    "start_time": "2025-01-25T21:17:39.404Z"
   },
   {
    "duration": 8,
    "start_time": "2025-01-25T21:17:40.319Z"
   },
   {
    "duration": 9,
    "start_time": "2025-01-25T21:17:40.328Z"
   },
   {
    "duration": 10,
    "start_time": "2025-01-25T21:17:40.339Z"
   },
   {
    "duration": 20341,
    "start_time": "2025-01-25T21:17:40.351Z"
   },
   {
    "duration": 907,
    "start_time": "2025-01-25T21:38:49.031Z"
   },
   {
    "duration": 9,
    "start_time": "2025-01-25T21:38:49.940Z"
   },
   {
    "duration": 10,
    "start_time": "2025-01-25T21:38:49.951Z"
   },
   {
    "duration": 8,
    "start_time": "2025-01-25T21:38:49.963Z"
   },
   {
    "duration": 610,
    "start_time": "2025-01-25T21:38:49.973Z"
   },
   {
    "duration": 970,
    "start_time": "2025-01-25T21:39:36.988Z"
   },
   {
    "duration": 8,
    "start_time": "2025-01-25T21:39:37.960Z"
   },
   {
    "duration": 10,
    "start_time": "2025-01-25T21:39:37.970Z"
   },
   {
    "duration": 10,
    "start_time": "2025-01-25T21:39:37.981Z"
   },
   {
    "duration": 626,
    "start_time": "2025-01-25T21:39:37.993Z"
   },
   {
    "duration": 938,
    "start_time": "2025-01-25T21:40:07.104Z"
   },
   {
    "duration": 8,
    "start_time": "2025-01-25T21:40:08.045Z"
   },
   {
    "duration": 9,
    "start_time": "2025-01-25T21:40:08.055Z"
   },
   {
    "duration": 9,
    "start_time": "2025-01-25T21:40:08.066Z"
   },
   {
    "duration": 599,
    "start_time": "2025-01-25T21:40:08.077Z"
   },
   {
    "duration": 946,
    "start_time": "2025-01-25T21:40:44.665Z"
   },
   {
    "duration": 7,
    "start_time": "2025-01-25T21:40:45.614Z"
   },
   {
    "duration": 13,
    "start_time": "2025-01-25T21:40:45.622Z"
   },
   {
    "duration": 9,
    "start_time": "2025-01-25T21:40:45.637Z"
   },
   {
    "duration": 20489,
    "start_time": "2025-01-25T21:40:45.648Z"
   },
   {
    "duration": 968,
    "start_time": "2025-01-25T21:41:49.967Z"
   },
   {
    "duration": 8,
    "start_time": "2025-01-25T21:41:50.938Z"
   },
   {
    "duration": 10,
    "start_time": "2025-01-25T21:41:50.947Z"
   },
   {
    "duration": 9,
    "start_time": "2025-01-25T21:41:50.958Z"
   },
   {
    "duration": 20335,
    "start_time": "2025-01-25T21:41:50.969Z"
   },
   {
    "duration": 956,
    "start_time": "2025-01-25T21:44:42.996Z"
   },
   {
    "duration": 7,
    "start_time": "2025-01-25T21:44:43.955Z"
   },
   {
    "duration": 8,
    "start_time": "2025-01-25T21:44:43.964Z"
   },
   {
    "duration": 8,
    "start_time": "2025-01-25T21:44:43.974Z"
   },
   {
    "duration": 964,
    "start_time": "2025-01-25T21:44:43.985Z"
   },
   {
    "duration": 1014,
    "start_time": "2025-01-25T21:45:08.065Z"
   },
   {
    "duration": 12,
    "start_time": "2025-01-25T21:45:09.084Z"
   },
   {
    "duration": 13,
    "start_time": "2025-01-25T21:45:09.098Z"
   },
   {
    "duration": 20,
    "start_time": "2025-01-25T21:45:09.113Z"
   },
   {
    "duration": 4408,
    "start_time": "2025-01-25T21:45:09.136Z"
   },
   {
    "duration": 983,
    "start_time": "2025-01-25T21:45:53.348Z"
   },
   {
    "duration": 8,
    "start_time": "2025-01-25T21:45:54.333Z"
   },
   {
    "duration": 9,
    "start_time": "2025-01-25T21:45:54.342Z"
   },
   {
    "duration": 9,
    "start_time": "2025-01-25T21:45:54.352Z"
   },
   {
    "duration": 51908,
    "start_time": "2025-01-25T21:45:54.363Z"
   },
   {
    "duration": 980,
    "start_time": "2025-01-25T21:48:02.347Z"
   },
   {
    "duration": 9,
    "start_time": "2025-01-25T21:48:03.329Z"
   },
   {
    "duration": 9,
    "start_time": "2025-01-25T21:48:03.339Z"
   },
   {
    "duration": 10,
    "start_time": "2025-01-25T21:48:03.349Z"
   },
   {
    "duration": 76,
    "start_time": "2025-01-25T21:48:03.361Z"
   },
   {
    "duration": 916,
    "start_time": "2025-01-25T21:48:32.190Z"
   },
   {
    "duration": 8,
    "start_time": "2025-01-25T21:48:33.108Z"
   },
   {
    "duration": 16,
    "start_time": "2025-01-25T21:48:33.117Z"
   },
   {
    "duration": 9,
    "start_time": "2025-01-25T21:48:33.135Z"
   },
   {
    "duration": 34187,
    "start_time": "2025-01-25T21:48:33.146Z"
   },
   {
    "duration": 950,
    "start_time": "2025-01-25T21:53:36.094Z"
   },
   {
    "duration": 9,
    "start_time": "2025-01-25T21:53:37.047Z"
   },
   {
    "duration": 9,
    "start_time": "2025-01-25T21:53:37.057Z"
   },
   {
    "duration": 9,
    "start_time": "2025-01-25T21:53:37.068Z"
   },
   {
    "duration": 81,
    "start_time": "2025-01-25T21:53:37.079Z"
   },
   {
    "duration": 977,
    "start_time": "2025-01-25T21:53:53.475Z"
   },
   {
    "duration": 7,
    "start_time": "2025-01-25T21:53:54.455Z"
   },
   {
    "duration": 8,
    "start_time": "2025-01-25T21:53:54.464Z"
   },
   {
    "duration": 9,
    "start_time": "2025-01-25T21:53:54.474Z"
   },
   {
    "duration": 929,
    "start_time": "2025-01-25T21:53:54.485Z"
   },
   {
    "duration": 982,
    "start_time": "2025-01-25T21:54:19.147Z"
   },
   {
    "duration": 17,
    "start_time": "2025-01-25T21:54:20.131Z"
   },
   {
    "duration": 10,
    "start_time": "2025-01-25T21:54:20.150Z"
   },
   {
    "duration": 9,
    "start_time": "2025-01-25T21:54:20.163Z"
   },
   {
    "duration": 1907,
    "start_time": "2025-01-25T21:54:20.174Z"
   },
   {
    "duration": 917,
    "start_time": "2025-01-25T21:55:48.915Z"
   },
   {
    "duration": 8,
    "start_time": "2025-01-25T21:55:49.835Z"
   },
   {
    "duration": 9,
    "start_time": "2025-01-25T21:55:49.845Z"
   },
   {
    "duration": 9,
    "start_time": "2025-01-25T21:55:49.856Z"
   },
   {
    "duration": 1891,
    "start_time": "2025-01-25T21:55:49.867Z"
   },
   {
    "duration": 965,
    "start_time": "2025-01-25T21:59:11.850Z"
   },
   {
    "duration": 8,
    "start_time": "2025-01-25T21:59:12.818Z"
   },
   {
    "duration": 12,
    "start_time": "2025-01-25T21:59:12.827Z"
   },
   {
    "duration": 9,
    "start_time": "2025-01-25T21:59:12.841Z"
   },
   {
    "duration": 1892,
    "start_time": "2025-01-25T21:59:12.852Z"
   },
   {
    "duration": 967,
    "start_time": "2025-01-25T21:59:44.048Z"
   },
   {
    "duration": 7,
    "start_time": "2025-01-25T21:59:45.017Z"
   },
   {
    "duration": 13,
    "start_time": "2025-01-25T21:59:45.026Z"
   },
   {
    "duration": 9,
    "start_time": "2025-01-25T21:59:45.040Z"
   },
   {
    "duration": 1909,
    "start_time": "2025-01-25T21:59:45.051Z"
   },
   {
    "duration": 2707,
    "start_time": "2025-01-25T23:39:13.420Z"
   },
   {
    "duration": 14,
    "start_time": "2025-01-25T23:39:16.129Z"
   },
   {
    "duration": 10,
    "start_time": "2025-01-25T23:39:16.145Z"
   },
   {
    "duration": 8,
    "start_time": "2025-01-25T23:39:16.156Z"
   },
   {
    "duration": 2451,
    "start_time": "2025-01-25T23:39:16.166Z"
   },
   {
    "duration": 939,
    "start_time": "2025-01-25T23:41:49.548Z"
   },
   {
    "duration": 8,
    "start_time": "2025-01-25T23:41:50.489Z"
   },
   {
    "duration": 13,
    "start_time": "2025-01-25T23:41:50.499Z"
   },
   {
    "duration": 8,
    "start_time": "2025-01-25T23:41:50.514Z"
   },
   {
    "duration": 2546,
    "start_time": "2025-01-25T23:41:50.524Z"
   },
   {
    "duration": 931,
    "start_time": "2025-01-25T23:42:23.729Z"
   },
   {
    "duration": 8,
    "start_time": "2025-01-25T23:42:24.662Z"
   },
   {
    "duration": 9,
    "start_time": "2025-01-25T23:42:24.671Z"
   },
   {
    "duration": 26,
    "start_time": "2025-01-25T23:42:24.681Z"
   },
   {
    "duration": 1879,
    "start_time": "2025-01-25T23:42:24.708Z"
   },
   {
    "duration": 870,
    "start_time": "2025-01-25T23:43:17.507Z"
   },
   {
    "duration": 9,
    "start_time": "2025-01-25T23:43:18.379Z"
   },
   {
    "duration": 9,
    "start_time": "2025-01-25T23:43:18.389Z"
   },
   {
    "duration": 8,
    "start_time": "2025-01-25T23:43:18.404Z"
   },
   {
    "duration": 1883,
    "start_time": "2025-01-25T23:43:18.414Z"
   },
   {
    "duration": 940,
    "start_time": "2025-01-25T23:43:50.428Z"
   },
   {
    "duration": 7,
    "start_time": "2025-01-25T23:43:51.370Z"
   },
   {
    "duration": 9,
    "start_time": "2025-01-25T23:43:51.379Z"
   },
   {
    "duration": 16,
    "start_time": "2025-01-25T23:43:51.390Z"
   },
   {
    "duration": 1931,
    "start_time": "2025-01-25T23:43:51.409Z"
   },
   {
    "duration": 903,
    "start_time": "2025-01-25T23:44:08.773Z"
   },
   {
    "duration": 8,
    "start_time": "2025-01-25T23:44:09.678Z"
   },
   {
    "duration": 19,
    "start_time": "2025-01-25T23:44:09.687Z"
   },
   {
    "duration": 9,
    "start_time": "2025-01-25T23:44:09.709Z"
   },
   {
    "duration": 1898,
    "start_time": "2025-01-25T23:44:09.720Z"
   },
   {
    "duration": 868,
    "start_time": "2025-01-25T23:51:43.608Z"
   },
   {
    "duration": 8,
    "start_time": "2025-01-25T23:51:44.478Z"
   },
   {
    "duration": 9,
    "start_time": "2025-01-25T23:51:44.488Z"
   },
   {
    "duration": 10,
    "start_time": "2025-01-25T23:51:44.505Z"
   },
   {
    "duration": 321,
    "start_time": "2025-01-25T23:51:44.517Z"
   },
   {
    "duration": 873,
    "start_time": "2025-01-25T23:54:17.569Z"
   },
   {
    "duration": 8,
    "start_time": "2025-01-25T23:54:18.444Z"
   },
   {
    "duration": 8,
    "start_time": "2025-01-25T23:54:18.454Z"
   },
   {
    "duration": 8,
    "start_time": "2025-01-25T23:54:18.464Z"
   },
   {
    "duration": 73,
    "start_time": "2025-01-25T23:54:18.473Z"
   },
   {
    "duration": 954,
    "start_time": "2025-01-25T23:54:30.239Z"
   },
   {
    "duration": 9,
    "start_time": "2025-01-25T23:54:31.196Z"
   },
   {
    "duration": 9,
    "start_time": "2025-01-25T23:54:31.206Z"
   },
   {
    "duration": 9,
    "start_time": "2025-01-25T23:54:31.217Z"
   },
   {
    "duration": 405,
    "start_time": "2025-01-25T23:54:31.228Z"
   },
   {
    "duration": 971,
    "start_time": "2025-01-25T23:54:43.918Z"
   },
   {
    "duration": 8,
    "start_time": "2025-01-25T23:54:44.892Z"
   },
   {
    "duration": 10,
    "start_time": "2025-01-25T23:54:44.901Z"
   },
   {
    "duration": 8,
    "start_time": "2025-01-25T23:54:44.913Z"
   },
   {
    "duration": 391,
    "start_time": "2025-01-25T23:54:44.923Z"
   },
   {
    "duration": 934,
    "start_time": "2025-01-25T23:54:59.337Z"
   },
   {
    "duration": 7,
    "start_time": "2025-01-25T23:55:00.274Z"
   },
   {
    "duration": 9,
    "start_time": "2025-01-25T23:55:00.282Z"
   },
   {
    "duration": 20,
    "start_time": "2025-01-25T23:55:00.293Z"
   },
   {
    "duration": 484,
    "start_time": "2025-01-25T23:55:00.315Z"
   },
   {
    "duration": 871,
    "start_time": "2025-01-25T23:55:53.007Z"
   },
   {
    "duration": 9,
    "start_time": "2025-01-25T23:55:53.880Z"
   },
   {
    "duration": 18,
    "start_time": "2025-01-25T23:55:53.890Z"
   },
   {
    "duration": 9,
    "start_time": "2025-01-25T23:55:53.910Z"
   },
   {
    "duration": 481,
    "start_time": "2025-01-25T23:55:53.922Z"
   },
   {
    "duration": 913,
    "start_time": "2025-01-25T23:56:14.310Z"
   },
   {
    "duration": 8,
    "start_time": "2025-01-25T23:56:15.226Z"
   },
   {
    "duration": 10,
    "start_time": "2025-01-25T23:56:15.235Z"
   },
   {
    "duration": 9,
    "start_time": "2025-01-25T23:56:15.247Z"
   },
   {
    "duration": 506,
    "start_time": "2025-01-25T23:56:15.258Z"
   },
   {
    "duration": 7,
    "start_time": "2025-01-26T00:03:52.391Z"
   },
   {
    "duration": 372,
    "start_time": "2025-01-26T00:03:58.382Z"
   },
   {
    "duration": 974,
    "start_time": "2025-01-26T00:04:09.287Z"
   },
   {
    "duration": 899,
    "start_time": "2025-01-26T00:05:22.696Z"
   },
   {
    "duration": 8,
    "start_time": "2025-01-26T00:05:23.598Z"
   },
   {
    "duration": 8,
    "start_time": "2025-01-26T00:05:23.608Z"
   },
   {
    "duration": 9,
    "start_time": "2025-01-26T00:05:23.618Z"
   },
   {
    "duration": 1053,
    "start_time": "2025-01-26T00:05:23.630Z"
   },
   {
    "duration": 389,
    "start_time": "2025-01-26T00:05:24.685Z"
   },
   {
    "duration": 1089,
    "start_time": "2025-01-26T00:30:57.290Z"
   },
   {
    "duration": 1092,
    "start_time": "2025-01-26T00:31:16.003Z"
   },
   {
    "duration": 923,
    "start_time": "2025-01-26T00:38:08.041Z"
   },
   {
    "duration": 9,
    "start_time": "2025-01-26T00:38:08.967Z"
   },
   {
    "duration": 9,
    "start_time": "2025-01-26T00:38:08.977Z"
   },
   {
    "duration": 284,
    "start_time": "2025-01-26T00:38:08.988Z"
   },
   {
    "duration": 0,
    "start_time": "2025-01-26T00:38:09.274Z"
   },
   {
    "duration": 0,
    "start_time": "2025-01-26T00:38:09.275Z"
   },
   {
    "duration": 889,
    "start_time": "2025-01-26T00:38:31.183Z"
   },
   {
    "duration": 7,
    "start_time": "2025-01-26T00:38:32.074Z"
   },
   {
    "duration": 8,
    "start_time": "2025-01-26T00:38:32.083Z"
   },
   {
    "duration": 7,
    "start_time": "2025-01-26T00:38:32.105Z"
   },
   {
    "duration": 372,
    "start_time": "2025-01-26T00:38:32.114Z"
   },
   {
    "duration": 0,
    "start_time": "2025-01-26T00:38:32.487Z"
   },
   {
    "duration": 902,
    "start_time": "2025-01-26T00:40:35.264Z"
   },
   {
    "duration": 8,
    "start_time": "2025-01-26T00:40:36.169Z"
   },
   {
    "duration": 8,
    "start_time": "2025-01-26T00:40:36.179Z"
   },
   {
    "duration": 21,
    "start_time": "2025-01-26T00:40:36.189Z"
   },
   {
    "duration": 368,
    "start_time": "2025-01-26T00:40:36.212Z"
   },
   {
    "duration": 0,
    "start_time": "2025-01-26T00:40:36.582Z"
   },
   {
    "duration": 934,
    "start_time": "2025-01-26T00:42:49.529Z"
   },
   {
    "duration": 8,
    "start_time": "2025-01-26T00:42:50.465Z"
   },
   {
    "duration": 8,
    "start_time": "2025-01-26T00:42:50.475Z"
   },
   {
    "duration": 881,
    "start_time": "2025-01-26T00:42:50.485Z"
   },
   {
    "duration": 373,
    "start_time": "2025-01-26T00:42:51.368Z"
   },
   {
    "duration": 819,
    "start_time": "2025-01-26T00:43:22.333Z"
   },
   {
    "duration": 924,
    "start_time": "2025-01-26T00:43:28.561Z"
   },
   {
    "duration": 8,
    "start_time": "2025-01-26T00:43:29.487Z"
   },
   {
    "duration": 16,
    "start_time": "2025-01-26T00:43:29.496Z"
   },
   {
    "duration": 865,
    "start_time": "2025-01-26T00:43:29.514Z"
   },
   {
    "duration": 249,
    "start_time": "2025-01-26T00:43:30.381Z"
   },
   {
    "duration": 928,
    "start_time": "2025-01-26T00:43:52.840Z"
   },
   {
    "duration": 8,
    "start_time": "2025-01-26T00:43:53.770Z"
   },
   {
    "duration": 8,
    "start_time": "2025-01-26T00:43:53.781Z"
   },
   {
    "duration": 876,
    "start_time": "2025-01-26T00:43:53.791Z"
   },
   {
    "duration": 246,
    "start_time": "2025-01-26T00:43:54.670Z"
   },
   {
    "duration": 890,
    "start_time": "2025-01-26T00:45:07.662Z"
   },
   {
    "duration": 8,
    "start_time": "2025-01-26T00:45:08.554Z"
   },
   {
    "duration": 9,
    "start_time": "2025-01-26T00:45:08.563Z"
   },
   {
    "duration": 389,
    "start_time": "2025-01-26T00:45:08.574Z"
   },
   {
    "duration": 244,
    "start_time": "2025-01-26T00:45:08.965Z"
   },
   {
    "duration": 902,
    "start_time": "2025-01-26T00:45:32.278Z"
   },
   {
    "duration": 8,
    "start_time": "2025-01-26T00:45:33.182Z"
   },
   {
    "duration": 16,
    "start_time": "2025-01-26T00:45:33.191Z"
   },
   {
    "duration": 176,
    "start_time": "2025-01-26T00:45:33.209Z"
   },
   {
    "duration": 247,
    "start_time": "2025-01-26T00:45:33.387Z"
   },
   {
    "duration": 890,
    "start_time": "2025-01-26T00:45:51.979Z"
   },
   {
    "duration": 8,
    "start_time": "2025-01-26T00:45:52.871Z"
   },
   {
    "duration": 8,
    "start_time": "2025-01-26T00:45:52.880Z"
   },
   {
    "duration": 168,
    "start_time": "2025-01-26T00:45:52.890Z"
   },
   {
    "duration": 255,
    "start_time": "2025-01-26T00:45:53.060Z"
   },
   {
    "duration": 4,
    "start_time": "2025-01-26T00:47:27.712Z"
   },
   {
    "duration": 3,
    "start_time": "2025-01-26T00:47:36.904Z"
   },
   {
    "duration": 4,
    "start_time": "2025-01-26T00:48:27.056Z"
   },
   {
    "duration": 317,
    "start_time": "2025-01-26T00:48:31.282Z"
   },
   {
    "duration": 63,
    "start_time": "2025-01-26T00:48:34.381Z"
   },
   {
    "duration": 124,
    "start_time": "2025-01-26T00:48:48.410Z"
   },
   {
    "duration": 59,
    "start_time": "2025-01-26T00:49:13.915Z"
   },
   {
    "duration": 61,
    "start_time": "2025-01-26T00:49:30.717Z"
   },
   {
    "duration": 58,
    "start_time": "2025-01-26T00:50:10.860Z"
   },
   {
    "duration": 925,
    "start_time": "2025-01-26T00:50:42.051Z"
   },
   {
    "duration": 573,
    "start_time": "2025-01-26T00:50:42.978Z"
   },
   {
    "duration": 0,
    "start_time": "2025-01-26T00:50:43.553Z"
   },
   {
    "duration": 0,
    "start_time": "2025-01-26T00:50:43.554Z"
   },
   {
    "duration": 190,
    "start_time": "2025-01-26T00:52:29.546Z"
   },
   {
    "duration": 908,
    "start_time": "2025-01-26T00:52:38.568Z"
   },
   {
    "duration": 386,
    "start_time": "2025-01-26T00:52:39.479Z"
   },
   {
    "duration": 0,
    "start_time": "2025-01-26T00:52:39.866Z"
   },
   {
    "duration": 0,
    "start_time": "2025-01-26T00:52:39.867Z"
   },
   {
    "duration": 51,
    "start_time": "2025-01-26T00:53:05.676Z"
   },
   {
    "duration": 49,
    "start_time": "2025-01-26T00:53:58.653Z"
   },
   {
    "duration": 379,
    "start_time": "2025-01-26T00:55:14.876Z"
   },
   {
    "duration": 68,
    "start_time": "2025-01-26T00:56:44.571Z"
   },
   {
    "duration": 84,
    "start_time": "2025-01-26T00:56:58.323Z"
   },
   {
    "duration": 901,
    "start_time": "2025-01-26T00:58:49.581Z"
   },
   {
    "duration": 595,
    "start_time": "2025-01-26T00:58:50.484Z"
   },
   {
    "duration": 0,
    "start_time": "2025-01-26T00:58:51.081Z"
   },
   {
    "duration": 0,
    "start_time": "2025-01-26T00:58:51.082Z"
   },
   {
    "duration": 60,
    "start_time": "2025-01-26T00:59:34.854Z"
   },
   {
    "duration": 63,
    "start_time": "2025-01-26T01:00:50.218Z"
   },
   {
    "duration": 902,
    "start_time": "2025-01-26T01:01:19.480Z"
   },
   {
    "duration": 10,
    "start_time": "2025-01-26T01:01:20.384Z"
   },
   {
    "duration": 15,
    "start_time": "2025-01-26T01:01:20.395Z"
   },
   {
    "duration": 160,
    "start_time": "2025-01-26T01:01:20.412Z"
   },
   {
    "duration": 933,
    "start_time": "2025-01-26T01:44:12.143Z"
   },
   {
    "duration": 9,
    "start_time": "2025-01-26T01:44:13.079Z"
   },
   {
    "duration": 9,
    "start_time": "2025-01-26T01:44:13.089Z"
   },
   {
    "duration": 4494,
    "start_time": "2025-01-26T01:44:13.105Z"
   },
   {
    "duration": 33,
    "start_time": "2025-01-26T01:54:48.528Z"
   },
   {
    "duration": 972,
    "start_time": "2025-01-26T03:50:15.153Z"
   },
   {
    "duration": 10,
    "start_time": "2025-01-26T03:50:16.128Z"
   },
   {
    "duration": 10,
    "start_time": "2025-01-26T03:50:16.141Z"
   },
   {
    "duration": 4744,
    "start_time": "2025-01-26T03:50:16.153Z"
   },
   {
    "duration": 43,
    "start_time": "2025-01-26T03:50:20.900Z"
   }
  ],
  "kernelspec": {
   "display_name": "Python 3 (ipykernel)",
   "language": "python",
   "name": "python3"
  },
  "language_info": {
   "codemirror_mode": {
    "name": "ipython",
    "version": 3
   },
   "file_extension": ".py",
   "mimetype": "text/x-python",
   "name": "python",
   "nbconvert_exporter": "python",
   "pygments_lexer": "ipython3",
   "version": "3.9.19"
  },
  "toc": {
   "base_numbering": 1,
   "nav_menu": {},
   "number_sections": true,
   "sideBar": true,
   "skip_h1_title": true,
   "title_cell": "Table of Contents",
   "title_sidebar": "Contents",
   "toc_cell": false,
   "toc_position": {},
   "toc_section_display": true,
   "toc_window_display": false
  }
 },
 "nbformat": 4,
 "nbformat_minor": 2
}
