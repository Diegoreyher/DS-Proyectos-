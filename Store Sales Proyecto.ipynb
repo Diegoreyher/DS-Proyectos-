{
 "cells": [
  {
   "cell_type": "markdown",
   "metadata": {},
   "source": [
    "¡Hola Diego! Como te va?\n",
    "\n",
    "Mi nombre es Facundo Lozano! Un gusto conocerte, seré tu revisor en este proyecto.\n",
    "\n",
    "A continuación un poco sobre la modalidad de revisión que usaremos:\n",
    "\n",
    "Cuando enccuentro un error por primera vez, simplemente lo señalaré, te dejaré encontrarlo y arreglarlo tú cuenta. Además, a lo largo del texto iré haciendo algunas observaciones sobre mejora en tu código y también haré comentarios sobre tus percepciones sobre el tema. Pero si aún no puedes realizar esta tarea, te daré una pista más precisa en la próxima iteración y también algunos ejemplos prácticos. Estaré abierto a comentarios y discusiones sobre el tema.\n",
    "\n",
    "Encontrará mis comentarios a continuación: **no los mueva, modifique ni elimine**.\n",
    "\n",
    "Puedes encontrar mis comentarios en cuadros verdes, amarillos o rojos como este:\n",
    "\n",
    "<div class=\"alert alert-block alert-success\">\n",
    "<b>Comentario del revisor.</b> <a class=\"tocSkip\"></a>\n",
    "\n",
    "Exito. Todo se ha hecho de forma exitosa.\n",
    "</div>\n",
    "\n",
    "<div class=\"alert alert-block alert-warning\">\n",
    "<b>Comentario del revisor.</b> <a class=\"tocSkip\"></a>\n",
    "\n",
    "Observación. Algunas recomendaciones.\n",
    "</div>\n",
    "\n",
    "<div class=\"alert alert-block alert-danger\">\n",
    "\n",
    "<b>Comentario del revisor.</b> <a class=\"tocSkip\"></a>\n",
    "\n",
    "Necesita arreglos. Este apartado necesita algunas correcciones. El trabajo no puede ser aceptado con comentarios rojos. \n",
    "</div>\n",
    "\n",
    "Puedes responder utilizando esto:\n",
    "\n",
    "<div class=\"alert alert-block alert-info\">\n",
    "<b>Respuesta de estudiante.</b> <a class=\"tocSkip\"></a>\n",
    "</div>"
   ]
  },
  {
   "cell_type": "markdown",
   "metadata": {
    "id": "jrvwNQJi0P9l"
   },
   "source": [
    "Una empresa de comercio electrónico, Store 1, recientemente comenzó a recopilar datos sobre sus clientes. El objetivo final de Store 1 es comprender mejor el comportamiento de sus clientes y tomar decisiones basadas en datos para mejorar su experiencia online.\n",
    "\n",
    "Como parte del equipo de análisis, tu primera tarea es evaluar la calidad de una muestra de datos recopilados y prepararla para futuros análisis."
   ]
  },
  {
   "cell_type": "markdown",
   "metadata": {},
   "source": [
    " <div class=\"alert alert-block alert-success\">\n",
    "<b>Review General. (Iteración 2) </b> <a class=\"tocSkip\"></a>\n",
    "\n",
    "Felicitaciones Diego, has implementado los cambios que te he indicado, bien hecho! Hemos alcanzado los objetivos del proyecto por lo que está en condiciones de ser aprobado!\n",
    "    \n",
    "Felicitaciones y éxitos en tu camino dentro del mundo de los datos!\n",
    "    \n",
    "Saludos Diego!"
   ]
  },
  {
   "cell_type": "markdown",
   "metadata": {},
   "source": [
    "<div class=\"alert alert-block alert-success\">\n",
    "<b>Review General. (Iteración 1) </b> <a class=\"tocSkip\"></a>\n",
    "\n",
    "Diego, quería tomarme este tiempo al inicio de tu proyecto para comentarte mis apreciaciones generales de esta iteración de tu entrega.\n",
    "\n",
    "Siempre me gusta comenzar dando la bienvenida al mundo de los datos a los estudiantes, te deseo lo mejor y espero que consigas lograr tus objetivos. Personalmente me gusta brindar el siguiente consejo, \"Está bien equivocarse, es normal y es lo mejor que te puede pasar. Aprendemos de los errores y eso te hará mejor programador ya que podrás descubrir cosas a medida que avances y son estas cosas las que te darán esa experiencia para ser un gran cientifico de datos.\"\n",
    "    \n",
    "Ahora si yendo a esta notebook. Quería felicitarte Diego porque has hecho un gran trabajo, has logrado resolver los ejercicios con creces y te has destacado por tu gran manejo de las herramientas! Solo hubo un pequeño detalle que no deberían demorarnos tanto, estoy seguro que podrás hacerlo, te he dejado los comenterios con el conexto necesario para ello.\n",
    "\n",
    "Espero con ansias a nuestra próxima iteración!\n",
    "\n",
    "Éxitos y saludos Diego!"
   ]
  },
  {
   "cell_type": "markdown",
   "metadata": {
    "id": "2utuFkVZ0P9p"
   },
   "source": [
    "# Cuestionario\n",
    "\n",
    "Store 1 tiene como objetivo garantizar la coherencia en la recopilación de datos. Como parte de esta iniciativa, se debe evaluar la calidad de los datos recopilados sobre los usuarios y las usuarias. Te han pedido que revises los datos recopilados y propongas cambios. A continuación verás datos sobre un usuario o una usuaria en particular; revisa los datos e identifica cualquier posible problema."
   ]
  },
  {
   "cell_type": "code",
   "execution_count": 16,
   "metadata": {
    "id": "v4ldWAes0P9q"
   },
   "outputs": [
    {
     "name": "stdout",
     "output_type": "stream",
     "text": [
      "32415\n",
      "mike reed\n",
      "32\n",
      "['electronics', 'sport', 'books']\n"
     ]
    }
   ],
   "source": [
    "user_id = '32415'\n",
    "user_id_int= int(user_id)\n",
    "\n",
    "user_name = ' mike_reed '\n",
    "user_name = user_name.strip()\n",
    "user_name = user_name.replace('_',' ')\n",
    "\n",
    "user_age = 32.0\n",
    "user_age_int = int(user_age)\n",
    "\n",
    "fav_categories_low = []\n",
    "fav_categories = ['ELECTRONICS', 'SPORT', 'BOOKS']\n",
    "for value in fav_categories:\n",
    "    value=value.lower()\n",
    "    fav_categories_low.append(value)\n",
    "\n",
    "print(user_id_int)\n",
    "print(user_name)\n",
    "print(user_age_int)\n",
    "print(fav_categories_low)\n"
   ]
  },
  {
   "cell_type": "markdown",
   "metadata": {
    "id": "v5J9NgXf0P9r"
   },
   "source": [
    "**Opciones:**\n",
    "\n",
    "1. El tipo de datos para `user_id` debe cambiarse de una cadena a un número entero.\n",
    "    \n",
    "2. La variable `user_name` contiene una cadena que tiene espacios innecesarios y un guion bajo entre el nombre y el apellido.\n",
    "    \n",
    "3. El tipo de datos de `user_age` es incorrecto.\n",
    "    \n",
    "4. La lista `fav_categories` contiene cadenas en mayúsculas. En su lugar, deberíamos convertir los valores de la lista a minúsculas."
   ]
  },
  {
   "cell_type": "markdown",
   "metadata": {
    "id": "dZRSLSQV0P9s"
   },
   "source": [
    "Escribe en la celda Markdown a continuación el número de las opciones que has identificado como problemas. Si has identificado varios problemas, sepáralos con comas. Por ejemplo, si piensas que los números 1 y 3 son incorrectos, escribe 1, 3."
   ]
  },
  {
   "cell_type": "markdown",
   "metadata": {
    "id": "iCEVoi_A0P9s"
   },
   "source": [
    "**Escribe tu respuesta y explica tu argumentación:**\n",
    "    1,2,3,4  No realice el ejercicio porque pensé que las actividades comenzaban desde el ejercicio 1 del cuestionario. Fue mi error no leer por completo el notebook. Tendré cuidado con esos detalles más adelante. \n",
    "    \n",
    "    Hola que tal, mucho gusto! Aprovecho esta corrección para agradecerle sus comentarios, sus buenos deseos y por la \n",
    "    motivación que percibí en su mensaje al inicio del notebook. También le doy las gracias por tomarse el tiempo de dar su\n",
    "    punto de vista de cada ejercicio y por sus felicitaciones. Continuaré dando lo mejor de mi y muchas gracias por sus \n",
    "    consejos y comentarios. Me gustaría adicionar también una frase:\n",
    "            \"Al final todo va a estar bien, y si no está bien es porque no hemos llegado al final\"\n",
    "    Lo veo en la siguiente iteración y le deseo una buena semana.\n",
    "    Saludos!\n",
    "    \n",
    "    PD: Este ejercicio por alguna razón lo omití y lo dejé en blanco, una disculpa:O\n"
   ]
  },
  {
   "cell_type": "markdown",
   "metadata": {},
   "source": [
    "<div class=\"alert alert-block alert-success\">\n",
    "<b>Comentario del revisor. (Iteración 1) </b> <a class=\"tocSkip\"></a>\n",
    "\n",
    "Seguro se nos paso por alto Diego, recordemos dar nuestras justificaciones!\n",
    "    \n",
    "    Excelente ahora si Diego :) felicitaciones!"
   ]
  },
  {
   "cell_type": "markdown",
   "metadata": {
    "id": "qKAtWDqu0P9t"
   },
   "source": [
    "# Ejercicio 1\n",
    "\n",
    "Vamos a implementar los cambios que identificamos. Primero, necesitamos corregir los problemas de la variable `user_name`. Como vimos, tiene espacios innecesarios y un guion bajo como separador entre el nombre y el apellido; tu objetivo es eliminar los espacios y luego reemplazar el guion bajo con el espacio."
   ]
  },
  {
   "cell_type": "code",
   "execution_count": 2,
   "metadata": {
    "id": "442z87Uq0P9t"
   },
   "outputs": [
    {
     "name": "stdout",
     "output_type": "stream",
     "text": [
      "mike reed\n"
     ]
    }
   ],
   "source": [
    "user_name=' mike_reed '\n",
    "\n",
    "user_name = user_name.strip()\n",
    "\n",
    "user_name = user_name.replace('_',' ')\n",
    "\n",
    "print(user_name)\n"
   ]
  },
  {
   "cell_type": "markdown",
   "metadata": {},
   "source": [
    "<div class=\"alert alert-block alert-success\">\n",
    "<b>Comentario del revisor. (Iteración 1) </b> <a class=\"tocSkip\"></a>\n",
    "\n",
    "Muy bien hecho, aplicaste correctamente ambos métodos. Si deseas puedes optimizar tu código (opcional) apilando ambos métodos en una misma línea de código.\n",
    "</div>"
   ]
  },
  {
   "cell_type": "markdown",
   "metadata": {
    "id": "g4YyN4WK0P9t"
   },
   "source": [
    "# Ejercicio 2\n",
    "\n",
    "Luego, debemos dividir el `user_name` (nombre de usuario o usuaria) actualizado en dos subcadenas para obtener una lista que contenga dos valores: la cadena para el nombre y la cadena para el apellido."
   ]
  },
  {
   "cell_type": "code",
   "execution_count": 6,
   "metadata": {
    "id": "Q1L1ARfY0P9u"
   },
   "outputs": [
    {
     "name": "stdout",
     "output_type": "stream",
     "text": [
      "['mike', 'reed']\n"
     ]
    }
   ],
   "source": [
    "## Ejercicio 2\n",
    "\n",
    "name_split=user_name.split(' ')\n",
    "\n",
    "print(name_split)"
   ]
  },
  {
   "cell_type": "markdown",
   "metadata": {},
   "source": [
    "<div class=\"alert alert-block alert-success\">\n",
    "<b>Comentario del revisor. (Iteración 1) </b> <a class=\"tocSkip\"></a>\n",
    "\n",
    "Implementación perfecta del método que se debía aplicar, bien hecho!</div>"
   ]
  },
  {
   "cell_type": "markdown",
   "metadata": {
    "id": "-VWZkZtc0P9u"
   },
   "source": [
    "# Ejercicio 3\n",
    "\n",
    "¡Genial! Ahora debemos trabajar con la variable `user_age`. Como ya mencionamos, esta tiene un tipo de datos incorrecto. Arreglemos este problema transformando el tipo de datos y mostrando el resultado final."
   ]
  },
  {
   "cell_type": "code",
   "execution_count": 7,
   "metadata": {
    "id": "WPpidP470P9u"
   },
   "outputs": [
    {
     "name": "stdout",
     "output_type": "stream",
     "text": [
      "32.0\n"
     ]
    }
   ],
   "source": [
    "user_age = 32.0\n",
    "\n",
    "user_age_int = int(user_age)\n",
    "\n",
    "print(user_age)"
   ]
  },
  {
   "cell_type": "markdown",
   "metadata": {},
   "source": [
    "<div class=\"alert alert-block alert-success\">\n",
    "<b>Comentario del revisor. (Iteración 1) </b> <a class=\"tocSkip\"></a>\n",
    "\n",
    "Felicitaciones! Vienes genial Diego, estos son los primeros pasos para ser un gran Data Scientist.\n",
    "</div>"
   ]
  },
  {
   "cell_type": "markdown",
   "metadata": {
    "id": "xdfgaKd60P9v"
   },
   "source": [
    "# Ejercicio 4\n",
    "\n",
    "Como sabemos, los datos no siempre son perfectos. Debemos considerar escenarios en los que el valor de `user_age` no se pueda convertir en un número entero. Para evitar que nuestro sistema se bloquee, debemos tomar medidas con anticipación.\n",
    "\n",
    "Escribe un código que intente convertir la variable `user_age` en un número entero y asigna el valor transformado a `user_age_int`. Si el intento falla, mostramos un mensaje pidiendo al usuario o la usuaria que proporcione su edad como un valor numérico con el mensaje: `Please provide your age as a numerical value.` (Proporcione su edad como un valor numérico.)"
   ]
  },
  {
   "cell_type": "code",
   "execution_count": 11,
   "metadata": {
    "id": "duI5zn_O0P9v"
   },
   "outputs": [
    {
     "name": "stdout",
     "output_type": "stream",
     "text": [
      "Proporcione su edad como un valor numérico, por favor\n"
     ]
    }
   ],
   "source": [
    "## Ejercicio 4\n",
    "\n",
    "user_age_st ='treinta y dos'\n",
    "\n",
    "try:\n",
    "\n",
    "    int(user_age_st)\n",
    "\n",
    "    print(f\"Tu edad es {user_age_st}, correcto?\")\n",
    "\n",
    "except:\n",
    "\n",
    "    print('Proporcione su edad como un valor numérico, por favor')\n"
   ]
  },
  {
   "cell_type": "markdown",
   "metadata": {},
   "source": [
    "<div class=\"alert alert-block alert-success\">\n",
    "<b>Comentario del revisor. (Iteración 1) </b> <a class=\"tocSkip\"></a>\n",
    "\n",
    "Excelente! Una aplicación del bloque **try and except** excelente, muy bien hecho!</div>"
   ]
  },
  {
   "cell_type": "markdown",
   "metadata": {
    "id": "Q04i6KQH0P9v"
   },
   "source": [
    "# Ejercicio 5\n",
    "\n",
    "Finalmente, considera que todas las categorías favoritas se almacenan en mayúsculas. Para llenar una nueva lista llamada `fav_categories_low` con las mismas categorías, pero en minúsculas, itera los valores en la lista `fav_categories`, modifícalos y agrega los nuevos valores a la lista `fav_categories_low`. Como siempre, muestra el resultado final."
   ]
  },
  {
   "cell_type": "code",
   "execution_count": 13,
   "metadata": {
    "id": "AtQg6ie10P9v"
   },
   "outputs": [
    {
     "name": "stdout",
     "output_type": "stream",
     "text": [
      "['electronics', 'sport', 'books']\n"
     ]
    }
   ],
   "source": [
    "## Ejercicio 5\n",
    "\n",
    "\n",
    "fav_categories_low = []\n",
    "\n",
    "fav_categories = ['ELECTRONICS','SPORT','BOOKS']\n",
    "\n",
    "for value in fav_categories:\n",
    "\n",
    "    value=value.lower()\n",
    "\n",
    "    #print(value)\n",
    "\n",
    "    fav_categories_low.append(value)\n",
    "\n",
    "print(fav_categories_low)\n"
   ]
  },
  {
   "cell_type": "markdown",
   "metadata": {},
   "source": [
    "<div class=\"alert alert-block alert-success\">\n",
    "<b>Comentario del revisor. (Iteración 1) </b> <a class=\"tocSkip\"></a>\n",
    "\n",
    "Nuevamente bien hecho, la lógica es correcta, perfecta implementación de lower() y de append()."
   ]
  },
  {
   "cell_type": "markdown",
   "metadata": {
    "id": "w8J0RSee0P9w"
   },
   "source": [
    "# Ejercicio 6\n",
    "\n",
    "Hemos obtenido información adicional sobre los hábitos de gasto de nuestros usuarios y usuarias, incluido el importe gastado en cada una de sus categorías favoritas. La gerencia está interesada en las siguientes métricas:\n",
    "\n",
    "- Importe total gastado por el usuario o la usuaria.\n",
    "- Importe mínimo gastado.\n",
    "- Importe máximo gastado.\n",
    "\n",
    "Vamos a calcular estos valores y mostrarlos en la pantalla:"
   ]
  },
  {
   "cell_type": "code",
   "execution_count": 181,
   "metadata": {
    "id": "BbhBAmcZ0P9w"
   },
   "outputs": [
    {
     "name": "stdout",
     "output_type": "stream",
     "text": [
      "importe total gastado = 1280\n",
      "máxima cantidad gastada = 894\n",
      "mínima cantidad gastada = 173\n"
     ]
    }
   ],
   "source": [
    "spending_per_category = [894,213,173]\n",
    "\n",
    "\n",
    "total_amount=f\"importe total gastado = {sum(spending_per_category)}\"\n",
    "\n",
    "print(total_amount)\n",
    "\n",
    "max_amount=f\"máxima cantidad gastada = {max(spending_per_category)}\"\n",
    "\n",
    "print(max_amount)\n",
    "\n",
    "min_amount=f\"mínima cantidad gastada = {min(spending_per_category)}\"\n",
    "\n",
    "print(min_amount)"
   ]
  },
  {
   "cell_type": "markdown",
   "metadata": {},
   "source": [
    "<div class=\"alert alert-block alert-success\">\n",
    "<b>Comentario del revisor. (Iteración 1) </b> <a class=\"tocSkip\"></a>\n",
    "\n",
    "Excelente implementación de los métodos sum(), max() y min(), bien hecho!"
   ]
  },
  {
   "cell_type": "markdown",
   "metadata": {
    "id": "hyPGzOt60P9w"
   },
   "source": [
    "# Ejercicio 7\n",
    "\n",
    "La empresa quiere ofrecer descuentos a sus clientes leales. Los clientes y las clientas que realizan compras por un importe total mayor a $1500 se consideran leales y recibirán un descuento.\n",
    "\n",
    "Nuestro objetivo es crear un bucle `while` que compruebe el importe total gastado y se detenga al alcanzarlo. Para simular nuevas compras, la variable `new_purchase` genera un número entre 30 y 80 en cada iteración del bucle. Esto representa el importe de dinero gastado en una nueva compra y es lo que hay que sumar al total.\n",
    "\n",
    "Una vez que se alcance el importe objetivo y se termine el bucle `while`, se mostrará la cantidad final."
   ]
  },
  {
   "cell_type": "code",
   "execution_count": 42,
   "metadata": {
    "id": "FmpTfK7C0P9x"
   },
   "outputs": [
    {
     "name": "stdout",
     "output_type": "stream",
     "text": [
      "lista de precios de compras = [32, 34, 73, 67, 65]\n",
      "cantidad total gastada -> 1551\n"
     ]
    }
   ],
   "source": [
    "from random import randint\n",
    "\n",
    "\n",
    "total_amount_spent=1280\n",
    "\n",
    "total_amount=1500\n",
    "\n",
    "list_purchase=[]\n",
    "\n",
    "while total_amount_spent < 1500:\n",
    "\n",
    "    new_purchase = randint (30,80)\n",
    "\n",
    "    list_purchase.append(new_purchase)\n",
    "\n",
    "    total_amount_spent += new_purchase\n",
    "\n",
    "    \n",
    "list_purchase= f\"lista de precios de compras = {list_purchase}\"\n",
    "print(list_purchase)\n",
    "\n",
    "total_amount_spent=f\"cantidad total gastada -> {total_amount_spent}\"\n",
    "print(total_amount_spent)\n"
   ]
  },
  {
   "cell_type": "markdown",
   "metadata": {},
   "source": [
    "<div class=\"alert alert-block alert-success\">\n",
    "<b>Comentario del revisor. (Iteración 1) </b> <a class=\"tocSkip\"></a>\n",
    "\n",
    "Bien hecho nuevamente, logica perfecta!"
   ]
  },
  {
   "cell_type": "markdown",
   "metadata": {
    "id": "e9j2dOo60P9x"
   },
   "source": [
    "# Ejercicio 8\n",
    "\n",
    "Ahora tenemos toda la información sobre un cliente o una clienta de la forma que queremos que sea. La gerencia de una empresa nos pidió proponer una forma de resumir toda la información sobre un usuario o una usuaria. Tu objetivo es crear una cadena formateada que utilice información de las variables `user_id`, `user_name` y `user_age`.\n",
    "\n",
    "Esta es la cadena final que queremos crear: `User 32415 is mike who is 32 years old.` (El usuario 32415 es Mike, quien tiene 32 años)."
   ]
  },
  {
   "cell_type": "code",
   "execution_count": 59,
   "metadata": {
    "id": "2dzhjYbm0P9x"
   },
   "outputs": [
    {
     "name": "stdout",
     "output_type": "stream",
     "text": [
      "El usuario 32415 es Mike , quien tiene 32 años\n"
     ]
    }
   ],
   "source": [
    "\n",
    "\n",
    "user_id='32415'\n",
    "\n",
    "user_name= ['mike','reed']\n",
    "\n",
    "user_age= 32\n",
    "\n",
    "user_info = []\n",
    "\n",
    "user_info.extend([user_id,user_name,user_age])\n",
    "\n",
    "#print(user_info)\n",
    "\n",
    "if user_info[0]=='32415':\n",
    "\n",
    "    print(f\"El usuario {user_info[0]} es {user_name[0].capitalize()} , quien tiene {user_info[2]} años\")\n"
   ]
  },
  {
   "cell_type": "markdown",
   "metadata": {},
   "source": [
    "<div class=\"alert alert-block alert-success\">\n",
    "\n",
    "<b>Comentario del revisor. (Iteración 1)</b> <a class=\"tocSkip\"></a>\n",
    "\n",
    "Impecable! Así es como se debe realizar! Muy bien resuelto!\n",
    "</div>"
   ]
  },
  {
   "cell_type": "markdown",
   "metadata": {
    "id": "hJ38hJYU0P9x"
   },
   "source": [
    "Como sabes, las empresas recopilan y almacenan datos de una forma particular. Store 1 desea almacenar toda la información sobre sus clientes y clientas en una tabla.\n",
    "\n",
    "| user_id | user_name | user_age | purchase_category | spending_per_category |\n",
    "| --- | --- | --- | --- | --- |\n",
    "| '32415' | 'mike', 'reed' | 32 | 'electronics', 'sport', 'books' | 894, 213, 173 |\n",
    "| '31980' | 'kate', 'morgan' | 24 | 'clothes', 'shoes' | 439, 390 |\n",
    "\n",
    "En términos técnicos, una tabla es simplemente una lista anidada que contiene una sublista para cada usuario o usuaria.\n",
    "\n",
    "Store 1 ha creado una tabla de este tipo para sus usuarios y usuarias. Se almacena en la variable `users`. Cada sublista contiene el ID del usuario o la usuaria, nombre y apellido, edad, categorías favoritas y el importe gastado en cada categoría."
   ]
  },
  {
   "cell_type": "markdown",
   "metadata": {
    "id": "J7IXD3Zv0P9x"
   },
   "source": [
    "# Ejercicio 9\n",
    "\n",
    "Para calcular los ingresos de la empresa, sigue estos pasos.\n",
    "\n",
    "1. Utiliza `for` para iterar sobre la lista `users`.\n",
    "2. Extrae la lista de gastos de cada usuario o usuaria y suma los valores.\n",
    "3. Actualiza el valor de los ingresos con el total de cada usuario o usuaria.\n",
    "\n",
    "Así obtendrás los ingresos totales de la empresa que mostrarás en la pantalla al final."
   ]
  },
  {
   "cell_type": "code",
   "execution_count": 116,
   "metadata": {
    "id": "d8jeNWXQ0P9y"
   },
   "outputs": [
    {
     "name": "stdout",
     "output_type": "stream",
     "text": [
      "Usuario 32415  \n",
      "Lista de gastos [894, 213, 173]\n",
      "total = 1280\n",
      "\n",
      "Usuario 31980  \n",
      "Lista de gastos [439, 390]\n",
      "total = 829\n",
      "\n",
      "ingreso final = 2109\n"
     ]
    }
   ],
   "source": [
    "users = [\n",
    "\t  # este es el inicio de la primera sublista\n",
    "    ['32415', ['mike', 'reed'], 32, ['electronics', 'sport', 'books'],\n",
    "        [894, 213, 173]\n",
    "    ], # este es el final de la primera sublista\n",
    "\n",
    "    # este es el inicio de la segunda sublista\n",
    "    ['31980', ['kate', 'morgan'], 24, ['clothes', 'shoes'],\n",
    "        [439, 390]\n",
    "    ] # este es el final de la segunda sublista\n",
    "]\n",
    "\n",
    "revenue = 0\n",
    "for user in users:\n",
    "    spendings_list = f\"Usuario {user[0]}  \\nLista de gastos {user[-1]}\" # extrae la lista de gastos de cada usuario o usuaria y suma los valores\n",
    "    print(spendings_list)\n",
    "    total_spendings = sum(user[-1])#suma los gastos de todas las categorías para obtener el total de un usuario o una usuaria en particular\n",
    "    print(f\"total = {total_spendings}\\n\")\n",
    "    revenue += total_spendings# actualiza los ingresos\n",
    "\n",
    "# no elimines la siguiente declaración print\n",
    "print(f\"ingreso final = {revenue}\")"
   ]
  },
  {
   "cell_type": "markdown",
   "metadata": {},
   "source": [
    "<div class=\"alert alert-block alert-success\">\n",
    "<b>Comentario del revisor. (Iteración 1) </b> <a class=\"tocSkip\"></a>\n",
    "\n",
    "Muy bien resuelto, felicitaciones Diego! Nuevamente una lógica tal vez un poco más compleja pero pudiste implementar bien el loop, el indexado y el contador. Vienes genial!\n",
    "</div>"
   ]
  },
  {
   "cell_type": "markdown",
   "metadata": {
    "id": "wR0om7Tk0P9y"
   },
   "source": [
    "# Ejercicio 10\n",
    "\n",
    "Recorre la lista de usuarios y usuarias que te hemos proporcionado y muestra los nombres de la clientela menor de 30 años."
   ]
  },
  {
   "cell_type": "code",
   "execution_count": 188,
   "metadata": {
    "id": "KVdthJm70P9y"
   },
   "outputs": [
    {
     "name": "stdout",
     "output_type": "stream",
     "text": [
      "Clientela menor a 30 años \n",
      "\n",
      "Kate\n",
      "Samantha\n",
      "Emily\n",
      "Jose\n",
      "James\n"
     ]
    }
   ],
   "source": [
    "users = [\n",
    "    ['32415', ['mike', 'reed'], 32, ['electronics', 'sport', 'books'],\n",
    "     [894, 213, 173]],\n",
    "    ['31980', ['kate', 'morgan'], 24, ['clothes', 'books'], [439,\n",
    "     390]],\n",
    "    ['32156', ['john', 'doe'], 37, ['electronics', 'home', 'food'],\n",
    "     [459, 120, 99]],\n",
    "    ['32761', ['samantha', 'smith'], 29, ['clothes', 'electronics',\n",
    "     'beauty'], [299, 679, 85]],\n",
    "    ['32984', ['david', 'white'], 41, ['books', 'home', 'sport'], [234,\n",
    "     329, 243]],\n",
    "    ['33001', ['emily', 'brown'], 26, ['beauty', 'home', 'food'], [213,\n",
    "     659, 79]],\n",
    "    ['33767', ['maria', 'garcia'], 33, ['clothes', 'food', 'beauty'],\n",
    "     [499, 189, 63]],\n",
    "    ['33912', ['jose', 'martinez'], 22, ['sport', 'electronics', 'home'\n",
    "     ], [259, 549, 109]],\n",
    "    ['34009', ['lisa', 'wilson'], 35, ['home', 'books', 'clothes'],\n",
    "     [329, 189, 329]],\n",
    "    ['34278', ['james', 'lee'], 28, ['beauty', 'clothes', 'electronics'\n",
    "     ], [189, 299, 579]],\n",
    "    ]\n",
    "print(\"Clientela menor a 30 años \\n\")\n",
    "for user in users:\n",
    "    if user[2]<30:\n",
    "        print(user[1][0].capitalize())\n",
    "# escribe tu código aquí"
   ]
  },
  {
   "cell_type": "markdown",
   "metadata": {},
   "source": [
    "<div class=\"alert alert-block alert-success\">\n",
    "<b>Comentario del revisor. (Iteración 1) </b> <a class=\"tocSkip\"></a>\n",
    "\n",
    "Bien resuelto! En este caso has resuelto el problema muy bien, buena implementación del loop junto al condicionante y por la utilización de la indexación. "
   ]
  },
  {
   "cell_type": "markdown",
   "metadata": {
    "id": "LBHWQenm0P9y"
   },
   "source": [
    "# Ejercicio 11\n",
    "\n",
    "Juntemos las tareas 9 y 10 e imprimamos los nombres de los usuarios y las usuarias que tengan menos de 30 años y un gasto total superior a 1000 dólares."
   ]
  },
  {
   "cell_type": "code",
   "execution_count": 186,
   "metadata": {
    "id": "HaQNXS-V0P9z"
   },
   "outputs": [
    {
     "name": "stdout",
     "output_type": "stream",
     "text": [
      "Usuarios que tengan menos de 30 años y un gasto total superior a 1000 dólares \n",
      "\n",
      "Usuario 32761 : \n",
      "Samantha \n",
      "Lista de gastos [299, 679, 85]\n",
      "total = 1063\n",
      "\n",
      "Usuario 34278 : \n",
      "James \n",
      "Lista de gastos [189, 299, 579]\n",
      "total = 1067\n",
      "\n"
     ]
    }
   ],
   "source": [
    "users = [\n",
    "    ['32415', ['mike', 'reed'], 32, ['electronics', 'sport', 'books'],\n",
    "     [894, 213, 173]],\n",
    "    ['31980', ['kate', 'morgan'], 24, ['clothes', 'books'], [439,\n",
    "     390]],\n",
    "    ['32156', ['john', 'doe'], 37, ['electronics', 'home', 'food'],\n",
    "     [459, 120, 99]],\n",
    "    ['32761', ['samantha', 'smith'], 29, ['clothes', 'electronics',\n",
    "     'beauty'], [299, 679, 85]],\n",
    "    ['32984', ['david', 'white'], 41, ['books', 'home', 'sport'], [234,\n",
    "     329, 243]],\n",
    "    ['33001', ['emily', 'brown'], 26, ['beauty', 'home', 'food'], [213,\n",
    "     659, 79]],\n",
    "    ['33767', ['maria', 'garcia'], 33, ['clothes', 'food', 'beauty'],\n",
    "     [499, 189, 63]],\n",
    "    ['33912', ['jose', 'martinez'], 22, ['sport', 'electronics', 'home'\n",
    "     ], [259, 549, 109]],\n",
    "    ['34009', ['lisa', 'wilson'], 35, ['home', 'books', 'clothes'],\n",
    "     [329, 189, 329]],\n",
    "    ['34278', ['james', 'lee'], 28, ['beauty', 'clothes', 'electronics'\n",
    "     ], [189, 299, 579]],\n",
    "    ]\n",
    "\n",
    "print(\"Usuarios que tengan menos de 30 años y un gasto total superior a 1000 dólares \\n\")\n",
    "for user in users:\n",
    "    spendings_list = f\"Usuario {user[0]} : \\n{user[1][0].capitalize()} \\nLista de gastos {user[-1]}\" # extrae la lista de gastos de cada usuario o usuaria y suma los valores\n",
    "    total_spendings = sum(user[-1])#suma los gastos de todas las categorías para obtener el total de un usuario o una usuaria en particular\n",
    "    revenue += total_spendings# actualiza los ingresos\n",
    "    if total_spendings>1000 and user[2]<30:\n",
    "        print(spendings_list)\n",
    "        print(f\"total = {total_spendings}\\n\")\n",
    "    # escribe tu código aquí"
   ]
  },
  {
   "cell_type": "markdown",
   "metadata": {},
   "source": [
    "<div class=\"alert alert-block alert-success\">\n",
    "<b>Comentario del revisor. (Iteración 1) </b> <a class=\"tocSkip\"></a>\n",
    "\n",
    "Excelente al igual que el caso anterior, bien hecho Diego! "
   ]
  },
  {
   "cell_type": "markdown",
   "metadata": {
    "id": "yRozkK0R0P90"
   },
   "source": [
    "# Ejercicio 12\n",
    "\n",
    "Ahora vamos a mostrar el nombre y la edad de todos los usuarios y todas las usuarias que han comprado ropa. Imprime el nombre y la edad en la misma declaración print."
   ]
  },
  {
   "cell_type": "code",
   "execution_count": 180,
   "metadata": {
    "id": "mSIyHq1f0P90"
   },
   "outputs": [
    {
     "name": "stdout",
     "output_type": "stream",
     "text": [
      "Usuarios que han comprado ropa\n",
      "\n",
      "Usuario 31980 : \n",
      "Kate\n",
      "Edad 24\n",
      "\n",
      "Usuario 32761 : \n",
      "Samantha\n",
      "Edad 29\n",
      "\n",
      "Usuario 33767 : \n",
      "Maria\n",
      "Edad 33\n",
      "\n",
      "Usuario 34009 : \n",
      "Lisa\n",
      "Edad 35\n",
      "\n",
      "Usuario 34278 : \n",
      "James\n",
      "Edad 28\n",
      "\n"
     ]
    }
   ],
   "source": [
    "users = [\n",
    "    ['32415', ['mike', 'reed'], 32, ['electronics', 'sport', 'books'],\n",
    "     [894, 213, 173]],\n",
    "    ['31980', ['kate', 'morgan'], 24, ['clothes', 'books'], [439,\n",
    "     390]],\n",
    "    ['32156', ['john', 'doe'], 37, ['electronics', 'home', 'food'],\n",
    "     [459, 120, 99]],\n",
    "    ['32761', ['samantha', 'smith'], 29, ['clothes', 'electronics',\n",
    "     'beauty'], [299, 679, 85]],\n",
    "    ['32984', ['david', 'white'], 41, ['books', 'home', 'sport'], [234,\n",
    "     329, 243]],\n",
    "    ['33001', ['emily', 'brown'], 26, ['beauty', 'home', 'food'], [213,\n",
    "     659, 79]],\n",
    "    ['33767', ['maria', 'garcia'], 33, ['clothes', 'food', 'beauty'],\n",
    "     [499, 189, 63]],\n",
    "    ['33912', ['jose', 'martinez'], 22, ['sport', 'electronics', 'home'\n",
    "     ], [259, 549, 109]],\n",
    "    ['34009', ['lisa', 'wilson'], 35, ['home', 'books', 'clothes'],\n",
    "     [329, 189, 329]],\n",
    "    ['34278', ['james', 'lee'], 28, ['beauty', 'clothes', 'electronics'\n",
    "     ], [189, 299, 579]],\n",
    "    ]\n",
    "\n",
    "print(\"Usuarios que han comprado ropa\\n\")\n",
    "for user in users:\n",
    "    spendings_list = f\"Usuario {user[0]} : \\n{user[1][0].capitalize()}\" # extrae la lista de gastos de cada usuario o usuaria y suma los valores\n",
    "     \n",
    "    if user[-2][-1]=='clothes'or user[-2][-2]=='clothes' or user[-2][-3]=='clothes':\n",
    "        print(spendings_list)\n",
    "        print(f\"Edad {user[2]}\\n\")\n",
    "            \n",
    "        \n",
    "        \n",
    "        #IMPRIMIR EL VALOR GASTADO de 'CLOthes'\n",
    "        #if user[-2][-1]=='clothes':\n",
    "         #   print(spendings_list)\n",
    "              #print(f\"Compra de ropa = {user[-1][-1]}\\n\")\n",
    "        #if user[-2][-2]=='clothes':\n",
    "         #   print(spendings_list)\n",
    "          #  print(f\"Compra de ropa = {user[-1][-2]}\\n\")\n",
    "        #if user[-2][0]=='clothes':\n",
    "           # print(spendings_list)\n",
    "            #print(f\"Compra de ropa = {user[-1][0]}\\n\")\n",
    "\n"
   ]
  },
  {
   "cell_type": "markdown",
   "metadata": {},
   "source": [
    "<div class=\"alert alert-block alert-success\">\n",
    "<b>Comentario del revisor. (Iteración 1) </b> <a class=\"tocSkip\"></a>\n",
    "\n",
    "    \n",
    "Perfecta resolución, buena decisión la de verificar si \"clothes\" se encontraba dentro de la lista! A la vez perfecta puesta en común de los nombres y edades!"
   ]
  },
  {
   "cell_type": "markdown",
   "metadata": {
    "id": "Bq0_-hvu0P91"
   },
   "source": [
    "#Grinding "
   ]
  }
 ],
 "metadata": {
  "ExecuteTimeLog": [
   {
    "duration": 12,
    "start_time": "2024-07-29T02:47:39.379Z"
   },
   {
    "duration": 4,
    "start_time": "2024-07-29T02:48:11.210Z"
   },
   {
    "duration": 4,
    "start_time": "2024-07-29T02:48:18.453Z"
   },
   {
    "duration": 10,
    "start_time": "2024-07-29T02:48:43.755Z"
   },
   {
    "duration": 347,
    "start_time": "2024-07-29T02:48:56.129Z"
   },
   {
    "duration": 5,
    "start_time": "2024-07-29T02:48:59.201Z"
   },
   {
    "duration": 5,
    "start_time": "2024-07-29T02:49:24.926Z"
   },
   {
    "duration": 5,
    "start_time": "2024-07-29T02:50:28.325Z"
   },
   {
    "duration": 6,
    "start_time": "2024-07-29T02:50:37.642Z"
   },
   {
    "duration": 6,
    "start_time": "2024-07-29T02:51:00.482Z"
   },
   {
    "duration": 16,
    "start_time": "2024-07-29T02:51:05.937Z"
   },
   {
    "duration": 4,
    "start_time": "2024-07-29T02:55:17.834Z"
   },
   {
    "duration": 6,
    "start_time": "2024-07-29T02:55:39.139Z"
   },
   {
    "duration": 5,
    "start_time": "2024-07-29T02:56:12.017Z"
   },
   {
    "duration": 7,
    "start_time": "2024-07-29T02:57:00.708Z"
   },
   {
    "duration": 7,
    "start_time": "2024-07-29T02:57:17.690Z"
   },
   {
    "duration": 8,
    "start_time": "2024-07-29T02:57:45.967Z"
   },
   {
    "duration": 5,
    "start_time": "2024-07-29T02:57:50.830Z"
   },
   {
    "duration": 6,
    "start_time": "2024-07-29T02:57:55.274Z"
   },
   {
    "duration": 5,
    "start_time": "2024-07-29T02:58:22.431Z"
   },
   {
    "duration": 6,
    "start_time": "2024-07-29T02:58:26.144Z"
   },
   {
    "duration": 13,
    "start_time": "2024-07-29T02:58:49.261Z"
   },
   {
    "duration": 6,
    "start_time": "2024-07-29T02:59:12.156Z"
   },
   {
    "duration": 7,
    "start_time": "2024-07-29T02:59:45.475Z"
   },
   {
    "duration": 7,
    "start_time": "2024-07-29T03:00:02.630Z"
   },
   {
    "duration": 7,
    "start_time": "2024-07-29T03:00:16.737Z"
   },
   {
    "duration": 6,
    "start_time": "2024-07-29T03:01:05.175Z"
   },
   {
    "duration": 6,
    "start_time": "2024-07-29T03:01:20.673Z"
   },
   {
    "duration": 9,
    "start_time": "2024-07-29T03:01:40.775Z"
   },
   {
    "duration": 6,
    "start_time": "2024-07-29T03:01:58.583Z"
   },
   {
    "duration": 6,
    "start_time": "2024-07-29T03:02:10.481Z"
   },
   {
    "duration": 5,
    "start_time": "2024-07-29T03:02:22.047Z"
   },
   {
    "duration": 6,
    "start_time": "2024-07-29T03:02:48.670Z"
   },
   {
    "duration": 5,
    "start_time": "2024-07-29T03:02:56.524Z"
   },
   {
    "duration": 6,
    "start_time": "2024-07-29T03:03:44.169Z"
   },
   {
    "duration": 6,
    "start_time": "2024-07-29T03:04:21.024Z"
   },
   {
    "duration": 6,
    "start_time": "2024-07-29T03:04:28.377Z"
   },
   {
    "duration": 6,
    "start_time": "2024-07-29T03:04:32.224Z"
   },
   {
    "duration": 7,
    "start_time": "2024-07-29T03:12:35.861Z"
   },
   {
    "duration": 7,
    "start_time": "2024-07-29T03:12:51.826Z"
   },
   {
    "duration": 8,
    "start_time": "2024-07-29T03:13:31.863Z"
   },
   {
    "duration": 8,
    "start_time": "2024-07-29T03:14:25.801Z"
   },
   {
    "duration": 8,
    "start_time": "2024-07-29T03:14:46.659Z"
   },
   {
    "duration": 7,
    "start_time": "2024-07-29T03:14:51.734Z"
   },
   {
    "duration": 6,
    "start_time": "2024-07-29T03:15:24.951Z"
   },
   {
    "duration": 6,
    "start_time": "2024-07-29T03:15:30.422Z"
   },
   {
    "duration": 8,
    "start_time": "2024-07-29T03:15:44.689Z"
   },
   {
    "duration": 9,
    "start_time": "2024-07-29T03:16:18.483Z"
   },
   {
    "duration": 7,
    "start_time": "2024-07-29T03:16:24.519Z"
   },
   {
    "duration": 7,
    "start_time": "2024-07-29T03:16:44.416Z"
   },
   {
    "duration": 7,
    "start_time": "2024-07-29T03:16:59.060Z"
   },
   {
    "duration": 7,
    "start_time": "2024-07-29T03:17:21.547Z"
   },
   {
    "duration": 7,
    "start_time": "2024-07-29T03:17:22.666Z"
   },
   {
    "duration": 7,
    "start_time": "2024-07-29T03:17:43.689Z"
   },
   {
    "duration": 6,
    "start_time": "2024-07-29T03:17:54.191Z"
   },
   {
    "duration": 8,
    "start_time": "2024-07-29T03:23:58.944Z"
   },
   {
    "duration": 8,
    "start_time": "2024-07-29T03:24:10.142Z"
   },
   {
    "duration": 8,
    "start_time": "2024-07-29T03:25:35.974Z"
   },
   {
    "duration": 8,
    "start_time": "2024-07-29T03:26:51.982Z"
   },
   {
    "duration": 29,
    "start_time": "2024-07-29T03:27:55.765Z"
   },
   {
    "duration": 28,
    "start_time": "2024-07-29T03:28:03.596Z"
   },
   {
    "duration": 7,
    "start_time": "2024-07-29T03:28:15.174Z"
   },
   {
    "duration": 28,
    "start_time": "2024-07-29T03:28:34.893Z"
   },
   {
    "duration": 29,
    "start_time": "2024-07-29T03:28:44.329Z"
   },
   {
    "duration": 8,
    "start_time": "2024-07-29T03:28:48.686Z"
   },
   {
    "duration": 27,
    "start_time": "2024-07-29T03:28:52.859Z"
   },
   {
    "duration": 8,
    "start_time": "2024-07-29T03:29:14.272Z"
   },
   {
    "duration": 7,
    "start_time": "2024-07-29T03:30:09.572Z"
   },
   {
    "duration": 9,
    "start_time": "2024-07-29T03:31:18.150Z"
   },
   {
    "duration": 7,
    "start_time": "2024-07-29T03:31:50.562Z"
   },
   {
    "duration": 6,
    "start_time": "2024-07-29T03:32:02.978Z"
   },
   {
    "duration": 9,
    "start_time": "2024-07-29T03:32:11.527Z"
   },
   {
    "duration": 9,
    "start_time": "2024-07-29T03:32:19.280Z"
   },
   {
    "duration": 8,
    "start_time": "2024-07-29T03:32:33.548Z"
   },
   {
    "duration": 8,
    "start_time": "2024-07-29T03:32:40.618Z"
   },
   {
    "duration": 9,
    "start_time": "2024-07-29T03:32:58.947Z"
   },
   {
    "duration": 8,
    "start_time": "2024-07-29T03:33:29.485Z"
   },
   {
    "duration": 73,
    "start_time": "2024-07-29T03:33:45.675Z"
   },
   {
    "duration": 8,
    "start_time": "2024-07-29T03:33:52.535Z"
   },
   {
    "duration": 41,
    "start_time": "2024-07-29T03:35:24.132Z"
   },
   {
    "duration": 30,
    "start_time": "2024-07-29T03:35:44.944Z"
   },
   {
    "duration": 30,
    "start_time": "2024-07-29T03:36:20.664Z"
   },
   {
    "duration": 29,
    "start_time": "2024-07-29T03:36:25.576Z"
   },
   {
    "duration": 8,
    "start_time": "2024-07-29T03:37:39.371Z"
   },
   {
    "duration": 7,
    "start_time": "2024-07-29T03:38:04.963Z"
   },
   {
    "duration": 8,
    "start_time": "2024-07-29T03:38:22.984Z"
   },
   {
    "duration": 10,
    "start_time": "2024-07-29T03:38:35.602Z"
   },
   {
    "duration": 7,
    "start_time": "2024-07-29T03:38:53.016Z"
   },
   {
    "duration": 9,
    "start_time": "2024-07-29T03:39:39.465Z"
   },
   {
    "duration": 7,
    "start_time": "2024-07-29T03:39:44.335Z"
   },
   {
    "duration": 7,
    "start_time": "2024-07-29T03:41:12.074Z"
   },
   {
    "duration": 8,
    "start_time": "2024-07-29T03:42:08.304Z"
   },
   {
    "duration": 7,
    "start_time": "2024-07-29T03:42:52.751Z"
   },
   {
    "duration": 9,
    "start_time": "2024-07-29T03:43:09.514Z"
   },
   {
    "duration": 8,
    "start_time": "2024-07-29T03:44:29.717Z"
   },
   {
    "duration": 9,
    "start_time": "2024-07-29T03:44:44.154Z"
   },
   {
    "duration": 7,
    "start_time": "2024-07-29T03:44:49.265Z"
   },
   {
    "duration": 7,
    "start_time": "2024-07-29T03:45:56.515Z"
   },
   {
    "duration": 7,
    "start_time": "2024-07-29T03:47:01.867Z"
   },
   {
    "duration": 7,
    "start_time": "2024-07-29T03:49:26.113Z"
   },
   {
    "duration": 6,
    "start_time": "2024-07-29T03:49:57.304Z"
   },
   {
    "duration": 8,
    "start_time": "2024-07-29T03:50:50.494Z"
   },
   {
    "duration": 8,
    "start_time": "2024-07-29T03:50:56.435Z"
   },
   {
    "duration": 7,
    "start_time": "2024-07-29T03:51:25.432Z"
   },
   {
    "duration": 7,
    "start_time": "2024-07-29T03:51:34.219Z"
   },
   {
    "duration": 6,
    "start_time": "2024-07-29T03:51:53.534Z"
   },
   {
    "duration": 11,
    "start_time": "2024-07-29T03:51:59.789Z"
   },
   {
    "duration": 10,
    "start_time": "2024-07-29T03:52:10.830Z"
   },
   {
    "duration": 7,
    "start_time": "2024-07-29T03:52:17.342Z"
   },
   {
    "duration": 14,
    "start_time": "2024-07-29T03:53:46.696Z"
   },
   {
    "duration": 13,
    "start_time": "2024-07-29T03:57:54.488Z"
   },
   {
    "duration": 13,
    "start_time": "2024-07-29T03:58:37.102Z"
   },
   {
    "duration": 12,
    "start_time": "2024-07-29T04:01:03.642Z"
   },
   {
    "duration": 12,
    "start_time": "2024-07-29T04:01:23.778Z"
   },
   {
    "duration": 12,
    "start_time": "2024-07-29T04:01:39.547Z"
   },
   {
    "duration": 12,
    "start_time": "2024-07-29T04:01:51.097Z"
   },
   {
    "duration": 50,
    "start_time": "2024-07-29T04:02:00.028Z"
   },
   {
    "duration": 43,
    "start_time": "2024-07-29T04:02:21.883Z"
   },
   {
    "duration": 14,
    "start_time": "2024-07-29T04:02:25.610Z"
   },
   {
    "duration": 11,
    "start_time": "2024-07-29T04:02:47.992Z"
   },
   {
    "duration": 10,
    "start_time": "2024-07-29T04:05:29.299Z"
   },
   {
    "duration": 12,
    "start_time": "2024-07-29T04:05:34.405Z"
   },
   {
    "duration": 11,
    "start_time": "2024-07-29T04:05:34.643Z"
   },
   {
    "duration": 11,
    "start_time": "2024-07-29T04:05:43.466Z"
   },
   {
    "duration": 12,
    "start_time": "2024-07-29T04:06:02.309Z"
   },
   {
    "duration": 11,
    "start_time": "2024-07-29T04:06:13.928Z"
   },
   {
    "duration": 13,
    "start_time": "2024-07-29T04:06:17.732Z"
   },
   {
    "duration": 11,
    "start_time": "2024-07-29T04:06:21.282Z"
   },
   {
    "duration": 12,
    "start_time": "2024-07-29T04:06:45.102Z"
   },
   {
    "duration": 10,
    "start_time": "2024-07-29T04:06:52.268Z"
   },
   {
    "duration": 11,
    "start_time": "2024-07-29T04:06:55.056Z"
   },
   {
    "duration": 12,
    "start_time": "2024-07-29T04:06:55.544Z"
   },
   {
    "duration": 13,
    "start_time": "2024-07-29T04:07:06.255Z"
   },
   {
    "duration": 13,
    "start_time": "2024-07-29T04:07:42.882Z"
   },
   {
    "duration": 13,
    "start_time": "2024-07-29T04:08:20.083Z"
   },
   {
    "duration": 14,
    "start_time": "2024-07-29T04:09:15.432Z"
   },
   {
    "duration": 12,
    "start_time": "2024-07-29T04:09:20.074Z"
   },
   {
    "duration": 16,
    "start_time": "2024-07-29T04:09:31.410Z"
   },
   {
    "duration": 11,
    "start_time": "2024-07-29T04:09:40.360Z"
   },
   {
    "duration": 12,
    "start_time": "2024-07-29T04:09:49.653Z"
   },
   {
    "duration": 14,
    "start_time": "2024-07-29T04:11:16.338Z"
   },
   {
    "duration": 13,
    "start_time": "2024-07-29T04:11:20.409Z"
   },
   {
    "duration": 13,
    "start_time": "2024-07-29T04:12:00.492Z"
   },
   {
    "duration": 14,
    "start_time": "2024-07-29T04:12:11.195Z"
   },
   {
    "duration": 12,
    "start_time": "2024-07-29T04:12:17.273Z"
   },
   {
    "duration": 44,
    "start_time": "2024-07-29T04:13:17.075Z"
   },
   {
    "duration": 12,
    "start_time": "2024-07-29T04:13:23.294Z"
   },
   {
    "duration": 14,
    "start_time": "2024-07-29T04:13:27.693Z"
   },
   {
    "duration": 13,
    "start_time": "2024-07-29T04:13:52.773Z"
   },
   {
    "duration": 14,
    "start_time": "2024-07-29T04:14:15.702Z"
   },
   {
    "duration": 14,
    "start_time": "2024-07-29T04:14:42.220Z"
   },
   {
    "duration": 18,
    "start_time": "2024-07-29T04:14:53.501Z"
   },
   {
    "duration": 51,
    "start_time": "2024-07-29T04:15:21.877Z"
   },
   {
    "duration": 62,
    "start_time": "2024-07-29T04:15:42.537Z"
   },
   {
    "duration": 16,
    "start_time": "2024-07-29T04:15:55.423Z"
   },
   {
    "duration": 14,
    "start_time": "2024-07-29T04:16:46.662Z"
   },
   {
    "duration": 13,
    "start_time": "2024-07-29T04:16:58.445Z"
   },
   {
    "duration": 14,
    "start_time": "2024-07-29T04:17:43.813Z"
   },
   {
    "duration": 14,
    "start_time": "2024-07-29T04:18:00.505Z"
   },
   {
    "duration": 12,
    "start_time": "2024-07-29T04:18:53.175Z"
   },
   {
    "duration": 10,
    "start_time": "2024-07-29T04:19:11.509Z"
   },
   {
    "duration": 14,
    "start_time": "2024-07-29T04:19:19.958Z"
   },
   {
    "duration": 13,
    "start_time": "2024-07-29T04:19:30.841Z"
   },
   {
    "duration": 14,
    "start_time": "2024-07-29T04:23:30.221Z"
   },
   {
    "duration": 10,
    "start_time": "2024-07-29T04:23:41.522Z"
   },
   {
    "duration": 12,
    "start_time": "2024-07-29T04:24:07.873Z"
   },
   {
    "duration": 15,
    "start_time": "2024-07-29T04:24:25.395Z"
   },
   {
    "duration": 12,
    "start_time": "2024-07-29T04:24:35.144Z"
   },
   {
    "duration": 11,
    "start_time": "2024-07-29T04:25:31.562Z"
   },
   {
    "duration": 12,
    "start_time": "2024-07-29T04:26:56.837Z"
   },
   {
    "duration": 5,
    "start_time": "2024-07-29T04:43:31.197Z"
   },
   {
    "duration": 11,
    "start_time": "2024-07-29T04:44:18.781Z"
   },
   {
    "duration": 11,
    "start_time": "2024-07-29T04:44:38.995Z"
   },
   {
    "duration": 12,
    "start_time": "2024-07-29T04:45:18.259Z"
   },
   {
    "duration": 11,
    "start_time": "2024-07-29T04:45:23.732Z"
   },
   {
    "duration": 31,
    "start_time": "2024-07-29T04:45:28.190Z"
   },
   {
    "duration": 11,
    "start_time": "2024-07-29T04:46:39.283Z"
   },
   {
    "duration": 11,
    "start_time": "2024-07-29T04:46:53.898Z"
   },
   {
    "duration": 350,
    "start_time": "2024-07-31T04:07:28.407Z"
   },
   {
    "duration": 3,
    "start_time": "2024-07-31T04:07:47.229Z"
   },
   {
    "duration": 4,
    "start_time": "2024-07-31T04:07:51.038Z"
   },
   {
    "duration": 5,
    "start_time": "2024-07-31T04:11:04.461Z"
   },
   {
    "duration": 4,
    "start_time": "2024-07-31T04:11:30.230Z"
   },
   {
    "duration": 5,
    "start_time": "2024-07-31T04:11:46.273Z"
   },
   {
    "duration": 6,
    "start_time": "2024-07-31T04:12:32.275Z"
   },
   {
    "duration": 26,
    "start_time": "2024-07-31T04:13:07.736Z"
   },
   {
    "duration": 5,
    "start_time": "2024-07-31T04:13:18.451Z"
   },
   {
    "duration": 25,
    "start_time": "2024-07-31T04:14:17.230Z"
   },
   {
    "duration": 25,
    "start_time": "2024-07-31T04:15:29.781Z"
   },
   {
    "duration": 25,
    "start_time": "2024-07-31T04:15:48.310Z"
   },
   {
    "duration": 25,
    "start_time": "2024-07-31T04:15:50.348Z"
   },
   {
    "duration": 27,
    "start_time": "2024-07-31T04:16:31.250Z"
   },
   {
    "duration": 59,
    "start_time": "2024-07-31T04:17:14.673Z"
   },
   {
    "duration": 7,
    "start_time": "2024-07-31T04:17:52.080Z"
   }
  ],
  "colab": {
   "provenance": []
  },
  "kernelspec": {
   "display_name": "Python 3 (ipykernel)",
   "language": "python",
   "name": "python3"
  },
  "language_info": {
   "codemirror_mode": {
    "name": "ipython",
    "version": 3
   },
   "file_extension": ".py",
   "mimetype": "text/x-python",
   "name": "python",
   "nbconvert_exporter": "python",
   "pygments_lexer": "ipython3",
   "version": "3.9.19"
  },
  "toc": {
   "base_numbering": 1,
   "nav_menu": {},
   "number_sections": true,
   "sideBar": true,
   "skip_h1_title": true,
   "title_cell": "Table of Contents",
   "title_sidebar": "Contents",
   "toc_cell": false,
   "toc_position": {},
   "toc_section_display": true,
   "toc_window_display": false
  }
 },
 "nbformat": 4,
 "nbformat_minor": 1
}
